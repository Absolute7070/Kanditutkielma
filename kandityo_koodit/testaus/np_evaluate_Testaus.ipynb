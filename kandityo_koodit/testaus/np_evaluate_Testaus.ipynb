{
 "cells": [
  {
   "cell_type": "code",
   "execution_count": 17,
   "id": "2754aa2c-91a6-4952-8535-0ec927ce0aeb",
   "metadata": {
    "tags": []
   },
   "outputs": [],
   "source": [
    "import numexpr as ne\n",
    "import numpy as np \n",
    "from numba import jit "
   ]
  },
  {
   "cell_type": "code",
   "execution_count": 15,
   "id": "8c4f8ab2-adb6-4e5f-a640-a3a5327129db",
   "metadata": {
    "tags": []
   },
   "outputs": [
    {
     "name": "stdout",
     "output_type": "stream",
     "text": [
      "10.0\n",
      "[2.20264658e+04 5.98741417e+04 1.62754791e+05 4.42413392e+05\n",
      " 1.20260428e+06 3.26901737e+06 8.88611052e+06 2.41549528e+07\n",
      " 6.56599691e+07 1.78482301e+08 4.85165195e+08 1.31881573e+09\n",
      " 3.58491285e+09 9.74480345e+09 2.64891221e+10 7.20048993e+10\n",
      " 1.95729609e+11 5.32048241e+11 1.44625706e+12 3.93133430e+12\n",
      " 1.06864746e+13 2.90488497e+13 7.89629602e+13 2.14643580e+14\n",
      " 5.83461743e+14 1.58601345e+15 4.31123155e+15 1.17191424e+16\n",
      " 3.18559318e+16 8.65934004e+16 2.35385267e+17 6.39843494e+17\n",
      " 1.73927494e+18 4.72783947e+18 1.28516001e+19 3.49342711e+19\n",
      " 9.49611942e+19 2.58131289e+20 7.01673591e+20 1.90734657e+21\n",
      " 5.18470553e+21 1.40934908e+22 3.83100800e+22 1.04137594e+23\n",
      " 2.83075330e+23 7.69478527e+23 2.09165950e+24 5.68572000e+24\n",
      " 1.54553894e+25 4.20121040e+25 1.14200739e+26 3.10429794e+26\n",
      " 8.43835667e+26 2.29378316e+27 6.23514908e+27 1.69488924e+28\n",
      " 4.60718663e+28 1.25236317e+29 3.40427605e+29 9.25378173e+29\n",
      " 2.51543867e+30 6.83767123e+30 1.85867175e+31 5.05239363e+31\n",
      " 1.37338298e+32 3.73324200e+32 1.01480039e+33 2.75851345e+33\n",
      " 7.49841700e+33 2.03828107e+34 5.54062238e+34 1.50609731e+35\n",
      " 4.09399696e+35 1.11286375e+36 3.02507732e+36 8.22301271e+36\n",
      " 2.23524660e+37 6.07603023e+37 1.65163625e+38 4.48961282e+38\n",
      " 1.22040329e+39 3.31740010e+39 9.01762841e+39 2.45124554e+40\n",
      " 6.66317622e+40 1.81123908e+41 4.92345829e+41 1.33833472e+42\n",
      " 3.63797095e+42 9.88903032e+42]\n"
     ]
    }
   ],
   "source": [
    "a =-10\n",
    "print(ne.evaluate('abs(a)'))\n",
    "print(\n",
    "    ne.evaluate('exp(a)', local_dict={'a': np.arange(10,100)}))"
   ]
  },
  {
   "cell_type": "code",
   "execution_count": 42,
   "id": "12ae857e-6924-45aa-8b86-f938ef93234e",
   "metadata": {
    "tags": []
   },
   "outputs": [],
   "source": [
    "@jit()\n",
    "def function(x): \n",
    "    return ne.evaluate('exp(x1)', local_dict={'x1':x })"
   ]
  },
  {
   "cell_type": "code",
   "execution_count": 43,
   "id": "d1916e7d-8d43-4923-9a76-35c86d718f70",
   "metadata": {
    "tags": []
   },
   "outputs": [
    {
     "name": "stderr",
     "output_type": "stream",
     "text": [
      "/tmp/ipykernel_14862/2900520092.py:1: NumbaWarning: \n",
      "Compilation is falling back to object mode WITH looplifting enabled because Function \"function\" failed type inference due to: Unknown attribute 'evaluate' of type Module(<module 'numexpr' from '/opt/conda/lib/python3.10/site-packages/numexpr/__init__.py'>)\n",
      "\n",
      "File \"../../../../../../tmp/ipykernel_14862/2900520092.py\", line 3:\n",
      "<source missing, REPL/exec in use?>\n",
      "\n",
      "During: typing of get attribute at /tmp/ipykernel_14862/2900520092.py (3)\n",
      "\n",
      "File \"../../../../../../tmp/ipykernel_14862/2900520092.py\", line 3:\n",
      "<source missing, REPL/exec in use?>\n",
      "\n",
      "  @jit()\n",
      "/opt/conda/lib/python3.10/site-packages/numba/core/object_mode_passes.py:151: NumbaWarning: Function \"function\" was compiled in object mode without forceobj=True.\n",
      "\n",
      "File \"../../../../../../tmp/ipykernel_14862/2900520092.py\", line 1:\n",
      "<source missing, REPL/exec in use?>\n",
      "\n",
      "  warnings.warn(errors.NumbaWarning(warn_msg,\n",
      "/opt/conda/lib/python3.10/site-packages/numba/core/object_mode_passes.py:161: NumbaDeprecationWarning: \n",
      "Fall-back from the nopython compilation path to the object mode compilation path has been detected, this is deprecated behaviour.\n",
      "\n",
      "For more information visit https://numba.readthedocs.io/en/stable/reference/deprecation.html#deprecation-of-object-mode-fall-back-behaviour-when-using-jit\n",
      "\n",
      "File \"../../../../../../tmp/ipykernel_14862/2900520092.py\", line 1:\n",
      "<source missing, REPL/exec in use?>\n",
      "\n",
      "  warnings.warn(errors.NumbaDeprecationWarning(msg,\n"
     ]
    },
    {
     "data": {
      "text/plain": [
       "2.718281828459045"
      ]
     },
     "execution_count": 43,
     "metadata": {},
     "output_type": "execute_result"
    }
   ],
   "source": [
    "float(function(1))"
   ]
  },
  {
   "cell_type": "code",
   "execution_count": 7,
   "id": "348cd41d-1041-474a-9a94-47366082b0fd",
   "metadata": {
    "tags": []
   },
   "outputs": [],
   "source": [
    "expr = 'math.exp(-2*A3*math.sqrt(x1**2 + y1**2 + z1**2) - 2*A3*math.sqrt(x2**2 + y2**2 + z2**2) -     (2*A2*(1 - math.exp          (-math.sqrt(abs(x1 - x2)**2 + abs(y1 - y2)**2 + abs(z1 - z2)**2)/            math.sqrt(A2))))/     math.sqrt(abs(x1 - x2)**2 + abs(y1 - y2)**2 + abs(z1 - z2)**2))'"
   ]
  },
  {
   "cell_type": "code",
   "execution_count": 8,
   "id": "89b3d5ff-b6ed-400a-863d-eced2e00606c",
   "metadata": {
    "tags": []
   },
   "outputs": [
    {
     "data": {
      "text/plain": [
       "'exp(-2*A3*sqrt(x1**2 + y1**2 + z1**2) - 2*A3*sqrt(x2**2 + y2**2 + z2**2) -     (2*A2*(1 - exp          (-sqrt(abs(x1 - x2)**2 + abs(y1 - y2)**2 + abs(z1 - z2)**2)/            sqrt(A2))))/     sqrt(abs(x1 - x2)**2 + abs(y1 - y2)**2 + abs(z1 - z2)**2))'"
      ]
     },
     "execution_count": 8,
     "metadata": {},
     "output_type": "execute_result"
    }
   ],
   "source": [
    "expr.replace('math.', '')"
   ]
  },
  {
   "cell_type": "code",
   "execution_count": null,
   "id": "6b795036-9d8e-4251-abee-45cae66a5224",
   "metadata": {},
   "outputs": [],
   "source": []
  }
 ],
 "metadata": {
  "kernelspec": {
   "display_name": "Python 3 (ipykernel)",
   "language": "python",
   "name": "python3"
  },
  "language_info": {
   "codemirror_mode": {
    "name": "ipython",
    "version": 3
   },
   "file_extension": ".py",
   "mimetype": "text/x-python",
   "name": "python",
   "nbconvert_exporter": "python",
   "pygments_lexer": "ipython3",
   "version": "3.10.4"
  }
 },
 "nbformat": 4,
 "nbformat_minor": 5
}
