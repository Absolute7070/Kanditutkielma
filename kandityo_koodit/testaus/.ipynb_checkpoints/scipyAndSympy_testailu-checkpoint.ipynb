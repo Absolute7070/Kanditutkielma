{
 "cells": [
  {
   "cell_type": "code",
   "execution_count": 21,
   "id": "0e810a8e-a327-48b9-ada8-5f2233429356",
   "metadata": {},
   "outputs": [
    {
     "name": "stdout",
     "output_type": "stream",
     "text": [
      "     fun: -1.70331006175776e+18\n",
      "     jac: array([ 0.        , 25.00000012])\n",
      " message: 'Rank-deficient equality constraint subproblem HFTI'\n",
      "    nfev: 96\n",
      "     nit: 30\n",
      "    njev: 30\n",
      "  status: 7\n",
      " success: False\n",
      "       x: array([ 3.89734867e+08, -6.81324025e+16])\n"
     ]
    }
   ],
   "source": [
    "from scipy.optimize import minimize\n",
    "import sympy as sym\n",
    "\n",
    "x2_symbol = sym.Symbol('x2')\n",
    "u2_symbol = sym.Symbol('u2')\n",
    "fm = 25 * u2_symbol - 20.0 * (sym.sin(x2_symbol)) + 38.7296387 * (sym.cos(x2_symbol)) - 38.7296387\n",
    "\n",
    "def func(x):\n",
    "    x2_float, u2_float = x\n",
    "    return fm.subs([(x2_symbol, x2_float), (u2_symbol, u2_float)])\n",
    "\n",
    "# def constraint1(x):\n",
    "#     x2_float, u2_float = x\n",
    "#     return -u2_float + 40 * sym.sin(x2_float) + 0.2\n",
    "\n",
    "# def constraint2(x):\n",
    "#     x2_float, u2_float = x\n",
    "#     return -u2_float - 40 * sym.sin(x2_float) + 0.2\n",
    "\n",
    "# b = [-1, 1]\n",
    "# bounds = [b, b]\n",
    "# con1 = {'type': 'ineq', 'fun': constraint1}\n",
    "# con2 = {'type': 'ineq', 'fun': constraint2}\n",
    "# constraints = (con1, con2)\n",
    "x0 = [0, 0]\n",
    "solution = minimize(func, x0, method='SLSQP')\n",
    "print(solution)"
   ]
  },
  {
   "cell_type": "code",
   "execution_count": 5,
   "id": "56e42920-ebfd-4301-b161-5eb96cb45e7c",
   "metadata": {},
   "outputs": [
    {
     "data": {
      "text/plain": [
       "numpy.ndarray"
      ]
     },
     "execution_count": 5,
     "metadata": {},
     "output_type": "execute_result"
    }
   ],
   "source": [
    "type(solution['x'])"
   ]
  },
  {
   "cell_type": "code",
   "execution_count": 1,
   "id": "e867a39c-5f81-4188-be1d-bb37282b9b7b",
   "metadata": {},
   "outputs": [],
   "source": [
    "from sympy.parsing.sympy_parser import parse_expr"
   ]
  },
  {
   "cell_type": "code",
   "execution_count": 5,
   "id": "b101b343-8633-4adf-aa09-5e05204214ba",
   "metadata": {},
   "outputs": [
    {
     "data": {
      "text/latex": [
       "$\\displaystyle - 1.0 x^{2} + 1.95781020892388 x - 3.28597048353581$"
      ],
      "text/plain": [
       "-1.0*x**2 + 1.95781020892388*x - 3.28597048353581"
      ]
     },
     "execution_count": 5,
     "metadata": {},
     "output_type": "execute_result"
    }
   ],
   "source": [
    "parse_expr('-1.0*x**2 + 1.95781020892388*x - 3.28597048353581')"
   ]
  },
  {
   "cell_type": "code",
   "execution_count": 36,
   "id": "871df82a-dda9-4984-aeb5-4b46ac3423c3",
   "metadata": {},
   "outputs": [
    {
     "name": "stderr",
     "output_type": "stream",
     "text": [
      "/home/degnaiyu/.local/lib/python3.10/site-packages/scipy/optimize/_numdiff.py:489: RuntimeWarning: invalid value encountered in subtract\n",
      "  dx = ((x0 + h) - x0)\n",
      "/home/degnaiyu/.local/lib/python3.10/site-packages/scipy/optimize/_numdiff.py:575: RuntimeWarning: invalid value encountered in double_scalars\n",
      "  dx = x[i] - x0[i]  # Recompute dx as exactly representable number.\n"
     ]
    },
    {
     "ename": "TypeError",
     "evalue": "Invalid NaN comparison",
     "output_type": "error",
     "traceback": [
      "\u001b[0;31m---------------------------------------------------------------------------\u001b[0m",
      "\u001b[0;31mTypeError\u001b[0m                                 Traceback (most recent call last)",
      "Cell \u001b[0;32mIn [36], line 25\u001b[0m\n\u001b[1;32m     11\u001b[0m \u001b[38;5;66;03m# def constraint1(x):\u001b[39;00m\n\u001b[1;32m     12\u001b[0m \u001b[38;5;66;03m#     x2_float, u2_float = x\u001b[39;00m\n\u001b[1;32m     13\u001b[0m \u001b[38;5;66;03m#     return -u2_float + 40 * sym.sin(x2_float) + 0.2\u001b[39;00m\n\u001b[0;32m   (...)\u001b[0m\n\u001b[1;32m     22\u001b[0m \u001b[38;5;66;03m# con2 = {'type': 'ineq', 'fun': constraint2}\u001b[39;00m\n\u001b[1;32m     23\u001b[0m \u001b[38;5;66;03m# constraints = (con1, con2)\u001b[39;00m\n\u001b[1;32m     24\u001b[0m x0 \u001b[38;5;241m=\u001b[39m [\u001b[38;5;241m0\u001b[39m]\n\u001b[0;32m---> 25\u001b[0m solution \u001b[38;5;241m=\u001b[39m minimize(func, x0, method \u001b[38;5;241m=\u001b[39m \u001b[38;5;124m'\u001b[39m\u001b[38;5;124mSLSQP\u001b[39m\u001b[38;5;124m'\u001b[39m)\n\u001b[1;32m     26\u001b[0m \u001b[38;5;28mprint\u001b[39m(solution)\n",
      "File \u001b[0;32m~/.local/lib/python3.10/site-packages/scipy/optimize/_minimize.py:708\u001b[0m, in \u001b[0;36mminimize\u001b[0;34m(fun, x0, args, method, jac, hess, hessp, bounds, constraints, tol, callback, options)\u001b[0m\n\u001b[1;32m    705\u001b[0m     res \u001b[38;5;241m=\u001b[39m _minimize_cobyla(fun, x0, args, constraints, callback\u001b[38;5;241m=\u001b[39mcallback,\n\u001b[1;32m    706\u001b[0m                             \u001b[38;5;241m*\u001b[39m\u001b[38;5;241m*\u001b[39moptions)\n\u001b[1;32m    707\u001b[0m \u001b[38;5;28;01melif\u001b[39;00m meth \u001b[38;5;241m==\u001b[39m \u001b[38;5;124m'\u001b[39m\u001b[38;5;124mslsqp\u001b[39m\u001b[38;5;124m'\u001b[39m:\n\u001b[0;32m--> 708\u001b[0m     res \u001b[38;5;241m=\u001b[39m \u001b[43m_minimize_slsqp\u001b[49m\u001b[43m(\u001b[49m\u001b[43mfun\u001b[49m\u001b[43m,\u001b[49m\u001b[43m \u001b[49m\u001b[43mx0\u001b[49m\u001b[43m,\u001b[49m\u001b[43m \u001b[49m\u001b[43margs\u001b[49m\u001b[43m,\u001b[49m\u001b[43m \u001b[49m\u001b[43mjac\u001b[49m\u001b[43m,\u001b[49m\u001b[43m \u001b[49m\u001b[43mbounds\u001b[49m\u001b[43m,\u001b[49m\n\u001b[1;32m    709\u001b[0m \u001b[43m                          \u001b[49m\u001b[43mconstraints\u001b[49m\u001b[43m,\u001b[49m\u001b[43m \u001b[49m\u001b[43mcallback\u001b[49m\u001b[38;5;241;43m=\u001b[39;49m\u001b[43mcallback\u001b[49m\u001b[43m,\u001b[49m\u001b[43m \u001b[49m\u001b[38;5;241;43m*\u001b[39;49m\u001b[38;5;241;43m*\u001b[39;49m\u001b[43moptions\u001b[49m\u001b[43m)\u001b[49m\n\u001b[1;32m    710\u001b[0m \u001b[38;5;28;01melif\u001b[39;00m meth \u001b[38;5;241m==\u001b[39m \u001b[38;5;124m'\u001b[39m\u001b[38;5;124mtrust-constr\u001b[39m\u001b[38;5;124m'\u001b[39m:\n\u001b[1;32m    711\u001b[0m     res \u001b[38;5;241m=\u001b[39m _minimize_trustregion_constr(fun, x0, args, jac, hess, hessp,\n\u001b[1;32m    712\u001b[0m                                        bounds, constraints,\n\u001b[1;32m    713\u001b[0m                                        callback\u001b[38;5;241m=\u001b[39mcallback, \u001b[38;5;241m*\u001b[39m\u001b[38;5;241m*\u001b[39moptions)\n",
      "File \u001b[0;32m~/.local/lib/python3.10/site-packages/scipy/optimize/_slsqp_py.py:428\u001b[0m, in \u001b[0;36m_minimize_slsqp\u001b[0;34m(func, x0, args, jac, bounds, constraints, maxiter, ftol, iprint, disp, eps, callback, finite_diff_rel_step, **unknown_options)\u001b[0m\n\u001b[1;32m    422\u001b[0m slsqp(m, meq, x, xl, xu, fx, c, g, a, acc, majiter, mode, w, jw,\n\u001b[1;32m    423\u001b[0m       alpha, f0, gs, h1, h2, h3, h4, t, t0, tol,\n\u001b[1;32m    424\u001b[0m       iexact, incons, ireset, itermx, line,\n\u001b[1;32m    425\u001b[0m       n1, n2, n3)\n\u001b[1;32m    427\u001b[0m \u001b[38;5;28;01mif\u001b[39;00m mode \u001b[38;5;241m==\u001b[39m \u001b[38;5;241m1\u001b[39m:  \u001b[38;5;66;03m# objective and constraint evaluation required\u001b[39;00m\n\u001b[0;32m--> 428\u001b[0m     fx \u001b[38;5;241m=\u001b[39m \u001b[43mwrapped_fun\u001b[49m\u001b[43m(\u001b[49m\u001b[43mx\u001b[49m\u001b[43m)\u001b[49m\n\u001b[1;32m    429\u001b[0m     c \u001b[38;5;241m=\u001b[39m _eval_constraint(x, cons)\n\u001b[1;32m    431\u001b[0m \u001b[38;5;28;01mif\u001b[39;00m mode \u001b[38;5;241m==\u001b[39m \u001b[38;5;241m-\u001b[39m\u001b[38;5;241m1\u001b[39m:  \u001b[38;5;66;03m# gradient evaluation required\u001b[39;00m\n",
      "File \u001b[0;32m~/.local/lib/python3.10/site-packages/scipy/optimize/_optimize.py:277\u001b[0m, in \u001b[0;36m_clip_x_for_func.<locals>.eval\u001b[0;34m(x)\u001b[0m\n\u001b[1;32m    275\u001b[0m \u001b[38;5;28;01mdef\u001b[39;00m \u001b[38;5;21meval\u001b[39m(x):\n\u001b[1;32m    276\u001b[0m     x \u001b[38;5;241m=\u001b[39m _check_clip_x(x, bounds)\n\u001b[0;32m--> 277\u001b[0m     \u001b[38;5;28;01mreturn\u001b[39;00m \u001b[43mfunc\u001b[49m\u001b[43m(\u001b[49m\u001b[43mx\u001b[49m\u001b[43m)\u001b[49m\n",
      "File \u001b[0;32m~/.local/lib/python3.10/site-packages/scipy/optimize/_differentiable_functions.py:267\u001b[0m, in \u001b[0;36mScalarFunction.fun\u001b[0;34m(self, x)\u001b[0m\n\u001b[1;32m    265\u001b[0m \u001b[38;5;28;01mif\u001b[39;00m \u001b[38;5;129;01mnot\u001b[39;00m np\u001b[38;5;241m.\u001b[39marray_equal(x, \u001b[38;5;28mself\u001b[39m\u001b[38;5;241m.\u001b[39mx):\n\u001b[1;32m    266\u001b[0m     \u001b[38;5;28mself\u001b[39m\u001b[38;5;241m.\u001b[39m_update_x_impl(x)\n\u001b[0;32m--> 267\u001b[0m \u001b[38;5;28;43mself\u001b[39;49m\u001b[38;5;241;43m.\u001b[39;49m\u001b[43m_update_fun\u001b[49m\u001b[43m(\u001b[49m\u001b[43m)\u001b[49m\n\u001b[1;32m    268\u001b[0m \u001b[38;5;28;01mreturn\u001b[39;00m \u001b[38;5;28mself\u001b[39m\u001b[38;5;241m.\u001b[39mf\n",
      "File \u001b[0;32m~/.local/lib/python3.10/site-packages/scipy/optimize/_differentiable_functions.py:251\u001b[0m, in \u001b[0;36mScalarFunction._update_fun\u001b[0;34m(self)\u001b[0m\n\u001b[1;32m    249\u001b[0m \u001b[38;5;28;01mdef\u001b[39;00m \u001b[38;5;21m_update_fun\u001b[39m(\u001b[38;5;28mself\u001b[39m):\n\u001b[1;32m    250\u001b[0m     \u001b[38;5;28;01mif\u001b[39;00m \u001b[38;5;129;01mnot\u001b[39;00m \u001b[38;5;28mself\u001b[39m\u001b[38;5;241m.\u001b[39mf_updated:\n\u001b[0;32m--> 251\u001b[0m         \u001b[38;5;28;43mself\u001b[39;49m\u001b[38;5;241;43m.\u001b[39;49m\u001b[43m_update_fun_impl\u001b[49m\u001b[43m(\u001b[49m\u001b[43m)\u001b[49m\n\u001b[1;32m    252\u001b[0m         \u001b[38;5;28mself\u001b[39m\u001b[38;5;241m.\u001b[39mf_updated \u001b[38;5;241m=\u001b[39m \u001b[38;5;28;01mTrue\u001b[39;00m\n",
      "File \u001b[0;32m~/.local/lib/python3.10/site-packages/scipy/optimize/_differentiable_functions.py:155\u001b[0m, in \u001b[0;36mScalarFunction.__init__.<locals>.update_fun\u001b[0;34m()\u001b[0m\n\u001b[1;32m    154\u001b[0m \u001b[38;5;28;01mdef\u001b[39;00m \u001b[38;5;21mupdate_fun\u001b[39m():\n\u001b[0;32m--> 155\u001b[0m     \u001b[38;5;28mself\u001b[39m\u001b[38;5;241m.\u001b[39mf \u001b[38;5;241m=\u001b[39m \u001b[43mfun_wrapped\u001b[49m\u001b[43m(\u001b[49m\u001b[38;5;28;43mself\u001b[39;49m\u001b[38;5;241;43m.\u001b[39;49m\u001b[43mx\u001b[49m\u001b[43m)\u001b[49m\n",
      "File \u001b[0;32m~/.local/lib/python3.10/site-packages/scipy/optimize/_differentiable_functions.py:148\u001b[0m, in \u001b[0;36mScalarFunction.__init__.<locals>.fun_wrapped\u001b[0;34m(x)\u001b[0m\n\u001b[1;32m    142\u001b[0m     \u001b[38;5;28;01mexcept\u001b[39;00m (\u001b[38;5;167;01mTypeError\u001b[39;00m, \u001b[38;5;167;01mValueError\u001b[39;00m) \u001b[38;5;28;01mas\u001b[39;00m e:\n\u001b[1;32m    143\u001b[0m         \u001b[38;5;28;01mraise\u001b[39;00m \u001b[38;5;167;01mValueError\u001b[39;00m(\n\u001b[1;32m    144\u001b[0m             \u001b[38;5;124m\"\u001b[39m\u001b[38;5;124mThe user-provided objective function \u001b[39m\u001b[38;5;124m\"\u001b[39m\n\u001b[1;32m    145\u001b[0m             \u001b[38;5;124m\"\u001b[39m\u001b[38;5;124mmust return a scalar value.\u001b[39m\u001b[38;5;124m\"\u001b[39m\n\u001b[1;32m    146\u001b[0m         ) \u001b[38;5;28;01mfrom\u001b[39;00m \u001b[38;5;21;01me\u001b[39;00m\n\u001b[0;32m--> 148\u001b[0m \u001b[38;5;28;01mif\u001b[39;00m \u001b[43mfx\u001b[49m\u001b[43m \u001b[49m\u001b[38;5;241;43m<\u001b[39;49m\u001b[43m \u001b[49m\u001b[38;5;28;43mself\u001b[39;49m\u001b[38;5;241;43m.\u001b[39;49m\u001b[43m_lowest_f\u001b[49m:\n\u001b[1;32m    149\u001b[0m     \u001b[38;5;28mself\u001b[39m\u001b[38;5;241m.\u001b[39m_lowest_x \u001b[38;5;241m=\u001b[39m x\n\u001b[1;32m    150\u001b[0m     \u001b[38;5;28mself\u001b[39m\u001b[38;5;241m.\u001b[39m_lowest_f \u001b[38;5;241m=\u001b[39m fx\n",
      "File \u001b[0;32m/opt/conda/lib/python3.10/site-packages/sympy/core/decorators.py:236\u001b[0m, in \u001b[0;36m_SympifyWrapper.make_wrapped.<locals>._func\u001b[0;34m(self, other)\u001b[0m\n\u001b[1;32m    234\u001b[0m \u001b[38;5;28;01mif\u001b[39;00m \u001b[38;5;129;01mnot\u001b[39;00m \u001b[38;5;28misinstance\u001b[39m(other, expectedcls):\n\u001b[1;32m    235\u001b[0m     \u001b[38;5;28;01mreturn\u001b[39;00m retval\n\u001b[0;32m--> 236\u001b[0m \u001b[38;5;28;01mreturn\u001b[39;00m \u001b[43mfunc\u001b[49m\u001b[43m(\u001b[49m\u001b[38;5;28;43mself\u001b[39;49m\u001b[43m,\u001b[49m\u001b[43m \u001b[49m\u001b[43mother\u001b[49m\u001b[43m)\u001b[49m\n",
      "File \u001b[0;32m/opt/conda/lib/python3.10/site-packages/sympy/core/expr.py:376\u001b[0m, in \u001b[0;36mExpr.__lt__\u001b[0;34m(self, other)\u001b[0m\n\u001b[1;32m    373\u001b[0m \u001b[38;5;129m@sympify_return\u001b[39m([(\u001b[38;5;124m'\u001b[39m\u001b[38;5;124mother\u001b[39m\u001b[38;5;124m'\u001b[39m, \u001b[38;5;124m'\u001b[39m\u001b[38;5;124mExpr\u001b[39m\u001b[38;5;124m'\u001b[39m)], \u001b[38;5;28mNotImplemented\u001b[39m)\n\u001b[1;32m    374\u001b[0m \u001b[38;5;28;01mdef\u001b[39;00m \u001b[38;5;21m__lt__\u001b[39m(\u001b[38;5;28mself\u001b[39m, other):\n\u001b[1;32m    375\u001b[0m     \u001b[38;5;28;01mfrom\u001b[39;00m \u001b[38;5;21;01m.\u001b[39;00m\u001b[38;5;21;01mrelational\u001b[39;00m \u001b[38;5;28;01mimport\u001b[39;00m StrictLessThan\n\u001b[0;32m--> 376\u001b[0m     \u001b[38;5;28;01mreturn\u001b[39;00m \u001b[43mStrictLessThan\u001b[49m\u001b[43m(\u001b[49m\u001b[38;5;28;43mself\u001b[39;49m\u001b[43m,\u001b[49m\u001b[43m \u001b[49m\u001b[43mother\u001b[49m\u001b[43m)\u001b[49m\n",
      "File \u001b[0;32m/opt/conda/lib/python3.10/site-packages/sympy/core/relational.py:836\u001b[0m, in \u001b[0;36m_Inequality.__new__\u001b[0;34m(cls, lhs, rhs, **options)\u001b[0m\n\u001b[1;32m    834\u001b[0m         \u001b[38;5;28;01mraise\u001b[39;00m \u001b[38;5;167;01mTypeError\u001b[39;00m(\u001b[38;5;124m\"\u001b[39m\u001b[38;5;124mInvalid comparison of non-real \u001b[39m\u001b[38;5;132;01m%s\u001b[39;00m\u001b[38;5;124m\"\u001b[39m \u001b[38;5;241m%\u001b[39m me)\n\u001b[1;32m    835\u001b[0m     \u001b[38;5;28;01mif\u001b[39;00m me \u001b[38;5;129;01mis\u001b[39;00m S\u001b[38;5;241m.\u001b[39mNaN:\n\u001b[0;32m--> 836\u001b[0m         \u001b[38;5;28;01mraise\u001b[39;00m \u001b[38;5;167;01mTypeError\u001b[39;00m(\u001b[38;5;124m\"\u001b[39m\u001b[38;5;124mInvalid NaN comparison\u001b[39m\u001b[38;5;124m\"\u001b[39m)\n\u001b[1;32m    837\u001b[0m \u001b[38;5;66;03m# First we invoke the appropriate inequality method of `lhs`\u001b[39;00m\n\u001b[1;32m    838\u001b[0m \u001b[38;5;66;03m# (e.g., `lhs.__lt__`).  That method will try to reduce to\u001b[39;00m\n\u001b[1;32m    839\u001b[0m \u001b[38;5;66;03m# boolean or raise an exception.  It may keep calling\u001b[39;00m\n\u001b[0;32m   (...)\u001b[0m\n\u001b[1;32m    843\u001b[0m \u001b[38;5;66;03m# exception).  In that case, it must call us with\u001b[39;00m\n\u001b[1;32m    844\u001b[0m \u001b[38;5;66;03m# `evaluate=False` to prevent infinite recursion.\u001b[39;00m\n\u001b[1;32m    845\u001b[0m \u001b[38;5;28;01mreturn\u001b[39;00m \u001b[38;5;28mcls\u001b[39m\u001b[38;5;241m.\u001b[39m_eval_relation(lhs, rhs, \u001b[38;5;241m*\u001b[39m\u001b[38;5;241m*\u001b[39moptions)\n",
      "\u001b[0;31mTypeError\u001b[0m: Invalid NaN comparison"
     ]
    }
   ],
   "source": [
    "from scipy.optimize import minimize\n",
    "import sympy as sym\n",
    "\n",
    "x2_symbol = sym.Symbol('x')\n",
    "fm = -1.0 * x2_symbol**2 + 1.95781020892388 * x2_symbol - 3.28597048353581\n",
    "\n",
    "def func(x):\n",
    "    x2_float,  = x\n",
    "    return fm.subs(x2_symbol, x2_float)\n",
    "\n",
    "# def constraint1(x):\n",
    "#     x2_float, u2_float = x\n",
    "#     return -u2_float + 40 * sym.sin(x2_float) + 0.2\n",
    "\n",
    "# def constraint2(x):\n",
    "#     x2_float, u2_float = x\n",
    "#     return -u2_float - 40 * sym.sin(x2_float) + 0.2\n",
    "\n",
    "# b = [-1, 1]\n",
    "# bounds = [b, b]\n",
    "# con1 = {'type': 'ineq', 'fun': constraint1}\n",
    "# con2 = {'type': 'ineq', 'fun': constraint2}\n",
    "# constraints = (con1, con2)\n",
    "x0 = [0]\n",
    "solution = minimize(func, x0, method = 'SLSQP')\n",
    "print(solution)"
   ]
  },
  {
   "cell_type": "code",
   "execution_count": 16,
   "id": "8bd99466-57d6-4879-bb56-ca7be056e00c",
   "metadata": {},
   "outputs": [
    {
     "data": {
      "text/latex": [
       "$\\displaystyle - 1.0 x^{2} + 1.95781020892388 x - 3.28597048353581$"
      ],
      "text/plain": [
       "-1.0*x**2 + 1.95781020892388*x - 3.28597048353581"
      ]
     },
     "execution_count": 16,
     "metadata": {},
     "output_type": "execute_result"
    }
   ],
   "source": [
    "fm.subs(x2_symbol,x2_symbol)"
   ]
  },
  {
   "cell_type": "code",
   "execution_count": null,
   "id": "59b6c663-f8bc-4e22-9d76-d9e8636a3709",
   "metadata": {},
   "outputs": [],
   "source": []
  }
 ],
 "metadata": {
  "kernelspec": {
   "display_name": "Python 3 (ipykernel)",
   "language": "python",
   "name": "python3"
  },
  "language_info": {
   "codemirror_mode": {
    "name": "ipython",
    "version": 3
   },
   "file_extension": ".py",
   "mimetype": "text/x-python",
   "name": "python",
   "nbconvert_exporter": "python",
   "pygments_lexer": "ipython3",
   "version": "3.10.4"
  }
 },
 "nbformat": 4,
 "nbformat_minor": 5
}
