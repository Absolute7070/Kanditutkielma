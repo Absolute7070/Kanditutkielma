{
 "cells": [
  {
   "cell_type": "code",
   "execution_count": 3,
   "id": "c0072d28-be9e-4aee-9289-527d4b1b5bf7",
   "metadata": {},
   "outputs": [],
   "source": [
    "import sys \n",
    "sys.path.append('/home/degnaiyu/Työpöytä/kanditutkielma/kandityo_koodit/coptim-master/')"
   ]
  },
  {
   "cell_type": "code",
   "execution_count": 4,
   "id": "136533c5-9d6f-433e-85d7-836035a8ed94",
   "metadata": {},
   "outputs": [],
   "source": [
    "import numpy as np \n",
    "from coptim.function import Function\n",
    "\n",
    "\n",
    "class Rosen"
   ]
  },
  {
   "cell_type": "code",
   "execution_count": 5,
   "id": "1fc252f5-42aa-4f59-af69-acf3db4d69dc",
   "metadata": {},
   "outputs": [
    {
     "data": {
      "text/plain": [
       "['/home/degnaiyu/Työpöytä/kanditutkielma/kandityo_koodit/testaus',\n",
       " '/opt/conda/lib/python310.zip',\n",
       " '/opt/conda/lib/python3.10',\n",
       " '/opt/conda/lib/python3.10/lib-dynload',\n",
       " '',\n",
       " '/home/degnaiyu/.local/lib/python3.10/site-packages',\n",
       " '/opt/conda/lib/python3.10/site-packages',\n",
       " '/home/degnaiyu/Työpöytä/kanditutkielma/kandityo_koodit/coptim-master/coptim/',\n",
       " '/home/degnaiyu/Työpöytä/kanditutkielma/kandityo_koodit/coptim-master/']"
      ]
     },
     "execution_count": 5,
     "metadata": {},
     "output_type": "execute_result"
    }
   ],
   "source": [
    "sys.path"
   ]
  },
  {
   "cell_type": "code",
   "execution_count": null,
   "id": "5f009daa-700b-41c5-845a-bc516a4c7375",
   "metadata": {},
   "outputs": [],
   "source": []
  }
 ],
 "metadata": {
  "kernelspec": {
   "display_name": "Python 3 (ipykernel)",
   "language": "python",
   "name": "python3"
  },
  "language_info": {
   "codemirror_mode": {
    "name": "ipython",
    "version": 3
   },
   "file_extension": ".py",
   "mimetype": "text/x-python",
   "name": "python",
   "nbconvert_exporter": "python",
   "pygments_lexer": "ipython3",
   "version": "3.10.4"
  }
 },
 "nbformat": 4,
 "nbformat_minor": 5
}
