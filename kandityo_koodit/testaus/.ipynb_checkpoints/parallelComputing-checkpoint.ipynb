{
 "cells": [
  {
   "cell_type": "code",
   "execution_count": 10,
   "id": "c51196ab-4ccc-41a0-b5e1-28c077423ea9",
   "metadata": {
    "tags": []
   },
   "outputs": [],
   "source": [
    "import time \n",
    "from multiprocessing import Pool\n",
    "import numpy as np \n"
   ]
  },
  {
   "cell_type": "code",
   "execution_count": 2,
   "id": "19e1093d-d193-48fd-9711-7ce2a4b5c5b3",
   "metadata": {
    "tags": []
   },
   "outputs": [
    {
     "name": "stdout",
     "output_type": "stream",
     "text": [
      "8\n"
     ]
    }
   ],
   "source": [
    "from multiprocessing import cpu_count\n",
    "# get the number of cpu cores\n",
    "num_cores = cpu_count()\n",
    "# report details\n",
    "print(num_cores)"
   ]
  },
  {
   "cell_type": "markdown",
   "id": "a1cbc839-327a-4d29-8c53-9523d969bdf7",
   "metadata": {
    "tags": []
   },
   "source": [
    "# Comparison 1: Pool.map"
   ]
  },
  {
   "cell_type": "code",
   "execution_count": null,
   "id": "7375aa5e-4d05-45f0-9de7-97cb95919543",
   "metadata": {},
   "outputs": [],
   "source": [
    "\n",
    "\n",
    "def function1(x): \n",
    "    return eval('x**100')\n"
   ]
  },
  {
   "cell_type": "code",
   "execution_count": 85,
   "id": "128f1a5a-c547-4f08-8f6b-9d8f320a8844",
   "metadata": {
    "tags": []
   },
   "outputs": [
    {
     "name": "stdout",
     "output_type": "stream",
     "text": [
      "[-16.595599059485195, 44.06489868843161, -99.97712503653102, -39.53348547363205, -70.64882183657738, -81.53228104624044, -62.74795772446582, -30.88785459139045, -20.646505153866016, 7.7633468006713855]\n"
     ]
    }
   ],
   "source": [
    "seed = np.random.seed(1)\n",
    "data1= list(np.random.uniform(-100, 100, 100))\n",
    "print(data1[:10])\n",
    "\n",
    "\n",
    "result1List = []\n",
    "result1List_Array = []"
   ]
  },
  {
   "cell_type": "code",
   "execution_count": 86,
   "id": "a88730e9-a383-42b8-924b-4576f15a0fc0",
   "metadata": {
    "tags": []
   },
   "outputs": [
    {
     "name": "stdout",
     "output_type": "stream",
     "text": [
      "0.00545954704284668\n"
     ]
    }
   ],
   "source": [
    "\n",
    "with Pool() as pool:\n",
    "    start = time.time()\n",
    "    for result in pool.map(function1,data1):\n",
    "        result1List_Array.append(result)\n",
    "    end = time.time()\n",
    "print(end - start )"
   ]
  },
  {
   "cell_type": "code",
   "execution_count": 87,
   "id": "66b20ef8-75b4-4d50-9f74-7b8819489f96",
   "metadata": {
    "tags": []
   },
   "outputs": [
    {
     "name": "stdout",
     "output_type": "stream",
     "text": [
      "0.0016622543334960938\n"
     ]
    }
   ],
   "source": [
    "start = time.time()\n",
    "for result in map(function1,data1 ):\n",
    "    result1List.append(result)\n",
    "end = time.time()\n",
    "print(end - start )"
   ]
  },
  {
   "cell_type": "markdown",
   "id": "d7e4b3ca-9727-46a4-bb4a-5fdb319305c1",
   "metadata": {},
   "source": [
    "## Comparison: if np.ndarray still works "
   ]
  },
  {
   "cell_type": "code",
   "execution_count": null,
   "id": "09c9a88e-9887-4969-9dff-46feb4c7f1cf",
   "metadata": {},
   "outputs": [],
   "source": [
    "seed = np.random.seed(1)\n",
    "data1= list(np.random.uniform(-100, 100, 100))\n",
    "print(data1[:10])\n",
    "\n",
    "\n",
    "result1List = []\n",
    "result1List_Array = []"
   ]
  },
  {
   "cell_type": "code",
   "execution_count": 81,
   "id": "91325976-5bb7-4ab6-97c0-1c42d8330257",
   "metadata": {
    "tags": []
   },
   "outputs": [
    {
     "name": "stdout",
     "output_type": "stream",
     "text": [
      "0.005410909652709961\n"
     ]
    }
   ],
   "source": [
    "\n",
    "with Pool() as pool:\n",
    "    start = time.time()\n",
    "    for result in pool.map(function1,np.array(data1)):\n",
    "        result1List_Array.append(result)\n",
    "    end = time.time()\n",
    "print(end - start )\n"
   ]
  },
  {
   "cell_type": "code",
   "execution_count": 82,
   "id": "58caf9f6-b5fd-45dd-ba9c-e78131224f07",
   "metadata": {
    "tags": []
   },
   "outputs": [
    {
     "name": "stdout",
     "output_type": "stream",
     "text": [
      "0.0049800872802734375\n"
     ]
    }
   ],
   "source": [
    "start = time.time()\n",
    "for result in map(function1,data1 ):\n",
    "    result1List.append(result)\n",
    "end = time.time()\n",
    "print(end - start )"
   ]
  },
  {
   "cell_type": "code",
   "execution_count": 84,
   "id": "3ed25d15-aff4-4274-aa7d-20ee141e28c8",
   "metadata": {
    "tags": []
   },
   "outputs": [
    {
     "data": {
      "text/plain": [
       "True"
      ]
     },
     "execution_count": 84,
     "metadata": {},
     "output_type": "execute_result"
    }
   ],
   "source": [
    "np.all(np.array(result1List) == np.array(result1List_Array))"
   ]
  },
  {
   "cell_type": "code",
   "execution_count": null,
   "id": "5bd6bd65-a8d4-4b22-9d3a-2d062871cd31",
   "metadata": {},
   "outputs": [],
   "source": []
  },
  {
   "cell_type": "markdown",
   "id": "472a7d03-5bdd-4050-a48f-444041470f4f",
   "metadata": {},
   "source": [
    "# Comparison 2: startmap "
   ]
  },
  {
   "cell_type": "code",
   "execution_count": 5,
   "id": "9e36f1d2-e631-404e-8bbe-e97740e2a27c",
   "metadata": {
    "tags": []
   },
   "outputs": [],
   "source": [
    "def function2(x, y, z): \n",
    "    return eval('x**10*y + z**(1/4) - 2*x**y*z')\n",
    "\n",
    "def function2Modified(x): \n",
    "    return eval('x[0]**10*x[1] + x[2]**(1/4) - 2*x[0]**x[1]*x[2]')\n",
    "\n"
   ]
  },
  {
   "cell_type": "code",
   "execution_count": 6,
   "id": "b69619ac-edff-458f-a253-8887eb45b840",
   "metadata": {
    "tags": []
   },
   "outputs": [
    {
     "data": {
      "text/plain": [
       "array([[4.75319804, 7.48292044, 1.00102937],\n",
       "       [3.72099315, 2.32080302, 1.83104735],\n",
       "       [2.6763419 , 4.11004654, 4.57090727],\n",
       "       [5.84935061, 4.77275063, 7.1669755 ],\n",
       "       [2.84007025, 8.90305693, 1.24648834],\n",
       "       [7.03420759, 4.75574322, 6.02820846],\n",
       "       [2.26348245, 2.7829134 , 8.20670112],\n",
       "       [9.71435418, 3.8208176 , 7.23090354],\n",
       "       [8.88750237, 9.05145997, 1.7653979 ],\n",
       "       [1.35149305, 2.52847378, 8.90328253]])"
      ]
     },
     "execution_count": 6,
     "metadata": {},
     "output_type": "execute_result"
    }
   ],
   "source": [
    "seed = np.random.seed(1)\n",
    "data2 = np.random.uniform(1, 10, (10, 3))\n",
    "\n",
    "result2List = []\n",
    "result2List2 = []\n",
    "\n",
    "data2[:10]\n",
    "\n"
   ]
  },
  {
   "cell_type": "code",
   "execution_count": 7,
   "id": "44a4f77f-f075-4262-a869-ed2c2376410f",
   "metadata": {
    "tags": []
   },
   "outputs": [
    {
     "name": "stdout",
     "output_type": "stream",
     "text": [
      "0.0027570724487304688\n"
     ]
    }
   ],
   "source": [
    "\n",
    "with Pool() as pool:\n",
    "    start = time.time()\n",
    "    for result in pool.starmap(function2,data2):\n",
    "        result2List.append(result)\n",
    "    end = time.time()\n",
    "print(end - start )\n"
   ]
  },
  {
   "cell_type": "code",
   "execution_count": 8,
   "id": "fd70321a-464b-40cf-bb5c-0802f0584f02",
   "metadata": {
    "tags": []
   },
   "outputs": [
    {
     "name": "stdout",
     "output_type": "stream",
     "text": [
      "0.0009801387786865234\n"
     ]
    }
   ],
   "source": [
    "start = time.time()\n",
    "for result in map(function2Modified, data2 ):\n",
    "    result2List2.append(result)\n",
    "end = time.time()\n",
    "print(end - start )"
   ]
  },
  {
   "cell_type": "code",
   "execution_count": 126,
   "id": "6fd3b7d5-69f5-4c46-8d36-b6a2d6ae696b",
   "metadata": {
    "tags": []
   },
   "outputs": [
    {
     "data": {
      "text/plain": [
       "True"
      ]
     },
     "execution_count": 126,
     "metadata": {},
     "output_type": "execute_result"
    }
   ],
   "source": [
    "np.all(np.array(result2List) == np.array(result2List2))"
   ]
  },
  {
   "cell_type": "markdown",
   "id": "84f8cd46-8ae7-437b-918c-b8e6ba4fe289",
   "metadata": {},
   "source": [
    "# Comparison 3: more complex for loops "
   ]
  },
  {
   "cell_type": "code",
   "execution_count": 2,
   "id": "ca8771a8-077e-47d6-9ecb-49a2c56fe617",
   "metadata": {
    "tags": []
   },
   "outputs": [],
   "source": [
    "def trial_division(n: int) -> list[int]:\n",
    "    \"\"\"Return a list of the prime factors for a natural number.\"\"\"\n",
    "    a = []               # Prepare an empty list.\n",
    "    f = 2                # The first possible factor.    \n",
    "    while n > 1:         # While n still has remaining factors...\n",
    "        if n % f == 0:   # The remainder of n divided by f might be zero.        \n",
    "            a.append(f)  # If so, it divides n. Add f to the list.\n",
    "            n //= f      # Divide that factor out of n.\n",
    "        else:            # But if f is not a factor of n,\n",
    "            f += 1       # Add one to f and try again.\n",
    "    return a             # Prime factors may be repeated: 12 factors to 2,2,3."
   ]
  },
  {
   "cell_type": "code",
   "execution_count": 11,
   "id": "1e34d680-ad1c-4238-8516-47bd4923e11d",
   "metadata": {
    "tags": []
   },
   "outputs": [
    {
     "name": "stdout",
     "output_type": "stream",
     "text": [
      "[163, 643768861]\n",
      "47.426209688186646\n"
     ]
    }
   ],
   "source": [
    "start = time.time()\n",
    "\n",
    "print(trial_division(104934324343))\n",
    "\n",
    "end = time.time()\n",
    "print(end - start)"
   ]
  },
  {
   "cell_type": "code",
   "execution_count": null,
   "id": "e8e7d41d-37be-48a6-9e01-e3ba4fd6db29",
   "metadata": {
    "tags": []
   },
   "outputs": [],
   "source": [
    "2*4627633*113377967"
   ]
  },
  {
   "cell_type": "code",
   "execution_count": 37,
   "id": "40d4b4bc-04d1-4d72-8ae1-6089c65b7713",
   "metadata": {
    "tags": []
   },
   "outputs": [],
   "source": [
    "import numpy as np \n",
    "seed = np.random.seed(1)\n",
    "data = np.random.randint(104934333, high =10493432433,  size = 5)\n",
    "\n",
    "resultList = []"
   ]
  },
  {
   "cell_type": "code",
   "execution_count": 40,
   "id": "a11b8a92-fb7a-4e01-be94-edb07955a437",
   "metadata": {
    "tags": []
   },
   "outputs": [
    {
     "name": "stdout",
     "output_type": "stream",
     "text": [
      "30.35191059112549\n"
     ]
    }
   ],
   "source": [
    "# using map \n",
    "start = time.time()\n",
    "for result in map(trial_division, data ): \n",
    "    resultList.append(result)\n",
    "end  = time.time()\n",
    "print(end - start)\n",
    "    "
   ]
  },
  {
   "cell_type": "code",
   "execution_count": 41,
   "id": "bf4a2f33-a75b-4926-93a8-fd24f699336e",
   "metadata": {
    "tags": []
   },
   "outputs": [
    {
     "name": "stdout",
     "output_type": "stream",
     "text": [
      "28.167335748672485\n"
     ]
    }
   ],
   "source": [
    "# using pool.map \n",
    "\n",
    "with Pool() as pool:\n",
    "    start = time.time()\n",
    "    for result in pool.map(trial_division,data):\n",
    "        resultList.append(result)\n",
    "    end = time.time()\n",
    "print(end - start )"
   ]
  },
  {
   "cell_type": "markdown",
   "id": "942d959c-f608-48d9-b7f3-9fee2be2812f",
   "metadata": {},
   "source": [
    "1. trial: 31.980625867843628, 28.43137836456299\n",
    "2. trial: 30.35191059112549, 28.167335748672485"
   ]
  },
  {
   "cell_type": "markdown",
   "id": "65e7cb73-391f-4675-a378-3bec27621e4f",
   "metadata": {},
   "source": [
    "# Pool.map, repeated loop using indices "
   ]
  },
  {
   "cell_type": "code",
   "execution_count": null,
   "id": "2aea3020-f037-41ed-87eb-c0717618288a",
   "metadata": {},
   "outputs": [],
   "source": []
  },
  {
   "cell_type": "code",
   "execution_count": 26,
   "id": "fa10392f-acd6-4b64-a471-84e93dc50969",
   "metadata": {
    "tags": []
   },
   "outputs": [],
   "source": [
    "lista = []\n",
    "k = 2 \n",
    "\n"
   ]
  },
  {
   "cell_type": "code",
   "execution_count": 27,
   "id": "4ab66744-7e70-4b39-bbf7-cf78a2ef2225",
   "metadata": {
    "tags": []
   },
   "outputs": [],
   "source": [
    "def function(i):\n",
    "    \n",
    "    lista.append(np.random.random())\n",
    "    \n",
    "    \n",
    "    print(f'{i}. loop and k is {k} ')"
   ]
  },
  {
   "cell_type": "code",
   "execution_count": 28,
   "id": "3e493d03-a9c5-4929-aa38-267f0125eadc",
   "metadata": {
    "tags": []
   },
   "outputs": [
    {
     "name": "stdout",
     "output_type": "stream",
     "text": [
      "3. loop and k is 2 1. loop and k is 2 0. loop and k is 2 2. loop and k is 2 4. loop and k is 2 \n",
      "\n",
      "\n",
      "\n",
      "7. loop and k is 2 \n",
      "9. loop and k is 2 \n",
      "8. loop and k is 2 \n",
      "\n",
      "6. loop and k is 2 \n",
      "5. loop and k is 2 \n"
     ]
    }
   ],
   "source": [
    "idxList = list(range(10))\n",
    "\n",
    "with Pool() as pool: \n",
    "    pool.map(function, idxList)"
   ]
  },
  {
   "cell_type": "markdown",
   "id": "e71f206d-422e-420b-81c1-65bddb88a490",
   "metadata": {},
   "source": [
    "## Pool.map, returning independent random values "
   ]
  },
  {
   "cell_type": "code",
   "execution_count": 29,
   "id": "03c5e8a6-5e89-49a9-a972-4b1d88d4fbf8",
   "metadata": {
    "tags": []
   },
   "outputs": [],
   "source": [
    "lista = []\n",
    "k = 2 \n",
    "\n"
   ]
  },
  {
   "cell_type": "code",
   "execution_count": 30,
   "id": "d037f4f0-07b1-4f26-8cef-6288633d61ca",
   "metadata": {
    "tags": []
   },
   "outputs": [],
   "source": [
    "def function(i):\n",
    "    print(f'{i}. loop and k is {k} ')\n",
    "    \n",
    "    return np.random.random()\n",
    "    \n",
    "    \n",
    "    "
   ]
  },
  {
   "cell_type": "code",
   "execution_count": 31,
   "id": "2f165105-e015-486c-b9b7-12902e794026",
   "metadata": {
    "tags": []
   },
   "outputs": [],
   "source": [
    "idxList = list(range(10))\n",
    "\n",
    "with Pool() as pool: \n",
    "    \n",
    "    for result in pool.map(function, idxList): \n",
    "        lista.append(result)"
   ]
  },
  {
   "cell_type": "code",
   "execution_count": null,
   "id": "ec1c5c54-333c-4fb5-8935-819c2070408a",
   "metadata": {},
   "outputs": [],
   "source": []
  }
 ],
 "metadata": {
  "kernelspec": {
   "display_name": "Python 3 (ipykernel)",
   "language": "python",
   "name": "python3"
  },
  "language_info": {
   "codemirror_mode": {
    "name": "ipython",
    "version": 3
   },
   "file_extension": ".py",
   "mimetype": "text/x-python",
   "name": "python",
   "nbconvert_exporter": "python",
   "pygments_lexer": "ipython3",
   "version": "3.10.4"
  }
 },
 "nbformat": 4,
 "nbformat_minor": 5
}
