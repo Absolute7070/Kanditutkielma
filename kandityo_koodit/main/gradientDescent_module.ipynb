{
 "cells": [
  {
   "cell_type": "markdown",
   "id": "b3a53c5c-858b-4d9f-909c-7821907d8746",
   "metadata": {},
   "source": [
    "# Gradient descent module"
   ]
  },
  {
   "cell_type": "code",
   "execution_count": 4,
   "id": "24dd6b00-27dd-4e8b-9391-86fc7dfbc141",
   "metadata": {
    "tags": []
   },
   "outputs": [],
   "source": [
    "import numpy as np \n",
    "import matplotlib.pyplot as plt \n",
    "plt.style.use('seaborn-v0_8')\n",
    "\n",
    "# from numba import jit"
   ]
  },
  {
   "cell_type": "markdown",
   "id": "c1440148-8e0e-42e4-b94d-e97a4c4f16be",
   "metadata": {},
   "source": [
    "# Gradient descent "
   ]
  },
  {
   "attachments": {
    "7910ce4d-453d-4940-9e2c-0cf14f3d0260.png": {
     "image/png": "[encoded data removed]"
    }
   },
   "cell_type": "markdown",
   "id": "9ffcc301-b0b3-44f3-b9c1-7a149fd70613",
   "metadata": {},
   "source": [
    "![image.png](attachment:7910ce4d-453d-4940-9e2c-0cf14f3d0260.png)"
   ]
  },
  {
   "cell_type": "code",
   "execution_count": 5,
   "id": "1de0ca01-5230-438f-bade-1ac44d1ab3a1",
   "metadata": {
    "tags": []
   },
   "outputs": [],
   "source": [
    "# @jit\n",
    "def gradientDescentFunction(monteCarloIntegrationFunc, \n",
    "                            function, \n",
    "                            learning_rate: float , \n",
    "                            samples: np.ndarray, \n",
    "                            parameters: list, \n",
    "                            tolerance = 0.01, \n",
    "                            maximumSteps: int = 500, \n",
    "                            showEvolution: bool = False, \n",
    "                            wantEvolution: bool = False, \n",
    "                            printGradient: bool = False \n",
    "                           ) -> list : \n",
    "    \n",
    "    '''\n",
    "    Gradient descent function for updating parameters for one step. \n",
    "    \n",
    "    Parameters\n",
    "    ---------\n",
    "        monteCarloIntegrationFunc: monte carlo integration function in functions_module.ipynb\n",
    "    \n",
    "        function: supposed to be local energy function \n",
    "        \n",
    "        learning_rate: step size for descent \n",
    "        \n",
    "        samples: metropolis samples from metropolisSamplingFunction\n",
    "        \n",
    "        parameters: list of parameters in floats \n",
    "        \n",
    "        tolerance: how much you want gradient to be close enough to zero \n",
    "        \n",
    "        maximumSteps: maximum steps to optimize the parameters. To avoid divergence situation, set some number to avoid infinite loops. \n",
    "        \n",
    "        showEvolution: whether to plot parameters history \n",
    "        \n",
    "        wantEvolution: if true, then the history of the parameters will be returned \n",
    "        \n",
    "    Return\n",
    "    ------\n",
    "        list of optimized parameters in floats \n",
    "        \n",
    "        if wantEvolution=True, then parameters history will be returned \n",
    "    '''\n",
    "    \n",
    "    # parameters as np.ndarray \n",
    "    parameters_array = np.array(parameters).copy()\n",
    "    \n",
    "    gradient = gradient_AtAPoint(monteCarloIntegrationFunc = monteCarloIntegrationFunc, \n",
    "                                 function=function, \n",
    "                                 samples=samples, \n",
    "                                 parameters=list(parameters_array), \n",
    "                                 nPointDifference=5)\n",
    "    gradient = np.array(gradient) # transform to np.ndarray \n",
    "    \n",
    "    \n",
    "    \n",
    "    # record all parameters points \n",
    "    parametersHistoryArraylist = []\n",
    "    \n",
    "    \n",
    "    counter = 0 \n",
    "    while np.any(gradient > tolerance): \n",
    "        \n",
    "        # print counter\n",
    "        print(counter, end = '\\r')\n",
    "        # print gradient to output\n",
    "        if printGradient == True: \n",
    "            print('Gradient:', gradient)\n",
    "\n",
    "        # gradient descent \n",
    "        parameters_array = parameters_array + learning_rate*gradient \n",
    "        gradient = np.array(  \n",
    "                        gradient_AtAPoint(monteCarloIntegrationFunc = monteCarloIntegrationFunc, \n",
    "                                          function=function, \n",
    "                                          samples=samples, \n",
    "                                          parameters=list(parameters_array), \n",
    "                                          nPointDifference=2)\n",
    "                    )\n",
    "        \n",
    "        \n",
    "        # record parameters' history if want plotting or want history of the parameters in optimization\n",
    "        if showEvolution or wantEvolution: \n",
    "            # record parameters \n",
    "            if counter == 0:  # create slots and append initial values \n",
    "                for i in range(len(parameters_array)): \n",
    "                    parametersHistoryArraylist.append([parameters_array[i]])\n",
    "            elif counter >0 :   # appending when lists for values are already initialized\n",
    "                for i in range(len(parameters_array)): \n",
    "                    parametersHistoryArraylist[i].append(parameters_array[i])\n",
    "            else: \n",
    "                raise Exception('Error: Something is wrong with the counter')\n",
    "    \n",
    "    \n",
    "        \n",
    "        \n",
    "        \n",
    "        # breaking the loop mechanism \n",
    "        counter +=1 \n",
    "        if counter >= maximumSteps: \n",
    "            break \n",
    "        \n",
    "    \n",
    "   # plot parameters \n",
    "    if showEvolution and (len(parametersHistoryArraylist)>0): \n",
    "        plotParameters(parametersArraylist=parametersHistoryArraylist)\n",
    "    elif showEvolution and (len(parametersHistoryArraylist)<=0): \n",
    "        raise Exception('Parameters history is empty')\n",
    "    \n",
    "    \n",
    "    # return evolution of the parameters \n",
    "    if wantEvolution: \n",
    "        return parametersHistoryArraylist\n",
    "    \n",
    "\n",
    "    \n",
    "    \n",
    "    return list(parameters_array)\n",
    "    \n",
    "    \n",
    "    "
   ]
  },
  {
   "cell_type": "markdown",
   "id": "d686244d-7c12-4ebc-bc6c-f93e06ca7102",
   "metadata": {},
   "source": [
    "# Visualization "
   ]
  },
  {
   "cell_type": "code",
   "execution_count": 6,
   "id": "f9e906ab-9940-4a0d-ab2a-b163e5723e3b",
   "metadata": {},
   "outputs": [],
   "source": [
    "def plotParameters(parametersArraylist: list ) -> None: \n",
    "    '''\n",
    "    For plotting parameters in gradientDescentFunction\n",
    "    \n",
    "    Parameters\n",
    "    ---------\n",
    "        parametersArraylist:\n",
    "            parameters array as as list of list. Each row in the array presents one parameter's evolution in optimization \n",
    "            \n",
    "    Returns \n",
    "    -------\n",
    "        plot the parameters on the same plot \n",
    "    \n",
    "    '''\n",
    "    numberOfParameters = len(parametersArraylist) \n",
    "    \n",
    "    steps = len(parametersArraylist[0])  # number of steps used to optimize parameters \n",
    "    \n",
    "    for i in range(numberOfParameters): \n",
    "        if steps == len(parametersArraylist[i]): \n",
    "            plt.plot(range(steps), parametersArraylist[i], marker ='.', linestyle ='-', ms= 10 )\n",
    "        else:  \n",
    "            raise Exception(\"Error in plotting: Number of steps and parametersArraylist's length is not compatible\")\n",
    "    \n",
    "    \n",
    "    "
   ]
  },
  {
   "cell_type": "code",
   "execution_count": null,
   "id": "206b4956-05f2-4b7c-a66d-648051c9b3a7",
   "metadata": {},
   "outputs": [],
   "source": []
  },
  {
   "cell_type": "code",
   "execution_count": null,
   "id": "6deb1bc1-3a0f-4108-a074-168fe1d4f4bb",
   "metadata": {},
   "outputs": [],
   "source": []
  },
  {
   "cell_type": "markdown",
   "id": "896a1b2d-3785-4ecc-b1ef-0a25181f5f68",
   "metadata": {},
   "source": [
    "# Numerical derivative"
   ]
  },
  {
   "cell_type": "markdown",
   "id": "a24b9020-d9b8-4f4c-b252-690559632cf7",
   "metadata": {},
   "source": [
    "## Gradient at the point "
   ]
  },
  {
   "attachments": {
    "d316e420-d84d-4f03-aaf5-93721885220c.png": {
     "image/png": "[encoded data removed]"
    }
   },
   "cell_type": "markdown",
   "id": "56a2e156-106c-4c36-9ba3-6ba766722cec",
   "metadata": {},
   "source": [
    "![image.png](attachment:d316e420-d84d-4f03-aaf5-93721885220c.png)"
   ]
  },
  {
   "cell_type": "code",
   "execution_count": 7,
   "id": "fcf73c66-6373-4dc9-802c-af7df5d0eadc",
   "metadata": {
    "tags": []
   },
   "outputs": [],
   "source": [
    "# @jit\n",
    "def gradient_AtAPoint(monteCarloIntegrationFunc, function, samples: np.ndarray, parameters: list, nPointDifference: int,  h: float=0.0001 ) -> list  : \n",
    "    '''\n",
    "    Compute gradient at point defined by parameters \n",
    "    \n",
    "    Parameters\n",
    "    ---------\n",
    "        monteCarloIntegrationFunc: monte carlo integration function in functions_module.ipynb\n",
    "    \n",
    "        function: supposed to be local energy function \n",
    "        \n",
    "        \n",
    "        h: step size used in finite difference method \n",
    "        \n",
    "        samples: metropolis samples from metropolisSamplingFunction\n",
    "        \n",
    "        parameters: list of parameters in floats \n",
    "        \n",
    "        nPointDifference: 2 or 5 point difference method\n",
    "                    \n",
    "        \n",
    "        \n",
    "    Return\n",
    "    ------\n",
    "        gradient as list. E.g. [Dx F, Dy F, Dz F]|x=x0, y=y0, z=z0 (partial derivative of F with respect to x at point x_0, etc. )\n",
    "    '''\n",
    "    \n",
    "    numberOfParameters = len(parameters) \n",
    "    \n",
    "    \n",
    "    \n",
    "    \n",
    "    # perform n point difference methods\n",
    "    if nPointDifference == 2: \n",
    "        gradient = [   twoPointDiff(monteCarloIntegrationFunc = monteCarloIntegrationFunc,function= function, h = h, samples=samples, parameters=parameters, whichParameter=i)  for i in range(numberOfParameters) ]\n",
    "    elif nPointDifference ==5: \n",
    "        gradient = [   fivePointDiff(monteCarloIntegrationFunc = monteCarloIntegrationFunc, function= function, h = h, samples=samples, parameters=parameters, whichParameter=i)  for i in range(numberOfParameters) ]\n",
    "    else: \n",
    "        raise Exception('Derivative method does not exits!')\n",
    "    \n",
    "    \n",
    "    return gradient "
   ]
  },
  {
   "cell_type": "code",
   "execution_count": null,
   "id": "2d942739-d7a0-4e28-a313-7314c9ba86bc",
   "metadata": {},
   "outputs": [],
   "source": []
  },
  {
   "cell_type": "code",
   "execution_count": null,
   "id": "3ca822b8-6e35-4c0d-9ba8-ca627a6eb5fb",
   "metadata": {},
   "outputs": [],
   "source": []
  },
  {
   "cell_type": "code",
   "execution_count": null,
   "id": "11bff3b0-dcd8-4942-81bc-7d83e72ecffa",
   "metadata": {},
   "outputs": [],
   "source": []
  },
  {
   "cell_type": "markdown",
   "id": "68f70174-ddba-4821-85ea-558876896ce5",
   "metadata": {},
   "source": [
    "## Five point difference "
   ]
  },
  {
   "attachments": {
    "14c7a78d-2107-4dd0-944f-0ea8d2d905ae.png": {
     "image/png": "[encoded data removed]"
    }
   },
   "cell_type": "markdown",
   "id": "b67e67ee-e3a6-48ab-a1eb-7a134e45dafb",
   "metadata": {},
   "source": [
    "![image.png](attachment:14c7a78d-2107-4dd0-944f-0ea8d2d905ae.png)"
   ]
  },
  {
   "cell_type": "code",
   "execution_count": 8,
   "id": "06247a0b-b700-4003-9310-6423da916b8a",
   "metadata": {},
   "outputs": [],
   "source": [
    "# @jit\n",
    "def fivePointDiff(monteCarloIntegrationFunc, function, h: float, samples: np.ndarray, parameters: list, whichParameter: int  ) -> float : \n",
    "    \n",
    "    '''\n",
    "    Five point finite difference \n",
    "    \n",
    "    Parameters\n",
    "    ---------\n",
    "    \n",
    "        monteCarloIntegrationFunc: monte carlo integration function in functions_module.ipynb\n",
    "    \n",
    "        function: supposed to be local energy function \n",
    "        \n",
    "        h: step size used in finite difference method \n",
    "        \n",
    "        samples: metropolis samples from metropolisSamplingFunction\n",
    "        \n",
    "        parameters: list of parameters in floats \n",
    "        \n",
    "        whichParameter: \n",
    "            index number specifying to which parameter you are taking the derivative. \n",
    "            e.g. derivative with respect to first parameter in the parameters list, whichParameter = 0 \n",
    "                    \n",
    "        \n",
    "        \n",
    "    Return\n",
    "    ------\n",
    "        the derivative approximation as number \n",
    "    '''\n",
    "     # make copy of the original arrays and preparing to minus or plus h \n",
    "    parameters_array_plusH = np.array(parameters).copy()  \n",
    "    parameters_array_minusH = np.array(parameters).copy() \n",
    "\n",
    "    parameters_array_plus2H = np.array(parameters).copy()  \n",
    "    parameters_array_minus2H = np.array(parameters).copy() \n",
    "    \n",
    "    parameters_array_plusminus0H = np.array(parameters).copy()  \n",
    "\n",
    "    \n",
    "    # add/substract h from the n-th parameter \n",
    "    parameters_array_plusH[whichParameter] += h \n",
    "    parameters_array_minusH[whichParameter] -= h \n",
    "    \n",
    "    # add/substract 2*h from the n-th parameter \n",
    "    parameters_array_minus2H[whichParameter] -= 2*h  \n",
    "    parameters_array_plus2H[whichParameter] += 2*h \n",
    "    \n",
    "\n",
    "    \n",
    "    \n",
    "    numerator = (  monteCarloIntegrationFunc(samples= samples, localEnergyFunction=function, params=parameters_array_minus2H) - \n",
    "                 8* monteCarloIntegrationFunc(samples= samples, localEnergyFunction=function, params=parameters_array_minusH) + \n",
    "                8* monteCarloIntegrationFunc(samples= samples, localEnergyFunction=function, params=parameters_array_plusH) -\n",
    "                monteCarloIntegrationFunc(samples= samples, localEnergyFunction=function, params=parameters_array_plus2H)    )\n",
    "    \n",
    "    denominator = 12*h \n",
    "    \n",
    "    return numerator/denominator"
   ]
  },
  {
   "cell_type": "markdown",
   "id": "f87faf2c-8766-4da6-959b-b1939a157b40",
   "metadata": {},
   "source": [
    "## Two point difference "
   ]
  },
  {
   "cell_type": "markdown",
   "id": "4f3af3a9-01b7-43b7-a3f7-864b7c80e7ba",
   "metadata": {},
   "source": [
    "$$\\frac{f(x+h)- f(x-h)}{2h }$$"
   ]
  },
  {
   "cell_type": "code",
   "execution_count": 9,
   "id": "c39c559b-c69b-457a-b469-afbb89200058",
   "metadata": {},
   "outputs": [],
   "source": [
    "# @jit\n",
    "def twoPointDiff(monteCarloIntegrationFunc, function, h: float, samples: np.ndarray, parameters: list, whichParameter: int  ) -> float : \n",
    "    '''\n",
    "    Two point finite difference \n",
    "    \n",
    "    Parameters\n",
    "    ---------\n",
    "        monteCarloIntegrationFunc: monte carlo integration function in functions_module.ipynb\n",
    "    \n",
    "        function: supposed to be local energy function \n",
    "        \n",
    "        h: step size used in finite difference method \n",
    "        \n",
    "        samples: metropolis samples from metropolisSamplingFunction\n",
    "        \n",
    "        parameters: list of parameters in floats \n",
    "        \n",
    "        whichParameter: \n",
    "            index number specifying to which parameter you are taking the derivative. \n",
    "            e.g. derivative with respect to first parameter in the parameters list, whichParameter = 0 \n",
    "                    \n",
    "        \n",
    "        \n",
    "    Return\n",
    "    ------\n",
    "        the derivative approximation as number \n",
    "    '''\n",
    "    \n",
    "     # make copy of the original arrays and preparing to minus \n",
    "    parameters_array_plusH = np.array(parameters).copy()  \n",
    "    parameters_array_minusH = np.array(parameters).copy() \n",
    "    \n",
    "    # add/substract h from the n-th parameter \n",
    "    parameters_array_plusH[whichParameter] += h \n",
    "    parameters_array_minusH[whichParameter] -= h \n",
    "    \n",
    "    numerator = (  monteCarloIntegrationFunc(samples= samples, localEnergyFunction=function, params=parameters_array_plusH) -    \n",
    "                 monteCarloIntegrationFunc(samples= samples, localEnergyFunction=function, params=parameters_array_minusH)     )\n",
    "    \n",
    "    denominator = 2*h \n",
    "    \n",
    "    return numerator/denominator"
   ]
  },
  {
   "cell_type": "code",
   "execution_count": null,
   "id": "510a8d38-336a-45d1-bca7-e3562ab23b7d",
   "metadata": {},
   "outputs": [],
   "source": []
  },
  {
   "cell_type": "code",
   "execution_count": null,
   "id": "a55984c4-381c-4e3e-9910-99847fedad0c",
   "metadata": {},
   "outputs": [],
   "source": []
  }
 ],
 "metadata": {
  "kernelspec": {
   "display_name": "Python 3 (ipykernel)",
   "language": "python",
   "name": "python3"
  },
  "language_info": {
   "codemirror_mode": {
    "name": "ipython",
    "version": 3
   },
   "file_extension": ".py",
   "mimetype": "text/x-python",
   "name": "python",
   "nbconvert_exporter": "python",
   "pygments_lexer": "ipython3",
   "version": "3.10.4"
  }
 },
 "nbformat": 4,
 "nbformat_minor": 5
}
