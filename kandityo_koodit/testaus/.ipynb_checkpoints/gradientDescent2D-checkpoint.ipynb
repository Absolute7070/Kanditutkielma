{
 "cells": [
  {
   "cell_type": "code",
   "execution_count": 7,
   "id": "b5916e25-4d60-4814-8ff8-f6291a9dd09a",
   "metadata": {},
   "outputs": [],
   "source": [
    "#import the libraries\n",
    "from mpl_toolkits import mplot3d\n",
    "%matplotlib qt\n",
    "import numpy as np\n",
    "import matplotlib.pyplot as plt\n",
    "from sympy import symbols, diff, lambdify \n",
    " \n"
   ]
  },
  {
   "cell_type": "code",
   "execution_count": 4,
   "id": "f6ea9022-bd56-44a7-8d83-828f2293e73c",
   "metadata": {},
   "outputs": [],
   "source": [
    "# Define the sympy symbols to be used in the function\n",
    "x = symbols('x')\n",
    "y = symbols('y')\n",
    "#Define the function in terms of x and y\n",
    "f1 = (x-2) ** 2 + (y-2)**2+5\n",
    " \n",
    "# Calculate the partial derivatives of f1 w.r.t. x and y \n",
    "f1x = diff(f1,x)\n",
    "f1y = diff(f1,y)"
   ]
  },
  {
   "cell_type": "code",
   "execution_count": 8,
   "id": "65e53308-04ca-4d66-b955-b9ac80aa3a23",
   "metadata": {},
   "outputs": [],
   "source": [
    "# Define a function optimized for numpy array calculation\n",
    "# in sympy \n",
    "f = lambdify([x,y],f1,'numpy')"
   ]
  },
  {
   "cell_type": "code",
   "execution_count": 25,
   "id": "93cdc05e-4539-4c24-baa9-86fed060eb58",
   "metadata": {},
   "outputs": [],
   "source": [
    "x_grid = np.linspace(-3, 3, 30)\n",
    "y_grid = np.linspace(-3, 3, 30)"
   ]
  },
  {
   "cell_type": "code",
   "execution_count": 26,
   "id": "55d3a656-c524-4488-b2d3-fab979a80b7e",
   "metadata": {},
   "outputs": [],
   "source": [
    "# Create mesh grid for surface plot\n",
    "X, Y = np.meshgrid(x_grid,y_grid)"
   ]
  },
  {
   "cell_type": "code",
   "execution_count": 28,
   "id": "0c1872e3-a9a3-4289-aab0-aa0ca1c0b810",
   "metadata": {},
   "outputs": [],
   "source": [
    "#Define the surface function using the lambdify function \n",
    "Z = f(X, Y )"
   ]
  },
  {
   "cell_type": "code",
   "execution_count": 30,
   "id": "50986d00-c74b-4c8f-b721-51878bc35ddb",
   "metadata": {},
   "outputs": [],
   "source": [
    "#Select a start point\n",
    "x0,y0 = (3,3)\n",
    "#Initialize a list for storing the gradient descent points\n",
    "xlist = [x0]\n",
    "ylist = [y0]"
   ]
  },
  {
   "cell_type": "code",
   "execution_count": 31,
   "id": "b1695cf3-245e-4d90-a5ba-842d4068ea08",
   "metadata": {},
   "outputs": [],
   "source": [
    " \n",
    "#Specify the learning rate\n",
    "lr=0.001"
   ]
  },
  {
   "cell_type": "code",
   "execution_count": 32,
   "id": "a473cc4b-7789-4d43-ac62-e0d30c97f3f8",
   "metadata": {},
   "outputs": [],
   "source": [
    "#Perform gradient descent\n",
    "for i in range(100): \n",
    "    # Update the x and y values using the negative gradient values\n",
    "    x0-=f1x.evalf(subs={x:x0,y:y0})*lr\n",
    "    y0-=f1y.evalf(subs={x:x0,y:y0})*lr\n",
    "    # Append to the list to keep track of the points\n",
    "    xlist.append(x0)\n",
    "    ylist.append(y0)"
   ]
  },
  {
   "cell_type": "code",
   "execution_count": 33,
   "id": "2be4d0c4-7103-43c7-9389-6053c6a3de15",
   "metadata": {},
   "outputs": [],
   "source": [
    "xarr = np.array(xlist,dtype='float64')\n",
    "yarr = np.array(ylist,dtype='float64')   "
   ]
  },
  {
   "cell_type": "code",
   "execution_count": 35,
   "id": "74536542-0700-4b0a-a746-32262918ca60",
   "metadata": {},
   "outputs": [],
   "source": [
    "zlist = list(f(xarr,yarr))"
   ]
  },
  {
   "cell_type": "code",
   "execution_count": 38,
   "id": "628df94f-7c94-466c-9d49-838c3c1d773a",
   "metadata": {},
   "outputs": [],
   "source": [
    "#Plot the surface and points\n",
    "ax = plt.axes(projection='3d')\n",
    "ax.plot_surface(X, Y, Z, rstride=1, cstride=1,\n",
    "                cmap='viridis', edgecolor='none')\n",
    "\n",
    "ax.plot(xlist,ylist,zlist,'ro',markersize=10,alpha=0.6)\n",
    "ax.set_title('Gradient Descent');\n",
    "ax.set_aspect('equal')"
   ]
  },
  {
   "cell_type": "code",
   "execution_count": null,
   "id": "8cc91833-6990-47a2-bb85-9bbaaa0af58a",
   "metadata": {},
   "outputs": [],
   "source": []
  }
 ],
 "metadata": {
  "kernelspec": {
   "display_name": "Python 3 (ipykernel)",
   "language": "python",
   "name": "python3"
  },
  "language_info": {
   "codemirror_mode": {
    "name": "ipython",
    "version": 3
   },
   "file_extension": ".py",
   "mimetype": "text/x-python",
   "name": "python",
   "nbconvert_exporter": "python",
   "pygments_lexer": "ipython3",
   "version": "3.10.4"
  }
 },
 "nbformat": 4,
 "nbformat_minor": 5
}
