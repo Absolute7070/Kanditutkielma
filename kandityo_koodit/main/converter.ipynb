{
 "cells": [
  {
   "cell_type": "markdown",
   "id": "f2933d2f-21bd-42f9-8448-dd791acac32e",
   "metadata": {},
   "source": [
    "# Fortran formulae to Python String \n",
    "\n",
    "**Synopsis**\n",
    "\n",
    "Local energy and probability function can be effectively computed using Mathematica. Mathematica can transform formulae into Fortran formula, which is close to syntax of Python, but needs to be slightly modified. Here we modify the output of Mathematica into Python-compatible form. "
   ]
  },
  {
   "cell_type": "code",
   "execution_count": 17,
   "id": "1a428cc7",
   "metadata": {},
   "outputs": [],
   "source": [
    "import re "
   ]
  },
  {
   "cell_type": "markdown",
   "id": "e71c3965-0d32-41ce-a75c-4982258fcdf5",
   "metadata": {},
   "source": [
    "# User definable variables "
   ]
  },
  {
   "cell_type": "markdown",
   "id": "a0d2f7ce-aa85-4c06-ac07-55811d46e7fb",
   "metadata": {},
   "source": [
    "**Input**: Set absolute path for the location of the .txt files, containing **Fortran** formulae"
   ]
  },
  {
   "cell_type": "code",
   "execution_count": 18,
   "id": "adfb05ab-d53f-48b0-91ea-44ce1f6cefa5",
   "metadata": {
    "tags": []
   },
   "outputs": [],
   "source": [
    "probabilityFunctionPath = '/home/degnaiyu/Työpöytä/kanditutkielma/kandityo_koodit/main/Formulae_MathematicaOutput/helium/probabilityFunctionFortranForm_Refine'\n",
    "\n",
    "localEnergyFunctionPath = '/home/degnaiyu/Työpöytä/kanditutkielma/kandityo_koodit/main/Formulae_MathematicaOutput/helium/localEnergyFortranForm_Refine'"
   ]
  },
  {
   "cell_type": "markdown",
   "id": "bbe20cd9-6c9e-4599-af46-661e5b481f9f",
   "metadata": {},
   "source": [
    "**Input**: set absolute path to where to put the output files "
   ]
  },
  {
   "cell_type": "code",
   "execution_count": 19,
   "id": "611c89bb-1b37-4bb3-8f4f-bd0895427676",
   "metadata": {
    "tags": []
   },
   "outputs": [],
   "source": [
    "probabilityOutputFilePath = '/home/degnaiyu/Työpöytä/kanditutkielma/kandityo_koodit/main/Formulae_FortranCompatible/probability_Refine'\n",
    "\n",
    "localEnergyOutputFilePath = '/home/degnaiyu/Työpöytä/kanditutkielma/kandityo_koodit/main/Formulae_FortranCompatible/localEnergy_Refine'"
   ]
  },
  {
   "cell_type": "markdown",
   "id": "6011ce56-ec64-49c1-88fb-667f425dc289",
   "metadata": {},
   "source": [
    "## Checklist for formula validity "
   ]
  },
  {
   "cell_type": "markdown",
   "id": "25e0fbdb-b7cb-43e5-8ee7-7c94192eb2c6",
   "metadata": {},
   "source": [
    "**Input (optional)** : We expect that the following do not appear in the output of Mathematica: "
   ]
  },
  {
   "cell_type": "code",
   "execution_count": 20,
   "id": "0951559b-348d-4e8b-affb-84808b18c5d6",
   "metadata": {},
   "outputs": [],
   "source": [
    "checkList = ['Arg']"
   ]
  },
  {
   "cell_type": "markdown",
   "id": "ebe04217-0c84-4f3f-80cb-bfa518b6df50",
   "metadata": {},
   "source": [
    "## Fortran to python dictionary "
   ]
  },
  {
   "cell_type": "markdown",
   "id": "3e4e40d7-1717-40e5-9f54-2234fa7c0268",
   "metadata": {},
   "source": [
    "**Input (optional)**: Not complete! Only supposed to apply to this project. "
   ]
  },
  {
   "cell_type": "code",
   "execution_count": 21,
   "id": "8f928ff6-7a4e-4658-b00e-339539f624b4",
   "metadata": {
    "tags": []
   },
   "outputs": [],
   "source": [
    "mapping = {\n",
    "    'E**': 'exp', \n",
    "    'Sqrt': 'sqrt', \n",
    "    'Abs': 'abs', \n",
    "    '\\n': '' , \n",
    "    \"\\\\\" : '', \n",
    "    '**':'^', \n",
    "}"
   ]
  },
  {
   "cell_type": "markdown",
   "id": "af016b09-05bc-4c67-8ac7-f7c0f7513a49",
   "metadata": {},
   "source": []
  },
  {
   "cell_type": "markdown",
   "id": "2169b747-9216-4a89-8a3c-e2de4170d41c",
   "metadata": {},
   "source": [
    "# Functions "
   ]
  },
  {
   "cell_type": "code",
   "execution_count": 22,
   "id": "57890054-607e-4821-916e-3774f98b70ff",
   "metadata": {},
   "outputs": [],
   "source": [
    "def readFileToString(absolutePath: str) -> str:  \n",
    "    '''\n",
    "    Read file by absolute path. Returns string \n",
    "    \n",
    "    \n",
    "    Parameters\n",
    "    ----------\n",
    "        absolutePath: absolute path of the file \n",
    "        \n",
    "    \n",
    "    Return\n",
    "    ------\n",
    "        Returns the content of the file as string \n",
    "    \n",
    "    '''\n",
    "    \n",
    "    file = open(absolutePath, 'r') \n",
    "    return file.read()\n",
    "\n",
    "\n",
    "\n"
   ]
  },
  {
   "cell_type": "code",
   "execution_count": 23,
   "id": "c5017566-4c23-4323-9788-03d127adabd0",
   "metadata": {},
   "outputs": [],
   "source": [
    "def checkListFunction(string, checkList: list ) -> list: \n",
    "    '''\n",
    "    Check whether there are unwanted elements in string following the checklist of unwanted elements \n",
    "    \n",
    "    \n",
    "    Parameters\n",
    "    ----------\n",
    "        string: string which we are checking \n",
    "        \n",
    "        \n",
    "    Return\n",
    "    ------\n",
    "        list of unwanted elements in the string\n",
    "    \n",
    "    '''\n",
    "    unwantedList = []\n",
    "    \n",
    "    for unwanted in checkList: \n",
    "        if unwanted in string: \n",
    "            unwantedList.append(unwanted)\n",
    "            \n",
    "            \n",
    "    return unwantedList\n",
    "            \n",
    "\n",
    "    \n",
    "    \n",
    "    \n",
    "def printingForUnwantedElements(isLocalEnergy: bool, listOfUnwantedElements: list) -> None: \n",
    "    '''\n",
    "    Printing for unwanted elements in the Mathematica output \n",
    "    '''\n",
    "    \n",
    "    if isLocalEnergy: \n",
    "        prompt = f'Local energy has {len(listOfUnwantedElements)} unwanted elements:'\n",
    "        print(prompt)\n",
    "        print(len(prompt)*'-')\n",
    "        print(listOfUnwantedElements)\n",
    "    else: \n",
    "        prompt = f'Probability function has {len(listOfUnwantedElements)} unwanted elements:'\n",
    "        print(prompt)\n",
    "        print(len(prompt)*'-')\n",
    "        print(listOfUnwantedElements)\n",
    "        \n",
    "                "
   ]
  },
  {
   "cell_type": "code",
   "execution_count": 24,
   "id": "96e5d3b0-24c3-47c1-9ea6-05a4e7d91136",
   "metadata": {},
   "outputs": [],
   "source": [
    "def fortranFormToPythonForm(string: str, mappingDict: dict) -> str: \n",
    "    '''\n",
    "    Transform fortran formula to python formula using the above defined mapping \n",
    "    \n",
    "    \n",
    "    Parameters\n",
    "    ---------\n",
    "        string: input string containing fortran formulae generated by Mathematica \n",
    "        \n",
    "        mappingDict: mapping dictionary, rules for transforming  fortran formulae to python formulae \n",
    "        \n",
    "    Return\n",
    "    ------\n",
    "        string which is the input transformed into python formula\n",
    "    \n",
    "    '''\n",
    "    \n",
    "    transcript = string\n",
    "    \n",
    "    # transforming \n",
    "    for fortranForm, pythonForm in mappingDict.items(): \n",
    "        transcript = transcript.replace(fortranForm, pythonForm)\n",
    "        \n",
    "    return transcript\n",
    "    "
   ]
  },
  {
   "cell_type": "code",
   "execution_count": 25,
   "id": "52e5cdf0-ba72-45ae-86e3-fbbb2fe3707e",
   "metadata": {},
   "outputs": [],
   "source": [
    "def savePythonFormToFile(string: str, absolutePath: str, mode = 'w') -> None:\n",
    "    '''\n",
    "    Save string to a file. Can overwrite or append \n",
    "    \n",
    "    Parameters\n",
    "    ----------\n",
    "         string: string that is to be written to a file \n",
    "         \n",
    "         absolutePath: filename or file absolute path \n",
    "         \n",
    "         mode: writing mode. Whether to add  or overwrite content to a file. \n",
    "         \n",
    "     Return\n",
    "     ------\n",
    "         The file should be created \n",
    "    '''\n",
    "    df = open(absolutePath, mode ) \n",
    "    df.write(string )\n",
    "    df.close()\n",
    "    \n",
    "    \n",
    "    \n",
    "    \n",
    "    \n",
    "    \n",
    "    \n",
    "    \n",
    "    "
   ]
  },
  {
   "cell_type": "code",
   "execution_count": 26,
   "id": "e2771cde",
   "metadata": {},
   "outputs": [],
   "source": [
    "def findVariables(exprStr: str) -> tuple:\n",
    "    '''\n",
    "    Extract variables in expression string. \n",
    "    \n",
    "    Parameters\n",
    "    ---------\n",
    "        exprStr: expression as string. Supposed to be Python-compatible formula (at least Fortran, but not tested)\n",
    "        \n",
    "    \n",
    "    Return\n",
    "    ------\n",
    "    Tuple of two lists. \n",
    "    \n",
    "        First one: alphanumerically-ordered coordinate list e.g.\n",
    "        ['x1', 'x2', 'x3', 'y1', 'y2', 'y3', 'z1', 'z2', 'z3']\n",
    "        \n",
    "        Second one: alphanumerically-ordered  parameters list \n",
    "        e.g. ['A1', 'A2']\n",
    "        \n",
    "    '''\n",
    "    \n",
    "    patternForCoordinates = r'[xyz]{1}[123]{1}'                   # pattern for: x1, x2, y1 etc. \n",
    "    patternForParameters = r'[A-Z]{1}\\d{1}'                # pattern for: A1, A2, ... Z9  \n",
    "    \n",
    "    coordinateList =sorted(list(set( re.findall(patternForCoordinates, exprStr)  )))\n",
    "    parametersList =sorted(list(set(  re.findall(patternForParameters, exprStr) )))\n",
    "    \n",
    "    return coordinateList, parametersList \n",
    "    \n",
    "    "
   ]
  },
  {
   "cell_type": "code",
   "execution_count": 27,
   "id": "13fd46fd",
   "metadata": {},
   "outputs": [],
   "source": [
    "def regroupToCoordinateTriple_findVariables(coordinateList: list, isCoordinateTripletInTuple: bool = False ) -> list: \n",
    "    '''\n",
    "    Regrouping the coordinates from the output of the previous function `findVariables` into form [(x1, y1, z1), (x2, y2, z2)]\n",
    "    \n",
    "    Parameters\n",
    "    ----------\n",
    "        coordinateList: output coordinates from findVariables-function \n",
    "        \n",
    "        isCoordinateTripletInTuple: whether the output coordinate triples be separated by parentheses (see Return)\n",
    "        \n",
    "    Return\n",
    "    ------\n",
    "        list of traditional coordinatetriplets [(x1, y1, z1), (x2, y2, z2)] or in ordered list without parentheses [x1, y1, z1, x2, y2, z2 ]\n",
    "        \n",
    "    Warning\n",
    "    -------\n",
    "        User check that the coordinateList is the output of the function `findVariables` \n",
    "    '''\n",
    "    \n",
    "    tripletList = []   # save all triplets \n",
    "    \n",
    "    \n",
    "    # each particle's components \n",
    "    xCoordinates = []\n",
    "    yCoordinates = []\n",
    "    zCoordinates = []\n",
    "    \n",
    "    \n",
    "    # separating each particle's component into their lists \n",
    "    for component in coordinateList: \n",
    "        if 'x' in component: \n",
    "            xCoordinates.append(component) \n",
    "        elif 'y' in component: \n",
    "            yCoordinates.append(component)\n",
    "        elif 'z' in component:   \n",
    "            zCoordinates.append(component)\n",
    "        else: \n",
    "            raise Exception(\"No other than x,y,z components\")\n",
    "    \n",
    "    \n",
    "    \n",
    "    \n",
    "    if isCoordinateTripletInTuple: \n",
    "        # forming triplets \n",
    "        for x,y,z in zip(xCoordinates, yCoordinates, zCoordinates): \n",
    "            tripletList.append((x,y,z))\n",
    "    else: \n",
    "        # forming ordered list \n",
    "        for x,y,z in zip(xCoordinates, yCoordinates, zCoordinates): \n",
    "            tripletList.append(x)\n",
    "            tripletList.append(y)\n",
    "            tripletList.append(z)\n",
    "        \n",
    "        \n",
    "    return tripletList\n",
    "    \n",
    "    \n",
    "    \n",
    "    \n",
    "    "
   ]
  },
  {
   "cell_type": "markdown",
   "id": "dca1c72e-069c-4591-b894-6716c1d743d7",
   "metadata": {},
   "source": [
    "Remove spaces "
   ]
  },
  {
   "cell_type": "code",
   "execution_count": 28,
   "id": "35cc4415-530f-4236-ac20-be21cc2c4dfc",
   "metadata": {
    "tags": []
   },
   "outputs": [],
   "source": [
    "def removeSpaces(expr:str): \n",
    "    return expr.replace(' ', '')"
   ]
  },
  {
   "cell_type": "markdown",
   "id": "fc713d9a-c356-4935-8630-e74718a14a32",
   "metadata": {},
   "source": [
    "# Executing the functions "
   ]
  },
  {
   "cell_type": "markdown",
   "id": "bb0ec2be-5cac-405f-905d-cf04b3a48986",
   "metadata": {},
   "source": [
    "Comment out if you have fortran forms from Mathematica: "
   ]
  },
  {
   "cell_type": "code",
   "execution_count": 29,
   "id": "3308d918-b72a-4fdf-8f86-a568b9d999a8",
   "metadata": {},
   "outputs": [
    {
     "name": "stdout",
     "output_type": "stream",
     "text": [
      "Probability function has 0 unwanted elements:\n",
      "---------------------------------------------\n",
      "[]\n",
      "Local energy has 0 unwanted elements:\n",
      "-------------------------------------\n",
      "[]\n"
     ]
    }
   ],
   "source": [
    "# read file to strings \n",
    "\n",
    "\n",
    "probabilityFunctionString = readFileToString(probabilityFunctionPath)\n",
    "localEnergyFunctionString = readFileToString(localEnergyFunctionPath)\n",
    "\n",
    "\n",
    "# check whether the are unwanted elements \n",
    "printingForUnwantedElements(\n",
    "                            isLocalEnergy= False, \n",
    "                            listOfUnwantedElements= checkListFunction(string = probabilityFunctionString, checkList=checkList)\n",
    ")\n",
    "printingForUnwantedElements(\n",
    "                            isLocalEnergy= True, \n",
    "                            listOfUnwantedElements= checkListFunction(string = localEnergyFunctionString, checkList=checkList)\n",
    ")\n"
   ]
  },
  {
   "cell_type": "code",
   "execution_count": 30,
   "id": "d6ff4141-6e72-48ce-9f7b-6c17e65d85f6",
   "metadata": {},
   "outputs": [],
   "source": [
    "#transform fortran code to python code \n",
    "probability_pythonTransformed = fortranFormToPythonForm(probabilityFunctionString, mappingDict=mapping)\n",
    "localEnergy_pythonTransformed = fortranFormToPythonForm(localEnergyFunctionString, mappingDict=mapping)"
   ]
  },
  {
   "cell_type": "code",
   "execution_count": 31,
   "id": "300e8cb9-180e-4c47-a029-953809f880db",
   "metadata": {},
   "outputs": [],
   "source": [
    "# remove spaces \n",
    "probability_pythonTransformed = removeSpaces(probability_pythonTransformed)\n",
    "localEnergy_pythonTransformed = removeSpaces(localEnergy_pythonTransformed)"
   ]
  },
  {
   "cell_type": "code",
   "execution_count": 32,
   "id": "75b59c00-cfa5-402c-aef4-c8dfe8c6bf0c",
   "metadata": {
    "tags": []
   },
   "outputs": [],
   "source": [
    "# save python-compatible formulae to separate files \n",
    "savePythonFormToFile(probability_pythonTransformed, absolutePath=probabilityOutputFilePath)\n",
    "savePythonFormToFile(localEnergy_pythonTransformed, absolutePath=localEnergyOutputFilePath)"
   ]
  },
  {
   "cell_type": "code",
   "execution_count": null,
   "id": "9a990d71-0fb8-4159-a967-08176a9ee4e6",
   "metadata": {},
   "outputs": [],
   "source": []
  },
  {
   "cell_type": "code",
   "execution_count": null,
   "id": "314106d5-ee44-4acb-83bc-9da240196c26",
   "metadata": {},
   "outputs": [],
   "source": []
  },
  {
   "cell_type": "code",
   "execution_count": 33,
   "id": "319b74c4-6088-40d4-acd4-a50f1d775f71",
   "metadata": {},
   "outputs": [],
   "source": [
    "# find coordinates and parameters\n",
    "coordinates, parameterStringList  = findVariables(localEnergyFunctionString)\n",
    "\n",
    "# regrouping coordinates \n",
    "coordinates = regroupToCoordinateTriple_findVariables(coordinates)\n",
    "\n",
    "\n",
    "# for functions usage, define list of ordered variables and parameters\n",
    "mapping =  coordinates + parameterStringList  # global variable: used in probability and local energy functions definition\n"
   ]
  },
  {
   "cell_type": "code",
   "execution_count": 34,
   "id": "680256d0-2bff-4cb0-b864-c72bc49d4488",
   "metadata": {},
   "outputs": [
    {
     "data": {
      "text/plain": [
       "(['x1', 'y1', 'z1', 'x2', 'y2', 'z2', 'A2', 'A3'], 8)"
      ]
     },
     "execution_count": 34,
     "metadata": {},
     "output_type": "execute_result"
    }
   ],
   "source": [
    "mapping, len(mapping) "
   ]
  },
  {
   "cell_type": "code",
   "execution_count": 35,
   "id": "6b0f6737-e2ea-465e-b1f8-9136bd845cba",
   "metadata": {},
   "outputs": [
    {
     "data": {
      "text/plain": [
       "(['x1', 'y1', 'z1', 'x2', 'y2', 'z2'], 6)"
      ]
     },
     "execution_count": 35,
     "metadata": {},
     "output_type": "execute_result"
    }
   ],
   "source": [
    "coordinates, len(coordinates)"
   ]
  },
  {
   "cell_type": "code",
   "execution_count": 36,
   "id": "9a588712-b798-4beb-b111-d19d8f017c3a",
   "metadata": {},
   "outputs": [
    {
     "data": {
      "text/plain": [
       "(['A2', 'A3'], 2)"
      ]
     },
     "execution_count": 36,
     "metadata": {},
     "output_type": "execute_result"
    }
   ],
   "source": [
    "parameterStringList, len(parameterStringList)"
   ]
  },
  {
   "cell_type": "code",
   "execution_count": 37,
   "id": "8a03743b-f6d2-476d-8ecd-df7ed6351b44",
   "metadata": {},
   "outputs": [
    {
     "data": {
      "text/plain": [
       "(173, 7996)"
      ]
     },
     "execution_count": 37,
     "metadata": {},
     "output_type": "execute_result"
    }
   ],
   "source": [
    "len(probability_pythonTransformed), len(localEnergy_pythonTransformed)"
   ]
  },
  {
   "cell_type": "code",
   "execution_count": null,
   "id": "54df488c-016c-4fe8-a1a9-2db037ebabc7",
   "metadata": {},
   "outputs": [],
   "source": []
  },
  {
   "cell_type": "markdown",
   "id": "16a41081-acdb-43fc-8b21-d4abbd905bd5",
   "metadata": {},
   "source": [
    "# Small testing of eval built-in function "
   ]
  },
  {
   "cell_type": "code",
   "execution_count": 38,
   "id": "a604e0ea-4482-4e23-a205-ef2156335db3",
   "metadata": {
    "tags": []
   },
   "outputs": [],
   "source": [
    "\n",
    "# if __name__ == \"__main__\":\n",
    "    \n",
    "\n",
    "#     def probabilityfunction(R: list , parametersList: list ):  \n",
    "#         x1, y1, z1 = R[0]\n",
    "#         x2, y2, z2 = R[1]\n",
    "#         x3, y3, z3 = R[2]\n",
    "\n",
    "#         A1, A2 = parametersList\n",
    "\n",
    "\n",
    "\n",
    "#         return eval(probability_pythonTransformed)\n",
    "    \n",
    "#     import math \n",
    "#     value = probabilityfunction(R = [(1,1,1), (2,2,2), (3,3,3)],\n",
    "#                         parametersList= (1,1) )\n",
    "#     print(value )"
   ]
  },
  {
   "cell_type": "code",
   "execution_count": null,
   "id": "09468e82-016b-41c1-a5c8-b7aac2375c47",
   "metadata": {},
   "outputs": [],
   "source": []
  }
 ],
 "metadata": {
  "kernelspec": {
   "display_name": "Python 3 (ipykernel)",
   "language": "python",
   "name": "python3"
  },
  "language_info": {
   "codemirror_mode": {
    "name": "ipython",
    "version": 3
   },
   "file_extension": ".py",
   "mimetype": "text/x-python",
   "name": "python",
   "nbconvert_exporter": "python",
   "pygments_lexer": "ipython3",
   "version": "3.10.6"
  }
 },
 "nbformat": 4,
 "nbformat_minor": 5
}
