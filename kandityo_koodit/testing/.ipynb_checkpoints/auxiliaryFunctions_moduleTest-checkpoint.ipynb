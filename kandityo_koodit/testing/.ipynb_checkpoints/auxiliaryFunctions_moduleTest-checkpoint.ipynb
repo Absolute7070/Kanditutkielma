{
 "cells": [
  {
   "cell_type": "markdown",
   "id": "d2cb42cd-dbcb-4109-b4fe-8b46844a4dc7",
   "metadata": {},
   "source": [
    "# Test: auxiliaryFunctions module test "
   ]
  },
  {
   "cell_type": "markdown",
   "id": "b797a36f-3e61-4386-b994-02bb8c599269",
   "metadata": {
    "tags": []
   },
   "source": [
    "## Test: findVariables-function "
   ]
  },
  {
   "cell_type": "code",
   "execution_count": null,
   "id": "87f1896a-4963-48bb-acfb-d850ff97ef19",
   "metadata": {},
   "outputs": [],
   "source": [
    "probabilityString = 'math.exp(-2*math.sqrt(x2**2 + y2**2 + z2**2) -      (2*A2*(1 - math.exp           (-math.sqrt(abs(x1 - x2)**2 + abs(y1 - y2)**2 + abs(z1 - z2)**2)/             math.sqrt(A2))))/      math.sqrt(abs(x1 - x2)**2 + abs(y1 - y2)**2 + abs(z1 - z2)**2) -      (2*A1*(1 - math.exp           (-math.sqrt(abs(x1 - x3)**2 + abs(y1 - y3)**2 + abs(z1 - z3)**2)/             (math.sqrt(2)*math.sqrt(A1)))))/      math.sqrt(abs(x1 - x3)**2 + abs(y1 - y3)**2 + abs(z1 - z3)**2) -      (2*A2*(1 - math.exp           (-math.sqrt(abs(x2 - x3)**2 + abs(y2 - y3)**2 + abs(z2 - z3)**2)/             math.sqrt(A2))))/      math.sqrt(abs(x2 - x3)**2 + abs(y2 - y3)**2 + abs(z2 - z3)**2))*  (-2*math.exp(-0.5*math.sqrt(x1**2 + y1**2 + z1**2) - math.sqrt(x3**2 + y3**2 + z3**2)) +      2*math.exp(-math.sqrt(x1**2 + y1**2 + z1**2) - math.sqrt(x3**2 + y3**2 + z3**2)/2.) +      math.exp(-0.5*math.sqrt(x1**2 + y1**2 + z1**2) - math.sqrt(x3**2 + y3**2 + z3**2))*      math.sqrt(x1**2 + y1**2 + z1**2) -      math.exp(-math.sqrt(x1**2 + y1**2 + z1**2) - math.sqrt(x3**2 + y3**2 + z3**2)/2.)*      math.sqrt(x3**2 + y3**2 + z3**2))**2'\n",
    "\n",
    "coordinates, parameters = findVariables(probabilityString)\n",
    "print('Coordinates', coordinates)\n",
    "print('Parameters',parameters)\n",
    "    \n",
    "    "
   ]
  },
  {
   "cell_type": "code",
   "execution_count": null,
   "id": "dc50d82b-1e1c-4cda-811c-47e3c5444c03",
   "metadata": {},
   "outputs": [],
   "source": [
    "\n",
    "    print(regroupToCoordinateTriple_findVariables(['x1', 'x2', 'x3', 'y1', 'y2', 'y3', 'z1', 'z2', 'z3']))\n",
    "    print(regroupToCoordinateTriple_findVariables(['x1', 'x2', 'y1', 'y2', 'z1', 'z2']))\n",
    "    print(regroupToCoordinateTriple_findVariables(['x1', 'x2', 'x3', 'y1', 'y2', 'y3', 'z1', 'z2', 'z3', 'A1', 'A2']))"
   ]
  }
 ],
 "metadata": {
  "kernelspec": {
   "display_name": "Python 3 (ipykernel)",
   "language": "python",
   "name": "python3"
  },
  "language_info": {
   "codemirror_mode": {
    "name": "ipython",
    "version": 3
   },
   "file_extension": ".py",
   "mimetype": "text/x-python",
   "name": "python",
   "nbconvert_exporter": "python",
   "pygments_lexer": "ipython3",
   "version": "3.10.4"
  }
 },
 "nbformat": 4,
 "nbformat_minor": 5
}
