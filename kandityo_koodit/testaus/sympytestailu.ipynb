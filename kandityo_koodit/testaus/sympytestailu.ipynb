{
 "cells": [
  {
   "cell_type": "code",
   "execution_count": 8,
   "id": "1b89a184-901f-4e56-bf51-cb7eed574a0a",
   "metadata": {},
   "outputs": [],
   "source": [
    "import sympy as sym \n",
    "from sympy import Symbol, lambdify \n",
    "\n",
    "\n",
    "import tensorflow as tf \n",
    "\n"
   ]
  },
  {
   "cell_type": "code",
   "execution_count": 5,
   "id": "dd3e788c-7547-4993-bd88-6ce7417e1da5",
   "metadata": {},
   "outputs": [],
   "source": [
    "x = Symbol('x')\n"
   ]
  },
  {
   "cell_type": "code",
   "execution_count": 14,
   "id": "a59e1f4e-e635-4fe4-a070-4b9ca8e33fd3",
   "metadata": {},
   "outputs": [
    {
     "data": {
      "text/plain": [
       "2"
      ]
     },
     "execution_count": 14,
     "metadata": {},
     "output_type": "execute_result"
    }
   ],
   "source": []
  },
  {
   "cell_type": "code",
   "execution_count": 6,
   "id": "d1f44b77-6627-4095-a4c9-1d23e71e9157",
   "metadata": {},
   "outputs": [
    {
     "data": {
      "text/latex": [
       "$\\displaystyle x + 1$"
      ],
      "text/plain": [
       "x + 1"
      ]
     },
     "execution_count": 6,
     "metadata": {},
     "output_type": "execute_result"
    }
   ],
   "source": [
    "x+ 1"
   ]
  },
  {
   "cell_type": "code",
   "execution_count": 15,
   "id": "86ad6645-0d67-484f-96a8-c66f530a3688",
   "metadata": {},
   "outputs": [],
   "source": [
    "f = lambdify(x, x+1)"
   ]
  },
  {
   "cell_type": "code",
   "execution_count": 16,
   "id": "c9d89b5f-5018-41e1-bf24-3fb57ca32691",
   "metadata": {},
   "outputs": [
    {
     "data": {
      "text/plain": [
       "<function _lambdifygenerated(x)>"
      ]
     },
     "execution_count": 16,
     "metadata": {},
     "output_type": "execute_result"
    }
   ],
   "source": [
    "f"
   ]
  },
  {
   "cell_type": "code",
   "execution_count": 18,
   "id": "77fb99bc-fd21-43df-9776-138f3e906356",
   "metadata": {},
   "outputs": [
    {
     "name": "stderr",
     "output_type": "stream",
     "text": [
      "2023-01-31 19:27:51.262953: W tensorflow/compiler/xla/stream_executor/platform/default/dso_loader.cc:64] Could not load dynamic library 'libcuda.so.1'; dlerror: libcuda.so.1: cannot open shared object file: No such file or directory\n",
      "2023-01-31 19:27:51.262979: W tensorflow/compiler/xla/stream_executor/cuda/cuda_driver.cc:265] failed call to cuInit: UNKNOWN ERROR (303)\n",
      "2023-01-31 19:27:51.263000: I tensorflow/compiler/xla/stream_executor/cuda/cuda_diagnostics.cc:156] kernel driver does not appear to be running on this host (lx0-fuxi138): /proc/driver/nvidia/version does not exist\n",
      "2023-01-31 19:27:51.263282: I tensorflow/core/platform/cpu_feature_guard.cc:193] This TensorFlow binary is optimized with oneAPI Deep Neural Network Library (oneDNN) to use the following CPU instructions in performance-critical operations:  AVX2 FMA\n",
      "To enable them in other operations, rebuild TensorFlow with the appropriate compiler flags.\n"
     ]
    },
    {
     "data": {
      "text/plain": [
       "<tf.Tensor: shape=(), dtype=float32, numpy=1.0>"
      ]
     },
     "execution_count": 18,
     "metadata": {},
     "output_type": "execute_result"
    }
   ],
   "source": [
    "var = tf.Variable(0.000)\n",
    "f(var)"
   ]
  },
  {
   "cell_type": "code",
   "execution_count": null,
   "id": "eed0e7d2-8c9d-4449-896e-da3f90fd48c8",
   "metadata": {},
   "outputs": [],
   "source": [
    "opt = tf.keras.optimizers.experimental.SGD(learning_rate=0.01, momentum=0)\n",
    "var = tf.Variable(0.000)\n",
    "loss = lambda: -2 *(4* var - var**2 - 5/8 *var  )\n",
    "\n",
    "\n",
    "for i in range(2000): \n",
    "    opt.minimize(loss, [var])\n",
    "\n",
    "var.numpy()"
   ]
  }
 ],
 "metadata": {
  "kernelspec": {
   "display_name": "Python 3 (ipykernel)",
   "language": "python",
   "name": "python3"
  },
  "language_info": {
   "codemirror_mode": {
    "name": "ipython",
    "version": 3
   },
   "file_extension": ".py",
   "mimetype": "text/x-python",
   "name": "python",
   "nbconvert_exporter": "python",
   "pygments_lexer": "ipython3",
   "version": "3.10.4"
  }
 },
 "nbformat": 4,
 "nbformat_minor": 5
}
