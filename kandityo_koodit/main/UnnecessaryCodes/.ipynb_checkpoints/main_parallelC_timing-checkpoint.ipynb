{
 "cells": [
  {
   "cell_type": "code",
   "execution_count": 55,
   "id": "43048cc8-e0ba-4096-aa76-a32c3b0551ef",
   "metadata": {
    "tags": []
   },
   "outputs": [],
   "source": [
    "import numpy as np \n",
    "import math \n",
    "\n",
    "\n",
    "from multiprocessing import Pool\n",
    "\n",
    "import time\n",
    "\n",
    "import parameters_module as pr \n",
    "import sys \n",
    "\n",
    "# from numba import jit \n",
    "# from numba.extending import overload        \n",
    "\n",
    "# metropolis sampling and integral approximation \n",
    "%run functions_module.ipynb \n",
    "%run auxiliaryFunctions_noMath_module.ipynb \n",
    "%run gradientDescent_module.ipynb "
   ]
  },
  {
   "cell_type": "markdown",
   "id": "7bc1804e-03fb-4ff2-bb64-481c226fb57e",
   "metadata": {},
   "source": [
    "# Acceleration suggestions "
   ]
  },
  {
   "cell_type": "markdown",
   "id": "2216fc8f-24ce-4104-af91-6033c33c8c29",
   "metadata": {},
   "source": []
  },
  {
   "cell_type": "markdown",
   "id": "54e021c1-f9eb-434e-b567-74ea7d09b347",
   "metadata": {},
   "source": [
    "# User definable variables "
   ]
  },
  {
   "cell_type": "markdown",
   "id": "80f534b0-2d82-488e-8a92-27d2c669461d",
   "metadata": {},
   "source": [
    "**Input:** Initial guess for parameters (don't set 0, otherwise Division By Zero -error occurs): "
   ]
  },
  {
   "cell_type": "code",
   "execution_count": 56,
   "id": "e12c6668-ed78-417e-b797-84e98e973aa0",
   "metadata": {},
   "outputs": [],
   "source": [
    "parametersList = [0.2, 2] "
   ]
  },
  {
   "cell_type": "markdown",
   "id": "2a652c69-46a5-4835-b62a-a9bdc859f220",
   "metadata": {},
   "source": [
    "**Input:** Number of parallel configuration subspaces (parallel configuration spaces)"
   ]
  },
  {
   "cell_type": "code",
   "execution_count": 57,
   "id": "1c2c90b4-0cf7-44ed-95fc-7c1d1831c9d8",
   "metadata": {
    "tags": []
   },
   "outputs": [],
   "source": [
    "M =10"
   ]
  },
  {
   "cell_type": "markdown",
   "id": "3ce73945-0488-4881-a9ae-2cdccb2a1096",
   "metadata": {},
   "source": [
    "**Input**: Filenames for the Python-compatible formulae of probability function and local energy (Supposed to be in the default folder \"Formulae_PythonCompatible\"  )"
   ]
  },
  {
   "cell_type": "code",
   "execution_count": 58,
   "id": "4c866573-4c3c-46e7-81a5-2c19ec0f3aba",
   "metadata": {
    "tags": []
   },
   "outputs": [],
   "source": [
    "probabilityExprPath = \"probability_Helium\"\n",
    "\n",
    "\n",
    "localEnergyExprPath = \"localEnergy_Helium\""
   ]
  },
  {
   "cell_type": "markdown",
   "id": "3913b77a-99a7-49c0-8ead-f2104ad10e66",
   "metadata": {},
   "source": [
    "**Input**: Samples/sampling settings in Metropolis sampling\n",
    "\n",
    "- Tips: \n",
    "    - Coordinate value range chosen so that it is close to the known radius of the atom.\n",
    "- Notes: \n",
    "    - Unit of coordinates is hydrogen radius (Hatree atomic units)"
   ]
  },
  {
   "cell_type": "code",
   "execution_count": 59,
   "id": "919654bf-6dc3-47b8-aef8-940d7950d3ee",
   "metadata": {
    "tags": []
   },
   "outputs": [],
   "source": [
    "coordinateValueRange= (-3, 3)\n",
    "numberOfParticles = 2\n",
    "numberOfConfig = 20  \n",
    "numberOfIterations = 20              # for thermalisation            "
   ]
  },
  {
   "cell_type": "markdown",
   "id": "74549f77-012d-4eab-a6dc-5c9e9e9a7f71",
   "metadata": {},
   "source": [
    "**Input**: Tolerance on energy variance"
   ]
  },
  {
   "cell_type": "code",
   "execution_count": 60,
   "id": "75efc65f-f62b-4d63-9cef-9df940cc918b",
   "metadata": {},
   "outputs": [],
   "source": [
    "toleranceOnEnergyVariance = 0.001"
   ]
  },
  {
   "cell_type": "markdown",
   "id": "a5527071-010d-48ad-9721-bf3c47554063",
   "metadata": {},
   "source": [
    "**Input**: if you want to optimize parameters by hand\n",
    "\n",
    "- if optimizing by hand, there will be no checkpoints"
   ]
  },
  {
   "cell_type": "code",
   "execution_count": 79,
   "id": "308a9100-c493-4b25-bb01-05c670da625f",
   "metadata": {
    "tags": []
   },
   "outputs": [],
   "source": [
    "wantParamsOptimizedByHand = True "
   ]
  },
  {
   "cell_type": "markdown",
   "id": "af8ea1b7-9228-4d8c-94f7-39c2651623b5",
   "metadata": {},
   "source": [
    "# Preparing local energy functions and probability functions "
   ]
  },
  {
   "cell_type": "markdown",
   "id": "0b29954b-6c3b-4f78-a446-99a8dacf2bc6",
   "metadata": {},
   "source": [
    "## Load in probability and local energy expressions "
   ]
  },
  {
   "cell_type": "code",
   "execution_count": 61,
   "id": "186fc640-ef19-4501-92f9-a285254e6c5e",
   "metadata": {
    "tags": []
   },
   "outputs": [],
   "source": [
    "# default folder to the Python-compatible formulae \n",
    "defaultFolderPathForFormulae = sys.path[0]+ \"/\"+ \"Formulae_PythonCompatible/\"    "
   ]
  },
  {
   "cell_type": "code",
   "execution_count": 62,
   "id": "3fef6bf6-ff24-4886-8b42-9bbc222879bb",
   "metadata": {
    "tags": []
   },
   "outputs": [],
   "source": [
    "# global variables: used in probability and local energy functions definition\n",
    "\n",
    "probabilityExpr = readFileToString(defaultFolderPathForFormulae + probabilityExprPath)  \n",
    "\n",
    "localEnergyExpr = readFileToString(defaultFolderPathForFormulae + localEnergyExprPath)"
   ]
  },
  {
   "cell_type": "code",
   "execution_count": 63,
   "id": "859f85f2-9a05-4677-9d4e-46e8e441ead0",
   "metadata": {
    "tags": []
   },
   "outputs": [
    {
     "data": {
      "text/plain": [
       "'math.exp(-2*A3*math.sqrt(x1**2 + y1**2 + z1**2) - 2*A3*math.sqrt(x2**2 + y2**2 + z2**2) -     (2*A2*(1 - math.exp          (-math.sqrt(abs(x1 - x2)**2 + abs(y1 - y2)**2 + abs(z1 - z2)**2)/            math.sqrt(A2))))/     math.sqrt(abs(x1 - x2)**2 + abs(y1 - y2)**2 + abs(z1 - z2)**2))'"
      ]
     },
     "execution_count": 63,
     "metadata": {},
     "output_type": "execute_result"
    }
   ],
   "source": [
    "probabilityExpr"
   ]
  },
  {
   "cell_type": "code",
   "execution_count": 64,
   "id": "33dcf290-ff07-4ee4-8098-b6191ba2f24e",
   "metadata": {
    "tags": []
   },
   "outputs": [
    {
     "data": {
      "text/plain": [
       "'math.exp(A3*math.sqrt(x1**2 + y1**2 + z1**2) + A3*'"
      ]
     },
     "execution_count": 64,
     "metadata": {},
     "output_type": "execute_result"
    }
   ],
   "source": [
    "localEnergyExpr[:50] "
   ]
  },
  {
   "cell_type": "markdown",
   "id": "52115715-c882-47c8-b7ba-34dacfaf0518",
   "metadata": {},
   "source": [
    "## Find variables in the expressions"
   ]
  },
  {
   "cell_type": "code",
   "execution_count": 65,
   "id": "b5b238a7-66fb-4821-8dab-8c3215509de3",
   "metadata": {
    "tags": []
   },
   "outputs": [],
   "source": [
    "# find coordinates and parameters\n",
    "coordinates, parameterStringList  = findVariables(localEnergyExpr)\n",
    "\n",
    "# regrouping coordinates \n",
    "coordinates = regroupToCoordinateTriple_findVariables(coordinates)\n",
    "\n",
    "\n",
    "# for functions usage, define list of ordered variables and parameters\n",
    "mapping =  coordinates + parameterStringList  # global variable: used in probability and local energy functions definition\n"
   ]
  },
  {
   "cell_type": "code",
   "execution_count": 66,
   "id": "e1ceb894-8924-4085-8a79-549091b143f1",
   "metadata": {
    "tags": []
   },
   "outputs": [
    {
     "data": {
      "text/plain": [
       "(['x1', 'y1', 'z1', 'x2', 'y2', 'z2'],\n",
       " ['A2', 'A3'],\n",
       " ['x1', 'y1', 'z1', 'x2', 'y2', 'z2', 'A2', 'A3'])"
      ]
     },
     "execution_count": 66,
     "metadata": {},
     "output_type": "execute_result"
    }
   ],
   "source": [
    "coordinates, parameterStringList, mapping "
   ]
  },
  {
   "cell_type": "markdown",
   "id": "6394e46c-49a3-495e-8da2-08a7bea55db7",
   "metadata": {},
   "source": [
    "### Error check: check number of initial guess is same as number of parameters found"
   ]
  },
  {
   "cell_type": "code",
   "execution_count": 67,
   "id": "dd48861d-3210-4a37-b1d4-4cb6df72bf96",
   "metadata": {
    "tags": []
   },
   "outputs": [],
   "source": [
    "check_numberOfIni_VS_numberOfFound_parameters(parametersList, parameterStringList) # raises exception if error occurs, program stopped"
   ]
  },
  {
   "cell_type": "markdown",
   "id": "ab22579e-3830-4309-bfc5-1a53d2370a93",
   "metadata": {},
   "source": [
    "## Define probability and local energy functions"
   ]
  },
  {
   "cell_type": "code",
   "execution_count": 68,
   "id": "8333febe-9fd0-4faf-93cd-8e60cd0fc6f5",
   "metadata": {},
   "outputs": [],
   "source": [
    "\n",
    "def probabilityFunc(R: np.ndarray, parameters: list, expr: str = probabilityExpr, mapping: list = mapping) -> float: \n",
    "    \n",
    "    '''\n",
    "    psi^2. Probability function. Dependent on configuration and parameters. \n",
    "    \n",
    "    Parameters\n",
    "    ----------\n",
    "        R: ordered current configuration e.g. \n",
    "            array([[-0.5583685 , -0.04608995,  0.15500853],\n",
    "                 [ 0.66255653,  0.66301583, -0.85159876]])\n",
    "             each row representing one single particle's position\n",
    "        \n",
    "        parameters: ordered list of parameters as numbers \n",
    "        \n",
    "        expr: formula string. Default to the global variable \n",
    "        \n",
    "        mapping: ordered coordinates and parameters in a list: \n",
    "            ['x1', 'y1', 'z1', 'x2', 'y2', 'z2', 'x3', 'y3', 'z3', 'A1', 'A2']. Default to the global variable \n",
    "        \n",
    "    Return\n",
    "    ------\n",
    "        Probability function evaluated at certain configuration and parameters' values\n",
    "    '''\n",
    "    \n",
    "    \n",
    "    \n",
    "    \n",
    "    R_flattened = R.flatten() # make current configuration to vector form \n",
    "    R_and_parameters = np.append(R_flattened, parameters) # ordered coordinates, and parameters at the tail of the vector \n",
    "    \n",
    "    \n",
    "    if len(R_and_parameters) != len(mapping): \n",
    "        raise Exception(\"R and parameters not same length as that of mapping!\")\n",
    "    \n",
    "    \n",
    "    # mapping dictionary for evaluation of the expression\n",
    "    localDict = dict(zip(mapping, R_and_parameters))\n",
    "\n",
    "    \n",
    "    \n",
    "    return eval(expr, {'math': math}, localDict)\n",
    "    \n",
    "    \n",
    "    \n",
    "    \n",
    "\n",
    "\n",
    "def localEnergyFunc(R: np.ndarray, parameters: list, expr: str = localEnergyExpr, mapping: list = mapping ) -> float: \n",
    "    '''\n",
    "    \n",
    "    H*psi/psi. Local energy.  Dependent on configuration and parameters. \n",
    "    \n",
    "    Parameters\n",
    "    ----------\n",
    "        R: current configuration\n",
    "        \n",
    "        parameters: list of parameters as numbers \n",
    "        \n",
    "        expr: formula string \n",
    "        \n",
    "        mapping: ordered coordinates and parameters in a list: \n",
    "            ['x1', 'y1', 'z1', 'x2', 'y2', 'z2', 'x3', 'y3', 'z3', 'A1', 'A2']\n",
    "            \n",
    "    Return\n",
    "    ------\n",
    "        Local energy evaluated at certain configuration and parameters' values\n",
    "    \n",
    "    '''\n",
    "    \n",
    "    \n",
    "    R_flattened = R.flatten() # make current configuration to vector form \n",
    "    R_and_parameters = np.append(R_flattened, parameters) # ordered coordinates, and parameters at the tail of the vector \n",
    "    \n",
    "    \n",
    "    if len(R_and_parameters) != len(mapping): \n",
    "        raise Exception(\"R and parameters not same length as that of mapping!\")\n",
    "    \n",
    "    \n",
    "    # mapping dictionary for evaluation of the expression\n",
    "    localDict = dict(zip(mapping, R_and_parameters))\n",
    "\n",
    "    \n",
    "    \n",
    "    \n",
    "    \n",
    "    return eval(expr, {'math': math}, localDict)\n",
    "    \n",
    "    \n",
    "    "
   ]
  },
  {
   "cell_type": "code",
   "execution_count": null,
   "id": "d02a20a3-4ee9-4418-a867-908ce5ba6986",
   "metadata": {},
   "outputs": [],
   "source": []
  },
  {
   "cell_type": "code",
   "execution_count": null,
   "id": "c5bc8dd0-e712-494d-b2cf-807a753ee8fa",
   "metadata": {},
   "outputs": [],
   "source": []
  },
  {
   "cell_type": "code",
   "execution_count": null,
   "id": "51c93b16-ffe8-4ebc-85ca-2eb6bb61a0a8",
   "metadata": {},
   "outputs": [],
   "source": []
  },
  {
   "cell_type": "code",
   "execution_count": null,
   "id": "7ff33445-b429-473c-97f1-8a04b7bb2cfa",
   "metadata": {},
   "outputs": [],
   "source": []
  },
  {
   "cell_type": "code",
   "execution_count": null,
   "id": "4b5b3d16-a107-4500-a8ad-d68809f6e1f6",
   "metadata": {},
   "outputs": [],
   "source": []
  },
  {
   "cell_type": "code",
   "execution_count": null,
   "id": "369a0d49-083a-4a5f-9e4e-3021782d29a2",
   "metadata": {},
   "outputs": [],
   "source": []
  },
  {
   "cell_type": "code",
   "execution_count": null,
   "id": "2d7ae467-9687-42f8-9d94-cd77db686829",
   "metadata": {},
   "outputs": [],
   "source": []
  },
  {
   "cell_type": "markdown",
   "id": "9ee9e292-8b0c-47e0-ad53-823b12dd52a9",
   "metadata": {
    "tags": []
   },
   "source": [
    "# Metropolis sampling and local energy estimations "
   ]
  },
  {
   "cell_type": "code",
   "execution_count": 69,
   "id": "7f97c4cd-70ec-4f17-87a1-917c1c6e82d0",
   "metadata": {},
   "outputs": [],
   "source": [
    "parametersHistoryDict = {}"
   ]
  },
  {
   "cell_type": "code",
   "execution_count": 70,
   "id": "6e8c0f95-1261-4f81-86d2-653ccb01f9bb",
   "metadata": {
    "tags": []
   },
   "outputs": [],
   "source": [
    "energyDict = {'Energy': [], \n",
    "             'Variance': [], \n",
    "             'std error': [], \n",
    "             }  # to append list of "
   ]
  },
  {
   "cell_type": "markdown",
   "id": "5ef0d94b-016a-40c7-842a-6cbdf6a31fd0",
   "metadata": {},
   "source": [
    "## Configuration subspaces: getting samples for energy"
   ]
  },
  {
   "cell_type": "code",
   "execution_count": 71,
   "id": "db3a7241-7659-48d5-b640-b1259a49cc55",
   "metadata": {},
   "outputs": [],
   "source": [
    "\n",
    "# to save list of average energies from each configuration subspace \n",
    "energyInConfigSpaceList = []\n",
    "\n",
    "# create variables with no specific meaning  for parallelization \n",
    "idx_list = list(range(M))\n",
    "\n",
    "\n",
    "\n",
    "\n",
    "\n",
    "\n",
    "# define function for managing and perform configuration subspace computations \n",
    "def configurationSubspaceFunction(i): \n",
    "    \n",
    "    # generating initial Metropolis samples and Thermalisation\n",
    "    configSubspace_Metropolis = metropolisSamplingFunction( coordinateValueRange=  coordinateValueRange, \n",
    "                                                           numberOfParticles = numberOfParticles,  \n",
    "                                                           numberOfConfig = numberOfConfig, \n",
    "                                                           probabilityFunction=probabilityFunc, \n",
    "                                                           numberOfIterations = numberOfIterations, \n",
    "                                                           params = parametersList)\n",
    "    \n",
    "    \n",
    "    energyInConfigSubspaceList = []           # for saving the energy values in this subspace \n",
    "    \n",
    "    \n",
    " \n",
    "    # energy computation for each Metropolis suggestion\n",
    "    # for each configuration \n",
    "    for configIndex in range(configSubspace_Metropolis.shape[1]): \n",
    "        # current configuration in format: \n",
    "        #  array([[-0.5583685 , -0.04608995,  0.15500853],\n",
    "       # [ 0.66255653,  0.66301583, -0.85159876]])\n",
    "        # each row representing one particle's position  \n",
    "        currentConfig = configSubspace_Metropolis[:, configIndex, :]   \n",
    "        \n",
    "        # for each particle's displacement, compute energy \n",
    "        for nthParticleIndex in range(len(currentConfig)): \n",
    "            # making Metropolis-suggestion on single particle\n",
    "            updatedConfig = metropolisStepSuggestion(configuration= currentConfig, \n",
    "                                                    nthParticle= nthParticleIndex, \n",
    "                                                    probabilityFunction=probabilityFunc, \n",
    "                                                    params=parametersList)\n",
    "            \n",
    "            # update configuration subspace \n",
    "            configSubspace_Metropolis[:, configIndex, :] = updatedConfig\n",
    "            \n",
    "            \n",
    "            # compute energy \n",
    "            energyInConfigSubspace = monteCarloIntegrationFunction(samples= configSubspace_Metropolis, \n",
    "                                                                     localEnergyFunction=localEnergyFunc, \n",
    "                                                                     params=parametersList)\n",
    "            \n",
    "            # append to the list \n",
    "            energyInConfigSubspaceList.append(energyInConfigSubspace)\n",
    "        \n",
    "    # print(f'{i}.loop completed')\n",
    "    \n",
    "    # compute mean energy of this subspace and return it \n",
    "    return np.mean(energyInConfigSubspaceList)\n",
    "    \n",
    "\n",
    "        \n",
    "    "
   ]
  },
  {
   "cell_type": "markdown",
   "id": "bc2213ef-3a08-4217-a25c-05632509d75d",
   "metadata": {},
   "source": [
    "# Run the program "
   ]
  },
  {
   "cell_type": "code",
   "execution_count": 72,
   "id": "8772632f-532d-482a-a8e5-983f9450aaf9",
   "metadata": {
    "tags": []
   },
   "outputs": [
    {
     "name": "stdout",
     "output_type": "stream",
     "text": [
      "Current optimization loop: 0\n",
      "In parallel computation, configuration subspace...\n",
      "Saving results...\n",
      "Mean: -3.887696608559235\n",
      "Variance: 2.3129925123373475e-05\n",
      "Std error of mean: 2.3129925123373475e-05\n",
      "Optimizing...\n",
      "\n",
      "Naiyu\n",
      "Naiyu\n",
      "Naiyu\n",
      "Naiyu\n",
      "Naiyu\n",
      "Naiyu\n",
      "Naiyu\n",
      "Naiyu\n",
      "Naiyu\n",
      "Naiyu\n",
      "Checkpoint saving...\n",
      "Current optimization loop: 1\n",
      "In parallel computation, configuration subspace...\n",
      "Saving results...\n",
      "Mean: -4.0049087382249935\n",
      "Variance: 8.548402329394128e-05\n",
      "Std error of mean: 8.548402329394128e-05\n",
      "Optimizing...\n",
      "\n",
      "Naiyu\n",
      "Naiyu\n",
      "Naiyu\n",
      "Naiyu\n",
      "Naiyu\n",
      "Naiyu\n",
      "Naiyu\n",
      "Naiyu\n",
      "Naiyu\n",
      "Naiyu\n",
      "Checkpoint saving...\n"
     ]
    },
    {
     "data": {
      "image/png": "[encoded data removed]",
      "text/plain": [
       "<Figure size 800x550 with 1 Axes>"
      ]
     },
     "metadata": {},
     "output_type": "display_data"
    }
   ],
   "source": [
    "\n",
    "count = 0 # counter for how many complete loops \n",
    "while True: \n",
    "    print(f'Current optimization loop: {count}')\n",
    "\n",
    "    # concurrent computing: get mean energies from each independent configuration subspaces\n",
    "    print('In parallel computation, configuration subspace...')\n",
    "    with Pool() as pool:\n",
    "        start = time.time()\n",
    "        for result in pool.map(configurationSubspaceFunction, idx_list  ): \n",
    "            energyInConfigSpaceList.append(result)\n",
    "        end = time.time()\n",
    "\n",
    "    ## compute energy approximation \n",
    "\n",
    "    # compute mean \n",
    "    energyMean =np.mean(energyInConfigSpaceList)\n",
    "    \n",
    "\n",
    "\n",
    "    print('Saving results...')\n",
    "    # compute variance and std error of mean, if there are more than 1 samples \n",
    "    if len(energyInConfigSpaceList)> 1:\n",
    "        # sample variance (N-1)\n",
    "        energyVar =np.var(energyInConfigSpaceList, ddof= 1)\n",
    "\n",
    "        # std error of mean \n",
    "        energyError = energyVar/len(energyInConfigSpaceList)\n",
    "\n",
    "\n",
    "        # printing the values \n",
    "        print('Mean:', energyMean)\n",
    "        print('Variance:', energyError)\n",
    "        print('Std error of mean:', energyError)\n",
    "\n",
    "        # saving values \n",
    "        energyDict['Energy'].append(energyMean)\n",
    "        energyDict['Variance'].append(energyVar)\n",
    "        energyDict['std error'].append(energyError)\n",
    "    else: \n",
    "        print('Variance and std error of mean cannot be calculated: There is only 1 sample')\n",
    "        print()\n",
    "        print(energyMean)\n",
    "\n",
    "        # saving values \n",
    "        energyDict['Energy'].append(energyMean)\n",
    "        energyDict['Variance'].append(0)\n",
    "        energyDict['std error'].append(0)\n",
    "        \n",
    "    \n",
    "    \n",
    "    # emptying energy list \n",
    "    energyInConfigSpaceList = []\n",
    "\n",
    "\n",
    "\n",
    "\n",
    "    # Optimization of parameters \n",
    "    print('Optimizing...')\n",
    "    print()\n",
    "\n",
    "    # generate new Metropolis samples\n",
    "    metropolisSamples_Opt = metropolisSamplingFunction( coordinateValueRange=  coordinateValueRange, \n",
    "                                                               numberOfParticles = numberOfParticles,  \n",
    "                                                               numberOfConfig = numberOfConfig, \n",
    "                                                               probabilityFunction=probabilityFunc, \n",
    "                                                               numberOfIterations = numberOfIterations, \n",
    "                                                               params = parametersList)\n",
    "\n",
    "\n",
    "\n",
    "    # break the loop: if user optimize the parameters by hand \n",
    "    if wantParamsOptimizedByHand == True: \n",
    "        break \n",
    "\n",
    "    \n",
    "    # optimizing \n",
    "    parametersList = gradientDescentFunction(monteCarloIntegrationFunc=monteCarloIntegrationFunction, \n",
    "                                            function=localEnergyFunc, \n",
    "                                            learning_rate= 0.001, \n",
    "                                            samples= metropolisSamples_Opt, \n",
    "                                            parameters=parametersList, \n",
    "                                            tolerance = 0.001, \n",
    "                                            maximumSteps = 10, \n",
    "                                            showEvolution = False)\n",
    "    \n",
    "    \n",
    "    # append optimized parameters into history record\n",
    "    parametersHistoryDict[count] = parametersList\n",
    "    \n",
    "    \n",
    "    \n",
    "    print('Checkpoint saving...')\n",
    "    # checkpoint: save parameters and energy estimates to a file \n",
    "    saveParamsAndEnergyEstimates(parametersDict = parametersHistoryDict, \n",
    "                                 energyDict = energyDict , \n",
    "                                 parametersFilename = 'parameters_history.json', \n",
    "                                 energyFilename = 'energyEstimates_history.json')\n",
    "    \n",
    "    \n",
    "    count +=1\n",
    "   \n",
    "    # Break the loop: when energy variance is close to tolerance defined by user \n",
    "    if count >1: \n",
    "        if energyDict['Variance'][-1] <= toleranceOnEnergyVariance: \n",
    "            break \n",
    "\n",
    "        \n",
    "\n"
   ]
  },
  {
   "cell_type": "code",
   "execution_count": null,
   "id": "d22f711c-1343-4ac5-a2d6-c0df673da790",
   "metadata": {},
   "outputs": [],
   "source": []
  },
  {
   "cell_type": "code",
   "execution_count": null,
   "id": "4b059910-1e44-4327-bced-bb633f69642e",
   "metadata": {},
   "outputs": [],
   "source": []
  },
  {
   "cell_type": "code",
   "execution_count": null,
   "id": "19b1efad-b738-4ed4-b242-9142bc871c32",
   "metadata": {},
   "outputs": [],
   "source": []
  },
  {
   "cell_type": "code",
   "execution_count": null,
   "id": "3218bfef-fe45-49bf-b22a-c5520089779f",
   "metadata": {},
   "outputs": [],
   "source": []
  },
  {
   "cell_type": "code",
   "execution_count": null,
   "id": "f9c8db84-cf39-4697-93bd-467f0ad58822",
   "metadata": {},
   "outputs": [],
   "source": []
  },
  {
   "cell_type": "code",
   "execution_count": null,
   "id": "afe71f15-73bb-42de-9831-b263c16cc7f8",
   "metadata": {},
   "outputs": [],
   "source": []
  },
  {
   "cell_type": "code",
   "execution_count": null,
   "id": "037ab18a-2423-42da-84a1-dde5c7cce6af",
   "metadata": {},
   "outputs": [],
   "source": []
  },
  {
   "cell_type": "code",
   "execution_count": null,
   "id": "6fb34a4f-98c2-4c22-af1d-c51f0e0b7724",
   "metadata": {},
   "outputs": [],
   "source": []
  },
  {
   "cell_type": "code",
   "execution_count": null,
   "id": "3ece6cb5-3695-4b67-b8f0-ced09b4f3761",
   "metadata": {},
   "outputs": [],
   "source": []
  },
  {
   "cell_type": "code",
   "execution_count": null,
   "id": "d0c05700-90f5-49f7-bf39-139a7d3e94b6",
   "metadata": {},
   "outputs": [],
   "source": []
  },
  {
   "cell_type": "code",
   "execution_count": null,
   "id": "b69edb2f-2d3a-4d27-9da4-d967d280b916",
   "metadata": {},
   "outputs": [],
   "source": []
  },
  {
   "cell_type": "code",
   "execution_count": null,
   "id": "6945eec6-5324-4c5f-913d-7b97cf014b03",
   "metadata": {},
   "outputs": [],
   "source": []
  },
  {
   "cell_type": "code",
   "execution_count": null,
   "id": "a407e9ad-0533-4d17-b5e0-668454369320",
   "metadata": {},
   "outputs": [],
   "source": []
  },
  {
   "cell_type": "code",
   "execution_count": null,
   "id": "96a82510-528e-437c-829b-b27e6ec2c3cc",
   "metadata": {},
   "outputs": [],
   "source": []
  },
  {
   "cell_type": "code",
   "execution_count": null,
   "id": "62986538-8eb3-467a-a52c-b990d337a22a",
   "metadata": {},
   "outputs": [],
   "source": []
  },
  {
   "cell_type": "code",
   "execution_count": null,
   "id": "0ae98407-dfc0-4ca4-bd1d-6bfd1269a515",
   "metadata": {},
   "outputs": [],
   "source": []
  },
  {
   "cell_type": "code",
   "execution_count": null,
   "id": "da76be10-89e7-4c53-bff7-f506730d7763",
   "metadata": {},
   "outputs": [],
   "source": []
  },
  {
   "cell_type": "code",
   "execution_count": null,
   "id": "89d98b41-8ea6-40cc-82f6-8a13bf1d57e2",
   "metadata": {},
   "outputs": [],
   "source": []
  },
  {
   "cell_type": "code",
   "execution_count": null,
   "id": "b6fea741-4111-4f7e-8a89-bb973561d180",
   "metadata": {},
   "outputs": [],
   "source": []
  },
  {
   "cell_type": "code",
   "execution_count": null,
   "id": "1601163a-5140-4eca-95e9-8f29b1170d4d",
   "metadata": {},
   "outputs": [],
   "source": []
  },
  {
   "cell_type": "code",
   "execution_count": null,
   "id": "c18ddc02-94de-4afd-b17d-9dd41fe6ea96",
   "metadata": {},
   "outputs": [],
   "source": []
  },
  {
   "cell_type": "code",
   "execution_count": null,
   "id": "298dcf21-826b-47da-8fae-76cc05d77888",
   "metadata": {},
   "outputs": [],
   "source": []
  },
  {
   "cell_type": "code",
   "execution_count": null,
   "id": "1397214a-038a-4a26-896c-bc9e38b445cb",
   "metadata": {},
   "outputs": [],
   "source": []
  },
  {
   "cell_type": "code",
   "execution_count": null,
   "id": "12432088-13f6-4522-b21e-63685100909d",
   "metadata": {},
   "outputs": [],
   "source": []
  },
  {
   "cell_type": "code",
   "execution_count": null,
   "id": "3589a7b8-6797-4a92-83e3-90e41bc4aa35",
   "metadata": {},
   "outputs": [],
   "source": []
  },
  {
   "cell_type": "code",
   "execution_count": null,
   "id": "15b58b4d-08c0-4ef3-b4ec-03af833e3f32",
   "metadata": {},
   "outputs": [],
   "source": []
  },
  {
   "cell_type": "code",
   "execution_count": null,
   "id": "a509356c-7825-4a8f-9c96-eab7c9719d5b",
   "metadata": {},
   "outputs": [],
   "source": []
  },
  {
   "cell_type": "code",
   "execution_count": null,
   "id": "7235fbdc-42a1-4cd4-bf6c-1ef5e832a643",
   "metadata": {},
   "outputs": [],
   "source": []
  },
  {
   "cell_type": "code",
   "execution_count": null,
   "id": "0f85f4bc-bdd7-45d4-b1e0-8688dea8d04a",
   "metadata": {},
   "outputs": [],
   "source": []
  }
 ],
 "metadata": {
  "kernelspec": {
   "display_name": "Python 3 (ipykernel)",
   "language": "python",
   "name": "python3"
  },
  "language_info": {
   "codemirror_mode": {
    "name": "ipython",
    "version": 3
   },
   "file_extension": ".py",
   "mimetype": "text/x-python",
   "name": "python",
   "nbconvert_exporter": "python",
   "pygments_lexer": "ipython3",
   "version": "3.10.4"
  }
 },
 "nbformat": 4,
 "nbformat_minor": 5
}
