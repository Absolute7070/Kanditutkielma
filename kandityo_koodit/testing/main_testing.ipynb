{
 "cells": [
  {
   "cell_type": "code",
   "execution_count": 62,
   "id": "c6cec784-45e5-45ed-8e49-3ed7f9244e1e",
   "metadata": {
    "tags": []
   },
   "outputs": [],
   "source": [
    "import sys \n",
    "sys.path.append('/home/degnaiyu/Työpöytä/kanditutkielma/kandityo_koodit/main')"
   ]
  },
  {
   "cell_type": "code",
   "execution_count": 63,
   "id": "43048cc8-e0ba-4096-aa76-a32c3b0551ef",
   "metadata": {
    "tags": []
   },
   "outputs": [],
   "source": [
    "import numpy as np \n",
    "import math \n",
    "\n",
    "import parameters as pr \n",
    "import sys \n",
    "\n",
    "from numba import jit \n",
    "from numba.extending import overload        \n",
    "\n",
    "# metropolis sampling and integral approximation \n",
    "\n",
    "%run /home/degnaiyu/Työpöytä/kanditutkielma/kandityo_koodit/main/auxiliaryFunctions_noMath.ipynb \n",
    "%run /home/degnaiyu/Työpöytä/kanditutkielma/kandityo_koodit/main/functions_module.ipynb\n",
    "%run /home/degnaiyu/Työpöytä/kanditutkielma/kandityo_koodit/main/gradientDescent_module.ipynb\n",
    "\n"
   ]
  },
  {
   "cell_type": "markdown",
   "id": "7bc1804e-03fb-4ff2-bb64-481c226fb57e",
   "metadata": {},
   "source": [
    "# Possible solutions to Numba compatibility "
   ]
  },
  {
   "cell_type": "markdown",
   "id": "2216fc8f-24ce-4104-af91-6033c33c8c29",
   "metadata": {},
   "source": [
    "convert formula to fully python: e.g. ``math.sqrt(x) -> (x)**(1/2) and math.exp(x) -> 2.717**(x)``\n"
   ]
  },
  {
   "cell_type": "markdown",
   "id": "54e021c1-f9eb-434e-b567-74ea7d09b347",
   "metadata": {},
   "source": [
    "# User definable variables "
   ]
  },
  {
   "cell_type": "markdown",
   "id": "80f534b0-2d82-488e-8a92-27d2c669461d",
   "metadata": {},
   "source": [
    "**Input:** Initial guess for parameters: "
   ]
  },
  {
   "cell_type": "code",
   "execution_count": 64,
   "id": "e12c6668-ed78-417e-b797-84e98e973aa0",
   "metadata": {},
   "outputs": [],
   "source": [
    "parametersList = [0.2, 2, 3] "
   ]
  },
  {
   "cell_type": "markdown",
   "id": "2a652c69-46a5-4835-b62a-a9bdc859f220",
   "metadata": {},
   "source": [
    "**Input:** Number of parallel configuration subspaces (parallel configuration spaces)"
   ]
  },
  {
   "cell_type": "code",
   "execution_count": 65,
   "id": "1c2c90b4-0cf7-44ed-95fc-7c1d1831c9d8",
   "metadata": {
    "tags": []
   },
   "outputs": [],
   "source": [
    "M =1"
   ]
  },
  {
   "cell_type": "markdown",
   "id": "3ce73945-0488-4881-a9ae-2cdccb2a1096",
   "metadata": {},
   "source": [
    "**Input**: Filenames for the Python-compatible formulae of probability function and local energy (Supposed to be in the default folder \"Formulae_PythonCompatible\"  )"
   ]
  },
  {
   "cell_type": "code",
   "execution_count": 66,
   "id": "4c866573-4c3c-46e7-81a5-2c19ec0f3aba",
   "metadata": {
    "tags": []
   },
   "outputs": [],
   "source": [
    "probabilityExprPath = \"probabilityFormula_pythonCompatible\"\n",
    "\n",
    "\n",
    "localEnergyExprPath = \"localEnergy_pythonCompatible\""
   ]
  },
  {
   "cell_type": "markdown",
   "id": "3913b77a-99a7-49c0-8ead-f2104ad10e66",
   "metadata": {},
   "source": [
    "**Input**: Samples/sampling settings in Metropolis sampling"
   ]
  },
  {
   "cell_type": "code",
   "execution_count": 67,
   "id": "919654bf-6dc3-47b8-aef8-940d7950d3ee",
   "metadata": {
    "tags": []
   },
   "outputs": [],
   "source": [
    "coordinateValueRange= (-10, 10)\n",
    "numberOfParticles = 3\n",
    "numberOfConfig = 1\n",
    "numberOfIterations = 1            "
   ]
  },
  {
   "cell_type": "markdown",
   "id": "af8ea1b7-9228-4d8c-94f7-39c2651623b5",
   "metadata": {},
   "source": [
    "# Preparing local energy functions and probability functions "
   ]
  },
  {
   "cell_type": "markdown",
   "id": "0b29954b-6c3b-4f78-a446-99a8dacf2bc6",
   "metadata": {},
   "source": [
    "## Load in probability and local energy expressions "
   ]
  },
  {
   "cell_type": "code",
   "execution_count": 68,
   "id": "186fc640-ef19-4501-92f9-a285254e6c5e",
   "metadata": {
    "tags": []
   },
   "outputs": [],
   "source": [
    "# default folder to the Python-compatible formulae \n",
    "defaultFolderPathForFormulae = \"/home/degnaiyu/Työpöytä/kanditutkielma/kandityo_koodit/main\"+ \"/\"+ \"Formulae_PythonCompatible/\"    "
   ]
  },
  {
   "cell_type": "code",
   "execution_count": 69,
   "id": "3fef6bf6-ff24-4886-8b42-9bbc222879bb",
   "metadata": {
    "tags": []
   },
   "outputs": [],
   "source": [
    "# global variables: used in probability and local energy functions definition\n",
    "\n",
    "probabilityExpr = readFileToString(defaultFolderPathForFormulae + probabilityExprPath)  \n",
    "\n",
    "localEnergyExpr = readFileToString(defaultFolderPathForFormulae + localEnergyExprPath)"
   ]
  },
  {
   "cell_type": "code",
   "execution_count": 70,
   "id": "859f85f2-9a05-4677-9d4e-46e8e441ead0",
   "metadata": {
    "tags": []
   },
   "outputs": [
    {
     "data": {
      "text/plain": [
       "'math.exp(-2*A3*math.sqrt(x2**2 + y2**2 + z2**2) -      (2*A2*(1 - math.exp           (-math.sqrt(abs(x1 - x2)**2 + abs(y1 - y2)**2 + abs(z1 - z2)**2)/             math.sqrt(A2))))/      math.sqrt(abs(x1 - x2)**2 + abs(y1 - y2)**2 + abs(z1 - z2)**2) -      (2*A1*(1 - math.exp           (-math.sqrt(abs(x1 - x3)**2 + abs(y1 - y3)**2 + abs(z1 - z3)**2)/             (math.sqrt(2)*math.sqrt(A1)))))/      math.sqrt(abs(x1 - x3)**2 + abs(y1 - y3)**2 + abs(z1 - z3)**2) -      (2*A2*(1 - math.exp           (-math.sqrt(abs(x2 - x3)**2 + abs(y2 - y3)**2 + abs(z2 - z3)**2)/             math.sqrt(A2))))/      math.sqrt(abs(x2 - x3)**2 + abs(y2 - y3)**2 + abs(z2 - z3)**2))*  (2*math.exp(-0.5*(A3*math.sqrt(x1**2 + y1**2 + z1**2)) -          A3*math.sqrt(x3**2 + y3**2 + z3**2)) -      2*math.exp(-(A3*math.sqrt(x1**2 + y1**2 + z1**2)) -          (A3*math.sqrt(x3**2 + y3**2 + z3**2))/2.) -      math.exp(-0.5*(A3*math.sqrt(x1**2 + y1**2 + z1**2)) -          A3*math.sqrt(x3**2 + y3**2 + z3**2))*math.sqrt(x1**2 + y1**2 + z1**2) +      math.exp(-(A3*math.sqrt(x1**2 + y1**2 + z1**2)) -          (A3*math.sqrt(x3**2 + y3**2 + z3**2))/2.)*math.sqrt(x3**2 + y3**2 + z3**2))**2'"
      ]
     },
     "execution_count": 70,
     "metadata": {},
     "output_type": "execute_result"
    }
   ],
   "source": [
    "probabilityExpr"
   ]
  },
  {
   "cell_type": "code",
   "execution_count": 71,
   "id": "33dcf290-ff07-4ee4-8098-b6191ba2f24e",
   "metadata": {
    "tags": []
   },
   "outputs": [
    {
     "data": {
      "text/plain": [
       "'(math.exp(A3*math.sqrt(x2**2 + y2**2 + z2**2) +   '"
      ]
     },
     "execution_count": 71,
     "metadata": {},
     "output_type": "execute_result"
    }
   ],
   "source": [
    "localEnergyExpr[:50] "
   ]
  },
  {
   "cell_type": "markdown",
   "id": "52115715-c882-47c8-b7ba-34dacfaf0518",
   "metadata": {},
   "source": [
    "## Find variables in the expressions"
   ]
  },
  {
   "cell_type": "code",
   "execution_count": 72,
   "id": "b5b238a7-66fb-4821-8dab-8c3215509de3",
   "metadata": {
    "tags": []
   },
   "outputs": [],
   "source": [
    "# find coordinates and parameters\n",
    "coordinates, parameterStringList  = findVariables(localEnergyExpr)\n",
    "\n",
    "# regrouping coordinates \n",
    "coordinates = regroupToCoordinateTriple_findVariables(coordinates)\n",
    "\n",
    "\n",
    "# for functions usage, define list of ordered variables and parameters\n",
    "mapping =  coordinates + parameterStringList  # global variable: used in probability and local energy functions definition\n"
   ]
  },
  {
   "cell_type": "code",
   "execution_count": 73,
   "id": "e1ceb894-8924-4085-8a79-549091b143f1",
   "metadata": {
    "tags": []
   },
   "outputs": [
    {
     "data": {
      "text/plain": [
       "(['x1', 'y1', 'z1', 'x2', 'y2', 'z2', 'x3', 'y3', 'z3'],\n",
       " ['A1', 'A2', 'A3'],\n",
       " ['x1', 'y1', 'z1', 'x2', 'y2', 'z2', 'x3', 'y3', 'z3', 'A1', 'A2', 'A3'])"
      ]
     },
     "execution_count": 73,
     "metadata": {},
     "output_type": "execute_result"
    }
   ],
   "source": [
    "coordinates, parameterStringList, mapping "
   ]
  },
  {
   "cell_type": "markdown",
   "id": "6394e46c-49a3-495e-8da2-08a7bea55db7",
   "metadata": {},
   "source": [
    "### Error check: check number of initial guess is same as number of parameters found"
   ]
  },
  {
   "cell_type": "code",
   "execution_count": 74,
   "id": "dd48861d-3210-4a37-b1d4-4cb6df72bf96",
   "metadata": {
    "tags": []
   },
   "outputs": [],
   "source": [
    "check_numberOfIni_VS_numberOfFound_parameters(parametersList, parameterStringList) # raises exception if error occurs, program stopped"
   ]
  },
  {
   "cell_type": "markdown",
   "id": "ab22579e-3830-4309-bfc5-1a53d2370a93",
   "metadata": {},
   "source": [
    "## Define probability and local energy functions"
   ]
  },
  {
   "cell_type": "code",
   "execution_count": 75,
   "id": "8333febe-9fd0-4faf-93cd-8e60cd0fc6f5",
   "metadata": {},
   "outputs": [],
   "source": [
    "@jit\n",
    "def probabilityFunc(R: np.ndarray, parameters: list, expr: str = probabilityExpr, mapping: list = mapping) -> float: \n",
    "    \n",
    "    '''\n",
    "    psi^2. Probability function. Dependent on configuration and parameters. \n",
    "    \n",
    "    Parameters\n",
    "    ----------\n",
    "        R: ordered current configuration e.g. \n",
    "            array([[-0.5583685 , -0.04608995,  0.15500853],\n",
    "                 [ 0.66255653,  0.66301583, -0.85159876]])\n",
    "             each row representing one single particle's position\n",
    "        \n",
    "        parameters: ordered list of parameters as numbers \n",
    "        \n",
    "        expr: formula string. Default to the global variable \n",
    "        \n",
    "        mapping: ordered coordinates and parameters in a list: \n",
    "            ['x1', 'y1', 'z1', 'x2', 'y2', 'z2', 'x3', 'y3', 'z3', 'A1', 'A2']. Default to the global variable \n",
    "        \n",
    "    Return\n",
    "    ------\n",
    "        Probability function evaluated at certain configuration and parameters' values\n",
    "    '''\n",
    "    \n",
    "    \n",
    "    \n",
    "    \n",
    "    R_flattened = R.flatten() # make current configuration to vector form \n",
    "    R_and_parameters = np.append(R_flattened, parameters) # ordered coordinates, and parameters at the tail of the vector \n",
    "    \n",
    "    \n",
    "    if len(R_and_parameters) != len(mapping): \n",
    "        raise Exception(\"R and parameters not same length as that of mapping!\")\n",
    "    \n",
    "    \n",
    "    # mapping dictionary for evaluation of the expression\n",
    "    localDict = dict(zip(mapping, R_and_parameters))\n",
    "\n",
    "    \n",
    "    \n",
    "    return eval(expr, {'math': math}, localDict)\n",
    "    \n",
    "    \n",
    "    \n",
    "    \n",
    "\n",
    "@jit\n",
    "def localEnergyFunc(R: np.ndarray, parameters: list, expr: str = localEnergyExpr, mapping: list = mapping ) -> float: \n",
    "    '''\n",
    "    \n",
    "    H*psi/psi. Local energy.  Dependent on configuration and parameters. \n",
    "    \n",
    "    Parameters\n",
    "    ----------\n",
    "        R: current configuration\n",
    "        \n",
    "        parameters: list of parameters as numbers \n",
    "        \n",
    "        expr: formula string \n",
    "        \n",
    "        mapping: ordered coordinates and parameters in a list: \n",
    "            ['x1', 'y1', 'z1', 'x2', 'y2', 'z2', 'x3', 'y3', 'z3', 'A1', 'A2']\n",
    "            \n",
    "    Return\n",
    "    ------\n",
    "        Local energy evaluated at certain configuration and parameters' values\n",
    "    \n",
    "    '''\n",
    "    \n",
    "    \n",
    "    R_flattened = R.flatten() # make current configuration to vector form \n",
    "    R_and_parameters = np.append(R_flattened, parameters) # ordered coordinates, and parameters at the tail of the vector \n",
    "    \n",
    "    \n",
    "    if len(R_and_parameters) != len(mapping): \n",
    "        raise Exception(\"R and parameters not same length as that of mapping!\")\n",
    "    \n",
    "    \n",
    "    # mapping dictionary for evaluation of the expression\n",
    "    localDict = dict(zip(mapping, R_and_parameters))\n",
    "\n",
    "    \n",
    "    \n",
    "    \n",
    "    \n",
    "    return eval(expr, {'math': math}, localDict)\n",
    "    \n",
    "    \n",
    "    "
   ]
  },
  {
   "cell_type": "code",
   "execution_count": null,
   "id": "d02a20a3-4ee9-4418-a867-908ce5ba6986",
   "metadata": {},
   "outputs": [],
   "source": []
  },
  {
   "cell_type": "code",
   "execution_count": null,
   "id": "c5bc8dd0-e712-494d-b2cf-807a753ee8fa",
   "metadata": {},
   "outputs": [],
   "source": []
  },
  {
   "cell_type": "code",
   "execution_count": null,
   "id": "51c93b16-ffe8-4ebc-85ca-2eb6bb61a0a8",
   "metadata": {},
   "outputs": [],
   "source": []
  },
  {
   "cell_type": "code",
   "execution_count": null,
   "id": "7ff33445-b429-473c-97f1-8a04b7bb2cfa",
   "metadata": {},
   "outputs": [],
   "source": []
  },
  {
   "cell_type": "code",
   "execution_count": null,
   "id": "4b5b3d16-a107-4500-a8ad-d68809f6e1f6",
   "metadata": {},
   "outputs": [],
   "source": []
  },
  {
   "cell_type": "code",
   "execution_count": null,
   "id": "369a0d49-083a-4a5f-9e4e-3021782d29a2",
   "metadata": {},
   "outputs": [],
   "source": []
  },
  {
   "cell_type": "code",
   "execution_count": null,
   "id": "2d7ae467-9687-42f8-9d94-cd77db686829",
   "metadata": {},
   "outputs": [],
   "source": []
  },
  {
   "cell_type": "markdown",
   "id": "9ee9e292-8b0c-47e0-ad53-823b12dd52a9",
   "metadata": {
    "tags": []
   },
   "source": [
    "# Metropolis sampling and local energy estimations "
   ]
  },
  {
   "cell_type": "code",
   "execution_count": 76,
   "id": "6e8c0f95-1261-4f81-86d2-653ccb01f9bb",
   "metadata": {
    "tags": []
   },
   "outputs": [],
   "source": [
    "energyDict = {'Energy': [], \n",
    "             'Variance': [], \n",
    "             'std error': []}  # to append list of "
   ]
  },
  {
   "cell_type": "markdown",
   "id": "5ef0d94b-016a-40c7-842a-6cbdf6a31fd0",
   "metadata": {},
   "source": [
    "## Configuration subspaces: getting samples for energy"
   ]
  },
  {
   "cell_type": "code",
   "execution_count": 77,
   "id": "db3a7241-7659-48d5-b640-b1259a49cc55",
   "metadata": {},
   "outputs": [
    {
     "ename": "NumbaWarning",
     "evalue": "Failed in object mode pipeline (step: object mode frontend)\nFailed in object mode pipeline (step: object mode backend)\nFunction \"metropolisSamplingFunction\" was compiled in object mode without forceobj=True, but has lifted loops.\n\nFile \"../../../../../../tmp/ipykernel_4218/418465071.py\", line 34:\n<source missing, REPL/exec in use?>\n",
     "output_type": "error",
     "traceback": [
      "\u001b[0;31m---------------------------------------------------------------------------\u001b[0m",
      "\u001b[0;31mNumbaWarning\u001b[0m                              Traceback (most recent call last)",
      "Cell \u001b[0;32mIn[77], line 9\u001b[0m\n\u001b[1;32m      5\u001b[0m \u001b[38;5;66;03m# for each configuration subspace \u001b[39;00m\n\u001b[1;32m      6\u001b[0m \u001b[38;5;28;01mfor\u001b[39;00m i \u001b[38;5;129;01min\u001b[39;00m \u001b[38;5;28mrange\u001b[39m(M): \n\u001b[1;32m      7\u001b[0m     \n\u001b[1;32m      8\u001b[0m     \u001b[38;5;66;03m# generating initial Metropolis samples and Thermalisation\u001b[39;00m\n\u001b[0;32m----> 9\u001b[0m     configSubspace_Metropolis \u001b[38;5;241m=\u001b[39m metropolisSamplingFunction( coordinateValueRange\u001b[38;5;241m=\u001b[39m  coordinateValueRange, \n\u001b[1;32m     10\u001b[0m                                                            numberOfParticles \u001b[38;5;241m=\u001b[39m numberOfParticles,  \n\u001b[1;32m     11\u001b[0m                                                            numberOfConfig \u001b[38;5;241m=\u001b[39m numberOfConfig, \n\u001b[1;32m     12\u001b[0m                                                            probabilityFunction\u001b[38;5;241m=\u001b[39mprobabilityFunc, \n\u001b[1;32m     13\u001b[0m                                                            numberOfIterations \u001b[38;5;241m=\u001b[39m numberOfIterations, \n\u001b[1;32m     14\u001b[0m                                                            params \u001b[38;5;241m=\u001b[39m parametersList)\n\u001b[1;32m     17\u001b[0m     energyInConfigSubspaceList \u001b[38;5;241m=\u001b[39m []           \u001b[38;5;66;03m# for saving the energy values in this subspace \u001b[39;00m\n\u001b[1;32m     21\u001b[0m     \u001b[38;5;66;03m# energy computation for each Metropolis suggestion\u001b[39;00m\n\u001b[1;32m     22\u001b[0m     \u001b[38;5;66;03m# for each configuration \u001b[39;00m\n",
      "File \u001b[0;32m/opt/conda/lib/python3.10/site-packages/numba/core/dispatcher.py:487\u001b[0m, in \u001b[0;36m_DispatcherBase._compile_for_args\u001b[0;34m(self, *args, **kws)\u001b[0m\n\u001b[1;32m    485\u001b[0m             e\u001b[38;5;241m.\u001b[39mpatch_message(\u001b[38;5;124m'\u001b[39m\u001b[38;5;130;01m\\n\u001b[39;00m\u001b[38;5;124m'\u001b[39m\u001b[38;5;241m.\u001b[39mjoin((\u001b[38;5;28mstr\u001b[39m(e)\u001b[38;5;241m.\u001b[39mrstrip(), help_msg)))\n\u001b[1;32m    486\u001b[0m     \u001b[38;5;66;03m# ignore the FULL_TRACEBACKS config, this needs reporting!\u001b[39;00m\n\u001b[0;32m--> 487\u001b[0m     \u001b[38;5;28;01mraise\u001b[39;00m e\n\u001b[1;32m    488\u001b[0m \u001b[38;5;28;01mfinally\u001b[39;00m:\n\u001b[1;32m    489\u001b[0m     \u001b[38;5;28mself\u001b[39m\u001b[38;5;241m.\u001b[39m_types_active_call \u001b[38;5;241m=\u001b[39m []\n",
      "File \u001b[0;32m/opt/conda/lib/python3.10/site-packages/numba/core/dispatcher.py:420\u001b[0m, in \u001b[0;36m_DispatcherBase._compile_for_args\u001b[0;34m(self, *args, **kws)\u001b[0m\n\u001b[1;32m    418\u001b[0m return_val \u001b[38;5;241m=\u001b[39m \u001b[38;5;28;01mNone\u001b[39;00m\n\u001b[1;32m    419\u001b[0m \u001b[38;5;28;01mtry\u001b[39;00m:\n\u001b[0;32m--> 420\u001b[0m     return_val \u001b[38;5;241m=\u001b[39m \u001b[38;5;28;43mself\u001b[39;49m\u001b[38;5;241;43m.\u001b[39;49m\u001b[43mcompile\u001b[49m\u001b[43m(\u001b[49m\u001b[38;5;28;43mtuple\u001b[39;49m\u001b[43m(\u001b[49m\u001b[43margtypes\u001b[49m\u001b[43m)\u001b[49m\u001b[43m)\u001b[49m\n\u001b[1;32m    421\u001b[0m \u001b[38;5;28;01mexcept\u001b[39;00m errors\u001b[38;5;241m.\u001b[39mForceLiteralArg \u001b[38;5;28;01mas\u001b[39;00m e:\n\u001b[1;32m    422\u001b[0m     \u001b[38;5;66;03m# Received request for compiler re-entry with the list of arguments\u001b[39;00m\n\u001b[1;32m    423\u001b[0m     \u001b[38;5;66;03m# indicated by e.requested_args.\u001b[39;00m\n\u001b[1;32m    424\u001b[0m     \u001b[38;5;66;03m# First, check if any of these args are already Literal-ized\u001b[39;00m\n\u001b[1;32m    425\u001b[0m     already_lit_pos \u001b[38;5;241m=\u001b[39m [i \u001b[38;5;28;01mfor\u001b[39;00m i \u001b[38;5;129;01min\u001b[39;00m e\u001b[38;5;241m.\u001b[39mrequested_args\n\u001b[1;32m    426\u001b[0m                        \u001b[38;5;28;01mif\u001b[39;00m \u001b[38;5;28misinstance\u001b[39m(args[i], types\u001b[38;5;241m.\u001b[39mLiteral)]\n",
      "File \u001b[0;32m/opt/conda/lib/python3.10/site-packages/numba/core/dispatcher.py:965\u001b[0m, in \u001b[0;36mDispatcher.compile\u001b[0;34m(self, sig)\u001b[0m\n\u001b[1;32m    963\u001b[0m \u001b[38;5;28;01mwith\u001b[39;00m ev\u001b[38;5;241m.\u001b[39mtrigger_event(\u001b[38;5;124m\"\u001b[39m\u001b[38;5;124mnumba:compile\u001b[39m\u001b[38;5;124m\"\u001b[39m, data\u001b[38;5;241m=\u001b[39mev_details):\n\u001b[1;32m    964\u001b[0m     \u001b[38;5;28;01mtry\u001b[39;00m:\n\u001b[0;32m--> 965\u001b[0m         cres \u001b[38;5;241m=\u001b[39m \u001b[38;5;28;43mself\u001b[39;49m\u001b[38;5;241;43m.\u001b[39;49m\u001b[43m_compiler\u001b[49m\u001b[38;5;241;43m.\u001b[39;49m\u001b[43mcompile\u001b[49m\u001b[43m(\u001b[49m\u001b[43margs\u001b[49m\u001b[43m,\u001b[49m\u001b[43m \u001b[49m\u001b[43mreturn_type\u001b[49m\u001b[43m)\u001b[49m\n\u001b[1;32m    966\u001b[0m     \u001b[38;5;28;01mexcept\u001b[39;00m errors\u001b[38;5;241m.\u001b[39mForceLiteralArg \u001b[38;5;28;01mas\u001b[39;00m e:\n\u001b[1;32m    967\u001b[0m         \u001b[38;5;28;01mdef\u001b[39;00m \u001b[38;5;21mfolded\u001b[39m(args, kws):\n",
      "File \u001b[0;32m/opt/conda/lib/python3.10/site-packages/numba/core/dispatcher.py:125\u001b[0m, in \u001b[0;36m_FunctionCompiler.compile\u001b[0;34m(self, args, return_type)\u001b[0m\n\u001b[1;32m    124\u001b[0m \u001b[38;5;28;01mdef\u001b[39;00m \u001b[38;5;21mcompile\u001b[39m(\u001b[38;5;28mself\u001b[39m, args, return_type):\n\u001b[0;32m--> 125\u001b[0m     status, retval \u001b[38;5;241m=\u001b[39m \u001b[38;5;28;43mself\u001b[39;49m\u001b[38;5;241;43m.\u001b[39;49m\u001b[43m_compile_cached\u001b[49m\u001b[43m(\u001b[49m\u001b[43margs\u001b[49m\u001b[43m,\u001b[49m\u001b[43m \u001b[49m\u001b[43mreturn_type\u001b[49m\u001b[43m)\u001b[49m\n\u001b[1;32m    126\u001b[0m     \u001b[38;5;28;01mif\u001b[39;00m status:\n\u001b[1;32m    127\u001b[0m         \u001b[38;5;28;01mreturn\u001b[39;00m retval\n",
      "File \u001b[0;32m/opt/conda/lib/python3.10/site-packages/numba/core/dispatcher.py:139\u001b[0m, in \u001b[0;36m_FunctionCompiler._compile_cached\u001b[0;34m(self, args, return_type)\u001b[0m\n\u001b[1;32m    136\u001b[0m     \u001b[38;5;28;01mpass\u001b[39;00m\n\u001b[1;32m    138\u001b[0m \u001b[38;5;28;01mtry\u001b[39;00m:\n\u001b[0;32m--> 139\u001b[0m     retval \u001b[38;5;241m=\u001b[39m \u001b[38;5;28;43mself\u001b[39;49m\u001b[38;5;241;43m.\u001b[39;49m\u001b[43m_compile_core\u001b[49m\u001b[43m(\u001b[49m\u001b[43margs\u001b[49m\u001b[43m,\u001b[49m\u001b[43m \u001b[49m\u001b[43mreturn_type\u001b[49m\u001b[43m)\u001b[49m\n\u001b[1;32m    140\u001b[0m \u001b[38;5;28;01mexcept\u001b[39;00m errors\u001b[38;5;241m.\u001b[39mTypingError \u001b[38;5;28;01mas\u001b[39;00m e:\n\u001b[1;32m    141\u001b[0m     \u001b[38;5;28mself\u001b[39m\u001b[38;5;241m.\u001b[39m_failed_cache[key] \u001b[38;5;241m=\u001b[39m e\n",
      "File \u001b[0;32m/opt/conda/lib/python3.10/site-packages/numba/core/dispatcher.py:152\u001b[0m, in \u001b[0;36m_FunctionCompiler._compile_core\u001b[0;34m(self, args, return_type)\u001b[0m\n\u001b[1;32m    149\u001b[0m flags \u001b[38;5;241m=\u001b[39m \u001b[38;5;28mself\u001b[39m\u001b[38;5;241m.\u001b[39m_customize_flags(flags)\n\u001b[1;32m    151\u001b[0m impl \u001b[38;5;241m=\u001b[39m \u001b[38;5;28mself\u001b[39m\u001b[38;5;241m.\u001b[39m_get_implementation(args, {})\n\u001b[0;32m--> 152\u001b[0m cres \u001b[38;5;241m=\u001b[39m \u001b[43mcompiler\u001b[49m\u001b[38;5;241;43m.\u001b[39;49m\u001b[43mcompile_extra\u001b[49m\u001b[43m(\u001b[49m\u001b[38;5;28;43mself\u001b[39;49m\u001b[38;5;241;43m.\u001b[39;49m\u001b[43mtargetdescr\u001b[49m\u001b[38;5;241;43m.\u001b[39;49m\u001b[43mtyping_context\u001b[49m\u001b[43m,\u001b[49m\n\u001b[1;32m    153\u001b[0m \u001b[43m                              \u001b[49m\u001b[38;5;28;43mself\u001b[39;49m\u001b[38;5;241;43m.\u001b[39;49m\u001b[43mtargetdescr\u001b[49m\u001b[38;5;241;43m.\u001b[39;49m\u001b[43mtarget_context\u001b[49m\u001b[43m,\u001b[49m\n\u001b[1;32m    154\u001b[0m \u001b[43m                              \u001b[49m\u001b[43mimpl\u001b[49m\u001b[43m,\u001b[49m\n\u001b[1;32m    155\u001b[0m \u001b[43m                              \u001b[49m\u001b[43margs\u001b[49m\u001b[38;5;241;43m=\u001b[39;49m\u001b[43margs\u001b[49m\u001b[43m,\u001b[49m\u001b[43m \u001b[49m\u001b[43mreturn_type\u001b[49m\u001b[38;5;241;43m=\u001b[39;49m\u001b[43mreturn_type\u001b[49m\u001b[43m,\u001b[49m\n\u001b[1;32m    156\u001b[0m \u001b[43m                              \u001b[49m\u001b[43mflags\u001b[49m\u001b[38;5;241;43m=\u001b[39;49m\u001b[43mflags\u001b[49m\u001b[43m,\u001b[49m\u001b[43m \u001b[49m\u001b[38;5;28;43mlocals\u001b[39;49m\u001b[38;5;241;43m=\u001b[39;49m\u001b[38;5;28;43mself\u001b[39;49m\u001b[38;5;241;43m.\u001b[39;49m\u001b[43mlocals\u001b[49m\u001b[43m,\u001b[49m\n\u001b[1;32m    157\u001b[0m \u001b[43m                              \u001b[49m\u001b[43mpipeline_class\u001b[49m\u001b[38;5;241;43m=\u001b[39;49m\u001b[38;5;28;43mself\u001b[39;49m\u001b[38;5;241;43m.\u001b[39;49m\u001b[43mpipeline_class\u001b[49m\u001b[43m)\u001b[49m\n\u001b[1;32m    158\u001b[0m \u001b[38;5;66;03m# Check typing error if object mode is used\u001b[39;00m\n\u001b[1;32m    159\u001b[0m \u001b[38;5;28;01mif\u001b[39;00m cres\u001b[38;5;241m.\u001b[39mtyping_error \u001b[38;5;129;01mis\u001b[39;00m \u001b[38;5;129;01mnot\u001b[39;00m \u001b[38;5;28;01mNone\u001b[39;00m \u001b[38;5;129;01mand\u001b[39;00m \u001b[38;5;129;01mnot\u001b[39;00m flags\u001b[38;5;241m.\u001b[39menable_pyobject:\n",
      "File \u001b[0;32m/opt/conda/lib/python3.10/site-packages/numba/core/compiler.py:716\u001b[0m, in \u001b[0;36mcompile_extra\u001b[0;34m(typingctx, targetctx, func, args, return_type, flags, locals, library, pipeline_class)\u001b[0m\n\u001b[1;32m    692\u001b[0m \u001b[38;5;124;03m\"\"\"Compiler entry point\u001b[39;00m\n\u001b[1;32m    693\u001b[0m \n\u001b[1;32m    694\u001b[0m \u001b[38;5;124;03mParameter\u001b[39;00m\n\u001b[0;32m   (...)\u001b[0m\n\u001b[1;32m    712\u001b[0m \u001b[38;5;124;03m    compiler pipeline\u001b[39;00m\n\u001b[1;32m    713\u001b[0m \u001b[38;5;124;03m\"\"\"\u001b[39;00m\n\u001b[1;32m    714\u001b[0m pipeline \u001b[38;5;241m=\u001b[39m pipeline_class(typingctx, targetctx, library,\n\u001b[1;32m    715\u001b[0m                           args, return_type, flags, \u001b[38;5;28mlocals\u001b[39m)\n\u001b[0;32m--> 716\u001b[0m \u001b[38;5;28;01mreturn\u001b[39;00m \u001b[43mpipeline\u001b[49m\u001b[38;5;241;43m.\u001b[39;49m\u001b[43mcompile_extra\u001b[49m\u001b[43m(\u001b[49m\u001b[43mfunc\u001b[49m\u001b[43m)\u001b[49m\n",
      "File \u001b[0;32m/opt/conda/lib/python3.10/site-packages/numba/core/compiler.py:452\u001b[0m, in \u001b[0;36mCompilerBase.compile_extra\u001b[0;34m(self, func)\u001b[0m\n\u001b[1;32m    450\u001b[0m \u001b[38;5;28mself\u001b[39m\u001b[38;5;241m.\u001b[39mstate\u001b[38;5;241m.\u001b[39mlifted \u001b[38;5;241m=\u001b[39m ()\n\u001b[1;32m    451\u001b[0m \u001b[38;5;28mself\u001b[39m\u001b[38;5;241m.\u001b[39mstate\u001b[38;5;241m.\u001b[39mlifted_from \u001b[38;5;241m=\u001b[39m \u001b[38;5;28;01mNone\u001b[39;00m\n\u001b[0;32m--> 452\u001b[0m \u001b[38;5;28;01mreturn\u001b[39;00m \u001b[38;5;28;43mself\u001b[39;49m\u001b[38;5;241;43m.\u001b[39;49m\u001b[43m_compile_bytecode\u001b[49m\u001b[43m(\u001b[49m\u001b[43m)\u001b[49m\n",
      "File \u001b[0;32m/opt/conda/lib/python3.10/site-packages/numba/core/compiler.py:520\u001b[0m, in \u001b[0;36mCompilerBase._compile_bytecode\u001b[0;34m(self)\u001b[0m\n\u001b[1;32m    516\u001b[0m \u001b[38;5;124;03m\"\"\"\u001b[39;00m\n\u001b[1;32m    517\u001b[0m \u001b[38;5;124;03mPopulate and run pipeline for bytecode input\u001b[39;00m\n\u001b[1;32m    518\u001b[0m \u001b[38;5;124;03m\"\"\"\u001b[39;00m\n\u001b[1;32m    519\u001b[0m \u001b[38;5;28;01massert\u001b[39;00m \u001b[38;5;28mself\u001b[39m\u001b[38;5;241m.\u001b[39mstate\u001b[38;5;241m.\u001b[39mfunc_ir \u001b[38;5;129;01mis\u001b[39;00m \u001b[38;5;28;01mNone\u001b[39;00m\n\u001b[0;32m--> 520\u001b[0m \u001b[38;5;28;01mreturn\u001b[39;00m \u001b[38;5;28;43mself\u001b[39;49m\u001b[38;5;241;43m.\u001b[39;49m\u001b[43m_compile_core\u001b[49m\u001b[43m(\u001b[49m\u001b[43m)\u001b[49m\n",
      "File \u001b[0;32m/opt/conda/lib/python3.10/site-packages/numba/core/compiler.py:499\u001b[0m, in \u001b[0;36mCompilerBase._compile_core\u001b[0;34m(self)\u001b[0m\n\u001b[1;32m    497\u001b[0m         \u001b[38;5;28mself\u001b[39m\u001b[38;5;241m.\u001b[39mstate\u001b[38;5;241m.\u001b[39mstatus\u001b[38;5;241m.\u001b[39mfail_reason \u001b[38;5;241m=\u001b[39m e\n\u001b[1;32m    498\u001b[0m         \u001b[38;5;28;01mif\u001b[39;00m is_final_pipeline:\n\u001b[0;32m--> 499\u001b[0m             \u001b[38;5;28;01mraise\u001b[39;00m e\n\u001b[1;32m    500\u001b[0m \u001b[38;5;28;01melse\u001b[39;00m:\n\u001b[1;32m    501\u001b[0m     \u001b[38;5;28;01mraise\u001b[39;00m CompilerError(\u001b[38;5;124m\"\u001b[39m\u001b[38;5;124mAll available pipelines exhausted\u001b[39m\u001b[38;5;124m\"\u001b[39m)\n",
      "File \u001b[0;32m/opt/conda/lib/python3.10/site-packages/numba/core/compiler.py:486\u001b[0m, in \u001b[0;36mCompilerBase._compile_core\u001b[0;34m(self)\u001b[0m\n\u001b[1;32m    484\u001b[0m res \u001b[38;5;241m=\u001b[39m \u001b[38;5;28;01mNone\u001b[39;00m\n\u001b[1;32m    485\u001b[0m \u001b[38;5;28;01mtry\u001b[39;00m:\n\u001b[0;32m--> 486\u001b[0m     \u001b[43mpm\u001b[49m\u001b[38;5;241;43m.\u001b[39;49m\u001b[43mrun\u001b[49m\u001b[43m(\u001b[49m\u001b[38;5;28;43mself\u001b[39;49m\u001b[38;5;241;43m.\u001b[39;49m\u001b[43mstate\u001b[49m\u001b[43m)\u001b[49m\n\u001b[1;32m    487\u001b[0m     \u001b[38;5;28;01mif\u001b[39;00m \u001b[38;5;28mself\u001b[39m\u001b[38;5;241m.\u001b[39mstate\u001b[38;5;241m.\u001b[39mcr \u001b[38;5;129;01mis\u001b[39;00m \u001b[38;5;129;01mnot\u001b[39;00m \u001b[38;5;28;01mNone\u001b[39;00m:\n\u001b[1;32m    488\u001b[0m         \u001b[38;5;28;01mbreak\u001b[39;00m\n",
      "File \u001b[0;32m/opt/conda/lib/python3.10/site-packages/numba/core/compiler_machinery.py:368\u001b[0m, in \u001b[0;36mPassManager.run\u001b[0;34m(self, state)\u001b[0m\n\u001b[1;32m    365\u001b[0m msg \u001b[38;5;241m=\u001b[39m \u001b[38;5;124m\"\u001b[39m\u001b[38;5;124mFailed in \u001b[39m\u001b[38;5;132;01m%s\u001b[39;00m\u001b[38;5;124m mode pipeline (step: \u001b[39m\u001b[38;5;132;01m%s\u001b[39;00m\u001b[38;5;124m)\u001b[39m\u001b[38;5;124m\"\u001b[39m \u001b[38;5;241m%\u001b[39m \\\n\u001b[1;32m    366\u001b[0m     (\u001b[38;5;28mself\u001b[39m\u001b[38;5;241m.\u001b[39mpipeline_name, pass_desc)\n\u001b[1;32m    367\u001b[0m patched_exception \u001b[38;5;241m=\u001b[39m \u001b[38;5;28mself\u001b[39m\u001b[38;5;241m.\u001b[39m_patch_error(msg, e)\n\u001b[0;32m--> 368\u001b[0m \u001b[38;5;28;01mraise\u001b[39;00m patched_exception\n",
      "File \u001b[0;32m/opt/conda/lib/python3.10/site-packages/numba/core/compiler_machinery.py:356\u001b[0m, in \u001b[0;36mPassManager.run\u001b[0;34m(self, state)\u001b[0m\n\u001b[1;32m    354\u001b[0m pass_inst \u001b[38;5;241m=\u001b[39m _pass_registry\u001b[38;5;241m.\u001b[39mget(pss)\u001b[38;5;241m.\u001b[39mpass_inst\n\u001b[1;32m    355\u001b[0m \u001b[38;5;28;01mif\u001b[39;00m \u001b[38;5;28misinstance\u001b[39m(pass_inst, CompilerPass):\n\u001b[0;32m--> 356\u001b[0m     \u001b[38;5;28;43mself\u001b[39;49m\u001b[38;5;241;43m.\u001b[39;49m\u001b[43m_runPass\u001b[49m\u001b[43m(\u001b[49m\u001b[43midx\u001b[49m\u001b[43m,\u001b[49m\u001b[43m \u001b[49m\u001b[43mpass_inst\u001b[49m\u001b[43m,\u001b[49m\u001b[43m \u001b[49m\u001b[43mstate\u001b[49m\u001b[43m)\u001b[49m\n\u001b[1;32m    357\u001b[0m \u001b[38;5;28;01melse\u001b[39;00m:\n\u001b[1;32m    358\u001b[0m     \u001b[38;5;28;01mraise\u001b[39;00m \u001b[38;5;167;01mBaseException\u001b[39;00m(\u001b[38;5;124m\"\u001b[39m\u001b[38;5;124mLegacy pass in use\u001b[39m\u001b[38;5;124m\"\u001b[39m)\n",
      "File \u001b[0;32m/opt/conda/lib/python3.10/site-packages/numba/core/compiler_lock.py:35\u001b[0m, in \u001b[0;36m_CompilerLock.__call__.<locals>._acquire_compile_lock\u001b[0;34m(*args, **kwargs)\u001b[0m\n\u001b[1;32m     32\u001b[0m \u001b[38;5;129m@functools\u001b[39m\u001b[38;5;241m.\u001b[39mwraps(func)\n\u001b[1;32m     33\u001b[0m \u001b[38;5;28;01mdef\u001b[39;00m \u001b[38;5;21m_acquire_compile_lock\u001b[39m(\u001b[38;5;241m*\u001b[39margs, \u001b[38;5;241m*\u001b[39m\u001b[38;5;241m*\u001b[39mkwargs):\n\u001b[1;32m     34\u001b[0m     \u001b[38;5;28;01mwith\u001b[39;00m \u001b[38;5;28mself\u001b[39m:\n\u001b[0;32m---> 35\u001b[0m         \u001b[38;5;28;01mreturn\u001b[39;00m \u001b[43mfunc\u001b[49m\u001b[43m(\u001b[49m\u001b[38;5;241;43m*\u001b[39;49m\u001b[43margs\u001b[49m\u001b[43m,\u001b[49m\u001b[43m \u001b[49m\u001b[38;5;241;43m*\u001b[39;49m\u001b[38;5;241;43m*\u001b[39;49m\u001b[43mkwargs\u001b[49m\u001b[43m)\u001b[49m\n",
      "File \u001b[0;32m/opt/conda/lib/python3.10/site-packages/numba/core/compiler_machinery.py:311\u001b[0m, in \u001b[0;36mPassManager._runPass\u001b[0;34m(self, index, pss, internal_state)\u001b[0m\n\u001b[1;32m    309\u001b[0m     mutated \u001b[38;5;241m|\u001b[39m\u001b[38;5;241m=\u001b[39m check(pss\u001b[38;5;241m.\u001b[39mrun_initialization, internal_state)\n\u001b[1;32m    310\u001b[0m \u001b[38;5;28;01mwith\u001b[39;00m SimpleTimer() \u001b[38;5;28;01mas\u001b[39;00m pass_time:\n\u001b[0;32m--> 311\u001b[0m     mutated \u001b[38;5;241m|\u001b[39m\u001b[38;5;241m=\u001b[39m \u001b[43mcheck\u001b[49m\u001b[43m(\u001b[49m\u001b[43mpss\u001b[49m\u001b[38;5;241;43m.\u001b[39;49m\u001b[43mrun_pass\u001b[49m\u001b[43m,\u001b[49m\u001b[43m \u001b[49m\u001b[43minternal_state\u001b[49m\u001b[43m)\u001b[49m\n\u001b[1;32m    312\u001b[0m \u001b[38;5;28;01mwith\u001b[39;00m SimpleTimer() \u001b[38;5;28;01mas\u001b[39;00m finalize_time:\n\u001b[1;32m    313\u001b[0m     mutated \u001b[38;5;241m|\u001b[39m\u001b[38;5;241m=\u001b[39m check(pss\u001b[38;5;241m.\u001b[39mrun_finalizer, internal_state)\n",
      "File \u001b[0;32m/opt/conda/lib/python3.10/site-packages/numba/core/compiler_machinery.py:273\u001b[0m, in \u001b[0;36mPassManager._runPass.<locals>.check\u001b[0;34m(func, compiler_state)\u001b[0m\n\u001b[1;32m    272\u001b[0m \u001b[38;5;28;01mdef\u001b[39;00m \u001b[38;5;21mcheck\u001b[39m(func, compiler_state):\n\u001b[0;32m--> 273\u001b[0m     mangled \u001b[38;5;241m=\u001b[39m \u001b[43mfunc\u001b[49m\u001b[43m(\u001b[49m\u001b[43mcompiler_state\u001b[49m\u001b[43m)\u001b[49m\n\u001b[1;32m    274\u001b[0m     \u001b[38;5;28;01mif\u001b[39;00m mangled \u001b[38;5;129;01mnot\u001b[39;00m \u001b[38;5;129;01min\u001b[39;00m (\u001b[38;5;28;01mTrue\u001b[39;00m, \u001b[38;5;28;01mFalse\u001b[39;00m):\n\u001b[1;32m    275\u001b[0m         msg \u001b[38;5;241m=\u001b[39m (\u001b[38;5;124m\"\u001b[39m\u001b[38;5;124mCompilerPass implementations should return True/False. \u001b[39m\u001b[38;5;124m\"\u001b[39m\n\u001b[1;32m    276\u001b[0m                \u001b[38;5;124m\"\u001b[39m\u001b[38;5;124mCompilerPass with name \u001b[39m\u001b[38;5;124m'\u001b[39m\u001b[38;5;132;01m%s\u001b[39;00m\u001b[38;5;124m'\u001b[39m\u001b[38;5;124m did not.\u001b[39m\u001b[38;5;124m\"\u001b[39m)\n",
      "File \u001b[0;32m/opt/conda/lib/python3.10/site-packages/numba/core/object_mode_passes.py:53\u001b[0m, in \u001b[0;36mObjectModeFrontEnd.run_pass\u001b[0;34m(self, state)\u001b[0m\n\u001b[1;32m     51\u001b[0m \u001b[38;5;28;01mif\u001b[39;00m state\u001b[38;5;241m.\u001b[39mflags\u001b[38;5;241m.\u001b[39menable_looplift:\n\u001b[1;32m     52\u001b[0m     \u001b[38;5;28;01massert\u001b[39;00m \u001b[38;5;129;01mnot\u001b[39;00m state\u001b[38;5;241m.\u001b[39mlifted\n\u001b[0;32m---> 53\u001b[0m     cres \u001b[38;5;241m=\u001b[39m \u001b[38;5;28;43mself\u001b[39;49m\u001b[38;5;241;43m.\u001b[39;49m\u001b[43m_frontend_looplift\u001b[49m\u001b[43m(\u001b[49m\u001b[43mstate\u001b[49m\u001b[43m)\u001b[49m\n\u001b[1;32m     54\u001b[0m     \u001b[38;5;28;01mif\u001b[39;00m cres \u001b[38;5;129;01mis\u001b[39;00m \u001b[38;5;129;01mnot\u001b[39;00m \u001b[38;5;28;01mNone\u001b[39;00m:\n\u001b[1;32m     55\u001b[0m         \u001b[38;5;28;01mraise\u001b[39;00m _EarlyPipelineCompletion(cres)\n",
      "File \u001b[0;32m/opt/conda/lib/python3.10/site-packages/numba/core/object_mode_passes.py:40\u001b[0m, in \u001b[0;36mObjectModeFrontEnd._frontend_looplift\u001b[0;34m(self, state)\u001b[0m\n\u001b[1;32m     38\u001b[0m         \u001b[38;5;28mprint\u001b[39m(\u001b[38;5;124m\"\u001b[39m\u001b[38;5;124mLifting loop\u001b[39m\u001b[38;5;124m\"\u001b[39m, loop\u001b[38;5;241m.\u001b[39mget_source_location())\n\u001b[1;32m     39\u001b[0m \u001b[38;5;28;01mfrom\u001b[39;00m \u001b[38;5;21;01mnumba\u001b[39;00m\u001b[38;5;21;01m.\u001b[39;00m\u001b[38;5;21;01mcore\u001b[39;00m\u001b[38;5;21;01m.\u001b[39;00m\u001b[38;5;21;01mcompiler\u001b[39;00m \u001b[38;5;28;01mimport\u001b[39;00m compile_ir\n\u001b[0;32m---> 40\u001b[0m cres \u001b[38;5;241m=\u001b[39m \u001b[43mcompile_ir\u001b[49m\u001b[43m(\u001b[49m\u001b[43mstate\u001b[49m\u001b[38;5;241;43m.\u001b[39;49m\u001b[43mtypingctx\u001b[49m\u001b[43m,\u001b[49m\u001b[43m \u001b[49m\u001b[43mstate\u001b[49m\u001b[38;5;241;43m.\u001b[39;49m\u001b[43mtargetctx\u001b[49m\u001b[43m,\u001b[49m\u001b[43m \u001b[49m\u001b[43mmain\u001b[49m\u001b[43m,\u001b[49m\n\u001b[1;32m     41\u001b[0m \u001b[43m                  \u001b[49m\u001b[43mstate\u001b[49m\u001b[38;5;241;43m.\u001b[39;49m\u001b[43margs\u001b[49m\u001b[43m,\u001b[49m\u001b[43m \u001b[49m\u001b[43mstate\u001b[49m\u001b[38;5;241;43m.\u001b[39;49m\u001b[43mreturn_type\u001b[49m\u001b[43m,\u001b[49m\n\u001b[1;32m     42\u001b[0m \u001b[43m                  \u001b[49m\u001b[43mouter_flags\u001b[49m\u001b[43m,\u001b[49m\u001b[43m \u001b[49m\u001b[43mstate\u001b[49m\u001b[38;5;241;43m.\u001b[39;49m\u001b[43mlocals\u001b[49m\u001b[43m,\u001b[49m\n\u001b[1;32m     43\u001b[0m \u001b[43m                  \u001b[49m\u001b[43mlifted\u001b[49m\u001b[38;5;241;43m=\u001b[39;49m\u001b[38;5;28;43mtuple\u001b[39;49m\u001b[43m(\u001b[49m\u001b[43mloops\u001b[49m\u001b[43m)\u001b[49m\u001b[43m,\u001b[49m\u001b[43m \u001b[49m\u001b[43mlifted_from\u001b[49m\u001b[38;5;241;43m=\u001b[39;49m\u001b[38;5;28;43;01mNone\u001b[39;49;00m\u001b[43m,\u001b[49m\n\u001b[1;32m     44\u001b[0m \u001b[43m                  \u001b[49m\u001b[43mis_lifted_loop\u001b[49m\u001b[38;5;241;43m=\u001b[39;49m\u001b[38;5;28;43;01mTrue\u001b[39;49;00m\u001b[43m)\u001b[49m\n\u001b[1;32m     45\u001b[0m \u001b[38;5;28;01mreturn\u001b[39;00m cres\n",
      "File \u001b[0;32m/opt/conda/lib/python3.10/site-packages/numba/core/compiler.py:754\u001b[0m, in \u001b[0;36mcompile_ir\u001b[0;34m(typingctx, targetctx, func_ir, args, return_type, flags, locals, lifted, lifted_from, is_lifted_loop, library, pipeline_class)\u001b[0m\n\u001b[1;32m    750\u001b[0m     \u001b[38;5;28;01mreturn\u001b[39;00m pipeline\u001b[38;5;241m.\u001b[39mcompile_ir(func_ir\u001b[38;5;241m=\u001b[39mthe_ir, lifted\u001b[38;5;241m=\u001b[39mlifted,\n\u001b[1;32m    751\u001b[0m                                lifted_from\u001b[38;5;241m=\u001b[39mlifted_from)\n\u001b[1;32m    753\u001b[0m \u001b[38;5;66;03m# compile with rewrites off, IR shouldn't be mutated irreparably\u001b[39;00m\n\u001b[0;32m--> 754\u001b[0m norw_cres \u001b[38;5;241m=\u001b[39m \u001b[43mcompile_local\u001b[49m\u001b[43m(\u001b[49m\u001b[43mfunc_ir\u001b[49m\u001b[38;5;241;43m.\u001b[39;49m\u001b[43mcopy\u001b[49m\u001b[43m(\u001b[49m\u001b[43m)\u001b[49m\u001b[43m,\u001b[49m\u001b[43m \u001b[49m\u001b[43mnorw_flags\u001b[49m\u001b[43m)\u001b[49m\n\u001b[1;32m    756\u001b[0m \u001b[38;5;66;03m# try and compile with rewrites on if no_rewrites was not set in the\u001b[39;00m\n\u001b[1;32m    757\u001b[0m \u001b[38;5;66;03m# original flags, IR might get broken but we've got a CompileResult\u001b[39;00m\n\u001b[1;32m    758\u001b[0m \u001b[38;5;66;03m# that's usable from above.\u001b[39;00m\n\u001b[1;32m    759\u001b[0m rw_cres \u001b[38;5;241m=\u001b[39m \u001b[38;5;28;01mNone\u001b[39;00m\n",
      "File \u001b[0;32m/opt/conda/lib/python3.10/site-packages/numba/core/compiler.py:750\u001b[0m, in \u001b[0;36mcompile_ir.<locals>.compile_local\u001b[0;34m(the_ir, the_flags)\u001b[0m\n\u001b[1;32m    747\u001b[0m \u001b[38;5;28;01mdef\u001b[39;00m \u001b[38;5;21mcompile_local\u001b[39m(the_ir, the_flags):\n\u001b[1;32m    748\u001b[0m     pipeline \u001b[38;5;241m=\u001b[39m pipeline_class(typingctx, targetctx, library,\n\u001b[1;32m    749\u001b[0m                               args, return_type, the_flags, \u001b[38;5;28mlocals\u001b[39m)\n\u001b[0;32m--> 750\u001b[0m     \u001b[38;5;28;01mreturn\u001b[39;00m \u001b[43mpipeline\u001b[49m\u001b[38;5;241;43m.\u001b[39;49m\u001b[43mcompile_ir\u001b[49m\u001b[43m(\u001b[49m\u001b[43mfunc_ir\u001b[49m\u001b[38;5;241;43m=\u001b[39;49m\u001b[43mthe_ir\u001b[49m\u001b[43m,\u001b[49m\u001b[43m \u001b[49m\u001b[43mlifted\u001b[49m\u001b[38;5;241;43m=\u001b[39;49m\u001b[43mlifted\u001b[49m\u001b[43m,\u001b[49m\n\u001b[1;32m    751\u001b[0m \u001b[43m                               \u001b[49m\u001b[43mlifted_from\u001b[49m\u001b[38;5;241;43m=\u001b[39;49m\u001b[43mlifted_from\u001b[49m\u001b[43m)\u001b[49m\n",
      "File \u001b[0;32m/opt/conda/lib/python3.10/site-packages/numba/core/compiler.py:462\u001b[0m, in \u001b[0;36mCompilerBase.compile_ir\u001b[0;34m(self, func_ir, lifted, lifted_from)\u001b[0m\n\u001b[1;32m    459\u001b[0m \u001b[38;5;28mself\u001b[39m\u001b[38;5;241m.\u001b[39mstate\u001b[38;5;241m.\u001b[39mnargs \u001b[38;5;241m=\u001b[39m \u001b[38;5;28mself\u001b[39m\u001b[38;5;241m.\u001b[39mstate\u001b[38;5;241m.\u001b[39mfunc_ir\u001b[38;5;241m.\u001b[39marg_count\n\u001b[1;32m    461\u001b[0m FixupArgs()\u001b[38;5;241m.\u001b[39mrun_pass(\u001b[38;5;28mself\u001b[39m\u001b[38;5;241m.\u001b[39mstate)\n\u001b[0;32m--> 462\u001b[0m \u001b[38;5;28;01mreturn\u001b[39;00m \u001b[38;5;28;43mself\u001b[39;49m\u001b[38;5;241;43m.\u001b[39;49m\u001b[43m_compile_ir\u001b[49m\u001b[43m(\u001b[49m\u001b[43m)\u001b[49m\n",
      "File \u001b[0;32m/opt/conda/lib/python3.10/site-packages/numba/core/compiler.py:527\u001b[0m, in \u001b[0;36mCompilerBase._compile_ir\u001b[0;34m(self)\u001b[0m\n\u001b[1;32m    523\u001b[0m \u001b[38;5;124;03m\"\"\"\u001b[39;00m\n\u001b[1;32m    524\u001b[0m \u001b[38;5;124;03mPopulate and run pipeline for IR input\u001b[39;00m\n\u001b[1;32m    525\u001b[0m \u001b[38;5;124;03m\"\"\"\u001b[39;00m\n\u001b[1;32m    526\u001b[0m \u001b[38;5;28;01massert\u001b[39;00m \u001b[38;5;28mself\u001b[39m\u001b[38;5;241m.\u001b[39mstate\u001b[38;5;241m.\u001b[39mfunc_ir \u001b[38;5;129;01mis\u001b[39;00m \u001b[38;5;129;01mnot\u001b[39;00m \u001b[38;5;28;01mNone\u001b[39;00m\n\u001b[0;32m--> 527\u001b[0m \u001b[38;5;28;01mreturn\u001b[39;00m \u001b[38;5;28;43mself\u001b[39;49m\u001b[38;5;241;43m.\u001b[39;49m\u001b[43m_compile_core\u001b[49m\u001b[43m(\u001b[49m\u001b[43m)\u001b[49m\n",
      "File \u001b[0;32m/opt/conda/lib/python3.10/site-packages/numba/core/compiler.py:499\u001b[0m, in \u001b[0;36mCompilerBase._compile_core\u001b[0;34m(self)\u001b[0m\n\u001b[1;32m    497\u001b[0m         \u001b[38;5;28mself\u001b[39m\u001b[38;5;241m.\u001b[39mstate\u001b[38;5;241m.\u001b[39mstatus\u001b[38;5;241m.\u001b[39mfail_reason \u001b[38;5;241m=\u001b[39m e\n\u001b[1;32m    498\u001b[0m         \u001b[38;5;28;01mif\u001b[39;00m is_final_pipeline:\n\u001b[0;32m--> 499\u001b[0m             \u001b[38;5;28;01mraise\u001b[39;00m e\n\u001b[1;32m    500\u001b[0m \u001b[38;5;28;01melse\u001b[39;00m:\n\u001b[1;32m    501\u001b[0m     \u001b[38;5;28;01mraise\u001b[39;00m CompilerError(\u001b[38;5;124m\"\u001b[39m\u001b[38;5;124mAll available pipelines exhausted\u001b[39m\u001b[38;5;124m\"\u001b[39m)\n",
      "File \u001b[0;32m/opt/conda/lib/python3.10/site-packages/numba/core/compiler.py:486\u001b[0m, in \u001b[0;36mCompilerBase._compile_core\u001b[0;34m(self)\u001b[0m\n\u001b[1;32m    484\u001b[0m res \u001b[38;5;241m=\u001b[39m \u001b[38;5;28;01mNone\u001b[39;00m\n\u001b[1;32m    485\u001b[0m \u001b[38;5;28;01mtry\u001b[39;00m:\n\u001b[0;32m--> 486\u001b[0m     \u001b[43mpm\u001b[49m\u001b[38;5;241;43m.\u001b[39;49m\u001b[43mrun\u001b[49m\u001b[43m(\u001b[49m\u001b[38;5;28;43mself\u001b[39;49m\u001b[38;5;241;43m.\u001b[39;49m\u001b[43mstate\u001b[49m\u001b[43m)\u001b[49m\n\u001b[1;32m    487\u001b[0m     \u001b[38;5;28;01mif\u001b[39;00m \u001b[38;5;28mself\u001b[39m\u001b[38;5;241m.\u001b[39mstate\u001b[38;5;241m.\u001b[39mcr \u001b[38;5;129;01mis\u001b[39;00m \u001b[38;5;129;01mnot\u001b[39;00m \u001b[38;5;28;01mNone\u001b[39;00m:\n\u001b[1;32m    488\u001b[0m         \u001b[38;5;28;01mbreak\u001b[39;00m\n",
      "File \u001b[0;32m/opt/conda/lib/python3.10/site-packages/numba/core/compiler_machinery.py:368\u001b[0m, in \u001b[0;36mPassManager.run\u001b[0;34m(self, state)\u001b[0m\n\u001b[1;32m    365\u001b[0m msg \u001b[38;5;241m=\u001b[39m \u001b[38;5;124m\"\u001b[39m\u001b[38;5;124mFailed in \u001b[39m\u001b[38;5;132;01m%s\u001b[39;00m\u001b[38;5;124m mode pipeline (step: \u001b[39m\u001b[38;5;132;01m%s\u001b[39;00m\u001b[38;5;124m)\u001b[39m\u001b[38;5;124m\"\u001b[39m \u001b[38;5;241m%\u001b[39m \\\n\u001b[1;32m    366\u001b[0m     (\u001b[38;5;28mself\u001b[39m\u001b[38;5;241m.\u001b[39mpipeline_name, pass_desc)\n\u001b[1;32m    367\u001b[0m patched_exception \u001b[38;5;241m=\u001b[39m \u001b[38;5;28mself\u001b[39m\u001b[38;5;241m.\u001b[39m_patch_error(msg, e)\n\u001b[0;32m--> 368\u001b[0m \u001b[38;5;28;01mraise\u001b[39;00m patched_exception\n",
      "File \u001b[0;32m/opt/conda/lib/python3.10/site-packages/numba/core/compiler_machinery.py:356\u001b[0m, in \u001b[0;36mPassManager.run\u001b[0;34m(self, state)\u001b[0m\n\u001b[1;32m    354\u001b[0m pass_inst \u001b[38;5;241m=\u001b[39m _pass_registry\u001b[38;5;241m.\u001b[39mget(pss)\u001b[38;5;241m.\u001b[39mpass_inst\n\u001b[1;32m    355\u001b[0m \u001b[38;5;28;01mif\u001b[39;00m \u001b[38;5;28misinstance\u001b[39m(pass_inst, CompilerPass):\n\u001b[0;32m--> 356\u001b[0m     \u001b[38;5;28;43mself\u001b[39;49m\u001b[38;5;241;43m.\u001b[39;49m\u001b[43m_runPass\u001b[49m\u001b[43m(\u001b[49m\u001b[43midx\u001b[49m\u001b[43m,\u001b[49m\u001b[43m \u001b[49m\u001b[43mpass_inst\u001b[49m\u001b[43m,\u001b[49m\u001b[43m \u001b[49m\u001b[43mstate\u001b[49m\u001b[43m)\u001b[49m\n\u001b[1;32m    357\u001b[0m \u001b[38;5;28;01melse\u001b[39;00m:\n\u001b[1;32m    358\u001b[0m     \u001b[38;5;28;01mraise\u001b[39;00m \u001b[38;5;167;01mBaseException\u001b[39;00m(\u001b[38;5;124m\"\u001b[39m\u001b[38;5;124mLegacy pass in use\u001b[39m\u001b[38;5;124m\"\u001b[39m)\n",
      "File \u001b[0;32m/opt/conda/lib/python3.10/site-packages/numba/core/compiler_lock.py:35\u001b[0m, in \u001b[0;36m_CompilerLock.__call__.<locals>._acquire_compile_lock\u001b[0;34m(*args, **kwargs)\u001b[0m\n\u001b[1;32m     32\u001b[0m \u001b[38;5;129m@functools\u001b[39m\u001b[38;5;241m.\u001b[39mwraps(func)\n\u001b[1;32m     33\u001b[0m \u001b[38;5;28;01mdef\u001b[39;00m \u001b[38;5;21m_acquire_compile_lock\u001b[39m(\u001b[38;5;241m*\u001b[39margs, \u001b[38;5;241m*\u001b[39m\u001b[38;5;241m*\u001b[39mkwargs):\n\u001b[1;32m     34\u001b[0m     \u001b[38;5;28;01mwith\u001b[39;00m \u001b[38;5;28mself\u001b[39m:\n\u001b[0;32m---> 35\u001b[0m         \u001b[38;5;28;01mreturn\u001b[39;00m \u001b[43mfunc\u001b[49m\u001b[43m(\u001b[49m\u001b[38;5;241;43m*\u001b[39;49m\u001b[43margs\u001b[49m\u001b[43m,\u001b[49m\u001b[43m \u001b[49m\u001b[38;5;241;43m*\u001b[39;49m\u001b[38;5;241;43m*\u001b[39;49m\u001b[43mkwargs\u001b[49m\u001b[43m)\u001b[49m\n",
      "File \u001b[0;32m/opt/conda/lib/python3.10/site-packages/numba/core/compiler_machinery.py:311\u001b[0m, in \u001b[0;36mPassManager._runPass\u001b[0;34m(self, index, pss, internal_state)\u001b[0m\n\u001b[1;32m    309\u001b[0m     mutated \u001b[38;5;241m|\u001b[39m\u001b[38;5;241m=\u001b[39m check(pss\u001b[38;5;241m.\u001b[39mrun_initialization, internal_state)\n\u001b[1;32m    310\u001b[0m \u001b[38;5;28;01mwith\u001b[39;00m SimpleTimer() \u001b[38;5;28;01mas\u001b[39;00m pass_time:\n\u001b[0;32m--> 311\u001b[0m     mutated \u001b[38;5;241m|\u001b[39m\u001b[38;5;241m=\u001b[39m \u001b[43mcheck\u001b[49m\u001b[43m(\u001b[49m\u001b[43mpss\u001b[49m\u001b[38;5;241;43m.\u001b[39;49m\u001b[43mrun_pass\u001b[49m\u001b[43m,\u001b[49m\u001b[43m \u001b[49m\u001b[43minternal_state\u001b[49m\u001b[43m)\u001b[49m\n\u001b[1;32m    312\u001b[0m \u001b[38;5;28;01mwith\u001b[39;00m SimpleTimer() \u001b[38;5;28;01mas\u001b[39;00m finalize_time:\n\u001b[1;32m    313\u001b[0m     mutated \u001b[38;5;241m|\u001b[39m\u001b[38;5;241m=\u001b[39m check(pss\u001b[38;5;241m.\u001b[39mrun_finalizer, internal_state)\n",
      "File \u001b[0;32m/opt/conda/lib/python3.10/site-packages/numba/core/compiler_machinery.py:273\u001b[0m, in \u001b[0;36mPassManager._runPass.<locals>.check\u001b[0;34m(func, compiler_state)\u001b[0m\n\u001b[1;32m    272\u001b[0m \u001b[38;5;28;01mdef\u001b[39;00m \u001b[38;5;21mcheck\u001b[39m(func, compiler_state):\n\u001b[0;32m--> 273\u001b[0m     mangled \u001b[38;5;241m=\u001b[39m \u001b[43mfunc\u001b[49m\u001b[43m(\u001b[49m\u001b[43mcompiler_state\u001b[49m\u001b[43m)\u001b[49m\n\u001b[1;32m    274\u001b[0m     \u001b[38;5;28;01mif\u001b[39;00m mangled \u001b[38;5;129;01mnot\u001b[39;00m \u001b[38;5;129;01min\u001b[39;00m (\u001b[38;5;28;01mTrue\u001b[39;00m, \u001b[38;5;28;01mFalse\u001b[39;00m):\n\u001b[1;32m    275\u001b[0m         msg \u001b[38;5;241m=\u001b[39m (\u001b[38;5;124m\"\u001b[39m\u001b[38;5;124mCompilerPass implementations should return True/False. \u001b[39m\u001b[38;5;124m\"\u001b[39m\n\u001b[1;32m    276\u001b[0m                \u001b[38;5;124m\"\u001b[39m\u001b[38;5;124mCompilerPass with name \u001b[39m\u001b[38;5;124m'\u001b[39m\u001b[38;5;132;01m%s\u001b[39;00m\u001b[38;5;124m'\u001b[39m\u001b[38;5;124m did not.\u001b[39m\u001b[38;5;124m\"\u001b[39m)\n",
      "File \u001b[0;32m/opt/conda/lib/python3.10/site-packages/numba/core/object_mode_passes.py:151\u001b[0m, in \u001b[0;36mObjectModeBackEnd.run_pass\u001b[0;34m(self, state)\u001b[0m\n\u001b[1;32m    148\u001b[0m \u001b[38;5;28;01melse\u001b[39;00m:\n\u001b[1;32m    149\u001b[0m     warn_msg \u001b[38;5;241m=\u001b[39m (\u001b[38;5;124m'\u001b[39m\u001b[38;5;124mFunction \u001b[39m\u001b[38;5;124m\"\u001b[39m\u001b[38;5;132;01m%s\u001b[39;00m\u001b[38;5;124m\"\u001b[39m\u001b[38;5;124m was compiled in object mode without\u001b[39m\u001b[38;5;124m'\u001b[39m\n\u001b[1;32m    150\u001b[0m                 \u001b[38;5;124m'\u001b[39m\u001b[38;5;124m forceobj=True.\u001b[39m\u001b[38;5;124m'\u001b[39m \u001b[38;5;241m%\u001b[39m (state\u001b[38;5;241m.\u001b[39mfunc_id\u001b[38;5;241m.\u001b[39mfunc_name,))\n\u001b[0;32m--> 151\u001b[0m \u001b[43mwarnings\u001b[49m\u001b[38;5;241;43m.\u001b[39;49m\u001b[43mwarn\u001b[49m\u001b[43m(\u001b[49m\u001b[43merrors\u001b[49m\u001b[38;5;241;43m.\u001b[39;49m\u001b[43mNumbaWarning\u001b[49m\u001b[43m(\u001b[49m\u001b[43mwarn_msg\u001b[49m\u001b[43m,\u001b[49m\n\u001b[1;32m    152\u001b[0m \u001b[43m                                  \u001b[49m\u001b[43mstate\u001b[49m\u001b[38;5;241;43m.\u001b[39;49m\u001b[43mfunc_ir\u001b[49m\u001b[38;5;241;43m.\u001b[39;49m\u001b[43mloc\u001b[49m\u001b[43m)\u001b[49m\u001b[43m)\u001b[49m\n\u001b[1;32m    154\u001b[0m url \u001b[38;5;241m=\u001b[39m (\u001b[38;5;124m\"\u001b[39m\u001b[38;5;124mhttps://numba.readthedocs.io/en/stable/reference/\u001b[39m\u001b[38;5;124m\"\u001b[39m\n\u001b[1;32m    155\u001b[0m        \u001b[38;5;124m\"\u001b[39m\u001b[38;5;124mdeprecation.html#deprecation-of-object-mode-fall-\u001b[39m\u001b[38;5;124m\"\u001b[39m\n\u001b[1;32m    156\u001b[0m        \u001b[38;5;124m\"\u001b[39m\u001b[38;5;124mback-behaviour-when-using-jit\u001b[39m\u001b[38;5;124m\"\u001b[39m)\n\u001b[1;32m    157\u001b[0m msg \u001b[38;5;241m=\u001b[39m (\u001b[38;5;124m\"\u001b[39m\u001b[38;5;130;01m\\n\u001b[39;00m\u001b[38;5;124mFall-back from the nopython compilation path to the \u001b[39m\u001b[38;5;124m\"\u001b[39m\n\u001b[1;32m    158\u001b[0m        \u001b[38;5;124m\"\u001b[39m\u001b[38;5;124mobject mode compilation path has been detected, this is \u001b[39m\u001b[38;5;124m\"\u001b[39m\n\u001b[1;32m    159\u001b[0m        \u001b[38;5;124m\"\u001b[39m\u001b[38;5;124mdeprecated behaviour.\u001b[39m\u001b[38;5;130;01m\\n\u001b[39;00m\u001b[38;5;130;01m\\n\u001b[39;00m\u001b[38;5;124mFor more information visit \u001b[39m\u001b[38;5;132;01m%s\u001b[39;00m\u001b[38;5;124m\"\u001b[39m \u001b[38;5;241m%\u001b[39m\n\u001b[1;32m    160\u001b[0m        url)\n",
      "\u001b[0;31mNumbaWarning\u001b[0m: Failed in object mode pipeline (step: object mode frontend)\nFailed in object mode pipeline (step: object mode backend)\nFunction \"metropolisSamplingFunction\" was compiled in object mode without forceobj=True, but has lifted loops.\n\nFile \"../../../../../../tmp/ipykernel_4218/418465071.py\", line 34:\n<source missing, REPL/exec in use?>\n"
     ]
    }
   ],
   "source": [
    "\n",
    "# to save list of average energies from each configuration subspace \n",
    "energyInConfigSpaceList = []\n",
    "\n",
    "\n",
    "# for each configuration subspace \n",
    "for i in range(M): \n",
    "    \n",
    "    # generating initial Metropolis samples and Thermalisation\n",
    "    configSubspace_Metropolis = metropolisSamplingFunction( coordinateValueRange=  coordinateValueRange, \n",
    "                                                           numberOfParticles = numberOfParticles,  \n",
    "                                                           numberOfConfig = numberOfConfig, \n",
    "                                                           probabilityFunction=probabilityFunc, \n",
    "                                                           numberOfIterations = numberOfIterations, \n",
    "                                                           params = parametersList)\n",
    "    \n",
    "    \n",
    "    energyInConfigSubspaceList = []           # for saving the energy values in this subspace \n",
    "    \n",
    "    \n",
    " \n",
    "    # energy computation for each Metropolis suggestion\n",
    "    # for each configuration \n",
    "    for configIndex in range(configSubspace_Metropolis.shape[1]): \n",
    "        # current configuration in format: \n",
    "        #  array([[-0.5583685 , -0.04608995,  0.15500853],\n",
    "       # [ 0.66255653,  0.66301583, -0.85159876]])\n",
    "        # each row representing one particle's position  \n",
    "        currentConfig = configSubspace_Metropolis[:, configIndex, :]   \n",
    "        \n",
    "        # for each particle's displacement, compute energy \n",
    "        for nthParticleIndex in range(len(currentConfig)): \n",
    "            # making Metropolis-suggestion on single particle\n",
    "            updatedConfig = metropolisStepSuggestion(configuration= currentConfig, \n",
    "                                                    nthParticle= nthParticleIndex, \n",
    "                                                    probabilityFunction=probabilityFunc, \n",
    "                                                    params=parametersList)\n",
    "            \n",
    "            # update configuration subspace \n",
    "            configSubspace_Metropolis[:, configIndex, :] = updatedConfig\n",
    "            \n",
    "            \n",
    "            # compute energy \n",
    "            energyInConfigSubspace = monteCarloIntegrationFunction(samples= configSubspace_Metropolis, \n",
    "                                                                     localEnergyFunction=localEnergyFunc, \n",
    "                                                                     params=parametersList)\n",
    "            \n",
    "            # append to the list \n",
    "            energyInConfigSubspaceList.append(energyInConfigSubspace)\n",
    "        \n",
    "    \n",
    "    # compute mean energy of this subspace and append it to the whole space list \n",
    "    energyInConfigSpaceList.append(np.mean(energyInConfigSubspaceList))\n",
    "    \n",
    "    print(f'{i}.loop completed')\n",
    "    \n",
    "            \n",
    "            \n",
    "        \n",
    "        \n",
    "    "
   ]
  },
  {
   "cell_type": "markdown",
   "id": "3d4f1cb3-9122-4187-bd35-739f80993ce4",
   "metadata": {},
   "source": [
    "## compute energy approximation "
   ]
  },
  {
   "cell_type": "code",
   "execution_count": null,
   "id": "02d37161-d960-441e-830f-12921b1005cb",
   "metadata": {
    "tags": []
   },
   "outputs": [],
   "source": [
    "# compute mean \n",
    "energyMean =np.mean(energyInConfigSpaceList)\n",
    "\n",
    "\n",
    "# compute variance and std error of mean, if there are more than 1 samples \n",
    "if len(energyInConfigSpaceList)> 1: \n",
    "    # sample variance (N-1)\n",
    "    energyVar =np.var(energyInConfigSpaceList, ddof= 1)\n",
    "\n",
    "    # std error of mean \n",
    "    energyError = energyVar/len(energyInConfigSpaceList)\n",
    "    \n",
    "    \n",
    "    # printing the values \n",
    "    print('Mean:', energyMean)\n",
    "    print('Variance:', energyError)\n",
    "    print('Std error of mean:', energyError)\n",
    "    \n",
    "    # saving values \n",
    "    energyDict['Energy'].append(energyMean)\n",
    "    energyDict['Variance'].append(energyVar)\n",
    "    energyDict['std error'].append(energyError)\n",
    "else: \n",
    "    print('Variance and std error of mean cannot be calculated: There is only 1 sample')\n",
    "    print()\n",
    "    print(energyMean)\n",
    "    \n",
    "    # saving values \n",
    "    energyDict['Energy'].append(energyMean)\n",
    "    energyDict['Variance'].append(0)\n",
    "    energyDict['std error'].append(0)\n",
    "    \n",
    "    \n"
   ]
  },
  {
   "cell_type": "markdown",
   "id": "c7741bda-e4a6-4102-b02c-3cfd28b1620c",
   "metadata": {
    "tags": []
   },
   "source": [
    "# Optimization of parameters "
   ]
  },
  {
   "cell_type": "code",
   "execution_count": null,
   "id": "03b4620a-e935-46c1-8397-705e7a69df0e",
   "metadata": {},
   "outputs": [],
   "source": [
    "parametersList"
   ]
  },
  {
   "cell_type": "code",
   "execution_count": null,
   "id": "701512fb-7c51-47ab-baac-da5f3f74c214",
   "metadata": {
    "tags": []
   },
   "outputs": [],
   "source": [
    "# generate new Metropolis samples\n",
    "metropolisSamples_Opt = metropolisSamplingFunction( coordinateValueRange=  coordinateValueRange, \n",
    "                                                           numberOfParticles = numberOfParticles,  \n",
    "                                                           numberOfConfig = numberOfConfig, \n",
    "                                                           probabilityFunction=probabilityFunc, \n",
    "                                                           numberOfIterations = numberOfIterations, \n",
    "                                                           params = parametersList)\n",
    "\n",
    "\n",
    "\n",
    "# optimizing \n",
    "parametersList = gradientDescentFunction(monteCarloIntegrationFunc=monteCarloIntegrationFunction, \n",
    "                                        function=localEnergyFunc, \n",
    "                                        learning_rate= 0.001, \n",
    "                                        samples= metropolisSamples_Opt, \n",
    "                                        parameters=parametersList)"
   ]
  },
  {
   "cell_type": "code",
   "execution_count": null,
   "id": "364c6101-d777-4d24-88f2-7ed0f77dc990",
   "metadata": {},
   "outputs": [],
   "source": [
    "parametersList "
   ]
  },
  {
   "cell_type": "code",
   "execution_count": null,
   "id": "55c0138e-5eb7-4ceb-89be-c639ae1eb43c",
   "metadata": {},
   "outputs": [],
   "source": []
  },
  {
   "cell_type": "code",
   "execution_count": null,
   "id": "747d98b6-bbe5-46c0-bb6f-80a5c67e7004",
   "metadata": {},
   "outputs": [],
   "source": []
  },
  {
   "cell_type": "code",
   "execution_count": null,
   "id": "2cff2afb-61f1-43e2-aa4a-7077f051501e",
   "metadata": {},
   "outputs": [],
   "source": []
  },
  {
   "cell_type": "code",
   "execution_count": null,
   "id": "2d34bb62-0bec-4aef-b47f-255914bf70f0",
   "metadata": {},
   "outputs": [],
   "source": []
  },
  {
   "cell_type": "code",
   "execution_count": null,
   "id": "67d3f838-061e-4a2c-843c-663d9ac16ecc",
   "metadata": {},
   "outputs": [],
   "source": []
  },
  {
   "cell_type": "code",
   "execution_count": null,
   "id": "017619da-776b-41cc-8442-8a8b04d380bb",
   "metadata": {},
   "outputs": [],
   "source": []
  },
  {
   "cell_type": "code",
   "execution_count": null,
   "id": "d22f711c-1343-4ac5-a2d6-c0df673da790",
   "metadata": {},
   "outputs": [],
   "source": []
  },
  {
   "cell_type": "code",
   "execution_count": null,
   "id": "4b059910-1e44-4327-bced-bb633f69642e",
   "metadata": {},
   "outputs": [],
   "source": []
  },
  {
   "cell_type": "code",
   "execution_count": null,
   "id": "19b1efad-b738-4ed4-b242-9142bc871c32",
   "metadata": {},
   "outputs": [],
   "source": []
  },
  {
   "cell_type": "code",
   "execution_count": null,
   "id": "3218bfef-fe45-49bf-b22a-c5520089779f",
   "metadata": {},
   "outputs": [],
   "source": []
  },
  {
   "cell_type": "code",
   "execution_count": null,
   "id": "f9c8db84-cf39-4697-93bd-467f0ad58822",
   "metadata": {},
   "outputs": [],
   "source": []
  },
  {
   "cell_type": "code",
   "execution_count": null,
   "id": "afe71f15-73bb-42de-9831-b263c16cc7f8",
   "metadata": {},
   "outputs": [],
   "source": []
  },
  {
   "cell_type": "code",
   "execution_count": null,
   "id": "037ab18a-2423-42da-84a1-dde5c7cce6af",
   "metadata": {},
   "outputs": [],
   "source": []
  },
  {
   "cell_type": "code",
   "execution_count": null,
   "id": "6fb34a4f-98c2-4c22-af1d-c51f0e0b7724",
   "metadata": {},
   "outputs": [],
   "source": []
  },
  {
   "cell_type": "code",
   "execution_count": null,
   "id": "3ece6cb5-3695-4b67-b8f0-ced09b4f3761",
   "metadata": {},
   "outputs": [],
   "source": []
  },
  {
   "cell_type": "code",
   "execution_count": null,
   "id": "d0c05700-90f5-49f7-bf39-139a7d3e94b6",
   "metadata": {},
   "outputs": [],
   "source": []
  },
  {
   "cell_type": "code",
   "execution_count": null,
   "id": "b69edb2f-2d3a-4d27-9da4-d967d280b916",
   "metadata": {},
   "outputs": [],
   "source": []
  },
  {
   "cell_type": "code",
   "execution_count": null,
   "id": "6945eec6-5324-4c5f-913d-7b97cf014b03",
   "metadata": {},
   "outputs": [],
   "source": []
  },
  {
   "cell_type": "code",
   "execution_count": null,
   "id": "a407e9ad-0533-4d17-b5e0-668454369320",
   "metadata": {},
   "outputs": [],
   "source": []
  },
  {
   "cell_type": "code",
   "execution_count": null,
   "id": "96a82510-528e-437c-829b-b27e6ec2c3cc",
   "metadata": {},
   "outputs": [],
   "source": []
  },
  {
   "cell_type": "code",
   "execution_count": null,
   "id": "62986538-8eb3-467a-a52c-b990d337a22a",
   "metadata": {},
   "outputs": [],
   "source": []
  },
  {
   "cell_type": "code",
   "execution_count": null,
   "id": "0ae98407-dfc0-4ca4-bd1d-6bfd1269a515",
   "metadata": {},
   "outputs": [],
   "source": []
  },
  {
   "cell_type": "code",
   "execution_count": null,
   "id": "da76be10-89e7-4c53-bff7-f506730d7763",
   "metadata": {},
   "outputs": [],
   "source": []
  },
  {
   "cell_type": "code",
   "execution_count": null,
   "id": "89d98b41-8ea6-40cc-82f6-8a13bf1d57e2",
   "metadata": {},
   "outputs": [],
   "source": []
  },
  {
   "cell_type": "code",
   "execution_count": null,
   "id": "23aeb7ce-0880-4d06-9b64-f759faace84b",
   "metadata": {},
   "outputs": [],
   "source": []
  },
  {
   "cell_type": "code",
   "execution_count": null,
   "id": "dd14cd68-b6d8-4ea9-babc-f63738aa0cfe",
   "metadata": {},
   "outputs": [],
   "source": []
  },
  {
   "cell_type": "code",
   "execution_count": null,
   "id": "b443e2b2-b921-4e9e-aaa2-2b63e810f628",
   "metadata": {},
   "outputs": [],
   "source": []
  },
  {
   "cell_type": "code",
   "execution_count": null,
   "id": "f8e1af3f-434b-4ff6-b360-f852c9892c61",
   "metadata": {},
   "outputs": [],
   "source": []
  },
  {
   "cell_type": "code",
   "execution_count": null,
   "id": "da7ce80e-76eb-41f6-a3fd-19878dad2c80",
   "metadata": {},
   "outputs": [],
   "source": []
  },
  {
   "cell_type": "code",
   "execution_count": null,
   "id": "03393ffc-8773-4c75-9087-b77851f14b68",
   "metadata": {},
   "outputs": [],
   "source": []
  }
 ],
 "metadata": {
  "kernelspec": {
   "display_name": "Python 3 (ipykernel)",
   "language": "python",
   "name": "python3"
  },
  "language_info": {
   "codemirror_mode": {
    "name": "ipython",
    "version": 3
   },
   "file_extension": ".py",
   "mimetype": "text/x-python",
   "name": "python",
   "nbconvert_exporter": "python",
   "pygments_lexer": "ipython3",
   "version": "3.10.4"
  }
 },
 "nbformat": 4,
 "nbformat_minor": 5
}
