{
 "cells": [
  {
   "cell_type": "markdown",
   "id": "ff6fa4b4-1d3c-4ccd-bd09-0e3714be2b87",
   "metadata": {},
   "source": [
    "# Auxiliary functions (no mathematical functions)"
   ]
  },
  {
   "cell_type": "code",
   "execution_count": 1,
   "id": "cc2a60cd-671e-411a-a550-c86a01cc4e8f",
   "metadata": {
    "tags": []
   },
   "outputs": [],
   "source": [
    "import re \n",
    "import json "
   ]
  },
  {
   "cell_type": "markdown",
   "id": "53818774-24fb-4d28-9108-356eacdaedc6",
   "metadata": {},
   "source": [
    "# File reading and saving "
   ]
  },
  {
   "cell_type": "markdown",
   "id": "e572b95c-0d2a-4990-b0ac-36270c7821a5",
   "metadata": {},
   "source": [
    "## Read file to a string "
   ]
  },
  {
   "cell_type": "code",
   "execution_count": 13,
   "id": "922160a6-9ce1-4366-a252-dd799b737c0b",
   "metadata": {},
   "outputs": [],
   "source": [
    "def readFileToString(absolutePath: str) -> str:  \n",
    "    '''\n",
    "    Read file by absolute path. Returns string \n",
    "    \n",
    "    \n",
    "    Parameters\n",
    "    ----------\n",
    "        absolutePath: absolute path of the file \n",
    "        \n",
    "    \n",
    "    Return\n",
    "    ------\n",
    "        Returns the content of the file as string \n",
    "    \n",
    "    '''\n",
    "    \n",
    "    file = open(absolutePath, 'r') \n",
    "    filecontent = file.read()   \n",
    "    file.close()     # closing the file \n",
    "    return filecontent\n"
   ]
  },
  {
   "cell_type": "markdown",
   "id": "308994ad-1baa-4120-82fe-67e5fcf86874",
   "metadata": {},
   "source": [
    "# Checkpoints running the program "
   ]
  },
  {
   "cell_type": "markdown",
   "id": "28bdb8cb-853a-4e0a-9ca9-7fd30a1b86a6",
   "metadata": {},
   "source": [
    "Save data during running. So we can interupt the program when necessary, without losing valuable data. "
   ]
  },
  {
   "cell_type": "markdown",
   "id": "6f67fb44-3fb3-4d0a-95d6-5aac03e697c2",
   "metadata": {},
   "source": [
    "## Save parameters and energy estimates "
   ]
  },
  {
   "cell_type": "markdown",
   "id": "5b1bdc4b-a0a1-43fe-9bb7-2bb24dfce0d5",
   "metadata": {},
   "source": [
    "Assuming parametersDict and energyDict contains the whole history of training. "
   ]
  },
  {
   "cell_type": "code",
   "execution_count": null,
   "id": "dd3f10ab-2f97-4b33-b744-63586ac581e1",
   "metadata": {},
   "outputs": [],
   "source": [
    "def saveParamsAndEnergyEstimates(parametersDict: dict, energyDict: dict , parametersFilename: str, energyFilename: str) -> None: \n",
    "    '''\n",
    "    Save parameters dictionary and energy estimates dictionary from energyDict and parametersHistoryList to a file. \n",
    "    Deleting pre-existing content in the files. \n",
    "    \n",
    "    Parameters\n",
    "    ----------\n",
    "        parametersDict: parameters dictionary \n",
    "        \n",
    "        energyDict: energy dictionary \n",
    "        \n",
    "        parametersFilename: filename for parametersDict \n",
    "        \n",
    "        energyFilename: filename for energyDict\n",
    "    \n",
    "    Return\n",
    "    ------\n",
    "        Files are created \n",
    "    '''\n",
    "    \n",
    "    \n",
    "    # try to create the files if not exists \n",
    "    try: \n",
    "        parametersFile = open(parametersFilename, 'x')\n",
    "        energyFile = open(energyFilename, 'x')\n",
    "    except FileExistsError:  \n",
    "        # open both files for writing: first removing pre-existing data in the files \n",
    "        parametersFile = open(parametersFilename, 'w') \n",
    "        energyFile = open(energyFilename, 'w')\n",
    "    except: \n",
    "        raise Exception('ERROR! Something is not right when opening files!!')\n",
    "        \n",
    "        \n",
    "    # write to files \n",
    "    json.dump(parametersDict, parametersFile)\n",
    "    json.dump(energyDict, energyFile)\n",
    "\n",
    "    \n",
    "    # closing the files \n",
    "    parametersFile.close()\n",
    "    energyFile.close()\n",
    "    \n",
    "    "
   ]
  },
  {
   "cell_type": "markdown",
   "id": "2a876cb4-5fa1-49c7-a79f-d8005447b148",
   "metadata": {},
   "source": [
    "## reading from json "
   ]
  },
  {
   "cell_type": "code",
   "execution_count": null,
   "id": "a9fd6156-b19c-4fff-9783-a27644d6f13b",
   "metadata": {},
   "outputs": [],
   "source": [
    "def readFromJson(filename: str) -> dict: \n",
    "    '''\n",
    "    Convert json file into dictionary\n",
    "    '''\n",
    "    \n",
    "    with open(filename, 'r') as file: \n",
    "        json_object = json.load(file)\n",
    "    return json_object"
   ]
  },
  {
   "cell_type": "markdown",
   "id": "f53d0af2-e234-41a6-9cbf-4abd4277b5e5",
   "metadata": {},
   "source": [
    "# Handling of python-compatible formulae "
   ]
  },
  {
   "cell_type": "markdown",
   "id": "f2e33955-9c79-4297-905c-48d86057b8b8",
   "metadata": {},
   "source": [
    "## Finding variables"
   ]
  },
  {
   "cell_type": "markdown",
   "id": "8b726d26-b76d-4fbe-a0e2-dad0c6c48abf",
   "metadata": {},
   "source": [
    "Find all variables in python-compatible formula string. "
   ]
  },
  {
   "cell_type": "code",
   "execution_count": 14,
   "id": "d27c03a8-456b-4ffa-a81b-4f006459a8f8",
   "metadata": {
    "tags": []
   },
   "outputs": [],
   "source": [
    "def findVariables(exprStr: str) -> tuple:\n",
    "    '''\n",
    "    Extract variables in expression string. \n",
    "    \n",
    "    Parameters\n",
    "    ---------\n",
    "        exprStr: expression as string. Supposed to be Python-compatible formula (at least Fortran, but not tested)\n",
    "        \n",
    "    \n",
    "    Return\n",
    "    ------\n",
    "    Tuple of two lists. \n",
    "    \n",
    "        First one: alphanumerically-ordered coordinate list e.g.\n",
    "        ['x1', 'x2', 'x3', 'y1', 'y2', 'y3', 'z1', 'z2', 'z3']\n",
    "        \n",
    "        Second one: alphanumerically-ordered  parameters list \n",
    "        e.g. ['A1', 'A2']\n",
    "        \n",
    "    '''\n",
    "    \n",
    "    patternForCoordinates = r'[xyz]{1}[123]{1}'                   # pattern for: x1, x2, y1 etc. \n",
    "    patternForParameters = r'[A-Z]{1}\\d{1}'                # pattern for: A1, A2, ... Z9  \n",
    "    \n",
    "    coordinateList =sorted(list(set( re.findall(patternForCoordinates, exprStr)  )))\n",
    "    parametersList =sorted(list(set(  re.findall(patternForParameters, exprStr) )))\n",
    "    \n",
    "    return coordinateList, parametersList \n",
    "    \n",
    "    "
   ]
  },
  {
   "cell_type": "markdown",
   "id": "ebfc99b3-141d-4448-804f-48ab63a882dc",
   "metadata": {},
   "source": [
    "## Regrouping coordinates "
   ]
  },
  {
   "cell_type": "markdown",
   "id": "eb687535-9cba-4037-9e07-5feb28995792",
   "metadata": {},
   "source": [
    "Regrouping the coordinates from the output of the previous function `findVariables` into form [(x1, y1, z1), (x2, y2, z2)]: "
   ]
  },
  {
   "cell_type": "code",
   "execution_count": 2,
   "id": "99655932-acac-483f-8dcd-b33f441948ac",
   "metadata": {
    "tags": []
   },
   "outputs": [],
   "source": [
    "def regroupToCoordinateTriple_findVariables(coordinateList: list, isCoordinateTripletInTuple: bool = False ) -> list: \n",
    "    '''\n",
    "    Regrouping the coordinates from the output of the previous function `findVariables` into form [(x1, y1, z1), (x2, y2, z2)]\n",
    "    \n",
    "    Parameters\n",
    "    ----------\n",
    "        coordinateList: output coordinates from findVariables-function \n",
    "        \n",
    "        isCoordinateTripletInTuple: whether the output coordinate triples be separated by parentheses (see Return)\n",
    "        \n",
    "    Return\n",
    "    ------\n",
    "        list of traditional coordinatetriplets [(x1, y1, z1), (x2, y2, z2)] or in ordered list without parentheses [x1, y1, z1, x2, y2, z2 ]\n",
    "        \n",
    "    Warning\n",
    "    -------\n",
    "        User check that the coordinateList is the output of the function `findVariables` \n",
    "    '''\n",
    "    \n",
    "    tripletList = []   # save all triplets \n",
    "    \n",
    "    \n",
    "    # each particle's components \n",
    "    xCoordinates = []\n",
    "    yCoordinates = []\n",
    "    zCoordinates = []\n",
    "    \n",
    "    \n",
    "    # separating each particle's component into their lists \n",
    "    for component in coordinateList: \n",
    "        if 'x' in component: \n",
    "            xCoordinates.append(component) \n",
    "        elif 'y' in component: \n",
    "            yCoordinates.append(component)\n",
    "        elif 'z' in component:   \n",
    "            zCoordinates.append(component)\n",
    "        else: \n",
    "            raise Exception(\"No other than x,y,z components\")\n",
    "    \n",
    "    \n",
    "    \n",
    "    \n",
    "    if isCoordinateTripletInTuple: \n",
    "        # forming triplets \n",
    "        for x,y,z in zip(xCoordinates, yCoordinates, zCoordinates): \n",
    "            tripletList.append((x,y,z))\n",
    "    else: \n",
    "        # forming ordered list \n",
    "        for x,y,z in zip(xCoordinates, yCoordinates, zCoordinates): \n",
    "            tripletList.append(x)\n",
    "            tripletList.append(y)\n",
    "            tripletList.append(z)\n",
    "        \n",
    "        \n",
    "    return tripletList\n",
    "    \n",
    "    \n",
    "    \n",
    "    \n",
    "    "
   ]
  },
  {
   "cell_type": "markdown",
   "id": "32563dee-ab4f-4694-ada5-fe74dfe1013a",
   "metadata": {
    "tags": []
   },
   "source": [
    "# Error handling "
   ]
  },
  {
   "cell_type": "markdown",
   "id": "44b49b72-9171-41b1-a245-31c8649ab4a9",
   "metadata": {},
   "source": [
    "### check number of initial guess is same as number of parameters found "
   ]
  },
  {
   "cell_type": "code",
   "execution_count": 3,
   "id": "d7d93c25-7b88-4536-a742-9178315a7e71",
   "metadata": {},
   "outputs": [],
   "source": [
    "def check_numberOfIni_VS_numberOfFound_parameters(initialGuessList:list, foundParameters: list): \n",
    "    if len(initialGuessList) != len(foundParameters): \n",
    "        raise Exception(\"Number of initial guess not matching number of found parameters\")"
   ]
  },
  {
   "cell_type": "markdown",
   "id": "fed27b91-2a30-48ad-8370-27092114f1d1",
   "metadata": {},
   "source": [
    "# Unit conversion"
   ]
  },
  {
   "cell_type": "code",
   "execution_count": 1,
   "id": "d842d410-264d-40f0-91e9-95d0edc710e2",
   "metadata": {
    "tags": []
   },
   "outputs": [],
   "source": [
    "def hatreeToSI_energy(hatree_energy): \n",
    "    return 4.3597447222071e-18* hatree_energy "
   ]
  },
  {
   "cell_type": "code",
   "execution_count": null,
   "id": "a7f1c612-d8b2-4404-991a-effdb11d13b3",
   "metadata": {},
   "outputs": [],
   "source": []
  }
 ],
 "metadata": {
  "kernelspec": {
   "display_name": "Python 3 (ipykernel)",
   "language": "python",
   "name": "python3"
  },
  "language_info": {
   "codemirror_mode": {
    "name": "ipython",
    "version": 3
   },
   "file_extension": ".py",
   "mimetype": "text/x-python",
   "name": "python",
   "nbconvert_exporter": "python",
   "pygments_lexer": "ipython3",
   "version": "3.10.4"
  }
 },
 "nbformat": 4,
 "nbformat_minor": 5
}
