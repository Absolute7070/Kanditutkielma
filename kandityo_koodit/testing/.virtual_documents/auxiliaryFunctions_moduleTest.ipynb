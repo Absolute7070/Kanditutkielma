get_ipython().run_line_magic("run", " /home/degnaiyu/Työpöytä/kanditutkielma/kandityo_koodit/main/auxiliaryFunctions.ipynb")


probabilityString = 'math.exp(-2*math.sqrt(x2**2 + y2**2 + z2**2) -      (2*A2*(1 - math.exp           (-math.sqrt(abs(x1 - x2)**2 + abs(y1 - y2)**2 + abs(z1 - z2)**2)/             math.sqrt(A2))))/      math.sqrt(abs(x1 - x2)**2 + abs(y1 - y2)**2 + abs(z1 - z2)**2) -      (2*A1*(1 - math.exp           (-math.sqrt(abs(x1 - x3)**2 + abs(y1 - y3)**2 + abs(z1 - z3)**2)/             (math.sqrt(2)*math.sqrt(A1)))))/      math.sqrt(abs(x1 - x3)**2 + abs(y1 - y3)**2 + abs(z1 - z3)**2) -      (2*A2*(1 - math.exp           (-math.sqrt(abs(x2 - x3)**2 + abs(y2 - y3)**2 + abs(z2 - z3)**2)/             math.sqrt(A2))))/      math.sqrt(abs(x2 - x3)**2 + abs(y2 - y3)**2 + abs(z2 - z3)**2))*  (-2*math.exp(-0.5*math.sqrt(x1**2 + y1**2 + z1**2) - math.sqrt(x3**2 + y3**2 + z3**2)) +      2*math.exp(-math.sqrt(x1**2 + y1**2 + z1**2) - math.sqrt(x3**2 + y3**2 + z3**2)/2.) +      math.exp(-0.5*math.sqrt(x1**2 + y1**2 + z1**2) - math.sqrt(x3**2 + y3**2 + z3**2))*      math.sqrt(x1**2 + y1**2 + z1**2) -      math.exp(-math.sqrt(x1**2 + y1**2 + z1**2) - math.sqrt(x3**2 + y3**2 + z3**2)/2.)*      math.sqrt(x3**2 + y3**2 + z3**2))**2'

coordinates, parameters = findVariables(probabilityString)
print('Coordinates', coordinates)
print('Parameters',parameters)
    
    



print(regroupToCoordinateTriple_findVariables(['x1', 'x2', 'x3', 'y1', 'y2', 'y3', 'z1', 'z2', 'z3'], isCoordinateTripletInTuple=True      ) )
print(regroupToCoordinateTriple_findVariables(['x1', 'x2', 'y1', 'y2', 'z1', 'z2'], isCoordinateTripletInTuple=True   ))
print(regroupToCoordinateTriple_findVariables(['x1', 'x2', 'x3', 'y1', 'y2', 'y3', 'z1', 'z2', 'z3', 'A1', 'A2'], isCoordinateTripletInTuple=True   ))



print(regroupToCoordinateTriple_findVariables(['x1', 'x2', 'x3', 'y1', 'y2', 'y3', 'z1', 'z2', 'z3'], isCoordinateTripletInTuple=False      ) )
print(regroupToCoordinateTriple_findVariables(['x1', 'x2', 'y1', 'y2', 'z1', 'z2'], isCoordinateTripletInTuple=False   ))
print(regroupToCoordinateTriple_findVariables(['x1', 'x2', 'x3', 'y1', 'y2', 'y3', 'z1', 'z2', 'z3', 'A1', 'A2'], isCoordinateTripletInTuple=False ))






