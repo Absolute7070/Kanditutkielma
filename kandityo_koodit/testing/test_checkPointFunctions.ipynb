{
 "cells": [
  {
   "cell_type": "code",
   "execution_count": 58,
   "id": "0e90b980-8b35-4f30-824e-1db08127dbc1",
   "metadata": {
    "tags": []
   },
   "outputs": [
    {
     "data": {
      "text/plain": [
       "['/home/degnaiyu/Työpöytä/kanditutkielma/kandityo_koodit/testaus',\n",
       " '/opt/conda/lib/python310.zip',\n",
       " '/opt/conda/lib/python3.10',\n",
       " '/opt/conda/lib/python3.10/lib-dynload',\n",
       " '',\n",
       " '/home/degnaiyu/.local/lib/python3.10/site-packages',\n",
       " '/opt/conda/lib/python3.10/site-packages']"
      ]
     },
     "execution_count": 58,
     "metadata": {},
     "output_type": "execute_result"
    }
   ],
   "source": [
    "import sys \n",
    "sys.path"
   ]
  },
  {
   "cell_type": "code",
   "execution_count": 51,
   "id": "fce4607c-2fb5-4a54-bf59-35ec3d3b639a",
   "metadata": {
    "tags": []
   },
   "outputs": [],
   "source": [
    "import json "
   ]
  },
  {
   "cell_type": "code",
   "execution_count": 52,
   "id": "cd9d1300-4031-4e21-9b47-a786d7d90dc9",
   "metadata": {
    "tags": []
   },
   "outputs": [],
   "source": [
    "def saveParamsAndEnergyEstimates(parametersDict: dict, energyDict: dict , parametersFilename: str, energyFilename: str) -> None: \n",
    "    '''\n",
    "    Save parameters list and energy estimates dictionary from energyDict and parametersHistoryList\n",
    "    \n",
    "    Parameters\n",
    "    ----------\n",
    "        parametersDict: parameters dictionary \n",
    "        \n",
    "        energyDict: energy dictionary \n",
    "        \n",
    "        parametersFilename: filename for parametersDict \n",
    "        \n",
    "        energyFilename: filename for energyDict\n",
    "    \n",
    "    Return\n",
    "    ------\n",
    "        Files are created \n",
    "    '''\n",
    "    \n",
    "    \n",
    "    # try to create the files if not exists \n",
    "    try: \n",
    "        parametersFile = open(parametersFilename, 'x')\n",
    "        energyFile = open(energyFilename, 'x')\n",
    "    except FileExistsError:  \n",
    "        # open both files for writing: first removing pre-existing data in the files \n",
    "        parametersFile = open(parametersFilename, 'w') \n",
    "        energyFile = open(energyFilename, 'w')\n",
    "    except: \n",
    "        raise Exception('ERROR! Something is not right when opening files!!')\n",
    "        \n",
    "        \n",
    "    # write to files \n",
    "    json.dump(parametersDict, parametersFile)\n",
    "    json.dump(energyDict, energyFile)\n",
    "\n",
    "    \n",
    "    # closing the files \n",
    "    parametersFile.close()\n",
    "    energyFile.close()\n",
    "    \n",
    "    "
   ]
  },
  {
   "cell_type": "code",
   "execution_count": 53,
   "id": "06de89c2-0ace-4af2-a5f8-99026b33f116",
   "metadata": {
    "tags": []
   },
   "outputs": [],
   "source": [
    "def readFromJson(filename: str) -> None: \n",
    "    with open(filename, 'r') as file: \n",
    "        json_object = json.load(file)\n",
    "    return json_object"
   ]
  },
  {
   "cell_type": "code",
   "execution_count": 54,
   "id": "ffc2d11e-81e2-4277-b493-8db72f1ad19d",
   "metadata": {
    "tags": []
   },
   "outputs": [],
   "source": [
    "paramsdict = {\n",
    "    0: [1,2,3 ], \n",
    "    2: [2]\n",
    "}\n",
    "energydict = {\n",
    "    0: [1, 132, 'mitä'], \n",
    "    2: [2, 'moikka', 'terveisin']\n",
    "}"
   ]
  },
  {
   "cell_type": "code",
   "execution_count": 55,
   "id": "e382ef3e-271e-4b2b-8ee1-85ba4713780a",
   "metadata": {
    "tags": []
   },
   "outputs": [],
   "source": [
    "saveParamsAndEnergyEstimates(parametersDict=paramsdict, energyDict= energydict, parametersFilename='parametersDict.json', energyFilename='energyDict.json')"
   ]
  },
  {
   "cell_type": "code",
   "execution_count": 56,
   "id": "e2b34a7b-24f5-4c65-93ea-8de4830999a6",
   "metadata": {
    "tags": []
   },
   "outputs": [
    {
     "data": {
      "text/plain": [
       "{'0': [1, 2, 3], '2': [2]}"
      ]
     },
     "execution_count": 56,
     "metadata": {},
     "output_type": "execute_result"
    }
   ],
   "source": [
    "readFromJson('parametersDict.json')"
   ]
  },
  {
   "cell_type": "code",
   "execution_count": 57,
   "id": "e48fcc9c-ad87-4554-8fac-d4a4c4fac915",
   "metadata": {
    "tags": []
   },
   "outputs": [
    {
     "data": {
      "text/plain": [
       "{'0': [1, 132, 'mitä'], '2': [2, 'moikka', 'terveisin']}"
      ]
     },
     "execution_count": 57,
     "metadata": {},
     "output_type": "execute_result"
    }
   ],
   "source": [
    "readFromJson('energyDict.json')"
   ]
  },
  {
   "cell_type": "code",
   "execution_count": null,
   "id": "f8407755-3f72-499f-8ee7-e7b1b16740df",
   "metadata": {},
   "outputs": [],
   "source": []
  },
  {
   "cell_type": "code",
   "execution_count": null,
   "id": "500858da-82f6-4083-a334-4cf75f9be4b2",
   "metadata": {},
   "outputs": [],
   "source": []
  }
 ],
 "metadata": {
  "kernelspec": {
   "display_name": "Python 3 (ipykernel)",
   "language": "python",
   "name": "python3"
  },
  "language_info": {
   "codemirror_mode": {
    "name": "ipython",
    "version": 3
   },
   "file_extension": ".py",
   "mimetype": "text/x-python",
   "name": "python",
   "nbconvert_exporter": "python",
   "pygments_lexer": "ipython3",
   "version": "3.10.4"
  }
 },
 "nbformat": 4,
 "nbformat_minor": 5
}
