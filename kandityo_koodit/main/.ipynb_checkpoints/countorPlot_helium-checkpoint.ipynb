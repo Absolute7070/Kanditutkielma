{
 "cells": [
  {
   "cell_type": "markdown",
   "id": "c1ac149d-deff-4b37-9aa4-a8af4bb20bea",
   "metadata": {},
   "source": [
    "# Countour plot of Helium energy "
   ]
  },
  {
   "cell_type": "markdown",
   "id": "337dcacc-189c-4923-8728-e88c3749d11b",
   "metadata": {},
   "source": [
    "Let's make countor plot of Helium energy with varying parameters "
   ]
  },
  {
   "cell_type": "code",
   "execution_count": 2,
   "id": "ab130e29-6c15-48f2-87e5-0ebfa763c398",
   "metadata": {
    "tags": []
   },
   "outputs": [],
   "source": [
    "import sys \n",
    "import matplotlib.pyplot as plt \n",
    "import numpy as np \n",
    "import numexpr as ne\n",
    "import math \n",
    "\n",
    "\n",
    "from multiprocessing import Pool "
   ]
  },
  {
   "cell_type": "code",
   "execution_count": 3,
   "id": "a28f02cb-4747-47b5-9156-0c4e6c06ec9d",
   "metadata": {
    "tags": []
   },
   "outputs": [],
   "source": [
    "%run functions_module.ipynb \n",
    "%run auxiliaryFunctions_noMath_module.ipynb \n",
    "%run gradientDescent_module.ipynb "
   ]
  },
  {
   "cell_type": "markdown",
   "id": "e211d7ef-8b7b-422f-944c-ab5aec991ff2",
   "metadata": {},
   "source": [
    "# Preparing for countor plot "
   ]
  },
  {
   "cell_type": "markdown",
   "id": "c159cac7-7e1f-4085-b701-aeca1903efe7",
   "metadata": {},
   "source": [
    "## Load local energy "
   ]
  },
  {
   "cell_type": "code",
   "execution_count": 61,
   "id": "74da73e0-3a0a-423c-9fbb-62d7242c14a0",
   "metadata": {
    "tags": []
   },
   "outputs": [],
   "source": [
    "localEnergyExprPath = \"localEnergy_Helium\"\n",
    "# default folder to the Python-compatible formulae \n",
    "defaultFolderPathForFormulae = sys.path[0]+ \"/\"+ \"Formulae_PythonCompatible/\"    "
   ]
  },
  {
   "cell_type": "code",
   "execution_count": 62,
   "id": "0f4f2067-4cc7-42fa-9590-8a5e4b136711",
   "metadata": {
    "tags": []
   },
   "outputs": [
    {
     "data": {
      "text/plain": [
       "'math.exp(A3*math.sqrt(x1**2 + y1**2 + z1**2) + A3*'"
      ]
     },
     "execution_count": 62,
     "metadata": {},
     "output_type": "execute_result"
    }
   ],
   "source": [
    "localEnergyExpr = readFileToString(defaultFolderPathForFormulae + localEnergyExprPath)\n",
    "localEnergyExpr[:50]\n",
    "# localEnergyExpr = localEnergyExpr.replace('math.', '')    # remove all math-module functions "
   ]
  },
  {
   "cell_type": "markdown",
   "id": "37234044-781e-4676-9e64-b48339e722e8",
   "metadata": {},
   "source": [
    "## Define local energy function "
   ]
  },
  {
   "cell_type": "code",
   "execution_count": 63,
   "id": "16be1b39-33e0-423f-b565-797c3e0b982e",
   "metadata": {
    "tags": []
   },
   "outputs": [],
   "source": [
    "# find coordinates and parameters\n",
    "coordinates, parameterStringList  = findVariables(localEnergyExpr)\n",
    "\n",
    "# regrouping coordinates \n",
    "coordinates = regroupToCoordinateTriple_findVariables(coordinates)\n",
    "\n",
    "\n",
    "# for functions usage, define list of ordered variables and parameters\n",
    "mapping =  coordinates + parameterStringList  # global variable: used in probability and local energy functions definition\n"
   ]
  },
  {
   "cell_type": "code",
   "execution_count": 64,
   "id": "4155858c-b5af-4371-8eec-96e0860135a4",
   "metadata": {
    "tags": []
   },
   "outputs": [
    {
     "data": {
      "text/plain": [
       "['x1', 'y1', 'z1', 'x2', 'y2', 'z2', 'A2', 'A3']"
      ]
     },
     "execution_count": 64,
     "metadata": {},
     "output_type": "execute_result"
    }
   ],
   "source": [
    "mapping "
   ]
  },
  {
   "cell_type": "code",
   "execution_count": 65,
   "id": "3babcb2d-f010-496a-84c1-7a23f214f2eb",
   "metadata": {
    "tags": []
   },
   "outputs": [],
   "source": [
    "\n",
    "\n",
    "\n",
    "def localEnergyFunc(R: np.ndarray, parameters: list, expr: str = localEnergyExpr, mapping: list = mapping ) -> float: \n",
    "    '''\n",
    "    \n",
    "    H*psi/psi. Local energy.  Dependent on configuration and parameters. \n",
    "    \n",
    "    Parameters\n",
    "    ----------\n",
    "        R: current configuration\n",
    "        \n",
    "        parameters: list of parameters as numbers \n",
    "        \n",
    "        expr: formula string \n",
    "        \n",
    "        mapping: ordered coordinates and parameters in a list: \n",
    "            ['x1', 'y1', 'z1', 'x2', 'y2', 'z2', 'x3', 'y3', 'z3', 'A1', 'A2']\n",
    "            \n",
    "    Return\n",
    "    ------\n",
    "        Local energy evaluated at certain configuration and parameters' values\n",
    "    \n",
    "    '''\n",
    "    \n",
    "    \n",
    "    R_flattened = R.flatten() # make current configuration to vector form \n",
    "    R_and_parameters = np.append(R_flattened, parameters) # ordered coordinates, and parameters at the tail of the vector \n",
    "    \n",
    "    \n",
    "    if len(R_and_parameters) != len(mapping): \n",
    "        raise Exception(\"R and parameters not same length as that of mapping!\")\n",
    "    \n",
    "    \n",
    "    # mapping dictionary for evaluation of the expression\n",
    "    localDict = dict(zip(mapping, R_and_parameters))\n",
    "\n",
    "    \n",
    "    \n",
    "    \n",
    "    \n",
    "    return eval(expr, {'math': math}, localDict)\n",
    "    \n",
    "    \n",
    "    "
   ]
  },
  {
   "cell_type": "markdown",
   "id": "cde0c8db-6072-4cee-b0b7-6c72fc398dfd",
   "metadata": {},
   "source": [
    "## Load in pre-generated metropolis samples "
   ]
  },
  {
   "cell_type": "code",
   "execution_count": 66,
   "id": "ffae9d14-32fe-4e95-8e81-26991e21315a",
   "metadata": {
    "tags": []
   },
   "outputs": [],
   "source": [
    "with open('metropolisSamples_Opt', 'rb') as file:\n",
    "    metropolisSamples_Opt = np.load(file)"
   ]
  },
  {
   "cell_type": "code",
   "execution_count": 67,
   "id": "17ee0206-6fe9-4ddb-8fc9-ffc03c7c7a0d",
   "metadata": {
    "tags": []
   },
   "outputs": [
    {
     "data": {
      "text/plain": [
       "(2, 600, 3)"
      ]
     },
     "execution_count": 67,
     "metadata": {},
     "output_type": "execute_result"
    }
   ],
   "source": [
    "metropolisSamples_Opt.shape "
   ]
  },
  {
   "cell_type": "markdown",
   "id": "7879713f-6bf6-464e-84a0-d10b9785eddc",
   "metadata": {},
   "source": [
    "# Countour plot "
   ]
  },
  {
   "cell_type": "code",
   "execution_count": 75,
   "id": "8ed6ddc7-722c-4424-a681-8edead91e42c",
   "metadata": {
    "tags": []
   },
   "outputs": [],
   "source": [
    "a, b = np.linspace(0.1, 5, 6), np.linspace(0.1, 5, 6)\n",
    "\n",
    "A, B = np.meshgrid(a,b)\n",
    "\n",
    "# initiate energies at different point in parameters' space \n",
    "energies_array = np.zeros(A.shape )\n"
   ]
  },
  {
   "cell_type": "code",
   "execution_count": 76,
   "id": "28d21dba-a802-4c95-9a4f-14eeefc25a94",
   "metadata": {
    "tags": []
   },
   "outputs": [],
   "source": [
    "# index list combinations for computing energies with differring parameters\n",
    "indList = []\n",
    "for rowInd in range(A.shape[0]): \n",
    "    for columnInd in range(A.shape[1]): \n",
    "        indList.append((rowInd, columnInd))\n",
    "        "
   ]
  },
  {
   "cell_type": "code",
   "execution_count": 77,
   "id": "16d234f7-bb15-4d83-817f-3d7d19473cc3",
   "metadata": {
    "tags": []
   },
   "outputs": [],
   "source": [
    "\n",
    "\n",
    "def energyArraysFunc(rowInd: int, columnInd: int): \n",
    "        '''\n",
    "        Function for parallel computation of energy values with varying parameters A and B \n",
    "\n",
    "        Parameters\n",
    "        ---------\n",
    "        rowInd: row index \n",
    "\n",
    "        columnInd: column index \n",
    "\n",
    "        Returns\n",
    "        ------\n",
    "        energy result and tuple referring to the location of the energy value using indices. \n",
    "\n",
    "        '''\n",
    "\n",
    "        result  = monteCarloIntegrationFunction(samples=metropolisSamples_Opt, \n",
    "                                  localEnergyFunction=localEnergyFunc, \n",
    "                                 params = [A[rowInd, columnInd] , B[rowInd, columnInd]])\n",
    "\n",
    "        return result, (rowInd, columnInd)\n",
    "        \n",
    "        "
   ]
  },
  {
   "cell_type": "code",
   "execution_count": 78,
   "id": "ce1d54d3-07ea-498b-bf67-1ac62dd30911",
   "metadata": {
    "tags": []
   },
   "outputs": [],
   "source": [
    "\n",
    "\n",
    "\n",
    "with Pool() as pool: \n",
    "    for result in pool.starmap(energyArraysFunc, indList): \n",
    "        energies_array[result[1]] = result[0]\n",
    "        \n",
    "\n"
   ]
  },
  {
   "cell_type": "code",
   "execution_count": 79,
   "id": "1a35966b-8b69-4e3b-94eb-6b55826564e5",
   "metadata": {
    "tags": []
   },
   "outputs": [
    {
     "data": {
      "image/png": "[encoded data removed]",
      "text/html": [
       "<div style=\"vertical-align: middle;\"><strong>inferno</strong> </div><div class=\"cmap\"><img alt=\"inferno colormap\" title=\"inferno\" style=\"border: 1px solid #555;\" src=\"data:image/png;base64,iVBORw0KGgoAAAANSUhEUgAAAgAAAABACAYAAABsv8+/AAAAFnRFWHRUaXRsZQBpbmZlcm5vIGNvbG9ybWFwTalGwAAAABx0RVh0RGVzY3JpcHRpb24AaW5mZXJubyBjb2xvcm1hcOqH97kAAAAwdEVYdEF1dGhvcgBNYXRwbG90bGliIHYzLjcuMCwgaHR0cHM6Ly9tYXRwbG90bGliLm9yZ48kaEMAAAAydEVYdFNvZnR3YXJlAE1hdHBsb3RsaWIgdjMuNy4wLCBodHRwczovL21hdHBsb3RsaWIub3JnoYL3ZAAAAj5JREFUeJzt1kty2zAQBUAAVO5/YzGLCHRhaFhytq97o5oPQMouu15v7Thba621/u+jjVf1qvso/WPp99mve33dv+rNubk3bvNjqUep5/nRyl6t6z3l+4xz7X/NS/98N+9lPuv6uZu3td/X+fVb6mW/1HP+tV/vbeX8/+79XH+8186P7v96j3PzXudn92/uuZ57u7/u1eecvzu33as/h9o/yz31+5V52+zf3mOt7895U2/fr/THrJ8fPe+35/vYnB/P7++/7T9fP6A3e+P547zN+eZcq+fG/De8nmv1+9b+5r76/NY35679Vt5/7V/zUt//AGd/1uPDunz2Tb98nuPYzI/X/F3/KP31vnM7L3V/lPmj7G3q/ij7tf9n6fe+znvp901/XPNjqeevCwAIIgAAQCABAAACCQAAEEgAAIBAAgAABBIAACCQAAAAgQQAAAgkAABAIAEAAAIJAAAQSAAAgEACAAAEEgAAIJAAAACBBAAACCQAAEAgAQAAAgkAABBIAACAQAIAAAQSAAAgkAAAAIEEAAAIJAAAQCABAAACCQAAEEgAAIBAAgAABBIAACCQAAAAgQQAAAgkAABAIAEAAAIJAAAQSAAAgEACAAAEEgAAIJAAAACBBAAACCQAAEAgAQAAAgkAABBIAACAQAIAAAQSAAAgkAAAAIEEAAAIJAAAQCABAAACCQAAEEgAAIBAAgAABBIAACCQAAAAgQQAAAgkAABAIAEAAAIJAAAQSAAAgEACAAAEEgAAINBfNHptHZCXMAEAAAAASUVORK5CYII=\"></div><div style=\"vertical-align: middle; max-width: 514px; display: flex; justify-content: space-between;\"><div style=\"float: left;\"><div title=\"#000004ff\" style=\"display: inline-block; width: 1em; height: 1em; margin: 0; vertical-align: middle; border: 1px solid #555; background-color: #000004ff;\"></div> under</div><div style=\"margin: 0 auto; display: inline-block;\">bad <div title=\"#00000000\" style=\"display: inline-block; width: 1em; height: 1em; margin: 0; vertical-align: middle; border: 1px solid #555; background-color: #00000000;\"></div></div><div style=\"float: right;\">over <div title=\"#fcffa4ff\" style=\"display: inline-block; width: 1em; height: 1em; margin: 0; vertical-align: middle; border: 1px solid #555; background-color: #fcffa4ff;\"></div></div>"
      ],
      "text/plain": [
       "<matplotlib.colors.ListedColormap at 0x7fa39a7382b0>"
      ]
     },
     "execution_count": 79,
     "metadata": {},
     "output_type": "execute_result"
    }
   ],
   "source": [
    "plt.cm.inferno"
   ]
  },
  {
   "cell_type": "code",
   "execution_count": 82,
   "id": "8a283eea-759f-47ea-80bb-040ac7ab832b",
   "metadata": {
    "tags": []
   },
   "outputs": [
    {
     "data": {
      "text/plain": [
       "<matplotlib.colorbar.Colorbar at 0x7fa381f003a0>"
      ]
     },
     "execution_count": 82,
     "metadata": {},
     "output_type": "execute_result"
    },
    {
     "data": {
      "image/png": "[encoded data removed]",
      "text/plain": [
       "<Figure size 800x550 with 2 Axes>"
      ]
     },
     "metadata": {},
     "output_type": "display_data"
    }
   ],
   "source": [
    "plt.contourf(A, B, energies_array, cmap= 'inferno')\n",
    "plt.xlabel('A')\n",
    "plt.ylabel('B')\n",
    "plt.colorbar()"
   ]
  },
  {
   "cell_type": "code",
   "execution_count": null,
   "id": "e66d3fc6-dddd-42f7-8bb9-66d744517fb3",
   "metadata": {
    "tags": []
   },
   "outputs": [],
   "source": []
  },
  {
   "cell_type": "code",
   "execution_count": null,
   "id": "91e76429-59bd-4477-b174-fe84886757cf",
   "metadata": {},
   "outputs": [],
   "source": []
  },
  {
   "cell_type": "code",
   "execution_count": null,
   "id": "bf190fb9-cf63-45bf-a2bf-71a1ef357f64",
   "metadata": {},
   "outputs": [],
   "source": []
  }
 ],
 "metadata": {
  "kernelspec": {
   "display_name": "Python 3 (ipykernel)",
   "language": "python",
   "name": "python3"
  },
  "language_info": {
   "codemirror_mode": {
    "name": "ipython",
    "version": 3
   },
   "file_extension": ".py",
   "mimetype": "text/x-python",
   "name": "python",
   "nbconvert_exporter": "python",
   "pygments_lexer": "ipython3",
   "version": "3.10.4"
  }
 },
 "nbformat": 4,
 "nbformat_minor": 5
}
