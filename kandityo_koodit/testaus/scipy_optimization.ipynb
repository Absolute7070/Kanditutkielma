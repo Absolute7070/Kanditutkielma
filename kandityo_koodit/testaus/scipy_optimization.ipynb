{
 "cells": [
  {
   "cell_type": "markdown",
   "id": "43c4ac25-af35-4623-9933-51bfe4de5061",
   "metadata": {},
   "source": [
    "https://stackoverflow.com/a/63268246/16331874"
   ]
  },
  {
   "cell_type": "code",
   "execution_count": 2,
   "id": "0e810a8e-a327-48b9-ada8-5f2233429356",
   "metadata": {},
   "outputs": [
    {
     "name": "stdout",
     "output_type": "stream",
     "text": [
      "     fun: -1.63484557327013e+18\n",
      "     jac: array([  0.        , -25.00000007])\n",
      " message: 'Rank-deficient equality constraint subproblem HFTI'\n",
      "    nfev: 72\n",
      "     nit: 24\n",
      "    njev: 24\n",
      "  status: 7\n",
      " success: False\n",
      "       x: array([-2.98883801e+15,  6.53938229e+16])\n"
     ]
    }
   ],
   "source": [
    "from scipy.optimize import minimize\n",
    "import sympy as sp\n",
    "\n",
    "x2_symbol = sp.Symbol('x2')\n",
    "u2_symbol = sp.Symbol('u2')\n",
    "fm = 25 * u2_symbol - 20.0 * (sp.sin(x2_symbol)) + 38.7296387 * (sp.cos(x2_symbol)) - 38.7296387\n",
    "\n",
    "def func(x):\n",
    "    x2_float, u2_float = x\n",
    "    return -fm.subs([(x2_symbol, x2_float), (u2_symbol, u2_float)])\n",
    "\n",
    "# def constraint1(x):\n",
    "#     x2_float, u2_float = x\n",
    "#     return -u2_float + 40 * sp.sin(x2_float) + 0.2\n",
    "\n",
    "# def constraint2(x):\n",
    "#     x2_float, u2_float = x\n",
    "#     return -u2_float - 40 * sp.sin(x2_float) + 0.2\n",
    "\n",
    "# b = [-1, 1]\n",
    "# bounds = [b, b]\n",
    "# con1 = {'type': 'ineq', 'fun': constraint1}\n",
    "# con2 = {'type': 'ineq', 'fun': constraint2}\n",
    "# constraints = (con1, con2)\n",
    "x0 = [0, 0]\n",
    "solution = minimize(func, x0, method='SLSQP')\n",
    "print(solution)"
   ]
  },
  {
   "cell_type": "code",
   "execution_count": 1,
   "id": "56e42920-ebfd-4301-b161-5eb96cb45e7c",
   "metadata": {},
   "outputs": [
    {
     "name": "stdout",
     "output_type": "stream",
     "text": [
      "     fun: -1.63484557327013e+18\n",
      "     jac: array([  0.        , -25.00000007])\n",
      " message: 'Rank-deficient equality constraint subproblem HFTI'\n",
      "    nfev: 72\n",
      "     nit: 24\n",
      "    njev: 24\n",
      "  status: 7\n",
      " success: False\n",
      "       x: array([-2.98883801e+15,  6.53938229e+16])\n"
     ]
    }
   ],
   "source": [
    "from scipy.optimize import minimize\n",
    "import sympy as sp\n",
    "\n",
    "\n",
    "x2_symbol = sp.Symbol('x2')\n",
    "u2_symbol = sp.Symbol('u2')\n",
    "symbolList = [x2_symbol, u2_symbol]\n",
    "fm = 25 * u2_symbol - 20.0 * (sp.sin(x2_symbol)) + 38.7296387 * (sp.cos(x2_symbol)) - 38.7296387\n",
    "\n",
    "def func(x):\n",
    "    x2_float, u2_float = x\n",
    "    return -fm.subs([(symbolList[0], x2_float), (symbolList[1], u2_float)])\n",
    "\n",
    "# def constraint1(x):\n",
    "#     x2_float, u2_float = x\n",
    "#     return -u2_float + 40 * sp.sin(x2_float) + 0.2\n",
    "\n",
    "# def constraint2(x):\n",
    "#     x2_float, u2_float = x\n",
    "#     return -u2_float - 40 * sp.sin(x2_float) + 0.2\n",
    "\n",
    "# b = [-1, 1]\n",
    "# bounds = [b, b]\n",
    "# con1 = {'type': 'ineq', 'fun': constraint1}\n",
    "# con2 = {'type': 'ineq', 'fun': constraint2}\n",
    "# constraints = (con1, con2)\n",
    "x0 = [0, 0]\n",
    "solution = minimize(func, x0, method='SLSQP')\n",
    "print(solution)"
   ]
  },
  {
   "cell_type": "code",
   "execution_count": 4,
   "id": "e867a39c-5f81-4188-be1d-bb37282b9b7b",
   "metadata": {},
   "outputs": [
    {
     "data": {
      "text/plain": [
       "'25*u2 - 20.0*sin(x2) + 38.7296387*cos(x2) - 38.7296387'"
      ]
     },
     "execution_count": 4,
     "metadata": {},
     "output_type": "execute_result"
    }
   ],
   "source": [
    "str(fm )"
   ]
  },
  {
   "cell_type": "code",
   "execution_count": null,
   "id": "666ef68d-0cbe-43ef-8783-ba1f1b7b985c",
   "metadata": {},
   "outputs": [],
   "source": []
  }
 ],
 "metadata": {
  "kernelspec": {
   "display_name": "Python 3 (ipykernel)",
   "language": "python",
   "name": "python3"
  },
  "language_info": {
   "codemirror_mode": {
    "name": "ipython",
    "version": 3
   },
   "file_extension": ".py",
   "mimetype": "text/x-python",
   "name": "python",
   "nbconvert_exporter": "python",
   "pygments_lexer": "ipython3",
   "version": "3.10.4"
  }
 },
 "nbformat": 4,
 "nbformat_minor": 5
}
