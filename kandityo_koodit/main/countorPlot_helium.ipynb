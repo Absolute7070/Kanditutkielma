{
 "cells": [
  {
   "cell_type": "markdown",
   "id": "c1ac149d-deff-4b37-9aa4-a8af4bb20bea",
   "metadata": {},
   "source": [
    "# Countour plot of Helium energy "
   ]
  },
  {
   "cell_type": "markdown",
   "id": "337dcacc-189c-4923-8728-e88c3749d11b",
   "metadata": {},
   "source": [
    "Let's make countor plot of Helium energy with varying parameters "
   ]
  },
  {
   "cell_type": "code",
   "execution_count": 23,
   "id": "ab130e29-6c15-48f2-87e5-0ebfa763c398",
   "metadata": {
    "tags": []
   },
   "outputs": [],
   "source": [
    "import sys \n",
    "import matplotlib.pyplot as plt \n",
    "import numpy as np \n",
    "import numexpr as ne\n",
    "import math \n",
    "\n",
    "\n",
    "from multiprocessing import Pool "
   ]
  },
  {
   "cell_type": "code",
   "execution_count": 24,
   "id": "a28f02cb-4747-47b5-9156-0c4e6c06ec9d",
   "metadata": {
    "tags": []
   },
   "outputs": [],
   "source": [
    "%run functions_module.ipynb \n",
    "%run auxiliaryFunctions_noMath_module.ipynb \n",
    "%run gradientDescent_module.ipynb "
   ]
  },
  {
   "cell_type": "markdown",
   "id": "e211d7ef-8b7b-422f-944c-ab5aec991ff2",
   "metadata": {},
   "source": [
    "# Preparing for countor plot "
   ]
  },
  {
   "cell_type": "markdown",
   "id": "c159cac7-7e1f-4085-b701-aeca1903efe7",
   "metadata": {},
   "source": [
    "## Load local energy "
   ]
  },
  {
   "cell_type": "code",
   "execution_count": 25,
   "id": "74da73e0-3a0a-423c-9fbb-62d7242c14a0",
   "metadata": {
    "tags": []
   },
   "outputs": [],
   "source": [
    "localEnergyExprPath = \"localEnergy_Helium\"\n",
    "# default folder to the Python-compatible formulae \n",
    "defaultFolderPathForFormulae = sys.path[0]+ \"/\"+ \"Formulae_PythonCompatible/\"    "
   ]
  },
  {
   "cell_type": "code",
   "execution_count": 26,
   "id": "0f4f2067-4cc7-42fa-9590-8a5e4b136711",
   "metadata": {
    "tags": []
   },
   "outputs": [
    {
     "data": {
      "text/plain": [
       "'math.exp(A3*math.sqrt(x1**2 + y1**2 + z1**2) + A3*'"
      ]
     },
     "execution_count": 26,
     "metadata": {},
     "output_type": "execute_result"
    }
   ],
   "source": [
    "localEnergyExpr = readFileToString(defaultFolderPathForFormulae + localEnergyExprPath)\n",
    "localEnergyExpr[:50]\n",
    "# localEnergyExpr = localEnergyExpr.replace('math.', '')    # remove all math-module functions "
   ]
  },
  {
   "cell_type": "markdown",
   "id": "37234044-781e-4676-9e64-b48339e722e8",
   "metadata": {},
   "source": [
    "## Define local energy function "
   ]
  },
  {
   "cell_type": "code",
   "execution_count": 27,
   "id": "16be1b39-33e0-423f-b565-797c3e0b982e",
   "metadata": {
    "tags": []
   },
   "outputs": [],
   "source": [
    "# find coordinates and parameters\n",
    "coordinates, parameterStringList  = findVariables(localEnergyExpr)\n",
    "\n",
    "# regrouping coordinates \n",
    "coordinates = regroupToCoordinateTriple_findVariables(coordinates)\n",
    "\n",
    "\n",
    "# for functions usage, define list of ordered variables and parameters\n",
    "mapping =  coordinates + parameterStringList  # global variable: used in probability and local energy functions definition\n"
   ]
  },
  {
   "cell_type": "code",
   "execution_count": 28,
   "id": "4155858c-b5af-4371-8eec-96e0860135a4",
   "metadata": {
    "tags": []
   },
   "outputs": [
    {
     "data": {
      "text/plain": [
       "['x1', 'y1', 'z1', 'x2', 'y2', 'z2', 'A2', 'A3']"
      ]
     },
     "execution_count": 28,
     "metadata": {},
     "output_type": "execute_result"
    }
   ],
   "source": [
    "mapping "
   ]
  },
  {
   "cell_type": "code",
   "execution_count": 29,
   "id": "3babcb2d-f010-496a-84c1-7a23f214f2eb",
   "metadata": {
    "tags": []
   },
   "outputs": [],
   "source": [
    "\n",
    "\n",
    "\n",
    "def localEnergyFunc(R: np.ndarray, parameters: list, expr: str = localEnergyExpr, mapping: list = mapping ) -> float: \n",
    "    '''\n",
    "    \n",
    "    H*psi/psi. Local energy.  Dependent on configuration and parameters. \n",
    "    \n",
    "    Parameters\n",
    "    ----------\n",
    "        R: current configuration\n",
    "        \n",
    "        parameters: list of parameters as numbers \n",
    "        \n",
    "        expr: formula string \n",
    "        \n",
    "        mapping: ordered coordinates and parameters in a list: \n",
    "            ['x1', 'y1', 'z1', 'x2', 'y2', 'z2', 'x3', 'y3', 'z3', 'A1', 'A2']\n",
    "            \n",
    "    Return\n",
    "    ------\n",
    "        Local energy evaluated at certain configuration and parameters' values\n",
    "    \n",
    "    '''\n",
    "    \n",
    "    \n",
    "    R_flattened = R.flatten() # make current configuration to vector form \n",
    "    R_and_parameters = np.append(R_flattened, parameters) # ordered coordinates, and parameters at the tail of the vector \n",
    "    \n",
    "    \n",
    "    if len(R_and_parameters) != len(mapping): \n",
    "        raise Exception(\"R and parameters not same length as that of mapping!\")\n",
    "    \n",
    "    \n",
    "    # mapping dictionary for evaluation of the expression\n",
    "    localDict = dict(zip(mapping, R_and_parameters))\n",
    "\n",
    "    \n",
    "    \n",
    "    \n",
    "    \n",
    "    return eval(expr, {'math': math}, localDict)\n",
    "    \n",
    "    \n",
    "    "
   ]
  },
  {
   "cell_type": "markdown",
   "id": "cde0c8db-6072-4cee-b0b7-6c72fc398dfd",
   "metadata": {},
   "source": [
    "## Load in pre-generated metropolis samples "
   ]
  },
  {
   "cell_type": "code",
   "execution_count": 30,
   "id": "ffae9d14-32fe-4e95-8e81-26991e21315a",
   "metadata": {
    "tags": []
   },
   "outputs": [],
   "source": [
    "with open('metropolis_samples_opt_small.npy', 'rb') as file:\n",
    "    metropolisSamples_Opt = np.load(file)"
   ]
  },
  {
   "cell_type": "code",
   "execution_count": 31,
   "id": "17ee0206-6fe9-4ddb-8fc9-ffc03c7c7a0d",
   "metadata": {
    "tags": []
   },
   "outputs": [
    {
     "data": {
      "text/plain": [
       "(2, 20, 3)"
      ]
     },
     "execution_count": 31,
     "metadata": {},
     "output_type": "execute_result"
    }
   ],
   "source": [
    "metropolisSamples_Opt.shape "
   ]
  },
  {
   "cell_type": "markdown",
   "id": "7879713f-6bf6-464e-84a0-d10b9785eddc",
   "metadata": {},
   "source": [
    "# Countour plot "
   ]
  },
  {
   "cell_type": "code",
   "execution_count": 38,
   "id": "8ed6ddc7-722c-4424-a681-8edead91e42c",
   "metadata": {
    "tags": []
   },
   "outputs": [],
   "source": [
    "a, b = np.linspace(-1, 5, 6), np.linspace(-1, 5, 6)\n",
    "\n",
    "A, B = np.meshgrid(a,b)\n",
    "\n",
    "# initiate energies at different point in parameters' space \n",
    "energies_array = np.zeros(A.shape )\n"
   ]
  },
  {
   "cell_type": "code",
   "execution_count": 39,
   "id": "28d21dba-a802-4c95-9a4f-14eeefc25a94",
   "metadata": {
    "tags": []
   },
   "outputs": [],
   "source": [
    "# index list combinations for computing energies with differring parameters\n",
    "indList = []\n",
    "for rowInd in range(A.shape[0]): \n",
    "    for columnInd in range(A.shape[1]): \n",
    "        indList.append((rowInd, columnInd))\n",
    "        "
   ]
  },
  {
   "cell_type": "code",
   "execution_count": 40,
   "id": "16d234f7-bb15-4d83-817f-3d7d19473cc3",
   "metadata": {
    "tags": []
   },
   "outputs": [],
   "source": [
    "\n",
    "\n",
    "def energyArraysFunc(rowInd: int, columnInd: int): \n",
    "        '''\n",
    "        Function for parallel computation of energy values with varying parameters A and B \n",
    "\n",
    "        Parameters\n",
    "        ---------\n",
    "        rowInd: row index \n",
    "\n",
    "        columnInd: column index \n",
    "\n",
    "        Returns\n",
    "        ------\n",
    "        energy result and tuple referring to the location of the energy value using indices. \n",
    "\n",
    "        '''\n",
    "\n",
    "        result  = monteCarloIntegrationFunction(samples=metropolisSamples_Opt, \n",
    "                                  localEnergyFunction=localEnergyFunc, \n",
    "                                 params = [A[rowInd, columnInd] , B[rowInd, columnInd]])\n",
    "\n",
    "        return result, (rowInd, columnInd)\n",
    "        \n",
    "        "
   ]
  },
  {
   "cell_type": "code",
   "execution_count": 41,
   "id": "ce1d54d3-07ea-498b-bf67-1ac62dd30911",
   "metadata": {
    "tags": []
   },
   "outputs": [
    {
     "ename": "ValueError",
     "evalue": "math domain error",
     "output_type": "error",
     "traceback": [
      "\u001b[0;31m---------------------------------------------------------------------------\u001b[0m",
      "\u001b[0;31mRemoteTraceback\u001b[0m                           Traceback (most recent call last)",
      "\u001b[0;31mRemoteTraceback\u001b[0m: \n\"\"\"\nTraceback (most recent call last):\n  File \"/opt/conda/lib/python3.10/multiprocessing/pool.py\", line 125, in worker\n    result = (True, func(*args, **kwds))\n  File \"/opt/conda/lib/python3.10/multiprocessing/pool.py\", line 51, in starmapstar\n    return list(itertools.starmap(args[0], args[1]))\n  File \"/tmp/ipykernel_30158/2163120006.py\", line 17, in energyArraysFunc\n    result  = monteCarloIntegrationFunction(samples=metropolisSamples_Opt,\n  File \"/tmp/ipykernel_30158/4241511629.py\", line 39, in monteCarloIntegrationFunction\n    energyApprox = 1/N * np.sum(     np.array( [localEnergyFunction(samples[:, i, :], params) for i in range(samples.shape[1])] )     )\n  File \"/tmp/ipykernel_30158/4241511629.py\", line 39, in <listcomp>\n    energyApprox = 1/N * np.sum(     np.array( [localEnergyFunction(samples[:, i, :], params) for i in range(samples.shape[1])] )     )\n  File \"/tmp/ipykernel_30158/1949828855.py\", line 39, in localEnergyFunc\n    return eval(expr, {'math': math}, localDict)\n  File \"<string>\", line 1, in <module>\nValueError: math domain error\n\"\"\"",
      "\nThe above exception was the direct cause of the following exception:\n",
      "\u001b[0;31mValueError\u001b[0m                                Traceback (most recent call last)",
      "Cell \u001b[0;32mIn[41], line 2\u001b[0m\n\u001b[1;32m      1\u001b[0m \u001b[38;5;28;01mwith\u001b[39;00m Pool() \u001b[38;5;28;01mas\u001b[39;00m pool: \n\u001b[0;32m----> 2\u001b[0m     \u001b[38;5;28;01mfor\u001b[39;00m result \u001b[38;5;129;01min\u001b[39;00m pool\u001b[38;5;241m.\u001b[39mstarmap(energyArraysFunc, indList): \n\u001b[1;32m      3\u001b[0m         energies_array[result[\u001b[38;5;241m1\u001b[39m]] \u001b[38;5;241m=\u001b[39m result[\u001b[38;5;241m0\u001b[39m]\n",
      "File \u001b[0;32m/opt/conda/lib/python3.10/multiprocessing/pool.py:372\u001b[0m, in \u001b[0;36mPool.starmap\u001b[0;34m(self, func, iterable, chunksize)\u001b[0m\n\u001b[1;32m    366\u001b[0m \u001b[38;5;28;01mdef\u001b[39;00m \u001b[38;5;21mstarmap\u001b[39m(\u001b[38;5;28mself\u001b[39m, func, iterable, chunksize\u001b[38;5;241m=\u001b[39m\u001b[38;5;28;01mNone\u001b[39;00m):\n\u001b[1;32m    367\u001b[0m     \u001b[38;5;124;03m'''\u001b[39;00m\n\u001b[1;32m    368\u001b[0m \u001b[38;5;124;03m    Like `map()` method but the elements of the `iterable` are expected to\u001b[39;00m\n\u001b[1;32m    369\u001b[0m \u001b[38;5;124;03m    be iterables as well and will be unpacked as arguments. Hence\u001b[39;00m\n\u001b[1;32m    370\u001b[0m \u001b[38;5;124;03m    `func` and (a, b) becomes func(a, b).\u001b[39;00m\n\u001b[1;32m    371\u001b[0m \u001b[38;5;124;03m    '''\u001b[39;00m\n\u001b[0;32m--> 372\u001b[0m     \u001b[38;5;28;01mreturn\u001b[39;00m \u001b[38;5;28;43mself\u001b[39;49m\u001b[38;5;241;43m.\u001b[39;49m\u001b[43m_map_async\u001b[49m\u001b[43m(\u001b[49m\u001b[43mfunc\u001b[49m\u001b[43m,\u001b[49m\u001b[43m \u001b[49m\u001b[43miterable\u001b[49m\u001b[43m,\u001b[49m\u001b[43m \u001b[49m\u001b[43mstarmapstar\u001b[49m\u001b[43m,\u001b[49m\u001b[43m \u001b[49m\u001b[43mchunksize\u001b[49m\u001b[43m)\u001b[49m\u001b[38;5;241;43m.\u001b[39;49m\u001b[43mget\u001b[49m\u001b[43m(\u001b[49m\u001b[43m)\u001b[49m\n",
      "File \u001b[0;32m/opt/conda/lib/python3.10/multiprocessing/pool.py:771\u001b[0m, in \u001b[0;36mApplyResult.get\u001b[0;34m(self, timeout)\u001b[0m\n\u001b[1;32m    769\u001b[0m     \u001b[38;5;28;01mreturn\u001b[39;00m \u001b[38;5;28mself\u001b[39m\u001b[38;5;241m.\u001b[39m_value\n\u001b[1;32m    770\u001b[0m \u001b[38;5;28;01melse\u001b[39;00m:\n\u001b[0;32m--> 771\u001b[0m     \u001b[38;5;28;01mraise\u001b[39;00m \u001b[38;5;28mself\u001b[39m\u001b[38;5;241m.\u001b[39m_value\n",
      "\u001b[0;31mValueError\u001b[0m: math domain error"
     ]
    }
   ],
   "source": [
    "\n",
    "\n",
    "\n",
    "with Pool() as pool: \n",
    "    for result in pool.starmap(energyArraysFunc, indList): \n",
    "        energies_array[result[1]] = result[0]\n",
    "        \n",
    "\n"
   ]
  },
  {
   "cell_type": "code",
   "execution_count": null,
   "id": "1a35966b-8b69-4e3b-94eb-6b55826564e5",
   "metadata": {
    "tags": []
   },
   "outputs": [],
   "source": [
    "plt.cm.inferno"
   ]
  },
  {
   "cell_type": "code",
   "execution_count": null,
   "id": "8a283eea-759f-47ea-80bb-040ac7ab832b",
   "metadata": {
    "tags": []
   },
   "outputs": [],
   "source": [
    "plt.contourf(A, B, energies_array, cmap= 'inferno')\n",
    "plt.xlabel('A')\n",
    "plt.ylabel('B')\n",
    "plt.colorbar()"
   ]
  },
  {
   "cell_type": "code",
   "execution_count": null,
   "id": "e66d3fc6-dddd-42f7-8bb9-66d744517fb3",
   "metadata": {
    "tags": []
   },
   "outputs": [],
   "source": []
  },
  {
   "cell_type": "code",
   "execution_count": null,
   "id": "91e76429-59bd-4477-b174-fe84886757cf",
   "metadata": {},
   "outputs": [],
   "source": []
  },
  {
   "cell_type": "code",
   "execution_count": null,
   "id": "bf190fb9-cf63-45bf-a2bf-71a1ef357f64",
   "metadata": {},
   "outputs": [],
   "source": []
  },
  {
   "cell_type": "code",
   "execution_count": null,
   "id": "9bf2506a-8d9a-4439-9946-07d1d6fc8a15",
   "metadata": {},
   "outputs": [],
   "source": []
  },
  {
   "cell_type": "code",
   "execution_count": null,
   "id": "4b302620-2221-421d-83fe-436f9d76d5cd",
   "metadata": {},
   "outputs": [],
   "source": []
  }
 ],
 "metadata": {
  "kernelspec": {
   "display_name": "Python 3 (ipykernel)",
   "language": "python",
   "name": "python3"
  },
  "language_info": {
   "codemirror_mode": {
    "name": "ipython",
    "version": 3
   },
   "file_extension": ".py",
   "mimetype": "text/x-python",
   "name": "python",
   "nbconvert_exporter": "python",
   "pygments_lexer": "ipython3",
   "version": "3.10.4"
  }
 },
 "nbformat": 4,
 "nbformat_minor": 5
}
