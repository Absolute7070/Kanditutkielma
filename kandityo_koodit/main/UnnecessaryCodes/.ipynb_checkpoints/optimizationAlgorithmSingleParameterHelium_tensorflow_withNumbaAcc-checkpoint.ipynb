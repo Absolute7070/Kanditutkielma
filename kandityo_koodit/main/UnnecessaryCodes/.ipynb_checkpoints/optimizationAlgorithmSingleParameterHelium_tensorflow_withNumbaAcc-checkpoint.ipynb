{
 "cells": [
  {
   "cell_type": "markdown",
   "id": "39087066-0f35-40ef-8b06-626ad63d6eaf",
   "metadata": {},
   "source": [
    "# The optimization of the parameters, tensorflow, Numba acceleration"
   ]
  },
  {
   "cell_type": "code",
   "execution_count": 8,
   "id": "81510bd0-538d-4546-a4e6-8a5618ec53c5",
   "metadata": {},
   "outputs": [],
   "source": [
    "import tensorflow as tf # for implementing optimization\n",
    "import numpy as np \n",
    "import matplotlib.pyplot as plt \n",
    "\n",
    "\n",
    "import parameters as pr  \n",
    "import functions_module as mc \n",
    "\n",
    "import sympy as sym \n",
    "import re \n",
    "import pandas as pd \n",
    "\n",
    "from numba import jit \n"
   ]
  },
  {
   "cell_type": "code",
   "execution_count": null,
   "id": "2477b785-36e0-4e4b-8977-c01b537a65c6",
   "metadata": {},
   "outputs": [],
   "source": []
  },
  {
   "cell_type": "markdown",
   "id": "b94ccfd6-5a12-41b6-a453-e5960e282ea6",
   "metadata": {},
   "source": [
    "**Testattu**\n",
    "1. metropolisSamplingFunction ja monteCarloIntegrationFunction, joilla on parametrit,  voivat korvata vanhemmat vastaavat funktiot.\n",
    "\n",
    "\n",
    "**Issues**\n",
    "- For each energy integration, parameter updated only one step \n",
    "- not suitable for complicated form of local energy, because need to write separate another function "
   ]
  },
  {
   "cell_type": "markdown",
   "id": "b313f34e-b6ef-4840-8439-395b5c72de95",
   "metadata": {},
   "source": [
    "# Global values "
   ]
  },
  {
   "cell_type": "code",
   "execution_count": 9,
   "id": "66cb5f51-c5ed-4dc5-86ff-f5f6464d96b6",
   "metadata": {},
   "outputs": [],
   "source": [
    "historyTable = {'Energy': [], 'Variance':[], 'Std error of mean': [], 'parameters': []}\n",
    "\n",
    "def saveToHistoryTable(energyAndErrors: tuple or list, params: float or list or tuple): \n",
    "    '''\n",
    "    Save integration results to the table historyTable (global value)\n",
    "    \n",
    "    - energyAndErrors: energy and their errors in format (energy, variance, std error of mean)\n",
    "    - parameters: parameters.\n",
    "        - it is float-type if there is only one parameter \n",
    "        - it is list or tuple-type if there are more than one parameter\n",
    "    '''\n",
    "    \n",
    "    \n",
    "    historyTable['Energy'].append(energyAndErrors[0])\n",
    "    historyTable['Variance'].append(energyAndErrors[1])\n",
    "    historyTable['Std error of mean'].append(energyAndErrors[2])\n",
    "    historyTable['parameters'].append(params)"
   ]
  },
  {
   "cell_type": "markdown",
   "id": "a07bbc09-0802-439d-8e4a-cd4f5ba51f14",
   "metadata": {},
   "source": [
    "# Algorithm (Helium, 1 parameter)"
   ]
  },
  {
   "cell_type": "code",
   "execution_count": 10,
   "id": "4fdb6436-4395-44d5-a976-31bd87a2b1dd",
   "metadata": {},
   "outputs": [],
   "source": [
    "# all relying on FortranForm \n",
    "\n",
    "\n",
    "@jit\n",
    "def probabilityFunction(x: np.ndarray, params: list): \n",
    "    particleOnexyz = x[0] \n",
    "    particleTwoxyz = x[1]\n",
    "    return (\n",
    "        np.exp(-2*params[0]*(np.sqrt(particleOnexyz[0]**2 + particleOnexyz[1]**2 + particleOnexyz[2]**2) + np.sqrt(particleTwoxyz[0]**2 + particleTwoxyz[1]**2 + particleTwoxyz[2]**2)))\n",
    "    )\n",
    "\n",
    "\n",
    "\n",
    "\n",
    "\n",
    "def localEnergyFunction(x: np.ndarray, params: list ): \n",
    "    particleOnexyz = x[0] \n",
    "    particleTwoxyz = x[1]\n",
    "    \n",
    "    \n",
    "    return (  \n",
    "        -params[0]**2 - 2/np.sqrt(particleOnexyz[0]**2 + particleOnexyz[1]**2 + particleOnexyz[2]**2) - 2/np.sqrt(particleTwoxyz[0]**2 + particleTwoxyz[1]**2 + particleTwoxyz[2]**2) + 1/np.sqrt(particleOnexyz[0]**2 - 2*particleOnexyz[0]*particleTwoxyz[0] + particleTwoxyz[0]**2 + particleOnexyz[1]**2 - 2*particleOnexyz[1]*particleTwoxyz[1] + particleTwoxyz[1]**2 + particleOnexyz[2]**2 - 2*particleOnexyz[2]*particleTwoxyz[2] + particleTwoxyz[2]**2) + params[0]*(1/np.sqrt(particleOnexyz[0]**2 + particleOnexyz[1]**2 + particleOnexyz[2]**2) + 1/np.sqrt(particleTwoxyz[0]**2 + particleTwoxyz[1]**2 + particleTwoxyz[2]**2))\n",
    "    \n",
    "    )\n",
    "\n",
    "\n",
    "\n",
    "\n",
    "\n",
    "\n"
   ]
  },
  {
   "cell_type": "code",
   "execution_count": 11,
   "id": "90ab74d8-1e80-44a1-aae3-ac89f02001ef",
   "metadata": {},
   "outputs": [],
   "source": [
    "\n",
    "# MUST BE FLOAT!!!\n",
    "alpha = 1.0   # initial guess of the parameter\n",
    "\n",
    "patience = 1 # how many times we accept the energy to jump to higher value than the previous energy \n"
   ]
  },
  {
   "cell_type": "code",
   "execution_count": 12,
   "id": "63a98bba-9122-49ab-a5df-d61305015b00",
   "metadata": {},
   "outputs": [
    {
     "name": "stderr",
     "output_type": "stream",
     "text": [
      "/home/degnaiyu/Työpöytä/kanditutkielma/kandityo_koodit/main/monteCarloIntegration.py:63: NumbaPendingDeprecationWarning: \n",
      "Encountered the use of a type that is scheduled for deprecation: type 'reflected list' found for argument 'params' of function 'probabilityFunction'.\n",
      "\n",
      "For more information visit https://numba.readthedocs.io/en/stable/reference/deprecation.html#deprecation-of-reflection-for-list-and-set-types\n",
      "\n",
      "File \"../../../../../../tmp/ipykernel_36583/3555542630.py\", line 4:\n",
      "<source missing, REPL/exec in use?>\n",
      "\n",
      "  w = probabilityFunction(  trialConfiguration, params  )/probabilityFunction(currentConfig, params)\n",
      "/opt/conda/lib/python3.10/site-packages/numba/core/ir_utils.py:2147: NumbaPendingDeprecationWarning: \n",
      "Encountered the use of a type that is scheduled for deprecation: type 'reflected list' found for argument 'params' of function 'metropolisSamplingFunction'.\n",
      "\n",
      "For more information visit https://numba.readthedocs.io/en/stable/reference/deprecation.html#deprecation-of-reflection-for-list-and-set-types\n",
      "\n",
      "File \"monteCarloIntegration.py\", line 19:\n",
      "@jit(nopython=True)\n",
      "def metropolisSamplingFunction(\n",
      "^\n",
      "\n",
      "  warnings.warn(NumbaPendingDeprecationWarning(msg, loc=loc))\n"
     ]
    },
    {
     "name": "stdout",
     "output_type": "stream",
     "text": [
      "0\n"
     ]
    },
    {
     "name": "stderr",
     "output_type": "stream",
     "text": [
      "/home/degnaiyu/Työpöytä/kanditutkielma/kandityo_koodit/main/monteCarloIntegration.py:63: NumbaPendingDeprecationWarning: \n",
      "Encountered the use of a type that is scheduled for deprecation: type 'reflected list' found for argument 'params' of function 'probabilityFunction'.\n",
      "\n",
      "For more information visit https://numba.readthedocs.io/en/stable/reference/deprecation.html#deprecation-of-reflection-for-list-and-set-types\n",
      "\n",
      "File \"../../../../../../tmp/ipykernel_36583/3555542630.py\", line 4:\n",
      "<source missing, REPL/exec in use?>\n",
      "\n",
      "  w = probabilityFunction(  trialConfiguration, params  )/probabilityFunction(currentConfig, params)\n",
      "/opt/conda/lib/python3.10/site-packages/numba/core/ir_utils.py:2147: NumbaPendingDeprecationWarning: \n",
      "Encountered the use of a type that is scheduled for deprecation: type 'reflected list' found for argument 'params' of function 'metropolisSamplingFunction'.\n",
      "\n",
      "For more information visit https://numba.readthedocs.io/en/stable/reference/deprecation.html#deprecation-of-reflection-for-list-and-set-types\n",
      "\n",
      "File \"monteCarloIntegration.py\", line 19:\n",
      "@jit(nopython=True)\n",
      "def metropolisSamplingFunction(\n",
      "^\n",
      "\n",
      "  warnings.warn(NumbaPendingDeprecationWarning(msg, loc=loc))\n"
     ]
    },
    {
     "name": "stdout",
     "output_type": "stream",
     "text": [
      "1\n",
      "2\n",
      "3\n",
      "4\n",
      "5\n",
      "6\n"
     ]
    }
   ],
   "source": [
    "\n",
    "loopMark = 0 # which loop we are going on \n",
    "\n",
    "while patience >= 0: \n",
    "\n",
    "    configSamples_Metropolis = mc.metropolisSamplingFunction(coordinateValueRange = (-1, 1), \n",
    "                                                         numberOfParticles = 2, \n",
    "                                                         numberOfConfig = 3000, \n",
    "                                                         probabilityFunction = probabilityFunction, \n",
    "                                                        numberOfIterations= 1000, \n",
    "                                                          params = [alpha]\n",
    "                                                         ) \n",
    "\n",
    "\n",
    "\n",
    "    # integration approximation using current parameter value \n",
    "    integrationResultAsValue = mc.monteCarloIntegrationFunction(configSamples_Metropolis, localEnergyFunction = localEnergyFunction,  params= [alpha], needError = True)\n",
    "    # save the results to the table \n",
    "    saveToHistoryTable(integrationResultAsValue, alpha)\n",
    "\n",
    "\n",
    "\n",
    "    # integration approximation with parameter as variable for optimization \n",
    "    integrationResultWithParameter = mc.monteCarloIntegrationFunction(configSamples_Metropolis, localEnergyFunction = localEnergyFunction,  params= [sym.Symbol('a')])\n",
    "\n",
    "\n",
    "    # extract coefficients from previous integration as float \n",
    "    listOfCoefficients =list( map(lambda x: float(x), re.findall(r'[-]?\\d+[.]{1}\\d+', str(integrationResultWithParameter[0]).replace(' ', '')) ) )\n",
    "\n",
    "\n",
    "\n",
    "\n",
    "    # optimization using Adam \n",
    "    opt = tf.keras.optimizers.Adam(learning_rate=0.1)   # define optimizer \n",
    "    var = tf.Variable(alpha)                         # define current variable value \n",
    "    loss = lambda: listOfCoefficients[0] * var**2 + listOfCoefficients[1]*var + listOfCoefficients[2]   # define loss function \n",
    "    opt.minimize(loss, [var])                 # minimize 1 step   # possible to minimize further? -> more loops \n",
    "\n",
    "    alpha = var.numpy()                   \n",
    "    \n",
    "    # when we have at least two energy values in the table, we can compare them \n",
    "    if loopMark >= 1: \n",
    "        # if current calculated energy is bigger than energy calculated in the previous loop, reduce patience by 1\n",
    "        if historyTable['Energy'][-1] > historyTable['Energy'][-2]: \n",
    "            patience -= 1\n",
    "    \n",
    "    print(loopMark) \n",
    "    \n",
    "    loopMark += 1 "
   ]
  },
  {
   "cell_type": "code",
   "execution_count": 13,
   "id": "c8b167b2-f222-4fce-8b50-746cb7d71d74",
   "metadata": {
    "tags": []
   },
   "outputs": [
    {
     "data": {
      "text/plain": [
       "{'Energy': [-2.3523669899510202,\n",
       "  -2.5081804344576506,\n",
       "  -2.3580467143545825,\n",
       "  -2.5031389881410178,\n",
       "  -2.585904692034938,\n",
       "  -2.733639950617693,\n",
       "  -2.6166062507260084],\n",
       " 'Variance': [1.4646878838355786,\n",
       "  2.1011579093752557,\n",
       "  1.2845729890664348,\n",
       "  1.8433762623549779,\n",
       "  1.1664086210319686,\n",
       "  2.6416006731857653,\n",
       "  1.3265942822240957],\n",
       " 'Std error of mean': [0.022095911264572447,\n",
       "  0.02646480624889878,\n",
       "  0.020692776429360037,\n",
       "  0.024788278563029058,\n",
       "  0.01971808493939822,\n",
       "  0.029673785699310232,\n",
       "  0.021028506701016567],\n",
       " 'parameters': [1.0,\n",
       "  1.0999877,\n",
       "  1.0000329,\n",
       "  1.1000212,\n",
       "  1.1999544,\n",
       "  1.2999303,\n",
       "  1.1999354]}"
      ]
     },
     "execution_count": 13,
     "metadata": {},
     "output_type": "execute_result"
    }
   ],
   "source": [
    "historyTable"
   ]
  },
  {
   "cell_type": "code",
   "execution_count": null,
   "id": "26b20ad8-4bf8-447d-bd59-d43a37c6727b",
   "metadata": {},
   "outputs": [],
   "source": []
  },
  {
   "cell_type": "code",
   "execution_count": null,
   "id": "44c0436a-ca85-4dbd-a039-cfc2bc793bd9",
   "metadata": {},
   "outputs": [],
   "source": []
  },
  {
   "cell_type": "code",
   "execution_count": null,
   "id": "2c284488-54c8-49ee-9b4a-782c16c83271",
   "metadata": {},
   "outputs": [],
   "source": []
  },
  {
   "cell_type": "markdown",
   "id": "e06d95e3-8e3f-4821-aad0-eca89b647485",
   "metadata": {},
   "source": [
    "# Testaus "
   ]
  },
  {
   "cell_type": "markdown",
   "id": "90dcf3d7-4cf0-4e0c-be2c-f4da768ebd1c",
   "metadata": {},
   "source": [
    "## Regex"
   ]
  },
  {
   "cell_type": "code",
   "execution_count": 14,
   "id": "cc2eda16-9c78-40c7-9c3b-f3a2ada1d4ef",
   "metadata": {},
   "outputs": [
    {
     "data": {
      "text/plain": [
       "['-1.0', '3.98813746927895', '-6.72856476573052']"
      ]
     },
     "execution_count": 14,
     "metadata": {},
     "output_type": "execute_result"
    }
   ],
   "source": [
    "string = '-1.0*a**2 + 3.98813746927895*a - 6.72856476573052'\n",
    "re.findall(r'[-]?\\d+[.]{1}\\d+', string.replace(' ', ''))\n"
   ]
  },
  {
   "cell_type": "code",
   "execution_count": null,
   "id": "931ee2f8-84ee-45de-bb82-ac4859a0199f",
   "metadata": {},
   "outputs": [],
   "source": []
  }
 ],
 "metadata": {
  "kernelspec": {
   "display_name": "Python 3 (ipykernel)",
   "language": "python",
   "name": "python3"
  },
  "language_info": {
   "codemirror_mode": {
    "name": "ipython",
    "version": 3
   },
   "file_extension": ".py",
   "mimetype": "text/x-python",
   "name": "python",
   "nbconvert_exporter": "python",
   "pygments_lexer": "ipython3",
   "version": "3.10.4"
  }
 },
 "nbformat": 4,
 "nbformat_minor": 5
}
