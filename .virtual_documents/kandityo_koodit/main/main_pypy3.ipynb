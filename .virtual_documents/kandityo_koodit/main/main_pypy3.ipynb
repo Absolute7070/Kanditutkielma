import numpy as np 
import math 

import parameters as pr 
import sys 

from numba import jit 
from numba.extending import overload        

# metropolis sampling and integral approximation 
# %run functions_module.ipynb 
# %run auxiliaryFunctions.ipynb 

from auxiliaryFunctions import * 
from functions_module import * 

import pyjion
pyjion.enable()


parametersList = [0.2, 2, 3] 


M = 3


probabilityExprPath = "probabilityFormula_pythonCompatible"


localEnergyExprPath = "localEnergy_pythonCompatible"


coordinateValueRange= (-10, 10)
numberOfParticles = 3
numberOfConfig = 100
numberOfIterations = 100            


# default folder to the Python-compatible formulae 
defaultFolderPathForFormulae = sys.path[0]+ "/"+ "Formulae_PythonCompatible/"    


# global variables: used in probability and local energy functions definition

probabilityExpr = readFileToString(defaultFolderPathForFormulae + probabilityExprPath)  

localEnergyExpr = readFileToString(defaultFolderPathForFormulae + localEnergyExprPath)


probabilityExpr


localEnergyExpr[:50] 


# find coordinates and parameters
coordinates, parameterStringList  = findVariables(localEnergyExpr)

# regrouping coordinates 
coordinates = regroupToCoordinateTriple_findVariables(coordinates)


# for functions usage, define list of ordered variables and parameters
mapping =  coordinates + parameterStringList  # global variable: used in probability and local energy functions definition



coordinates, parameterStringList, mapping 


check_numberOfIni_VS_numberOfFound_parameters(parametersList, parameterStringList) # raises exception if error occurs, program stopped



def probabilityFunc(R: np.ndarray, parameters: list, expr: str = probabilityExpr, mapping: list = mapping) -> float: 
    
    '''
    psi^2. Probability function. Dependent on configuration and parameters. 
    
    Parameters
    ----------
        R: ordered current configuration e.g. 
            array([[-0.5583685 , -0.04608995,  0.15500853],
                 [ 0.66255653,  0.66301583, -0.85159876]])
             each row representing one single particle's position
        
        parameters: ordered list of parameters as numbers 
        
        expr: formula string. Default to the global variable 
        
        mapping: ordered coordinates and parameters in a list: 
            ['x1', 'y1', 'z1', 'x2', 'y2', 'z2', 'x3', 'y3', 'z3', 'A1', 'A2']. Default to the global variable 
        
    Return
    ------
        Probability function evaluated at certain configuration and parameters' values
    '''
    
    
    
    
    R_flattened = R.flatten() # make current configuration to vector form 
    R_and_parameters = np.append(R_flattened, parameters) # ordered coordinates, and parameters at the tail of the vector 
    
    
    if len(R_and_parameters) != len(mapping): 
        raise Exception("R and parameters not same length as that of mapping!")
    
    
    # mapping dictionary for evaluation of the expression
    localDict = dict(zip(mapping, R_and_parameters))

    
    
    return eval(expr, {'math': math}, localDict)
    
    
    
    


def localEnergyFunc(R: np.ndarray, parameters: list, expr: str = localEnergyExpr, mapping: list = mapping ) -> float: 
    '''
    
    H*psi/psi. Local energy.  Dependent on configuration and parameters. 
    
    Parameters
    ----------
        R: current configuration
        
        parameters: list of parameters as numbers 
        
        expr: formula string 
        
        mapping: ordered coordinates and parameters in a list: 
            ['x1', 'y1', 'z1', 'x2', 'y2', 'z2', 'x3', 'y3', 'z3', 'A1', 'A2']
            
    Return
    ------
        Local energy evaluated at certain configuration and parameters' values
    
    '''
    
    
    R_flattened = R.flatten() # make current configuration to vector form 
    R_and_parameters = np.append(R_flattened, parameters) # ordered coordinates, and parameters at the tail of the vector 
    
    
    if len(R_and_parameters) != len(mapping): 
        raise Exception("R and parameters not same length as that of mapping!")
    
    
    # mapping dictionary for evaluation of the expression
    localDict = dict(zip(mapping, R_and_parameters))

    
    
    
    
    return eval(expr, {'math': math}, localDict)
    
    
    
























# to save list of average energies from each configuration subspace 
energyInConfigSpaceList = []


# for each configuration subspace 
for i in range(M): 
    
    # generating initial Metropolis samples and Thermalisation
    configSubspace_Metropolis = metropolisSamplingFunction( coordinateValueRange=  coordinateValueRange, 
                                                           numberOfParticles = numberOfParticles,  
                                                           numberOfConfig = numberOfConfig, 
                                                           probabilityFunction=probabilityFunc, 
                                                           numberOfIterations = numberOfIterations, 
                                                           params = parametersList)
    
    
    energyInConfigSubspaceList = []           # for saving the energy values in this subspace 
    
    
 
    # energy computation for each Metropolis suggestion
    # for each configuration 
    for configIndex in range(configSubspace_Metropolis.shape[1]): 
        # current configuration in format: 
        #  array([[-0.5583685 , -0.04608995,  0.15500853],
       # [ 0.66255653,  0.66301583, -0.85159876]])
        # each row representing one particle's position  
        currentConfig = configSubspace_Metropolis[:, configIndex, :]   
        
        # for each particle's displacement, compute energy 
        for nthParticleIndex in range(len(currentConfig)): 
            # making Metropolis-suggestion on single particle
            updatedConfig = metropolisStepSuggestion(configuration= currentConfig, 
                                                    nthParticle= nthParticleIndex, 
                                                    probabilityFunction=probabilityFunc, 
                                                    params=parametersList)
            
            # update configuration subspace 
            configSubspace_Metropolis[:, configIndex, :] = updatedConfig
            
            
            # compute energy 
            energyInConfigSubspace = monteCarloIntegrationFunction(samples= configSubspace_Metropolis, 
                                                                     localEnergyFunction=localEnergyFunc, 
                                                                     params=parametersList)
            
            # append to the list 
            energyInConfigSubspaceList.append(energyInConfigSubspace)
        
    
    # compute mean energy of this subspace and append it to the whole space list 
    energyInConfigSpaceList.append(np.mean(energyInConfigSubspaceList))
    
    print(f'{i}.loop completed')
    
            
            
        
        
    


energy














































































