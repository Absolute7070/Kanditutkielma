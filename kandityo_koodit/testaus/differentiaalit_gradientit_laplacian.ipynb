{
 "cells": [
  {
   "cell_type": "code",
   "execution_count": 1,
   "id": "e0c02a93-319d-4ee9-b7df-a47d0d558762",
   "metadata": {},
   "outputs": [],
   "source": [
    "import numpy as np "
   ]
  },
  {
   "cell_type": "markdown",
   "id": "1dad6d03-360a-4235-ab82-3f61122a85be",
   "metadata": {},
   "source": [
    "# Gradientti "
   ]
  },
  {
   "cell_type": "code",
   "execution_count": null,
   "id": "0963f9b7-a631-4cde-93cb-cebc02d00db7",
   "metadata": {},
   "outputs": [],
   "source": []
  },
  {
   "cell_type": "code",
   "execution_count": 2,
   "id": "3de804ed-9cd1-4cc6-abe8-2bf24e1536fb",
   "metadata": {},
   "outputs": [],
   "source": [
    "x,y,z = np.mgrid[0:20:1, 0:20:1, 0:20:1]\n",
    "\n",
    "V = 2*x**2 + 3*y**2 - 4*z # just a random function for the potential\n",
    "\n",
    "Ex,Ey,Ez = np.gradient(V)"
   ]
  },
  {
   "cell_type": "code",
   "execution_count": 3,
   "id": "2744f232-53f7-4c07-b48a-9b405dd4c6eb",
   "metadata": {},
   "outputs": [
    {
     "data": {
      "text/plain": [
       "(2.0, 3.0, -4.0)"
      ]
     },
     "execution_count": 3,
     "metadata": {},
     "output_type": "execute_result"
    }
   ],
   "source": [
    "Ex[0,0,0], Ey[0,0,0], Ez[0,0,0]"
   ]
  },
  {
   "cell_type": "code",
   "execution_count": 4,
   "id": "3f7068a8-b660-4b1e-8510-0581c7477e9d",
   "metadata": {},
   "outputs": [
    {
     "data": {
      "text/plain": [
       "(4.0, 12.0, -4.0)"
      ]
     },
     "execution_count": 4,
     "metadata": {},
     "output_type": "execute_result"
    }
   ],
   "source": [
    "Ex[1, 2, 3], Ey[1, 2, 3], Ez[1, 2, 3]"
   ]
  },
  {
   "cell_type": "code",
   "execution_count": null,
   "id": "62ba0ebc-1ebf-4c33-a1c4-d2a2fb07a680",
   "metadata": {},
   "outputs": [],
   "source": []
  },
  {
   "cell_type": "code",
   "execution_count": 5,
   "id": "c3359c30-c4e9-4223-8684-9a76c152f9a1",
   "metadata": {},
   "outputs": [],
   "source": [
    "x, y = np.mgrid[0:21, 0:21]\n",
    "\n",
    "f = x**2*y \n",
    "\n",
    "Dfx, Dfy = np.gradient(f)"
   ]
  },
  {
   "cell_type": "code",
   "execution_count": 20,
   "id": "3d8a3a2a-ada4-43db-9fd5-9f50f3270084",
   "metadata": {},
   "outputs": [
    {
     "data": {
      "text/plain": [
       "(array([  0.,   6.,  12.,  18.,  24.,  30.,  36.,  42.,  48.,  54.,  60.,\n",
       "         66.,  72.,  78.,  84.,  90.,  96., 102., 108., 114., 120.]),\n",
       " array([4., 4., 4., 4., 4., 4., 4., 4., 4., 4., 4., 4., 4., 4., 4., 4., 4.,\n",
       "        4., 4., 4., 4.]))"
      ]
     },
     "execution_count": 20,
     "metadata": {},
     "output_type": "execute_result"
    }
   ],
   "source": [
    "Dfx[3], Dfy[2]"
   ]
  },
  {
   "cell_type": "code",
   "execution_count": 21,
   "id": "d83224dd-c4d5-4a8a-8aa8-4e1eb8325859",
   "metadata": {},
   "outputs": [
    {
     "data": {
      "text/plain": [
       "(12.0, 9.0)"
      ]
     },
     "execution_count": 21,
     "metadata": {},
     "output_type": "execute_result"
    }
   ],
   "source": [
    "Dfx[3, 2], Dfy[3, 2]"
   ]
  },
  {
   "cell_type": "code",
   "execution_count": 20,
   "id": "690b7678-4ffc-4de1-bb07-789e6a087a3a",
   "metadata": {},
   "outputs": [
    {
     "data": {
      "text/plain": [
       "2"
      ]
     },
     "execution_count": 20,
     "metadata": {},
     "output_type": "execute_result"
    }
   ],
   "source": [
    "len(np.gradient(f))"
   ]
  },
  {
   "cell_type": "markdown",
   "id": "09fd90e8-2853-452c-9dcc-b34b0c1e3e34",
   "metadata": {},
   "source": [
    "# Derivaatta "
   ]
  },
  {
   "cell_type": "code",
   "execution_count": 38,
   "id": "0d1322fe-cf7f-4404-b87a-8665b7981793",
   "metadata": {},
   "outputs": [
    {
     "data": {
      "text/plain": [
       "array([  0,   1,   4,   9,  16,  25,  36,  49,  64,  81, 100, 121, 144,\n",
       "       169, 196, 225, 256, 289, 324, 361, 400])"
      ]
     },
     "execution_count": 38,
     "metadata": {},
     "output_type": "execute_result"
    }
   ],
   "source": [
    "x = np.arange(0,21)\n",
    "g = x**2 \n",
    "g\n"
   ]
  },
  {
   "cell_type": "code",
   "execution_count": 34,
   "id": "b75a26a8-94a7-4715-9451-23aa78a36095",
   "metadata": {},
   "outputs": [
    {
     "data": {
      "text/plain": [
       "array([ 1.,  2.,  4.,  6.,  8., 10., 12., 14., 16., 18., 20., 22., 24.,\n",
       "       26., 28., 30., 32., 34., 36., 38., 39.])"
      ]
     },
     "execution_count": 34,
     "metadata": {},
     "output_type": "execute_result"
    }
   ],
   "source": [
    "dgdx = np.gradient(g, 1)\n",
    "dgdx"
   ]
  },
  {
   "cell_type": "code",
   "execution_count": 35,
   "id": "55370691-7f7b-4529-9fb8-5cb22b0e0cb8",
   "metadata": {},
   "outputs": [
    {
     "data": {
      "text/plain": [
       "21"
      ]
     },
     "execution_count": 35,
     "metadata": {},
     "output_type": "execute_result"
    }
   ],
   "source": [
    "len(dgdx)"
   ]
  },
  {
   "cell_type": "markdown",
   "id": "162f732c-54d2-4680-8aaf-1a860a10bc1b",
   "metadata": {},
   "source": [
    "Accurate values: "
   ]
  },
  {
   "cell_type": "code",
   "execution_count": 39,
   "id": "37e5d337-c938-4a6e-b7ac-0660397361e0",
   "metadata": {},
   "outputs": [
    {
     "data": {
      "text/plain": [
       "[0, 2, 4, 6, 8, 10, 12, 14, 16, 18, 20, 22, 24, 26, 28, 30, 32, 34, 36, 38, 40]"
      ]
     },
     "execution_count": 39,
     "metadata": {},
     "output_type": "execute_result"
    }
   ],
   "source": [
    "accurate = [2*s for s in range(0,21)]\n",
    "accurate"
   ]
  },
  {
   "cell_type": "code",
   "execution_count": 37,
   "id": "65b8fea2-042a-446c-9ab0-f3f28b5b7d32",
   "metadata": {},
   "outputs": [
    {
     "data": {
      "text/plain": [
       "20"
      ]
     },
     "execution_count": 37,
     "metadata": {},
     "output_type": "execute_result"
    }
   ],
   "source": [
    "len(accurate)"
   ]
  },
  {
   "cell_type": "code",
   "execution_count": null,
   "id": "a8722fec-a71f-44dc-910e-331f57670b9c",
   "metadata": {},
   "outputs": [],
   "source": []
  },
  {
   "cell_type": "markdown",
   "id": "c41f4513-0e73-483d-9034-77b5eaf4f28f",
   "metadata": {},
   "source": [
    "# Laplacian \n"
   ]
  },
  {
   "cell_type": "code",
   "execution_count": 22,
   "id": "a0d96e32-2d8e-4817-b9f4-be3cbc7898fa",
   "metadata": {
    "tags": []
   },
   "outputs": [
    {
     "data": {
      "text/plain": [
       "((21, 21), (21, 21))"
      ]
     },
     "execution_count": 22,
     "metadata": {},
     "output_type": "execute_result"
    }
   ],
   "source": [
    "Dfx.shape, Dfy.shape "
   ]
  },
  {
   "cell_type": "code",
   "execution_count": 31,
   "id": "fb24ab55-c579-467e-9d84-60345ce6ce3c",
   "metadata": {
    "collapsed": true,
    "jupyter": {
     "outputs_hidden": true
    },
    "tags": []
   },
   "outputs": [
    {
     "data": {
      "text/plain": [
       "array([[ 0. ,  1. ,  2. ,  3. ,  4. ,  5. ,  6. ,  7. ,  8. ,  9. , 10. ,\n",
       "        11. , 12. , 13. , 14. , 15. , 16. , 17. , 18. , 19. , 20. ],\n",
       "       [ 0. ,  1.5,  3. ,  4.5,  6. ,  7.5,  9. , 10.5, 12. , 13.5, 15. ,\n",
       "        16.5, 18. , 19.5, 21. , 22.5, 24. , 25.5, 27. , 28.5, 30. ],\n",
       "       [ 0. ,  2. ,  4. ,  6. ,  8. , 10. , 12. , 14. , 16. , 18. , 20. ,\n",
       "        22. , 24. , 26. , 28. , 30. , 32. , 34. , 36. , 38. , 40. ],\n",
       "       [ 0. ,  2. ,  4. ,  6. ,  8. , 10. , 12. , 14. , 16. , 18. , 20. ,\n",
       "        22. , 24. , 26. , 28. , 30. , 32. , 34. , 36. , 38. , 40. ],\n",
       "       [ 0. ,  2. ,  4. ,  6. ,  8. , 10. , 12. , 14. , 16. , 18. , 20. ,\n",
       "        22. , 24. , 26. , 28. , 30. , 32. , 34. , 36. , 38. , 40. ],\n",
       "       [ 0. ,  2. ,  4. ,  6. ,  8. , 10. , 12. , 14. , 16. , 18. , 20. ,\n",
       "        22. , 24. , 26. , 28. , 30. , 32. , 34. , 36. , 38. , 40. ],\n",
       "       [ 0. ,  2. ,  4. ,  6. ,  8. , 10. , 12. , 14. , 16. , 18. , 20. ,\n",
       "        22. , 24. , 26. , 28. , 30. , 32. , 34. , 36. , 38. , 40. ],\n",
       "       [ 0. ,  2. ,  4. ,  6. ,  8. , 10. , 12. , 14. , 16. , 18. , 20. ,\n",
       "        22. , 24. , 26. , 28. , 30. , 32. , 34. , 36. , 38. , 40. ],\n",
       "       [ 0. ,  2. ,  4. ,  6. ,  8. , 10. , 12. , 14. , 16. , 18. , 20. ,\n",
       "        22. , 24. , 26. , 28. , 30. , 32. , 34. , 36. , 38. , 40. ],\n",
       "       [ 0. ,  2. ,  4. ,  6. ,  8. , 10. , 12. , 14. , 16. , 18. , 20. ,\n",
       "        22. , 24. , 26. , 28. , 30. , 32. , 34. , 36. , 38. , 40. ],\n",
       "       [ 0. ,  2. ,  4. ,  6. ,  8. , 10. , 12. , 14. , 16. , 18. , 20. ,\n",
       "        22. , 24. , 26. , 28. , 30. , 32. , 34. , 36. , 38. , 40. ],\n",
       "       [ 0. ,  2. ,  4. ,  6. ,  8. , 10. , 12. , 14. , 16. , 18. , 20. ,\n",
       "        22. , 24. , 26. , 28. , 30. , 32. , 34. , 36. , 38. , 40. ],\n",
       "       [ 0. ,  2. ,  4. ,  6. ,  8. , 10. , 12. , 14. , 16. , 18. , 20. ,\n",
       "        22. , 24. , 26. , 28. , 30. , 32. , 34. , 36. , 38. , 40. ],\n",
       "       [ 0. ,  2. ,  4. ,  6. ,  8. , 10. , 12. , 14. , 16. , 18. , 20. ,\n",
       "        22. , 24. , 26. , 28. , 30. , 32. , 34. , 36. , 38. , 40. ],\n",
       "       [ 0. ,  2. ,  4. ,  6. ,  8. , 10. , 12. , 14. , 16. , 18. , 20. ,\n",
       "        22. , 24. , 26. , 28. , 30. , 32. , 34. , 36. , 38. , 40. ],\n",
       "       [ 0. ,  2. ,  4. ,  6. ,  8. , 10. , 12. , 14. , 16. , 18. , 20. ,\n",
       "        22. , 24. , 26. , 28. , 30. , 32. , 34. , 36. , 38. , 40. ],\n",
       "       [ 0. ,  2. ,  4. ,  6. ,  8. , 10. , 12. , 14. , 16. , 18. , 20. ,\n",
       "        22. , 24. , 26. , 28. , 30. , 32. , 34. , 36. , 38. , 40. ],\n",
       "       [ 0. ,  2. ,  4. ,  6. ,  8. , 10. , 12. , 14. , 16. , 18. , 20. ,\n",
       "        22. , 24. , 26. , 28. , 30. , 32. , 34. , 36. , 38. , 40. ],\n",
       "       [ 0. ,  2. ,  4. ,  6. ,  8. , 10. , 12. , 14. , 16. , 18. , 20. ,\n",
       "        22. , 24. , 26. , 28. , 30. , 32. , 34. , 36. , 38. , 40. ],\n",
       "       [ 0. ,  1.5,  3. ,  4.5,  6. ,  7.5,  9. , 10.5, 12. , 13.5, 15. ,\n",
       "        16.5, 18. , 19.5, 21. , 22.5, 24. , 25.5, 27. , 28.5, 30. ],\n",
       "       [ 0. ,  1. ,  2. ,  3. ,  4. ,  5. ,  6. ,  7. ,  8. ,  9. , 10. ,\n",
       "        11. , 12. , 13. , 14. , 15. , 16. , 17. , 18. , 19. , 20. ]])"
      ]
     },
     "execution_count": 31,
     "metadata": {},
     "output_type": "execute_result"
    }
   ],
   "source": [
    "laplacian_f= np.gradient(Dfx)[0]+ np.gradient(Dfy)[1]\n",
    "laplacian_f"
   ]
  },
  {
   "cell_type": "code",
   "execution_count": 32,
   "id": "86c0a390-b76a-4bc3-8fc7-45d3b6c0cfac",
   "metadata": {},
   "outputs": [
    {
     "data": {
      "text/plain": [
       "(21, 21)"
      ]
     },
     "execution_count": 32,
     "metadata": {},
     "output_type": "execute_result"
    }
   ],
   "source": [
    "laplacian_f.shape "
   ]
  },
  {
   "cell_type": "code",
   "execution_count": 46,
   "id": "bc04bfcc-0b39-4f4f-b986-b2cdda4d895f",
   "metadata": {},
   "outputs": [
    {
     "data": {
      "text/plain": [
       "40.0"
      ]
     },
     "execution_count": 46,
     "metadata": {},
     "output_type": "execute_result"
    }
   ],
   "source": [
    "laplacian_f[3,20]"
   ]
  },
  {
   "cell_type": "markdown",
   "id": "32991e33-751d-4b26-8dbf-6589f2ad2b59",
   "metadata": {},
   "source": [
    "### Laplacian 3d "
   ]
  },
  {
   "cell_type": "code",
   "execution_count": 7,
   "id": "0e45b66c-ccf5-490c-a6d1-2c856b1b1aca",
   "metadata": {},
   "outputs": [],
   "source": [
    "x,y,z = np.mgrid[0:20:1, 0:20:1, 0:20:1]\n",
    "\n",
    "V = 2*x**2 + 3*y**2 - 4*z # just a random function for the potential\n",
    "\n",
    "Ex,Ey,Ez = np.gradient(V)"
   ]
  },
  {
   "cell_type": "code",
   "execution_count": 9,
   "id": "2f2c1aa3-7629-4e34-a5bc-46a7c7f0640f",
   "metadata": {},
   "outputs": [
    {
     "data": {
      "text/plain": [
       "(2.0, 3.0, -4.0)"
      ]
     },
     "execution_count": 9,
     "metadata": {},
     "output_type": "execute_result"
    }
   ],
   "source": [
    "Ex[0,0,0], Ey[0,0,0], Ez[0,0,0]"
   ]
  },
  {
   "cell_type": "code",
   "execution_count": 10,
   "id": "db9c9ec8-de14-49c1-8b8e-a6288a26a01f",
   "metadata": {},
   "outputs": [
    {
     "data": {
      "text/plain": [
       "(4.0, 12.0, -4.0)"
      ]
     },
     "execution_count": 10,
     "metadata": {},
     "output_type": "execute_result"
    }
   ],
   "source": [
    "Ex[1, 2, 3], Ey[1, 2, 3], Ez[1, 2, 3]"
   ]
  },
  {
   "cell_type": "code",
   "execution_count": 22,
   "id": "a48ff627-d844-4f67-934f-1f6f1fec78d0",
   "metadata": {
    "tags": []
   },
   "outputs": [
    {
     "data": {
      "text/plain": [
       "array([[[ 5. ,  5. ,  5. , ...,  5. ,  5. ,  5. ],\n",
       "        [ 6.5,  6.5,  6.5, ...,  6.5,  6.5,  6.5],\n",
       "        [ 8. ,  8. ,  8. , ...,  8. ,  8. ,  8. ],\n",
       "        ...,\n",
       "        [ 8. ,  8. ,  8. , ...,  8. ,  8. ,  8. ],\n",
       "        [ 6.5,  6.5,  6.5, ...,  6.5,  6.5,  6.5],\n",
       "        [ 5. ,  5. ,  5. , ...,  5. ,  5. ,  5. ]],\n",
       "\n",
       "       [[ 6. ,  6. ,  6. , ...,  6. ,  6. ,  6. ],\n",
       "        [ 7.5,  7.5,  7.5, ...,  7.5,  7.5,  7.5],\n",
       "        [ 9. ,  9. ,  9. , ...,  9. ,  9. ,  9. ],\n",
       "        ...,\n",
       "        [ 9. ,  9. ,  9. , ...,  9. ,  9. ,  9. ],\n",
       "        [ 7.5,  7.5,  7.5, ...,  7.5,  7.5,  7.5],\n",
       "        [ 6. ,  6. ,  6. , ...,  6. ,  6. ,  6. ]],\n",
       "\n",
       "       [[ 7. ,  7. ,  7. , ...,  7. ,  7. ,  7. ],\n",
       "        [ 8.5,  8.5,  8.5, ...,  8.5,  8.5,  8.5],\n",
       "        [10. , 10. , 10. , ..., 10. , 10. , 10. ],\n",
       "        ...,\n",
       "        [10. , 10. , 10. , ..., 10. , 10. , 10. ],\n",
       "        [ 8.5,  8.5,  8.5, ...,  8.5,  8.5,  8.5],\n",
       "        [ 7. ,  7. ,  7. , ...,  7. ,  7. ,  7. ]],\n",
       "\n",
       "       ...,\n",
       "\n",
       "       [[ 7. ,  7. ,  7. , ...,  7. ,  7. ,  7. ],\n",
       "        [ 8.5,  8.5,  8.5, ...,  8.5,  8.5,  8.5],\n",
       "        [10. , 10. , 10. , ..., 10. , 10. , 10. ],\n",
       "        ...,\n",
       "        [10. , 10. , 10. , ..., 10. , 10. , 10. ],\n",
       "        [ 8.5,  8.5,  8.5, ...,  8.5,  8.5,  8.5],\n",
       "        [ 7. ,  7. ,  7. , ...,  7. ,  7. ,  7. ]],\n",
       "\n",
       "       [[ 6. ,  6. ,  6. , ...,  6. ,  6. ,  6. ],\n",
       "        [ 7.5,  7.5,  7.5, ...,  7.5,  7.5,  7.5],\n",
       "        [ 9. ,  9. ,  9. , ...,  9. ,  9. ,  9. ],\n",
       "        ...,\n",
       "        [ 9. ,  9. ,  9. , ...,  9. ,  9. ,  9. ],\n",
       "        [ 7.5,  7.5,  7.5, ...,  7.5,  7.5,  7.5],\n",
       "        [ 6. ,  6. ,  6. , ...,  6. ,  6. ,  6. ]],\n",
       "\n",
       "       [[ 5. ,  5. ,  5. , ...,  5. ,  5. ,  5. ],\n",
       "        [ 6.5,  6.5,  6.5, ...,  6.5,  6.5,  6.5],\n",
       "        [ 8. ,  8. ,  8. , ...,  8. ,  8. ,  8. ],\n",
       "        ...,\n",
       "        [ 8. ,  8. ,  8. , ...,  8. ,  8. ,  8. ],\n",
       "        [ 6.5,  6.5,  6.5, ...,  6.5,  6.5,  6.5],\n",
       "        [ 5. ,  5. ,  5. , ...,  5. ,  5. ,  5. ]]])"
      ]
     },
     "execution_count": 22,
     "metadata": {},
     "output_type": "execute_result"
    }
   ],
   "source": [
    "laplacian_V = np.gradient(Ex)[0]+ np.gradient(Ey)[1] + np.gradient(Ez)[2]\n",
    "laplacian_V\n"
   ]
  },
  {
   "cell_type": "code",
   "execution_count": 25,
   "id": "74c10199-1fdc-412b-9227-6877534e89b8",
   "metadata": {},
   "outputs": [
    {
     "data": {
      "text/plain": [
       "10.0"
      ]
     },
     "execution_count": 25,
     "metadata": {},
     "output_type": "execute_result"
    }
   ],
   "source": [
    "laplacian_V[10,10,10]"
   ]
  },
  {
   "cell_type": "code",
   "execution_count": null,
   "id": "0b172e48-4fd1-46e8-a65b-4ed4229230f3",
   "metadata": {},
   "outputs": [],
   "source": []
  }
 ],
 "metadata": {
  "kernelspec": {
   "display_name": "Python 3 (ipykernel)",
   "language": "python",
   "name": "python3"
  },
  "language_info": {
   "codemirror_mode": {
    "name": "ipython",
    "version": 3
   },
   "file_extension": ".py",
   "mimetype": "text/x-python",
   "name": "python",
   "nbconvert_exporter": "python",
   "pygments_lexer": "ipython3",
   "version": "3.10.4"
  }
 },
 "nbformat": 4,
 "nbformat_minor": 5
}
