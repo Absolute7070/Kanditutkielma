{
 "cells": [
  {
   "cell_type": "markdown",
   "id": "f2933d2f-21bd-42f9-8448-dd791acac32e",
   "metadata": {},
   "source": [
    "# Fortran formulae to Python String \n",
    "\n",
    "**Synopsis**\n",
    "\n",
    "Local energy and probability function can be effectively computed using Mathematica. Mathematica can transform formulae into Fortran formula, which is close to syntax of Python, but needs to be slightly modified. Here we modify the output of Mathematica into Python-compatible form. "
   ]
  },
  {
   "cell_type": "code",
   "execution_count": 46,
   "id": "362d0251-9d25-40fe-8303-1edc0be7802f",
   "metadata": {
    "tags": []
   },
   "outputs": [],
   "source": [
    "import sys \n",
    "%run auxiliaryFunctions_noMath_module.ipynb"
   ]
  },
  {
   "cell_type": "markdown",
   "id": "e71c3965-0d32-41ce-a75c-4982258fcdf5",
   "metadata": {},
   "source": [
    "# User definable variables "
   ]
  },
  {
   "cell_type": "markdown",
   "id": "a0d2f7ce-aa85-4c06-ac07-55811d46e7fb",
   "metadata": {},
   "source": [
    "**Input**: Set absolute path for the location of the .txt files, containing **Fortran** formulae"
   ]
  },
  {
   "cell_type": "code",
   "execution_count": 47,
   "id": "adfb05ab-d53f-48b0-91ea-44ce1f6cefa5",
   "metadata": {
    "tags": []
   },
   "outputs": [],
   "source": [
    "probabilityFunctionPath = '/home/degnaiyu/Työpöytä/kanditutkielma/kandityo_koodit/main/Formulae_MathematicaOutput/fortranOutput_desktop/Lithium_probabilityFunctionFortranForm'\n",
    "\n",
    "localEnergyFunctionPath = '/home/degnaiyu/Työpöytä/kanditutkielma/kandityo_koodit/main/Formulae_MathematicaOutput/fortranOutput_desktop/Lithium_localEnergyFortranForm'"
   ]
  },
  {
   "cell_type": "markdown",
   "id": "bbe20cd9-6c9e-4599-af46-661e5b481f9f",
   "metadata": {},
   "source": [
    "**Input**: set absolute path to where to put the output files "
   ]
  },
  {
   "cell_type": "code",
   "execution_count": null,
   "id": "a685825a-1c90-44a8-a0b7-270413c6993e",
   "metadata": {},
   "outputs": [],
   "source": []
  },
  {
   "cell_type": "code",
   "execution_count": 48,
   "id": "611c89bb-1b37-4bb3-8f4f-bd0895427676",
   "metadata": {
    "tags": []
   },
   "outputs": [],
   "source": [
    "probabilityOutputFilePath = '/home/degnaiyu/Työpöytä/kanditutkielma/kandityo_koodit/main/Formulae_FortranCompatible/probability_Lithium'\n",
    "\n",
    "localEnergyOutputFilePath = '/home/degnaiyu/Työpöytä/kanditutkielma/kandityo_koodit/main/Formulae_FortranCompatible/localEnergy_Lithium'"
   ]
  },
  {
   "cell_type": "markdown",
   "id": "6011ce56-ec64-49c1-88fb-667f425dc289",
   "metadata": {},
   "source": [
    "## Checklist for formula validity "
   ]
  },
  {
   "cell_type": "markdown",
   "id": "25e0fbdb-b7cb-43e5-8ee7-7c94192eb2c6",
   "metadata": {},
   "source": [
    "**Input (optional)** : We expect that the following do not appear in the output of Mathematica: "
   ]
  },
  {
   "cell_type": "code",
   "execution_count": 49,
   "id": "0951559b-348d-4e8b-affb-84808b18c5d6",
   "metadata": {},
   "outputs": [],
   "source": [
    "checkList = ['Arg']"
   ]
  },
  {
   "cell_type": "markdown",
   "id": "ebe04217-0c84-4f3f-80cb-bfa518b6df50",
   "metadata": {},
   "source": [
    "## Fortran to python dictionary "
   ]
  },
  {
   "cell_type": "markdown",
   "id": "3e4e40d7-1717-40e5-9f54-2234fa7c0268",
   "metadata": {},
   "source": [
    "**Input (optional)**: Not complete! Only supposed to apply to this project. "
   ]
  },
  {
   "cell_type": "code",
   "execution_count": 50,
   "id": "8f928ff6-7a4e-4658-b00e-339539f624b4",
   "metadata": {
    "tags": []
   },
   "outputs": [],
   "source": [
    "mapping = {\n",
    "    'E**': 'exp', \n",
    "    'Sqrt': 'sqrt', \n",
    "    'Abs': 'abs', \n",
    "    '\\n': '' , \n",
    "    \"\\\\\" : '', \n",
    "    '**':'^', \n",
    "}"
   ]
  },
  {
   "cell_type": "markdown",
   "id": "af016b09-05bc-4c67-8ac7-f7c0f7513a49",
   "metadata": {},
   "source": []
  },
  {
   "cell_type": "markdown",
   "id": "2169b747-9216-4a89-8a3c-e2de4170d41c",
   "metadata": {},
   "source": [
    "# Functions "
   ]
  },
  {
   "cell_type": "code",
   "execution_count": 51,
   "id": "57890054-607e-4821-916e-3774f98b70ff",
   "metadata": {},
   "outputs": [],
   "source": [
    "def readFileToString(absolutePath: str) -> str:  \n",
    "    '''\n",
    "    Read file by absolute path. Returns string \n",
    "    \n",
    "    \n",
    "    Parameters\n",
    "    ----------\n",
    "        absolutePath: absolute path of the file \n",
    "        \n",
    "    \n",
    "    Return\n",
    "    ------\n",
    "        Returns the content of the file as string \n",
    "    \n",
    "    '''\n",
    "    \n",
    "    file = open(absolutePath, 'r') \n",
    "    return file.read()\n",
    "\n",
    "\n",
    "\n"
   ]
  },
  {
   "cell_type": "code",
   "execution_count": 52,
   "id": "c5017566-4c23-4323-9788-03d127adabd0",
   "metadata": {},
   "outputs": [],
   "source": [
    "def checkListFunction(string, checkList: list ) -> list: \n",
    "    '''\n",
    "    Check whether there are unwanted elements in string following the checklist of unwanted elements \n",
    "    \n",
    "    \n",
    "    Parameters\n",
    "    ----------\n",
    "        string: string which we are checking \n",
    "        \n",
    "        \n",
    "    Return\n",
    "    ------\n",
    "        list of unwanted elements in the string\n",
    "    \n",
    "    '''\n",
    "    unwantedList = []\n",
    "    \n",
    "    for unwanted in checkList: \n",
    "        if unwanted in string: \n",
    "            unwantedList.append(unwanted)\n",
    "            \n",
    "            \n",
    "    return unwantedList\n",
    "            \n",
    "\n",
    "    \n",
    "    \n",
    "    \n",
    "def printingForUnwantedElements(isLocalEnergy: bool, listOfUnwantedElements: list) -> None: \n",
    "    '''\n",
    "    Printing for unwanted elements in the Mathematica output \n",
    "    '''\n",
    "    \n",
    "    if isLocalEnergy: \n",
    "        prompt = f'Local energy has {len(listOfUnwantedElements)} unwanted elements:'\n",
    "        print(prompt)\n",
    "        print(len(prompt)*'-')\n",
    "        print(listOfUnwantedElements)\n",
    "    else: \n",
    "        prompt = f'Probability function has {len(listOfUnwantedElements)} unwanted elements:'\n",
    "        print(prompt)\n",
    "        print(len(prompt)*'-')\n",
    "        print(listOfUnwantedElements)\n",
    "        \n",
    "                "
   ]
  },
  {
   "cell_type": "code",
   "execution_count": 53,
   "id": "96e5d3b0-24c3-47c1-9ea6-05a4e7d91136",
   "metadata": {},
   "outputs": [],
   "source": [
    "def fortranFormToPythonForm(string: str, mappingDict: dict) -> str: \n",
    "    '''\n",
    "    Transform fortran formula to python formula using the above defined mapping \n",
    "    \n",
    "    \n",
    "    Parameters\n",
    "    ---------\n",
    "        string: input string containing fortran formulae generated by Mathematica \n",
    "        \n",
    "        mappingDict: mapping dictionary, rules for transforming  fortran formulae to python formulae \n",
    "        \n",
    "    Return\n",
    "    ------\n",
    "        string which is the input transformed into python formula\n",
    "    \n",
    "    '''\n",
    "    \n",
    "    transcript = string\n",
    "    \n",
    "    # transforming \n",
    "    for fortranForm, pythonForm in mappingDict.items(): \n",
    "        transcript = transcript.replace(fortranForm, pythonForm)\n",
    "        \n",
    "    return transcript\n",
    "    "
   ]
  },
  {
   "cell_type": "code",
   "execution_count": 54,
   "id": "52e5cdf0-ba72-45ae-86e3-fbbb2fe3707e",
   "metadata": {},
   "outputs": [],
   "source": [
    "def savePythonFormToFile(string: str, absolutePath: str, mode = 'w') -> None:\n",
    "    '''\n",
    "    Save string to a file. Can overwrite or append \n",
    "    \n",
    "    Parameters\n",
    "    ----------\n",
    "         string: string that is to be written to a file \n",
    "         \n",
    "         absolutePath: filename or file absolute path \n",
    "         \n",
    "         mode: writing mode. Whether to add  or overwrite content to a file. \n",
    "         \n",
    "     Return\n",
    "     ------\n",
    "         The file should be created \n",
    "    '''\n",
    "    df = open(absolutePath, mode ) \n",
    "    df.write(string )\n",
    "    df.close()\n",
    "    \n",
    "    \n",
    "    \n",
    "    \n",
    "    \n",
    "    \n",
    "    \n",
    "    \n",
    "    "
   ]
  },
  {
   "cell_type": "markdown",
   "id": "2ccb6765-7c8f-496b-8b70-4815d7eecad4",
   "metadata": {},
   "source": [
    "### Make expressions compatible with evalmod.f90"
   ]
  },
  {
   "cell_type": "markdown",
   "id": "82654226-d39a-4c52-978c-cb09d2be02de",
   "metadata": {},
   "source": [
    "Fortran evalmod.f90 does not accept string like x2^2 + x1^2.\n",
    "\n",
    "Solution: \n",
    "1. them with paranteses to work, i.e. (x2^2) + (x1^2)\n",
    "2. or x2^(2)+x1^(2)"
   ]
  },
  {
   "cell_type": "markdown",
   "id": "f3a9abce-37d3-49c6-8351-4e6bae56455b",
   "metadata": {},
   "source": [
    "Make a function that surround variables with exponent with parantheses: "
   ]
  },
  {
   "cell_type": "code",
   "execution_count": 55,
   "id": "6009da70-ed21-4ece-aeaf-197a9f1d5c0b",
   "metadata": {
    "tags": []
   },
   "outputs": [],
   "source": [
    "def surroundSingleVariableWithParentheses(expr: str, ): \n",
    "    pattern = \"[xyz][0-9]\\^\\d{1}\\s+\"\n",
    "    \n",
    "    # find all variables like x2^2 \n",
    "    halutut = re.findall(pattern, expr )\n",
    "    \n",
    "    # surround the found variables with parentheses \n",
    "    muokatut = []\n",
    "    for haluttu in halutut:\n",
    "        haluttu = ' '+haluttu     # get e.g. ' x1^2 ' with trailing and spaces \n",
    "\n",
    "        haluttu = re.sub('\\s', '('  , haluttu , count= 1 ) # add forward parenthesis \n",
    "        haluttu = re.sub('\\s', ')'  , haluttu, count= 1 ) # add backward parenthesis \n",
    "\n",
    "        muokatut.append(haluttu)\n",
    "\n",
    "\n",
    "    # modify the original expression into wanted form, with string like x1^2 turned into (x1^2)\n",
    "    for muokattu in muokatut:   \n",
    "        expr = re.sub(pattern, muokattu, expr, count=1)\n",
    "        \n",
    "    return expr \n",
    "    "
   ]
  },
  {
   "cell_type": "markdown",
   "id": "04e1391f-edc7-4d24-8d0d-644b6c3d528a",
   "metadata": {},
   "source": [
    "Surround exponent with parentheses: e.g. ^2 into ^(2): "
   ]
  },
  {
   "cell_type": "code",
   "execution_count": 56,
   "id": "5578a9a1-34f1-4f51-8249-919a01c4baaa",
   "metadata": {
    "tags": []
   },
   "outputs": [],
   "source": [
    "def surroundExponentWithParentheses(expr: str ): \n",
    "    pattern = \"(\\^\\d+\\.{0,1}\\d*)\"\n",
    "\n",
    "    # find all variables like x2^2 \n",
    "    halutut = re.findall(pattern,expr )\n",
    "    \n",
    "    # surround the found variables with parentheses \n",
    "    muokatut = []\n",
    "    for haluttu in halutut:\n",
    "        haluttu = haluttu.replace('^', '^ ')\n",
    "        haluttu = haluttu+' '     # get e.g. '^ 2 ' \n",
    "\n",
    "        haluttu = re.sub('\\s', '('  , haluttu , count= 1 ) # add forward parenthesis \n",
    "        haluttu = re.sub('\\s', ')'  , haluttu, count= 1 ) # add backward parenthesis \n",
    "\n",
    "        muokatut.append(haluttu)\n",
    "        \n",
    "        \n",
    "    if len(muokatut)!= len(halutut): \n",
    "        print('ERROR: length of halutut and muokatut not same!')\n",
    "        return \n",
    "    \n",
    "    # modify the original expression into wanted form, with string like x1^2 turned into x1^(2)\n",
    "    for muokattu in muokatut:   \n",
    "        expr = re.sub(pattern, muokattu, expr, count=1)\n",
    "        \n",
    "        \n",
    "    return expr \n"
   ]
  },
  {
   "cell_type": "code",
   "execution_count": null,
   "id": "dcbc3993-4ff7-4783-b5cd-549f8a120865",
   "metadata": {},
   "outputs": [],
   "source": []
  },
  {
   "cell_type": "markdown",
   "id": "dca1c72e-069c-4591-b894-6716c1d743d7",
   "metadata": {},
   "source": [
    "Remove spaces "
   ]
  },
  {
   "cell_type": "code",
   "execution_count": 57,
   "id": "35cc4415-530f-4236-ac20-be21cc2c4dfc",
   "metadata": {
    "tags": []
   },
   "outputs": [],
   "source": [
    "def removeSpaces(expr:str): \n",
    "    return expr.replace(' ', '')"
   ]
  },
  {
   "cell_type": "markdown",
   "id": "fc713d9a-c356-4935-8630-e74718a14a32",
   "metadata": {},
   "source": [
    "# Executing the functions "
   ]
  },
  {
   "cell_type": "markdown",
   "id": "bb0ec2be-5cac-405f-905d-cf04b3a48986",
   "metadata": {},
   "source": [
    "Comment out if you have fortran forms from Mathematica: "
   ]
  },
  {
   "cell_type": "code",
   "execution_count": 58,
   "id": "3308d918-b72a-4fdf-8f86-a568b9d999a8",
   "metadata": {},
   "outputs": [
    {
     "name": "stdout",
     "output_type": "stream",
     "text": [
      "Probability function has 0 unwanted elements:\n",
      "---------------------------------------------\n",
      "[]\n",
      "Local energy has 0 unwanted elements:\n",
      "-------------------------------------\n",
      "[]\n"
     ]
    }
   ],
   "source": [
    "# read file to strings \n",
    "\n",
    "\n",
    "probabilityFunctionString = readFileToString(probabilityFunctionPath)\n",
    "localEnergyFunctionString = readFileToString(localEnergyFunctionPath)\n",
    "\n",
    "\n",
    "# check whether the are unwanted elements \n",
    "printingForUnwantedElements(\n",
    "                            isLocalEnergy= False, \n",
    "                            listOfUnwantedElements= checkListFunction(string = probabilityFunctionString, checkList=checkList)\n",
    ")\n",
    "printingForUnwantedElements(\n",
    "                            isLocalEnergy= True, \n",
    "                            listOfUnwantedElements= checkListFunction(string = localEnergyFunctionString, checkList=checkList)\n",
    ")\n"
   ]
  },
  {
   "cell_type": "code",
   "execution_count": 59,
   "id": "d6ff4141-6e72-48ce-9f7b-6c17e65d85f6",
   "metadata": {},
   "outputs": [],
   "source": [
    "#transform fortran code to python code \n",
    "probability_pythonTransformed = fortranFormToPythonForm(probabilityFunctionString, mappingDict=mapping)\n",
    "localEnergy_pythonTransformed = fortranFormToPythonForm(localEnergyFunctionString, mappingDict=mapping)"
   ]
  },
  {
   "cell_type": "markdown",
   "id": "d24787fc-dc45-4cb7-94ed-f2f977296a12",
   "metadata": {},
   "source": [
    "Surround strings like x1^2 with parentheses x1^(2) and remove unnecessary spaces: "
   ]
  },
  {
   "cell_type": "code",
   "execution_count": 60,
   "id": "019e9ba4-d129-4240-b4d4-8d3b1a05ce54",
   "metadata": {
    "tags": []
   },
   "outputs": [],
   "source": [
    "# probability_pythonTransformed = removeSpaces(surroundExponentWithParentheses(probability_pythonTransformed))\n",
    "# localEnergy_pythonTransformed = removeSpaces(surroundExponentWithParentheses(localEnergy_pythonTransformed))"
   ]
  },
  {
   "cell_type": "markdown",
   "id": "e021a204-7d5c-4ea1-9f13-66891d65d16a",
   "metadata": {},
   "source": [
    "remove only spaces: "
   ]
  },
  {
   "cell_type": "code",
   "execution_count": 61,
   "id": "300e8cb9-180e-4c47-a029-953809f880db",
   "metadata": {},
   "outputs": [],
   "source": [
    "probability_pythonTransformed = removeSpaces(probability_pythonTransformed)\n",
    "localEnergy_pythonTransformed = removeSpaces(localEnergy_pythonTransformed)"
   ]
  },
  {
   "cell_type": "code",
   "execution_count": 62,
   "id": "75b59c00-cfa5-402c-aef4-c8dfe8c6bf0c",
   "metadata": {
    "tags": []
   },
   "outputs": [],
   "source": [
    "# save python-compatible formulae to separate files \n",
    "savePythonFormToFile(probability_pythonTransformed, absolutePath=probabilityOutputFilePath)\n",
    "savePythonFormToFile(localEnergy_pythonTransformed, absolutePath=localEnergyOutputFilePath)"
   ]
  },
  {
   "cell_type": "code",
   "execution_count": null,
   "id": "9a990d71-0fb8-4159-a967-08176a9ee4e6",
   "metadata": {},
   "outputs": [],
   "source": []
  },
  {
   "cell_type": "code",
   "execution_count": null,
   "id": "314106d5-ee44-4acb-83bc-9da240196c26",
   "metadata": {},
   "outputs": [],
   "source": []
  },
  {
   "cell_type": "code",
   "execution_count": 63,
   "id": "319b74c4-6088-40d4-acd4-a50f1d775f71",
   "metadata": {},
   "outputs": [],
   "source": [
    "# find coordinates and parameters\n",
    "coordinates, parameterStringList  = findVariables(localEnergyFunctionString)\n",
    "\n",
    "# regrouping coordinates \n",
    "coordinates = regroupToCoordinateTriple_findVariables(coordinates)\n",
    "\n",
    "\n",
    "# for functions usage, define list of ordered variables and parameters\n",
    "mapping =  coordinates + parameterStringList  # global variable: used in probability and local energy functions definition\n"
   ]
  },
  {
   "cell_type": "code",
   "execution_count": 64,
   "id": "680256d0-2bff-4cb0-b864-c72bc49d4488",
   "metadata": {},
   "outputs": [
    {
     "data": {
      "text/plain": [
       "(['x1', 'y1', 'z1', 'x2', 'y2', 'z2', 'x3', 'y3', 'z3', 'A1', 'A2', 'A3'], 12)"
      ]
     },
     "execution_count": 64,
     "metadata": {},
     "output_type": "execute_result"
    }
   ],
   "source": [
    "mapping, len(mapping) "
   ]
  },
  {
   "cell_type": "code",
   "execution_count": 65,
   "id": "6b0f6737-e2ea-465e-b1f8-9136bd845cba",
   "metadata": {},
   "outputs": [
    {
     "data": {
      "text/plain": [
       "(['x1', 'y1', 'z1', 'x2', 'y2', 'z2', 'x3', 'y3', 'z3'], 9)"
      ]
     },
     "execution_count": 65,
     "metadata": {},
     "output_type": "execute_result"
    }
   ],
   "source": [
    "coordinates, len(coordinates)"
   ]
  },
  {
   "cell_type": "code",
   "execution_count": 66,
   "id": "9a588712-b798-4beb-b111-d19d8f017c3a",
   "metadata": {},
   "outputs": [
    {
     "data": {
      "text/plain": [
       "(['A1', 'A2', 'A3'], 3)"
      ]
     },
     "execution_count": 66,
     "metadata": {},
     "output_type": "execute_result"
    }
   ],
   "source": [
    "parameterStringList, len(parameterStringList)"
   ]
  },
  {
   "cell_type": "code",
   "execution_count": 67,
   "id": "8a03743b-f6d2-476d-8ecd-df7ed6351b44",
   "metadata": {},
   "outputs": [
    {
     "data": {
      "text/plain": [
       "(681, 1887518)"
      ]
     },
     "execution_count": 67,
     "metadata": {},
     "output_type": "execute_result"
    }
   ],
   "source": [
    "len(probability_pythonTransformed), len(localEnergy_pythonTransformed)"
   ]
  },
  {
   "cell_type": "code",
   "execution_count": null,
   "id": "54df488c-016c-4fe8-a1a9-2db037ebabc7",
   "metadata": {},
   "outputs": [],
   "source": []
  },
  {
   "cell_type": "markdown",
   "id": "16a41081-acdb-43fc-8b21-d4abbd905bd5",
   "metadata": {},
   "source": [
    "# Small testing of eval built-in function "
   ]
  },
  {
   "cell_type": "code",
   "execution_count": 69,
   "id": "a604e0ea-4482-4e23-a205-ef2156335db3",
   "metadata": {
    "tags": []
   },
   "outputs": [],
   "source": [
    "\n",
    "# if __name__ == \"__main__\":\n",
    "    \n",
    "\n",
    "#     def probabilityfunction(R: list , parametersList: list ):  \n",
    "#         x1, y1, z1 = R[0]\n",
    "#         x2, y2, z2 = R[1]\n",
    "#         x3, y3, z3 = R[2]\n",
    "\n",
    "#         A1, A2 = parametersList\n",
    "\n",
    "\n",
    "\n",
    "#         return eval(probability_pythonTransformed)\n",
    "    \n",
    "#     import math \n",
    "#     value = probabilityfunction(R = [(1,1,1), (2,2,2), (3,3,3)],\n",
    "#                         parametersList= (1,1) )\n",
    "#     print(value )"
   ]
  },
  {
   "cell_type": "code",
   "execution_count": null,
   "id": "132e5991-059e-4a3e-84a3-eb9b2151e181",
   "metadata": {},
   "outputs": [],
   "source": []
  },
  {
   "cell_type": "code",
   "execution_count": null,
   "id": "25997159-f3f0-4c6e-bc6f-675b72f52513",
   "metadata": {},
   "outputs": [],
   "source": []
  },
  {
   "cell_type": "code",
   "execution_count": null,
   "id": "e0dbb629-4d1a-49eb-b6a2-364132d6cb31",
   "metadata": {},
   "outputs": [],
   "source": []
  },
  {
   "cell_type": "code",
   "execution_count": null,
   "id": "1c41d399-3f6b-4045-8124-630df1489a4c",
   "metadata": {},
   "outputs": [],
   "source": []
  },
  {
   "cell_type": "code",
   "execution_count": null,
   "id": "2d9c9bd7-1279-4cc6-9da0-94af5f33302e",
   "metadata": {},
   "outputs": [],
   "source": []
  },
  {
   "cell_type": "code",
   "execution_count": null,
   "id": "09468e82-016b-41c1-a5c8-b7aac2375c47",
   "metadata": {},
   "outputs": [],
   "source": []
  },
  {
   "cell_type": "code",
   "execution_count": null,
   "id": "f2897f49-2a85-4e3d-a54b-54131b8541a3",
   "metadata": {},
   "outputs": [],
   "source": []
  },
  {
   "cell_type": "code",
   "execution_count": null,
   "id": "0fd6340d-bc89-4f10-a2fd-826b53858eb2",
   "metadata": {},
   "outputs": [],
   "source": []
  },
  {
   "cell_type": "code",
   "execution_count": null,
   "id": "a70a6be6-c2a4-4ca9-a90d-a33fe8cf76ef",
   "metadata": {},
   "outputs": [],
   "source": []
  },
  {
   "cell_type": "code",
   "execution_count": null,
   "id": "a643c7ec-c865-4174-92e3-2247690a36f4",
   "metadata": {},
   "outputs": [],
   "source": []
  },
  {
   "cell_type": "code",
   "execution_count": null,
   "id": "daf37bf6-32db-42ff-8003-95607e28e950",
   "metadata": {},
   "outputs": [],
   "source": []
  },
  {
   "cell_type": "code",
   "execution_count": null,
   "id": "0221611b-cce5-43d2-9b0e-c9beb60ef3fb",
   "metadata": {},
   "outputs": [],
   "source": []
  },
  {
   "cell_type": "code",
   "execution_count": null,
   "id": "2e807d8e-0338-47f6-9ca4-01387a704da3",
   "metadata": {},
   "outputs": [],
   "source": []
  },
  {
   "cell_type": "code",
   "execution_count": null,
   "id": "4a7241fb-e487-492f-b17c-df0888aafb63",
   "metadata": {},
   "outputs": [],
   "source": []
  },
  {
   "cell_type": "code",
   "execution_count": null,
   "id": "89d9e9e5-e136-447f-967d-25504ac719f8",
   "metadata": {},
   "outputs": [],
   "source": []
  },
  {
   "cell_type": "code",
   "execution_count": null,
   "id": "f498b8cf-84ee-48d2-b8ee-11d8ea7ede82",
   "metadata": {},
   "outputs": [],
   "source": []
  },
  {
   "cell_type": "code",
   "execution_count": null,
   "id": "a600d015-e8fa-40f0-8340-c2c67e7b6b58",
   "metadata": {},
   "outputs": [],
   "source": []
  }
 ],
 "metadata": {
  "kernelspec": {
   "display_name": "Python 3 (ipykernel)",
   "language": "python",
   "name": "python3"
  },
  "language_info": {
   "codemirror_mode": {
    "name": "ipython",
    "version": 3
   },
   "file_extension": ".py",
   "mimetype": "text/x-python",
   "name": "python",
   "nbconvert_exporter": "python",
   "pygments_lexer": "ipython3",
   "version": "3.10.4"
  }
 },
 "nbformat": 4,
 "nbformat_minor": 5
}
