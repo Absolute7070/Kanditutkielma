{
 "cells": [
  {
   "cell_type": "code",
   "execution_count": 2,
   "id": "8c568ac0-4a3e-479d-9606-939da947a181",
   "metadata": {},
   "outputs": [],
   "source": [
    "import numpy as np "
   ]
  },
  {
   "cell_type": "markdown",
   "id": "0eb4f849-d651-46ae-b396-d17a180d69ec",
   "metadata": {},
   "source": [
    "# Gradient"
   ]
  },
  {
   "cell_type": "code",
   "execution_count": 3,
   "id": "824f102c-2236-4665-91e9-717207960436",
   "metadata": {},
   "outputs": [],
   "source": [
    "def gradientRespectToSingleVariable(ithComponent: int, potentialFunc: np.ndarray) -> np.ndarray:\n",
    "    '''\n",
    "    Get i-th component of the gradient of a scalar function\n",
    "    \n",
    "    Parameters\n",
    "    ---------- \n",
    "    ithComponent: \n",
    "        integer specifying the ith component with respect to integrate. \n",
    "        First component is 0th component. \n",
    "        \n",
    "    potentialFunc: \n",
    "        scalar function with n-dimensions and full of numbers, where n refers to the total number of variables in the vector space. \n",
    "    \n",
    "    \n",
    "    Return \n",
    "    ------\n",
    "        the i-th component of the vector as scalar function\n",
    "    \n",
    "    \n",
    "    \n",
    "    Example\n",
    "    ------- \n",
    "        x,y,z = np.mgrid[0:20:1, 0:20:1, 0:20:1]\n",
    "\n",
    "        V = 2*x**2 + 3*y**2 - 4*z # just a random function for the potential\n",
    "\n",
    "        Ex2 = gradientRespectToSingleVariable(0, V )\n",
    "\n",
    "\n",
    "    '''\n",
    "    return np.gradient(potentialFunc)[ithComponent]"
   ]
  },
  {
   "cell_type": "code",
   "execution_count": null,
   "id": "29d5eb21-bb2f-44ac-9dd9-ef843952e179",
   "metadata": {},
   "outputs": [],
   "source": [
    "\n",
    "\n",
    "def gradientNumFunc(potentialFunc: np.ndarray) -> tuple: \n",
    "    '''\n",
    "    Use np.gradient to compute gradient numerically. Applicable to any dimension\n",
    "    \n",
    "    Parameters\n",
    "    ----------\n",
    "    potentialFunc: \n",
    "        The function to which we are taking the gradient. \n",
    "        Its dimension should correspond to number of coordinates it has. E.g. V(x,y,z) is of rank n x n x n \n",
    "    \n",
    "    Return\n",
    "    ------\n",
    "        tuple of np.ndarray. Each element of the tuple is a component of the vector grad(V). \n",
    "        E.g. for 3D case V(x,y,z) returns three component of grad(V) (see example below)\n",
    "    \n",
    "    \n",
    "    Example\n",
    "    -------\n",
    "\n",
    "        x,y,z = np.mgrid[0:20:1, 0:20:1, 0:20:1]\n",
    "\n",
    "        V = 2*x**2 + 3*y**2 - 4*z # just a random function for the potential\n",
    "\n",
    "        Ex,Ey,Ez = np.gradient(V)\n",
    "        \n",
    "        Ex[0,0,0], Ey[0,0,0], Ez[0,0,0]     # referring compute the components for x=0, y=0, z=0\n",
    "    \n",
    "    '''\n",
    "    \n",
    "    return np.gradient(potentialFunc)"
   ]
  },
  {
   "cell_type": "markdown",
   "id": "1ba70ef6-2420-427e-8d13-0d34d3a7ea15",
   "metadata": {},
   "source": [
    "# Laplacian "
   ]
  },
  {
   "cell_type": "code",
   "execution_count": 4,
   "id": "ebeb91c9-f2a8-4e3c-b6af-1867f266b6f1",
   "metadata": {},
   "outputs": [],
   "source": [
    "def laplacianNumFunc(potentialFunc: np.ndarray) -> np.ndarray: \n",
    "    '''\n",
    "     Use np.gradient to compute laplacian numerically. Applicable only to 3D case. \n",
    "     \n",
    "     \n",
    "     \n",
    "     Parameters\n",
    "     ----------\n",
    "     potentialFunc: \n",
    "         the function to which we are taking the gradient. \n",
    "         \n",
    "         \n",
    "     Return\n",
    "     ------\n",
    "        tuple in with three components. e.g (Ex,Ey,Ez)\n",
    "        \n",
    "        \n",
    "        \n",
    "    Example\n",
    "    -------\n",
    "        x,y,z = np.mgrid[0:20:1, 0:20:1, 0:20:1]\n",
    "\n",
    "        V = 2*x**2 + 3*y**2 - 4*z # just a random function for the potential\n",
    "\n",
    "        Ex,Ey,Ez = np.gradient(V)\n",
    "\n",
    "        laplacian_V = np.gradient(Ex)[0]+ np.gradient(Ey)[1] + np.gradient(Ez)[2]\n",
    "\n",
    "        \n",
    "    '''\n",
    "    Ex,Ey,Ez = np.gradient(potentialFunc) \n",
    "    laplacianOfpotentialFunc = np.gradient(Ex)[0]+ np.gradient(Ey)[1] + np.gradient(Ez)[2]\n",
    "    \n",
    "    return laplacianOfpotentialFunc\n",
    "    "
   ]
  },
  {
   "cell_type": "markdown",
   "id": "4c444a3a-6347-4191-a4fc-7ed602d64acf",
   "metadata": {},
   "source": [
    "# Gradient Descent "
   ]
  },
  {
   "cell_type": "markdown",
   "id": "402022e5-d842-4a74-9f04-4459298cccba",
   "metadata": {},
   "source": [
    "From Metropolis-sampling -> get configuration space. \n",
    "\n",
    "From initial guess or previous step -> get list of parameters \n",
    "\n",
    "Get local energy"
   ]
  },
  {
   "cell_type": "code",
   "execution_count": null,
   "id": "0d80e6c0-9777-4dc7-a207-c51610a2658f",
   "metadata": {},
   "outputs": [],
   "source": [
    "# def gradientDescentNum(parameters: list, learning_rate: int, )"
   ]
  },
  {
   "cell_type": "code",
   "execution_count": null,
   "id": "1caa47b3-2f4d-4e83-b6d8-8e859245b194",
   "metadata": {},
   "outputs": [],
   "source": [
    "#def gradientDescent"
   ]
  }
 ],
 "metadata": {
  "kernelspec": {
   "display_name": "Python 3 (ipykernel)",
   "language": "python",
   "name": "python3"
  },
  "language_info": {
   "codemirror_mode": {
    "name": "ipython",
    "version": 3
   },
   "file_extension": ".py",
   "mimetype": "text/x-python",
   "name": "python",
   "nbconvert_exporter": "python",
   "pygments_lexer": "ipython3",
   "version": "3.10.4"
  }
 },
 "nbformat": 4,
 "nbformat_minor": 5
}
