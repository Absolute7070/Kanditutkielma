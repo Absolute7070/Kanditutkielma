{
 "cells": [
  {
   "cell_type": "code",
   "execution_count": 3,
   "id": "a82a7627-87fd-4420-a682-73b1e7e44131",
   "metadata": {},
   "outputs": [],
   "source": [
    "import sys \n",
    "sys.path.append( '/home/degnaiyu/Työpöytä/kanditutkielma/kandityo_koodit/main/')"
   ]
  },
  {
   "cell_type": "code",
   "execution_count": 4,
   "id": "e0b77745-da53-4970-9ed0-af054d74108f",
   "metadata": {},
   "outputs": [],
   "source": [
    "\n",
    "import numpy as np "
   ]
  },
  {
   "cell_type": "code",
   "execution_count": 5,
   "id": "e337d5fb-dc68-4b7a-a3b4-98a16641cba6",
   "metadata": {},
   "outputs": [],
   "source": [
    "%run /home/degnaiyu/Työpöytä/kanditutkielma/kandityo_koodit/main/numericalDerivatives_funcs.ipynb"
   ]
  },
  {
   "cell_type": "markdown",
   "id": "36fcc6dc-1bb1-421d-af22-62665179c37b",
   "metadata": {},
   "source": [
    "# Test: numerical derivatives \n"
   ]
  },
  {
   "cell_type": "markdown",
   "id": "2753540a-fb0c-405d-8d77-6ecfad67dea5",
   "metadata": {},
   "source": [
    "## Gradient test "
   ]
  },
  {
   "cell_type": "markdown",
   "id": "960fe6a9-0000-494b-a495-7a045e40a64c",
   "metadata": {},
   "source": [
    "### gradientNumFunc: with respect to three variables "
   ]
  },
  {
   "cell_type": "code",
   "execution_count": 17,
   "id": "ad5ec037-f9d5-4679-8ec6-79a767d5a7ce",
   "metadata": {},
   "outputs": [],
   "source": [
    "x,y,z = np.mgrid[0:20:1, 0:20:1, 0:20:1]\n",
    "\n",
    "V = 2*x**2 + 3*y**2 - 4*z # just a random function for the potential\n",
    "\n",
    "Ex,Ey,Ez = gradientNumFunc(V)\n",
    "\n"
   ]
  },
  {
   "cell_type": "code",
   "execution_count": 18,
   "id": "5ea3f4ea-aad4-4c7b-9c99-040f14a9f32e",
   "metadata": {},
   "outputs": [
    {
     "data": {
      "text/plain": [
       "(2.0, 3.0, -4.0)"
      ]
     },
     "execution_count": 18,
     "metadata": {},
     "output_type": "execute_result"
    }
   ],
   "source": [
    "Ex[0,0,0], Ey[0,0,0], Ez[0,0,0]     # referring compute the components for x=0, y=0, z=0"
   ]
  },
  {
   "cell_type": "code",
   "execution_count": 19,
   "id": "9aacdcaa-430a-4404-bc98-3e48a8546572",
   "metadata": {},
   "outputs": [
    {
     "data": {
      "text/plain": [
       "(4.0, 12.0, -4.0)"
      ]
     },
     "execution_count": 19,
     "metadata": {},
     "output_type": "execute_result"
    }
   ],
   "source": [
    "Ex[1,2,3], Ey[1,2,3], Ez[1,2,3]"
   ]
  },
  {
   "cell_type": "markdown",
   "id": "259e81af-f60b-42bd-b4e7-a9e6fe87bdcf",
   "metadata": {},
   "source": [
    "### gradientNumFunc: with respect to n variables "
   ]
  },
  {
   "cell_type": "markdown",
   "id": "6c1a6f48-6ae6-41d2-b83a-6ef63e8cc106",
   "metadata": {},
   "source": [
    "**With respect to 4 variables**"
   ]
  },
  {
   "cell_type": "code",
   "execution_count": 20,
   "id": "7559b0f8-5554-4a17-b7b8-56335152a79e",
   "metadata": {},
   "outputs": [],
   "source": [
    "x,y,z, w  = np.mgrid[0:20:1, 0:20:1, 0:20:1,  0:20:1] \n",
    "\n",
    "V =  2*x**2 + 3*y**2 - 4*z + w**3 # just a random function for the potential\n",
    "\n",
    "Ex,Ey,Ez, Ew = gradientNumFunc(V)"
   ]
  },
  {
   "cell_type": "code",
   "execution_count": 21,
   "id": "5eb774a1-a45a-4883-906e-274bfea42b58",
   "metadata": {},
   "outputs": [
    {
     "data": {
      "text/plain": [
       "(2.0, 3.0, -4.0, 1.0)"
      ]
     },
     "execution_count": 21,
     "metadata": {},
     "output_type": "execute_result"
    }
   ],
   "source": [
    "Ex[0,0,0,0],Ey[0,0,0,0],Ez[0,0,0,0], Ew[0,0,0,0]"
   ]
  },
  {
   "cell_type": "code",
   "execution_count": 22,
   "id": "a47c9de6-c82d-4ed6-bc96-352f806e51e1",
   "metadata": {},
   "outputs": [
    {
     "data": {
      "text/plain": [
       "(8.0, 24.0, -4.0, 301.0)"
      ]
     },
     "execution_count": 22,
     "metadata": {},
     "output_type": "execute_result"
    }
   ],
   "source": [
    "Ex[2,4,10,15],Ey[2,4,10,15],Ez[2,4,10,15], Ew[2,4,10,10]"
   ]
  },
  {
   "cell_type": "markdown",
   "id": "43907185-8e71-4894-8c33-cd476be0cf08",
   "metadata": {},
   "source": [
    "**With respect to 5 variables** "
   ]
  },
  {
   "cell_type": "code",
   "execution_count": 7,
   "id": "363e3cbe-fba3-4394-ab09-d75a30b517af",
   "metadata": {},
   "outputs": [],
   "source": [
    "x,y,z, w,w2  = np.mgrid[0:20:1, 0:20:1, 0:20:1,  0:20:1,  0:20:1] \n",
    "\n",
    "V = 2*x**2 + 3*y**2 - 4*z + w**3+ w2**4 # just a random function for the potential\n",
    "\n",
    "Ex,Ey,Ez, Ew, Ew2 = gradientNumFunc(V)"
   ]
  },
  {
   "cell_type": "code",
   "execution_count": 8,
   "id": "b2551c90-add7-4805-9cfc-3472c288d661",
   "metadata": {},
   "outputs": [
    {
     "data": {
      "text/plain": [
       "(2.0, 3.0, -4.0, 1.0, 1.0)"
      ]
     },
     "execution_count": 8,
     "metadata": {},
     "output_type": "execute_result"
    }
   ],
   "source": [
    "Ex[0,0,0,0, 0],Ey[0,0,0,0, 0],Ez[0,0,0,0, 0], Ew[0,0,0,0, 0], Ew2[0,0,0,0, 0]\n"
   ]
  },
  {
   "cell_type": "code",
   "execution_count": 9,
   "id": "91e1d99e-e84f-43a4-b7ff-e7d53173e0d5",
   "metadata": {},
   "outputs": [
    {
     "data": {
      "text/plain": [
       "(8.0, 24.0, -4.0, 676.0, 11032.0)"
      ]
     },
     "execution_count": 9,
     "metadata": {},
     "output_type": "execute_result"
    }
   ],
   "source": [
    "Ex[2,4,10,15, 14],Ey[2,4,10,15, 14],Ez[2,4,10,15, 14], Ew[2,4,10,15, 14], Ew2[2,4,10,15, 14]"
   ]
  },
  {
   "cell_type": "markdown",
   "id": "3099f487-8839-48cb-952c-9acbe01764b7",
   "metadata": {},
   "source": [
    "### gradientRespectToSingleVariable:  with respect to one variable "
   ]
  },
  {
   "cell_type": "code",
   "execution_count": 32,
   "id": "8534218d-5730-4bd1-a6c8-9dbaa57bb838",
   "metadata": {},
   "outputs": [],
   "source": [
    "x,y,z = np.mgrid[0:20:1, 0:20:1, 0:20:1]\n",
    "\n",
    "V = 2*x**2 + 3*y**2 - 4*z # just a random function for the potential\n",
    "\n",
    "Ex2 = gradientRespectToSingleVariable(0, V )\n",
    "\n"
   ]
  },
  {
   "cell_type": "code",
   "execution_count": 33,
   "id": "35ba9a67-6b3c-4805-920e-18b84a28fef8",
   "metadata": {},
   "outputs": [
    {
     "data": {
      "text/plain": [
       "True"
      ]
     },
     "execution_count": 33,
     "metadata": {},
     "output_type": "execute_result"
    }
   ],
   "source": [
    "np.all(Ex2 == Ex )    "
   ]
  },
  {
   "cell_type": "markdown",
   "id": "37b42b33-d724-43f2-8d74-06de4643b3c4",
   "metadata": {},
   "source": [
    "## Laplacian test "
   ]
  },
  {
   "cell_type": "code",
   "execution_count": 34,
   "id": "2acf8c3a-2c4e-444f-9ed9-72174f74bd40",
   "metadata": {},
   "outputs": [],
   "source": [
    "x,y,z = np.mgrid[0:20:1, 0:20:1, 0:20:1]\n",
    "\n",
    "V = 2*x**2 + 3*y**2 - 4*z # just a random function for the potential\n",
    "\n",
    "laplacianV = laplacianNumFunc(V)"
   ]
  },
  {
   "cell_type": "code",
   "execution_count": 35,
   "id": "e9e55829-f412-4f49-aa80-7099b9085a8f",
   "metadata": {},
   "outputs": [
    {
     "data": {
      "text/plain": [
       "(10.0, 10.0)"
      ]
     },
     "execution_count": 35,
     "metadata": {},
     "output_type": "execute_result"
    }
   ],
   "source": [
    "laplacianV[5,5,5], laplacianV[2,2,2]"
   ]
  },
  {
   "cell_type": "code",
   "execution_count": null,
   "id": "c91dd12a-5827-4057-88ea-bb97877d8f4f",
   "metadata": {},
   "outputs": [],
   "source": []
  }
 ],
 "metadata": {
  "kernelspec": {
   "display_name": "Python 3 (ipykernel)",
   "language": "python",
   "name": "python3"
  },
  "language_info": {
   "codemirror_mode": {
    "name": "ipython",
    "version": 3
   },
   "file_extension": ".py",
   "mimetype": "text/x-python",
   "name": "python",
   "nbconvert_exporter": "python",
   "pygments_lexer": "ipython3",
   "version": "3.10.4"
  }
 },
 "nbformat": 4,
 "nbformat_minor": 5
}
