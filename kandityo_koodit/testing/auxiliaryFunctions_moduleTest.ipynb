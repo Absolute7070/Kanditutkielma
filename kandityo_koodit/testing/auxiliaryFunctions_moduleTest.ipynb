{
 "cells": [
  {
   "cell_type": "markdown",
   "id": "d2cb42cd-dbcb-4109-b4fe-8b46844a4dc7",
   "metadata": {},
   "source": [
    "# Test: auxiliaryFunctions module test "
   ]
  },
  {
   "cell_type": "code",
   "execution_count": 9,
   "id": "2e854cd4-8eb8-42a1-9bf4-28c809b8fc08",
   "metadata": {
    "tags": []
   },
   "outputs": [],
   "source": [
    "%run /home/degnaiyu/Työpöytä/kanditutkielma/kandityo_koodit/main/auxiliaryFunctions.ipynb"
   ]
  },
  {
   "cell_type": "markdown",
   "id": "b797a36f-3e61-4386-b994-02bb8c599269",
   "metadata": {
    "tags": []
   },
   "source": [
    "## Test: findVariables-function "
   ]
  },
  {
   "cell_type": "code",
   "execution_count": 10,
   "id": "87f1896a-4963-48bb-acfb-d850ff97ef19",
   "metadata": {
    "tags": []
   },
   "outputs": [
    {
     "name": "stdout",
     "output_type": "stream",
     "text": [
      "Coordinates ['x1', 'x2', 'x3', 'y1', 'y2', 'y3', 'z1', 'z2', 'z3']\n",
      "Parameters ['A1', 'A2']\n"
     ]
    }
   ],
   "source": [
    "probabilityString = 'math.exp(-2*math.sqrt(x2**2 + y2**2 + z2**2) -      (2*A2*(1 - math.exp           (-math.sqrt(abs(x1 - x2)**2 + abs(y1 - y2)**2 + abs(z1 - z2)**2)/             math.sqrt(A2))))/      math.sqrt(abs(x1 - x2)**2 + abs(y1 - y2)**2 + abs(z1 - z2)**2) -      (2*A1*(1 - math.exp           (-math.sqrt(abs(x1 - x3)**2 + abs(y1 - y3)**2 + abs(z1 - z3)**2)/             (math.sqrt(2)*math.sqrt(A1)))))/      math.sqrt(abs(x1 - x3)**2 + abs(y1 - y3)**2 + abs(z1 - z3)**2) -      (2*A2*(1 - math.exp           (-math.sqrt(abs(x2 - x3)**2 + abs(y2 - y3)**2 + abs(z2 - z3)**2)/             math.sqrt(A2))))/      math.sqrt(abs(x2 - x3)**2 + abs(y2 - y3)**2 + abs(z2 - z3)**2))*  (-2*math.exp(-0.5*math.sqrt(x1**2 + y1**2 + z1**2) - math.sqrt(x3**2 + y3**2 + z3**2)) +      2*math.exp(-math.sqrt(x1**2 + y1**2 + z1**2) - math.sqrt(x3**2 + y3**2 + z3**2)/2.) +      math.exp(-0.5*math.sqrt(x1**2 + y1**2 + z1**2) - math.sqrt(x3**2 + y3**2 + z3**2))*      math.sqrt(x1**2 + y1**2 + z1**2) -      math.exp(-math.sqrt(x1**2 + y1**2 + z1**2) - math.sqrt(x3**2 + y3**2 + z3**2)/2.)*      math.sqrt(x3**2 + y3**2 + z3**2))**2'\n",
    "\n",
    "coordinates, parameters = findVariables(probabilityString)\n",
    "print('Coordinates', coordinates)\n",
    "print('Parameters',parameters)\n",
    "    \n",
    "    "
   ]
  },
  {
   "cell_type": "markdown",
   "id": "36a88ba4-69a4-44d1-9a16-9cdc1dbb6c7b",
   "metadata": {},
   "source": [
    "## Test: regroupToCoordinateTriple_findVariables"
   ]
  },
  {
   "cell_type": "code",
   "execution_count": 11,
   "id": "dc50d82b-1e1c-4cda-811c-47e3c5444c03",
   "metadata": {
    "tags": []
   },
   "outputs": [
    {
     "name": "stdout",
     "output_type": "stream",
     "text": [
      "[('x1', 'y1', 'z1'), ('x2', 'y2', 'z2'), ('x3', 'y3', 'z3')]\n",
      "[('x1', 'y1', 'z1'), ('x2', 'y2', 'z2')]\n"
     ]
    },
    {
     "ename": "Exception",
     "evalue": "No other than x,y,z components",
     "output_type": "error",
     "traceback": [
      "\u001b[0;31m---------------------------------------------------------------------------\u001b[0m",
      "\u001b[0;31mException\u001b[0m                                 Traceback (most recent call last)",
      "Cell \u001b[0;32mIn[11], line 3\u001b[0m\n\u001b[1;32m      1\u001b[0m \u001b[38;5;28mprint\u001b[39m(regroupToCoordinateTriple_findVariables([\u001b[38;5;124m'\u001b[39m\u001b[38;5;124mx1\u001b[39m\u001b[38;5;124m'\u001b[39m, \u001b[38;5;124m'\u001b[39m\u001b[38;5;124mx2\u001b[39m\u001b[38;5;124m'\u001b[39m, \u001b[38;5;124m'\u001b[39m\u001b[38;5;124mx3\u001b[39m\u001b[38;5;124m'\u001b[39m, \u001b[38;5;124m'\u001b[39m\u001b[38;5;124my1\u001b[39m\u001b[38;5;124m'\u001b[39m, \u001b[38;5;124m'\u001b[39m\u001b[38;5;124my2\u001b[39m\u001b[38;5;124m'\u001b[39m, \u001b[38;5;124m'\u001b[39m\u001b[38;5;124my3\u001b[39m\u001b[38;5;124m'\u001b[39m, \u001b[38;5;124m'\u001b[39m\u001b[38;5;124mz1\u001b[39m\u001b[38;5;124m'\u001b[39m, \u001b[38;5;124m'\u001b[39m\u001b[38;5;124mz2\u001b[39m\u001b[38;5;124m'\u001b[39m, \u001b[38;5;124m'\u001b[39m\u001b[38;5;124mz3\u001b[39m\u001b[38;5;124m'\u001b[39m], isCoordinateTripletInTuple\u001b[38;5;241m=\u001b[39m\u001b[38;5;28;01mTrue\u001b[39;00m      ) )\n\u001b[1;32m      2\u001b[0m \u001b[38;5;28mprint\u001b[39m(regroupToCoordinateTriple_findVariables([\u001b[38;5;124m'\u001b[39m\u001b[38;5;124mx1\u001b[39m\u001b[38;5;124m'\u001b[39m, \u001b[38;5;124m'\u001b[39m\u001b[38;5;124mx2\u001b[39m\u001b[38;5;124m'\u001b[39m, \u001b[38;5;124m'\u001b[39m\u001b[38;5;124my1\u001b[39m\u001b[38;5;124m'\u001b[39m, \u001b[38;5;124m'\u001b[39m\u001b[38;5;124my2\u001b[39m\u001b[38;5;124m'\u001b[39m, \u001b[38;5;124m'\u001b[39m\u001b[38;5;124mz1\u001b[39m\u001b[38;5;124m'\u001b[39m, \u001b[38;5;124m'\u001b[39m\u001b[38;5;124mz2\u001b[39m\u001b[38;5;124m'\u001b[39m], isCoordinateTripletInTuple\u001b[38;5;241m=\u001b[39m\u001b[38;5;28;01mTrue\u001b[39;00m   ))\n\u001b[0;32m----> 3\u001b[0m \u001b[38;5;28mprint\u001b[39m(regroupToCoordinateTriple_findVariables([\u001b[38;5;124m'\u001b[39m\u001b[38;5;124mx1\u001b[39m\u001b[38;5;124m'\u001b[39m, \u001b[38;5;124m'\u001b[39m\u001b[38;5;124mx2\u001b[39m\u001b[38;5;124m'\u001b[39m, \u001b[38;5;124m'\u001b[39m\u001b[38;5;124mx3\u001b[39m\u001b[38;5;124m'\u001b[39m, \u001b[38;5;124m'\u001b[39m\u001b[38;5;124my1\u001b[39m\u001b[38;5;124m'\u001b[39m, \u001b[38;5;124m'\u001b[39m\u001b[38;5;124my2\u001b[39m\u001b[38;5;124m'\u001b[39m, \u001b[38;5;124m'\u001b[39m\u001b[38;5;124my3\u001b[39m\u001b[38;5;124m'\u001b[39m, \u001b[38;5;124m'\u001b[39m\u001b[38;5;124mz1\u001b[39m\u001b[38;5;124m'\u001b[39m, \u001b[38;5;124m'\u001b[39m\u001b[38;5;124mz2\u001b[39m\u001b[38;5;124m'\u001b[39m, \u001b[38;5;124m'\u001b[39m\u001b[38;5;124mz3\u001b[39m\u001b[38;5;124m'\u001b[39m, \u001b[38;5;124m'\u001b[39m\u001b[38;5;124mA1\u001b[39m\u001b[38;5;124m'\u001b[39m, \u001b[38;5;124m'\u001b[39m\u001b[38;5;124mA2\u001b[39m\u001b[38;5;124m'\u001b[39m], isCoordinateTripletInTuple\u001b[38;5;241m=\u001b[39m\u001b[38;5;28;01mTrue\u001b[39;00m   ))\n",
      "File \u001b[0;32m/tmp/ipykernel_7671/1390445992.py:38\u001b[0m, in \u001b[0;36mregroupToCoordinateTriple_findVariables\u001b[0;34m(coordinateList, isCoordinateTripletInTuple)\u001b[0m\n\u001b[1;32m     36\u001b[0m         zCoordinates\u001b[38;5;241m.\u001b[39mappend(component)\n\u001b[1;32m     37\u001b[0m     \u001b[38;5;28;01melse\u001b[39;00m: \n\u001b[0;32m---> 38\u001b[0m         \u001b[38;5;28;01mraise\u001b[39;00m \u001b[38;5;167;01mException\u001b[39;00m(\u001b[38;5;124m\"\u001b[39m\u001b[38;5;124mNo other than x,y,z components\u001b[39m\u001b[38;5;124m\"\u001b[39m)\n\u001b[1;32m     43\u001b[0m \u001b[38;5;28;01mif\u001b[39;00m isCoordinateTripletInTuple: \n\u001b[1;32m     44\u001b[0m     \u001b[38;5;66;03m# forming triplets \u001b[39;00m\n\u001b[1;32m     45\u001b[0m     \u001b[38;5;28;01mfor\u001b[39;00m x,y,z \u001b[38;5;129;01min\u001b[39;00m \u001b[38;5;28mzip\u001b[39m(xCoordinates, yCoordinates, zCoordinates): \n",
      "\u001b[0;31mException\u001b[0m: No other than x,y,z components"
     ]
    }
   ],
   "source": [
    "\n",
    "print(regroupToCoordinateTriple_findVariables(['x1', 'x2', 'x3', 'y1', 'y2', 'y3', 'z1', 'z2', 'z3'], isCoordinateTripletInTuple=True      ) )\n",
    "print(regroupToCoordinateTriple_findVariables(['x1', 'x2', 'y1', 'y2', 'z1', 'z2'], isCoordinateTripletInTuple=True   ))\n",
    "print(regroupToCoordinateTriple_findVariables(['x1', 'x2', 'x3', 'y1', 'y2', 'y3', 'z1', 'z2', 'z3', 'A1', 'A2'], isCoordinateTripletInTuple=True   ))"
   ]
  },
  {
   "cell_type": "code",
   "execution_count": 12,
   "id": "d7ae3d2f-7635-4d1c-a933-7bdc11bbc0cb",
   "metadata": {
    "tags": []
   },
   "outputs": [
    {
     "name": "stdout",
     "output_type": "stream",
     "text": [
      "['x1', 'y1', 'z1', 'x2', 'y2', 'z2', 'x3', 'y3', 'z3']\n",
      "['x1', 'y1', 'z1', 'x2', 'y2', 'z2']\n"
     ]
    },
    {
     "ename": "Exception",
     "evalue": "No other than x,y,z components",
     "output_type": "error",
     "traceback": [
      "\u001b[0;31m---------------------------------------------------------------------------\u001b[0m",
      "\u001b[0;31mException\u001b[0m                                 Traceback (most recent call last)",
      "Cell \u001b[0;32mIn[12], line 3\u001b[0m\n\u001b[1;32m      1\u001b[0m \u001b[38;5;28mprint\u001b[39m(regroupToCoordinateTriple_findVariables([\u001b[38;5;124m'\u001b[39m\u001b[38;5;124mx1\u001b[39m\u001b[38;5;124m'\u001b[39m, \u001b[38;5;124m'\u001b[39m\u001b[38;5;124mx2\u001b[39m\u001b[38;5;124m'\u001b[39m, \u001b[38;5;124m'\u001b[39m\u001b[38;5;124mx3\u001b[39m\u001b[38;5;124m'\u001b[39m, \u001b[38;5;124m'\u001b[39m\u001b[38;5;124my1\u001b[39m\u001b[38;5;124m'\u001b[39m, \u001b[38;5;124m'\u001b[39m\u001b[38;5;124my2\u001b[39m\u001b[38;5;124m'\u001b[39m, \u001b[38;5;124m'\u001b[39m\u001b[38;5;124my3\u001b[39m\u001b[38;5;124m'\u001b[39m, \u001b[38;5;124m'\u001b[39m\u001b[38;5;124mz1\u001b[39m\u001b[38;5;124m'\u001b[39m, \u001b[38;5;124m'\u001b[39m\u001b[38;5;124mz2\u001b[39m\u001b[38;5;124m'\u001b[39m, \u001b[38;5;124m'\u001b[39m\u001b[38;5;124mz3\u001b[39m\u001b[38;5;124m'\u001b[39m], isCoordinateTripletInTuple\u001b[38;5;241m=\u001b[39m\u001b[38;5;28;01mFalse\u001b[39;00m      ) )\n\u001b[1;32m      2\u001b[0m \u001b[38;5;28mprint\u001b[39m(regroupToCoordinateTriple_findVariables([\u001b[38;5;124m'\u001b[39m\u001b[38;5;124mx1\u001b[39m\u001b[38;5;124m'\u001b[39m, \u001b[38;5;124m'\u001b[39m\u001b[38;5;124mx2\u001b[39m\u001b[38;5;124m'\u001b[39m, \u001b[38;5;124m'\u001b[39m\u001b[38;5;124my1\u001b[39m\u001b[38;5;124m'\u001b[39m, \u001b[38;5;124m'\u001b[39m\u001b[38;5;124my2\u001b[39m\u001b[38;5;124m'\u001b[39m, \u001b[38;5;124m'\u001b[39m\u001b[38;5;124mz1\u001b[39m\u001b[38;5;124m'\u001b[39m, \u001b[38;5;124m'\u001b[39m\u001b[38;5;124mz2\u001b[39m\u001b[38;5;124m'\u001b[39m], isCoordinateTripletInTuple\u001b[38;5;241m=\u001b[39m\u001b[38;5;28;01mFalse\u001b[39;00m   ))\n\u001b[0;32m----> 3\u001b[0m \u001b[38;5;28mprint\u001b[39m(regroupToCoordinateTriple_findVariables([\u001b[38;5;124m'\u001b[39m\u001b[38;5;124mx1\u001b[39m\u001b[38;5;124m'\u001b[39m, \u001b[38;5;124m'\u001b[39m\u001b[38;5;124mx2\u001b[39m\u001b[38;5;124m'\u001b[39m, \u001b[38;5;124m'\u001b[39m\u001b[38;5;124mx3\u001b[39m\u001b[38;5;124m'\u001b[39m, \u001b[38;5;124m'\u001b[39m\u001b[38;5;124my1\u001b[39m\u001b[38;5;124m'\u001b[39m, \u001b[38;5;124m'\u001b[39m\u001b[38;5;124my2\u001b[39m\u001b[38;5;124m'\u001b[39m, \u001b[38;5;124m'\u001b[39m\u001b[38;5;124my3\u001b[39m\u001b[38;5;124m'\u001b[39m, \u001b[38;5;124m'\u001b[39m\u001b[38;5;124mz1\u001b[39m\u001b[38;5;124m'\u001b[39m, \u001b[38;5;124m'\u001b[39m\u001b[38;5;124mz2\u001b[39m\u001b[38;5;124m'\u001b[39m, \u001b[38;5;124m'\u001b[39m\u001b[38;5;124mz3\u001b[39m\u001b[38;5;124m'\u001b[39m, \u001b[38;5;124m'\u001b[39m\u001b[38;5;124mA1\u001b[39m\u001b[38;5;124m'\u001b[39m, \u001b[38;5;124m'\u001b[39m\u001b[38;5;124mA2\u001b[39m\u001b[38;5;124m'\u001b[39m], isCoordinateTripletInTuple\u001b[38;5;241m=\u001b[39m\u001b[38;5;28;01mFalse\u001b[39;00m ))\n",
      "File \u001b[0;32m/tmp/ipykernel_7671/1390445992.py:38\u001b[0m, in \u001b[0;36mregroupToCoordinateTriple_findVariables\u001b[0;34m(coordinateList, isCoordinateTripletInTuple)\u001b[0m\n\u001b[1;32m     36\u001b[0m         zCoordinates\u001b[38;5;241m.\u001b[39mappend(component)\n\u001b[1;32m     37\u001b[0m     \u001b[38;5;28;01melse\u001b[39;00m: \n\u001b[0;32m---> 38\u001b[0m         \u001b[38;5;28;01mraise\u001b[39;00m \u001b[38;5;167;01mException\u001b[39;00m(\u001b[38;5;124m\"\u001b[39m\u001b[38;5;124mNo other than x,y,z components\u001b[39m\u001b[38;5;124m\"\u001b[39m)\n\u001b[1;32m     43\u001b[0m \u001b[38;5;28;01mif\u001b[39;00m isCoordinateTripletInTuple: \n\u001b[1;32m     44\u001b[0m     \u001b[38;5;66;03m# forming triplets \u001b[39;00m\n\u001b[1;32m     45\u001b[0m     \u001b[38;5;28;01mfor\u001b[39;00m x,y,z \u001b[38;5;129;01min\u001b[39;00m \u001b[38;5;28mzip\u001b[39m(xCoordinates, yCoordinates, zCoordinates): \n",
      "\u001b[0;31mException\u001b[0m: No other than x,y,z components"
     ]
    }
   ],
   "source": [
    "\n",
    "print(regroupToCoordinateTriple_findVariables(['x1', 'x2', 'x3', 'y1', 'y2', 'y3', 'z1', 'z2', 'z3'], isCoordinateTripletInTuple=False      ) )\n",
    "print(regroupToCoordinateTriple_findVariables(['x1', 'x2', 'y1', 'y2', 'z1', 'z2'], isCoordinateTripletInTuple=False   ))\n",
    "print(regroupToCoordinateTriple_findVariables(['x1', 'x2', 'x3', 'y1', 'y2', 'y3', 'z1', 'z2', 'z3', 'A1', 'A2'], isCoordinateTripletInTuple=False ))"
   ]
  },
  {
   "cell_type": "code",
   "execution_count": null,
   "id": "2ee365b2-f69f-4b72-985d-80047def815d",
   "metadata": {},
   "outputs": [],
   "source": []
  },
  {
   "cell_type": "code",
   "execution_count": null,
   "id": "475e07b2-a373-4ee5-bca4-87c8b9e31e9b",
   "metadata": {},
   "outputs": [],
   "source": []
  }
 ],
 "metadata": {
  "kernelspec": {
   "display_name": "Python 3 (ipykernel)",
   "language": "python",
   "name": "python3"
  },
  "language_info": {
   "codemirror_mode": {
    "name": "ipython",
    "version": 3
   },
   "file_extension": ".py",
   "mimetype": "text/x-python",
   "name": "python",
   "nbconvert_exporter": "python",
   "pygments_lexer": "ipython3",
   "version": "3.10.4"
  }
 },
 "nbformat": 4,
 "nbformat_minor": 5
}
