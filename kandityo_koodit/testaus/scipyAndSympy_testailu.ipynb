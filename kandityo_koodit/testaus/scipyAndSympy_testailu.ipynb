{
 "cells": [
  {
   "cell_type": "code",
   "execution_count": 21,
   "id": "0e810a8e-a327-48b9-ada8-5f2233429356",
   "metadata": {},
   "outputs": [
    {
     "name": "stdout",
     "output_type": "stream",
     "text": [
      "     fun: -1.70331006175776e+18\n",
      "     jac: array([ 0.        , 25.00000012])\n",
      " message: 'Rank-deficient equality constraint subproblem HFTI'\n",
      "    nfev: 96\n",
      "     nit: 30\n",
      "    njev: 30\n",
      "  status: 7\n",
      " success: False\n",
      "       x: array([ 3.89734867e+08, -6.81324025e+16])\n"
     ]
    }
   ],
   "source": [
    "from scipy.optimize import minimize\n",
    "import sympy as sym\n",
    "\n",
    "x2_symbol = sym.Symbol('x2')\n",
    "u2_symbol = sym.Symbol('u2')\n",
    "fm = 25 * u2_symbol - 20.0 * (sym.sin(x2_symbol)) + 38.7296387 * (sym.cos(x2_symbol)) - 38.7296387\n",
    "\n",
    "def func(x):\n",
    "    x2_float, u2_float = x\n",
    "    return fm.subs([(x2_symbol, x2_float), (u2_symbol, u2_float)])\n",
    "\n",
    "# def constraint1(x):\n",
    "#     x2_float, u2_float = x\n",
    "#     return -u2_float + 40 * sym.sin(x2_float) + 0.2\n",
    "\n",
    "# def constraint2(x):\n",
    "#     x2_float, u2_float = x\n",
    "#     return -u2_float - 40 * sym.sin(x2_float) + 0.2\n",
    "\n",
    "# b = [-1, 1]\n",
    "# bounds = [b, b]\n",
    "# con1 = {'type': 'ineq', 'fun': constraint1}\n",
    "# con2 = {'type': 'ineq', 'fun': constraint2}\n",
    "# constraints = (con1, con2)\n",
    "x0 = [0, 0]\n",
    "solution = minimize(func, x0, method='SLSQP')\n",
    "print(solution)"
   ]
  },
  {
   "cell_type": "code",
   "execution_count": 5,
   "id": "56e42920-ebfd-4301-b161-5eb96cb45e7c",
   "metadata": {},
   "outputs": [
    {
     "data": {
      "text/plain": [
       "numpy.ndarray"
      ]
     },
     "execution_count": 5,
     "metadata": {},
     "output_type": "execute_result"
    }
   ],
   "source": [
    "type(solution['x'])"
   ]
  },
  {
   "cell_type": "code",
   "execution_count": 1,
   "id": "e867a39c-5f81-4188-be1d-bb37282b9b7b",
   "metadata": {},
   "outputs": [],
   "source": [
    "from sympy.parsing.sympy_parser import parse_expr"
   ]
  },
  {
   "cell_type": "code",
   "execution_count": 5,
   "id": "b101b343-8633-4adf-aa09-5e05204214ba",
   "metadata": {},
   "outputs": [
    {
     "data": {
      "text/latex": [
       "$\\displaystyle - 1.0 x^{2} + 1.95781020892388 x - 3.28597048353581$"
      ],
      "text/plain": [
       "-1.0*x**2 + 1.95781020892388*x - 3.28597048353581"
      ]
     },
     "execution_count": 5,
     "metadata": {},
     "output_type": "execute_result"
    }
   ],
   "source": [
    "parse_expr('-1.0*x**2 + 1.95781020892388*x - 3.28597048353581')"
   ]
  },
  {
   "cell_type": "code",
   "execution_count": 48,
   "id": "871df82a-dda9-4984-aeb5-4b46ac3423c3",
   "metadata": {},
   "outputs": [
    {
     "name": "stdout",
     "output_type": "stream",
     "text": [
      " final_simplex: (array([[2.14524927e+154],\n",
      "       [2.14524927e+154]]), array([-inf, -inf]))\n",
      "           fun: -inf\n",
      "       message: 'Maximum number of iterations has been exceeded.'\n",
      "          nfev: 14484\n",
      "           nit: 5000\n",
      "        status: 2\n",
      "       success: False\n",
      "             x: array([2.14524927e+154])\n"
     ]
    },
    {
     "name": "stderr",
     "output_type": "stream",
     "text": [
      "/tmp/ipykernel_8197/1136242683.py:25: RuntimeWarning: Maximum number of iterations has been exceeded.\n",
      "  solution = minimize(func, x0, method = 'Nelder-mead', options = {'maxiter': 5000, 'disp': True})\n"
     ]
    }
   ],
   "source": [
    "from scipy.optimize import minimize\n",
    "import sympy as sym\n",
    "\n",
    "x2_symbol = sym.Symbol('x')\n",
    "fm = -1.0 * x2_symbol**2 + 1.95781020892388 * x2_symbol - 3.28597048353581\n",
    "\n",
    "def func(x):\n",
    "    x2_float,  = x\n",
    "    return fm.subs(x2_symbol, x2_float)\n",
    "\n",
    "# def constraint1(x):\n",
    "#     x2_float, u2_float = x\n",
    "#     return -u2_float + 40 * sym.sin(x2_float) + 0.2\n",
    "\n",
    "# def constraint2(x):\n",
    "#     x2_float, u2_float = x\n",
    "#     return -u2_float - 40 * sym.sin(x2_float) + 0.2\n",
    "\n",
    "# b = [-1, 1]\n",
    "# bounds = [b, b]\n",
    "# con1 = {'type': 'ineq', 'fun': constraint1}\n",
    "# con2 = {'type': 'ineq', 'fun': constraint2}\n",
    "# constraints = (con1, con2)\n",
    "x0 = [2]\n",
    "solution = minimize(func, x0, method = 'Nelder-mead', options = {'maxiter': 5000, 'disp': True})\n",
    "print(solution)"
   ]
  },
  {
   "cell_type": "code",
   "execution_count": 44,
   "id": "8bd99466-57d6-4879-bb56-ca7be056e00c",
   "metadata": {},
   "outputs": [
    {
     "name": "stdout",
     "output_type": "stream",
     "text": [
      " final_simplex: (array([[-0.25      ],\n",
      "       [-0.24990234]]), array([-3.125     , -3.12499998]))\n",
      "           fun: -3.125\n",
      "       message: 'Optimization terminated successfully.'\n",
      "          nfev: 36\n",
      "           nit: 18\n",
      "        status: 0\n",
      "       success: True\n",
      "             x: array([-0.25])\n"
     ]
    }
   ],
   "source": [
    "from scipy.optimize import minimize\n",
    "import sympy as sym\n",
    "\n",
    "x2_symbol = sym.Symbol('x')\n",
    "fm = 2.0 * x2_symbol**2 + x2_symbol - 3.0\n",
    "\n",
    "def func(x):\n",
    "    x2_float,  = x\n",
    "    return fm.subs(x2_symbol, x2_float)\n",
    "\n",
    "# def constraint1(x):\n",
    "#     x2_float, u2_float = x\n",
    "#     return -u2_float + 40 * sym.sin(x2_float) + 0.2\n",
    "\n",
    "# def constraint2(x):\n",
    "#     x2_float, u2_float = x\n",
    "#     return -u2_float - 40 * sym.sin(x2_float) + 0.2\n",
    "\n",
    "# b = [-1, 1]\n",
    "# bounds = [b, b]\n",
    "# con1 = {'type': 'ineq', 'fun': constraint1}\n",
    "# con2 = {'type': 'ineq', 'fun': constraint2}\n",
    "# constraints = (con1, con2)\n",
    "x0 = [2.0]\n",
    "solution = minimize(func, x0, method = 'Nelder-mead')\n",
    "print(solution)"
   ]
  },
  {
   "cell_type": "code",
   "execution_count": null,
   "id": "59b6c663-f8bc-4e22-9d76-d9e8636a3709",
   "metadata": {},
   "outputs": [],
   "source": []
  }
 ],
 "metadata": {
  "kernelspec": {
   "display_name": "Python 3 (ipykernel)",
   "language": "python",
   "name": "python3"
  },
  "language_info": {
   "codemirror_mode": {
    "name": "ipython",
    "version": 3
   },
   "file_extension": ".py",
   "mimetype": "text/x-python",
   "name": "python",
   "nbconvert_exporter": "python",
   "pygments_lexer": "ipython3",
   "version": "3.10.4"
  }
 },
 "nbformat": 4,
 "nbformat_minor": 5
}
