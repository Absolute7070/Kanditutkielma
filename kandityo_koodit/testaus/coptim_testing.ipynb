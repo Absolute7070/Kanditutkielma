{
 "cells": [
  {
   "cell_type": "code",
   "execution_count": 1,
   "id": "c0072d28-be9e-4aee-9289-527d4b1b5bf7",
   "metadata": {},
   "outputs": [],
   "source": [
    "import sys \n",
    "sys.path.append('/home/degnaiyu/Työpöytä/kanditutkielma/kandityo_koodit/coptim-master/')"
   ]
  },
  {
   "cell_type": "code",
   "execution_count": 3,
   "id": "136533c5-9d6f-433e-85d7-836035a8ed94",
   "metadata": {},
   "outputs": [],
   "source": [
    "import numpy as np \n",
    "from coptim.function import Function\n",
    "\n",
    "\n",
    "class Rosenbrock(Function): \n",
    "    \n",
    "    def eval(self, x):\n",
    "        assert len(x) == 2, '2 dimensional input only.'\n",
    "        return 100 * (x[1] - x[0] ** 2) ** 2 + (1 - x[0]) ** 2\n",
    "\n",
    "    def gradient(self, x):\n",
    "        assert len(x) == 2, '2 dimensional input only.'\n",
    "        return np.array([\n",
    "            2 * (-200 * x[0] * x[1] + 200 * np.power(x[0], 3) - 1 + x[0]),\n",
    "            200 * (x[1] - x[0] ** 2)\n",
    "        ])\n",
    "\n",
    "    def hessian(self, x):\n",
    "        assert len(x) == 2, '2 dimensional input only.'\n",
    "        df_dx1 = -400 * x[1] + 1200 * x[0] ** 2 + 2\n",
    "        df_dx1dx2 = -400 * x[0]\n",
    "        df_dx2dx1 = -400 * x[0]\n",
    "        df_dx2 = 200\n",
    "\n",
    "        return np.array([[df_dx1, df_dx1dx2], [df_dx2dx1, df_dx2]])\n",
    "    \n",
    "                 "
   ]
  },
  {
   "cell_type": "code",
   "execution_count": 4,
   "id": "1fc252f5-42aa-4f59-af69-acf3db4d69dc",
   "metadata": {},
   "outputs": [
    {
     "name": "stdout",
     "output_type": "stream",
     "text": [
      "Optimal Point: [0.99992058 0.9998407 ]\n",
      "Iterations: 8058\n"
     ]
    }
   ],
   "source": [
    "\n",
    "from coptim.optimizers.gradient_method import GradientMethod\n",
    "\n",
    "objective = Rosenbrock()\n",
    "starting_point = np.array([-1.2, 1])\n",
    "beta = 0.5\n",
    "sigma = 0.0001\n",
    "epsilon = 0.0001\n",
    "\n",
    "optimizer = GradientMethod()\n",
    "\n",
    "x = optimizer.optimize(starting_point,\n",
    "                       objective,\n",
    "                       beta,\n",
    "                       sigma,\n",
    "                       epsilon)\n",
    "\n",
    "print(f'Optimal Point: {x}')\n",
    "print(f'Iterations: {optimizer.iterations}')"
   ]
  },
  {
   "cell_type": "code",
   "execution_count": null,
   "id": "5f009daa-700b-41c5-845a-bc516a4c7375",
   "metadata": {},
   "outputs": [],
   "source": []
  }
 ],
 "metadata": {
  "kernelspec": {
   "display_name": "Python 3 (ipykernel)",
   "language": "python",
   "name": "python3"
  },
  "language_info": {
   "codemirror_mode": {
    "name": "ipython",
    "version": 3
   },
   "file_extension": ".py",
   "mimetype": "text/x-python",
   "name": "python",
   "nbconvert_exporter": "python",
   "pygments_lexer": "ipython3",
   "version": "3.10.4"
  }
 },
 "nbformat": 4,
 "nbformat_minor": 5
}
