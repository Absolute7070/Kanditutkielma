{
 "cells": [
  {
   "cell_type": "code",
   "execution_count": 7,
   "id": "b5916e25-4d60-4814-8ff8-f6291a9dd09a",
   "metadata": {},
   "outputs": [],
   "source": [
    "#import the libraries\n",
    "from mpl_toolkits import mplot3d\n",
    "%matplotlib qt\n",
    "import numpy as np\n",
    "import matplotlib.pyplot as plt\n",
    "from sympy import symbols, diff, lambdify \n",
    " \n"
   ]
  },
  {
   "cell_type": "code",
   "execution_count": 4,
   "id": "f6ea9022-bd56-44a7-8d83-828f2293e73c",
   "metadata": {},
   "outputs": [],
   "source": [
    "# Define the sympy symbols to be used in the function\n",
    "x = symbols('x')\n",
    "y = symbols('y')\n",
    "#Define the function in terms of x and y\n",
    "f1 = (x-2) ** 2 + (y-2)**2+5\n",
    " \n",
    "# Calculate the partial derivatives of f1 w.r.t. x and y \n",
    "f1x = diff(f1,x)\n",
    "f1y = diff(f1,y)"
   ]
  },
  {
   "cell_type": "code",
   "execution_count": 8,
   "id": "65e53308-04ca-4d66-b955-b9ac80aa3a23",
   "metadata": {},
   "outputs": [],
   "source": [
    "# Define a function optimized for numpy array calculation\n",
    "# in sympy \n",
    "f = lambdify([x,y],f1,'numpy')"
   ]
  },
  {
   "cell_type": "code",
   "execution_count": 25,
   "id": "93cdc05e-4539-4c24-baa9-86fed060eb58",
   "metadata": {},
   "outputs": [],
   "source": [
    "x_grid = np.linspace(-3, 3, 30)\n",
    "y_grid = np.linspace(-3, 3, 30)"
   ]
  },
  {
   "cell_type": "code",
   "execution_count": 26,
   "id": "55d3a656-c524-4488-b2d3-fab979a80b7e",
   "metadata": {},
   "outputs": [],
   "source": [
    "# Create mesh grid for surface plot\n",
    "X, Y = np.meshgrid(x_grid,y_grid)"
   ]
  },
  {
   "cell_type": "code",
   "execution_count": 28,
   "id": "0c1872e3-a9a3-4289-aab0-aa0ca1c0b810",
   "metadata": {},
   "outputs": [],
   "source": [
    "#Define the surface function using the lambdify function \n",
    "Z = f(X, Y )"
   ]
  },
  {
   "cell_type": "code",
   "execution_count": 30,
   "id": "50986d00-c74b-4c8f-b721-51878bc35ddb",
   "metadata": {},
   "outputs": [],
   "source": [
    "#Select a start point\n",
    "x0,y0 = (3,3)\n",
    "#Initialize a list for storing the gradient descent points\n",
    "xlist = [x0]\n",
    "ylist = [y0]"
   ]
  },
  {
   "cell_type": "code",
   "execution_count": 31,
   "id": "b1695cf3-245e-4d90-a5ba-842d4068ea08",
   "metadata": {},
   "outputs": [],
   "source": [
    " \n",
    "#Specify the learning rate\n",
    "lr=0.001"
   ]
  },
  {
   "cell_type": "code",
   "execution_count": 32,
   "id": "a473cc4b-7789-4d43-ac62-e0d30c97f3f8",
   "metadata": {},
   "outputs": [],
   "source": [
    "#Perform gradient descent\n",
    "for i in range(100): \n",
    "    # Update the x and y values using the negative gradient values\n",
    "    x0-=f1x.evalf(subs={x:x0,y:y0})*lr\n",
    "    y0-=f1y.evalf(subs={x:x0,y:y0})*lr\n",
    "    # Append to the list to keep track of the points\n",
    "    xlist.append(x0)\n",
    "    ylist.append(y0)"
   ]
  },
  {
   "cell_type": "code",
   "execution_count": 33,
   "id": "2be4d0c4-7103-43c7-9389-6053c6a3de15",
   "metadata": {},
   "outputs": [],
   "source": [
    "xarr = np.array(xlist,dtype='float64')\n",
    "yarr = np.array(ylist,dtype='float64')   "
   ]
  },
  {
   "cell_type": "code",
   "execution_count": 35,
   "id": "74536542-0700-4b0a-a746-32262918ca60",
   "metadata": {},
   "outputs": [],
   "source": [
    "zlist = list(f(xarr,yarr))"
   ]
  },
  {
   "cell_type": "code",
   "execution_count": 38,
   "id": "628df94f-7c94-466c-9d49-838c3c1d773a",
   "metadata": {},
   "outputs": [],
   "source": [
    "#Plot the surface and points\n",
    "ax = plt.axes(projection='3d')\n",
    "ax.plot_surface(X, Y, Z, rstride=1, cstride=1,\n",
    "                cmap='viridis', edgecolor='none')\n",
    "\n",
    "ax.plot(xlist,ylist,zlist,'ro',markersize=10,alpha=0.6)\n",
    "ax.set_title('Gradient Descent');\n",
    "ax.set_aspect('equal')"
   ]
  },
  {
   "cell_type": "code",
   "execution_count": 41,
   "id": "8cc91833-6990-47a2-bb85-9bbaaa0af58a",
   "metadata": {},
   "outputs": [
    {
     "data": {
      "text/plain": [
       "[3,\n",
       " 2.99800000000000,\n",
       " 2.99600400000000,\n",
       " 2.99401199200000,\n",
       " 2.99202396801600,\n",
       " 2.99003992007997,\n",
       " 2.98805984023981,\n",
       " 2.98608372055933,\n",
       " 2.98411155311821,\n",
       " 2.98214333001197,\n",
       " 2.98017904335195,\n",
       " 2.97821868526525,\n",
       " 2.97626224789472,\n",
       " 2.97430972339893,\n",
       " 2.97236110395213,\n",
       " 2.97041638174422,\n",
       " 2.96847554898074,\n",
       " 2.96653859788277,\n",
       " 2.96460552068701,\n",
       " 2.96267630964563,\n",
       " 2.96075095702634,\n",
       " 2.95882945511229,\n",
       " 2.95691179620207,\n",
       " 2.95499797260966,\n",
       " 2.95308797666444,\n",
       " 2.95118180071111,\n",
       " 2.94927943710969,\n",
       " 2.94738087823547,\n",
       " 2.94548611647900,\n",
       " 2.94359514424604,\n",
       " 2.94170795395755,\n",
       " 2.93982453804964,\n",
       " 2.93794488897354,\n",
       " 2.93606899919559,\n",
       " 2.93419686119720,\n",
       " 2.93232846747480,\n",
       " 2.93046381053985,\n",
       " 2.92860288291878,\n",
       " 2.92674567715294,\n",
       " 2.92489218579863,\n",
       " 2.92304240142703,\n",
       " 2.92119631662418,\n",
       " 2.91935392399093,\n",
       " 2.91751521614295,\n",
       " 2.91568018571066,\n",
       " 2.91384882533924,\n",
       " 2.91202112768856,\n",
       " 2.91019708543319,\n",
       " 2.90837669126232,\n",
       " 2.90655993787980,\n",
       " 2.90474681800404,\n",
       " 2.90293732436803,\n",
       " 2.90113144971929,\n",
       " 2.89932918681985,\n",
       " 2.89753052844621,\n",
       " 2.89573546738932,\n",
       " 2.89394399645454,\n",
       " 2.89215610846163,\n",
       " 2.89037179624471,\n",
       " 2.88859105265222,\n",
       " 2.88681387054692,\n",
       " 2.88504024280582,\n",
       " 2.88327016232021,\n",
       " 2.88150362199557,\n",
       " 2.87974061475158,\n",
       " 2.87798113352208,\n",
       " 2.87622517125503,\n",
       " 2.87447272091252,\n",
       " 2.87272377547070,\n",
       " 2.87097832791976,\n",
       " 2.86923637126392,\n",
       " 2.86749789852139,\n",
       " 2.86576290272435,\n",
       " 2.86403137691890,\n",
       " 2.86230331416506,\n",
       " 2.86057870753673,\n",
       " 2.85885755012166,\n",
       " 2.85713983502141,\n",
       " 2.85542555535137,\n",
       " 2.85371470424067,\n",
       " 2.85200727483219,\n",
       " 2.85030326028252,\n",
       " 2.84860265376196,\n",
       " 2.84690544845443,\n",
       " 2.84521163755752,\n",
       " 2.84352121428241,\n",
       " 2.84183417185384,\n",
       " 2.84015050351014,\n",
       " 2.83847020250312,\n",
       " 2.83679326209811,\n",
       " 2.83511967557391,\n",
       " 2.83344943622277,\n",
       " 2.83178253735032,\n",
       " 2.83011897227562,\n",
       " 2.82845873433107,\n",
       " 2.82680181686241,\n",
       " 2.82514821322868,\n",
       " 2.82349791680222,\n",
       " 2.82185092096862,\n",
       " 2.82020721912668,\n",
       " 2.81856680468843]"
      ]
     },
     "execution_count": 41,
     "metadata": {},
     "output_type": "execute_result"
    }
   ],
   "source": [
    "xlist "
   ]
  },
  {
   "cell_type": "code",
   "execution_count": 42,
   "id": "337a943c-0e0b-4f53-a662-29e08033ba75",
   "metadata": {},
   "outputs": [
    {
     "data": {
      "text/plain": [
       "[3,\n",
       " 2.99800000000000,\n",
       " 2.99600400000000,\n",
       " 2.99401199200000,\n",
       " 2.99202396801600,\n",
       " 2.99003992007997,\n",
       " 2.98805984023981,\n",
       " 2.98608372055933,\n",
       " 2.98411155311821,\n",
       " 2.98214333001197,\n",
       " 2.98017904335195,\n",
       " 2.97821868526525,\n",
       " 2.97626224789472,\n",
       " 2.97430972339893,\n",
       " 2.97236110395213,\n",
       " 2.97041638174422,\n",
       " 2.96847554898074,\n",
       " 2.96653859788277,\n",
       " 2.96460552068701,\n",
       " 2.96267630964563,\n",
       " 2.96075095702634,\n",
       " 2.95882945511229,\n",
       " 2.95691179620207,\n",
       " 2.95499797260966,\n",
       " 2.95308797666444,\n",
       " 2.95118180071111,\n",
       " 2.94927943710969,\n",
       " 2.94738087823547,\n",
       " 2.94548611647900,\n",
       " 2.94359514424604,\n",
       " 2.94170795395755,\n",
       " 2.93982453804964,\n",
       " 2.93794488897354,\n",
       " 2.93606899919559,\n",
       " 2.93419686119720,\n",
       " 2.93232846747480,\n",
       " 2.93046381053985,\n",
       " 2.92860288291878,\n",
       " 2.92674567715294,\n",
       " 2.92489218579863,\n",
       " 2.92304240142703,\n",
       " 2.92119631662418,\n",
       " 2.91935392399093,\n",
       " 2.91751521614295,\n",
       " 2.91568018571066,\n",
       " 2.91384882533924,\n",
       " 2.91202112768856,\n",
       " 2.91019708543319,\n",
       " 2.90837669126232,\n",
       " 2.90655993787980,\n",
       " 2.90474681800404,\n",
       " 2.90293732436803,\n",
       " 2.90113144971929,\n",
       " 2.89932918681985,\n",
       " 2.89753052844621,\n",
       " 2.89573546738932,\n",
       " 2.89394399645454,\n",
       " 2.89215610846163,\n",
       " 2.89037179624471,\n",
       " 2.88859105265222,\n",
       " 2.88681387054692,\n",
       " 2.88504024280582,\n",
       " 2.88327016232021,\n",
       " 2.88150362199557,\n",
       " 2.87974061475158,\n",
       " 2.87798113352208,\n",
       " 2.87622517125503,\n",
       " 2.87447272091252,\n",
       " 2.87272377547070,\n",
       " 2.87097832791976,\n",
       " 2.86923637126392,\n",
       " 2.86749789852139,\n",
       " 2.86576290272435,\n",
       " 2.86403137691890,\n",
       " 2.86230331416506,\n",
       " 2.86057870753673,\n",
       " 2.85885755012166,\n",
       " 2.85713983502141,\n",
       " 2.85542555535137,\n",
       " 2.85371470424067,\n",
       " 2.85200727483219,\n",
       " 2.85030326028252,\n",
       " 2.84860265376196,\n",
       " 2.84690544845443,\n",
       " 2.84521163755752,\n",
       " 2.84352121428241,\n",
       " 2.84183417185384,\n",
       " 2.84015050351014,\n",
       " 2.83847020250312,\n",
       " 2.83679326209811,\n",
       " 2.83511967557391,\n",
       " 2.83344943622277,\n",
       " 2.83178253735032,\n",
       " 2.83011897227562,\n",
       " 2.82845873433107,\n",
       " 2.82680181686241,\n",
       " 2.82514821322868,\n",
       " 2.82349791680222,\n",
       " 2.82185092096862,\n",
       " 2.82020721912668,\n",
       " 2.81856680468843]"
      ]
     },
     "execution_count": 42,
     "metadata": {},
     "output_type": "execute_result"
    }
   ],
   "source": [
    "ylist"
   ]
  },
  {
   "cell_type": "code",
   "execution_count": null,
   "id": "5c768316-ce6d-48fa-84c5-bc6d287d0aa3",
   "metadata": {},
   "outputs": [],
   "source": []
  }
 ],
 "metadata": {
  "kernelspec": {
   "display_name": "Python 3 (ipykernel)",
   "language": "python",
   "name": "python3"
  },
  "language_info": {
   "codemirror_mode": {
    "name": "ipython",
    "version": 3
   },
   "file_extension": ".py",
   "mimetype": "text/x-python",
   "name": "python",
   "nbconvert_exporter": "python",
   "pygments_lexer": "ipython3",
   "version": "3.10.4"
  }
 },
 "nbformat": 4,
 "nbformat_minor": 5
}
