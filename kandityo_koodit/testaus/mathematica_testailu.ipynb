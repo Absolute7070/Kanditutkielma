{
 "cells": [
  {
   "cell_type": "code",
   "execution_count": 1,
   "id": "188a88fe-35fb-47f5-bcff-fb10b12d2d29",
   "metadata": {},
   "outputs": [],
   "source": [
    "from wolframclient.language import wl"
   ]
  },
  {
   "cell_type": "code",
   "execution_count": 2,
   "id": "080cd8d0-5186-434a-92bf-5302fb9ca849",
   "metadata": {},
   "outputs": [
    {
     "data": {
      "text/plain": [
       "Now"
      ]
     },
     "execution_count": 2,
     "metadata": {},
     "output_type": "execute_result"
    }
   ],
   "source": [
    "wl.Now"
   ]
  },
  {
   "cell_type": "code",
   "execution_count": 1,
   "id": "21fd618a-b689-40fc-bcd4-bc4d9652f11d",
   "metadata": {},
   "outputs": [
    {
     "ename": "NameError",
     "evalue": "name 'num1' is not defined",
     "output_type": "error",
     "traceback": [
      "\u001b[0;31m---------------------------------------------------------------------------\u001b[0m",
      "\u001b[0;31mNameError\u001b[0m                                 Traceback (most recent call last)",
      "Cell \u001b[0;32mIn [1], line 2\u001b[0m\n\u001b[1;32m      1\u001b[0m expression \u001b[38;5;241m=\u001b[39m \u001b[38;5;124m\"\u001b[39m\u001b[38;5;124mnum1+num1*num2\u001b[39m\u001b[38;5;124m\"\u001b[39m\n\u001b[0;32m----> 2\u001b[0m result \u001b[38;5;241m=\u001b[39m \u001b[38;5;28meval\u001b[39m(expression)\n\u001b[1;32m      3\u001b[0m \u001b[38;5;28mprint\u001b[39m(\u001b[38;5;124m\"\u001b[39m\u001b[38;5;124mnum1 and num2 are \u001b[39m\u001b[38;5;132;01m{}\u001b[39;00m\u001b[38;5;124m and \u001b[39m\u001b[38;5;132;01m{}\u001b[39;00m\u001b[38;5;124m respectively\u001b[39m\u001b[38;5;124m\"\u001b[39m\u001b[38;5;241m.\u001b[39mformat(num1, num2))\n\u001b[1;32m      4\u001b[0m \u001b[38;5;28mprint\u001b[39m(\u001b[38;5;124m\"\u001b[39m\u001b[38;5;124mexpression is:\u001b[39m\u001b[38;5;124m\"\u001b[39m, expression)\n",
      "File \u001b[0;32m<string>:1\u001b[0m\n",
      "\u001b[0;31mNameError\u001b[0m: name 'num1' is not defined"
     ]
    }
   ],
   "source": [
    "\n",
    "\n",
    "\n",
    "print(\"num1 and num2 are {} and {} respectively\".format(num1, num2))\n",
    "print(\"expression is:\", expression)\n",
    "print(\"result is:\", result)\n",
    " "
   ]
  },
  {
   "cell_type": "code",
   "execution_count": 2,
   "id": "7c3f032e-b409-4923-a6bc-35b46b4d8e27",
   "metadata": {},
   "outputs": [],
   "source": [
    "def function(num1, num2): \n",
    "    expression = f\"{num1}+{num2}\"\n",
    "\n",
    "\n",
    "    return eval(expression)"
   ]
  },
  {
   "cell_type": "code",
   "execution_count": 4,
   "id": "1770ecb8-90d0-4be3-9eee-e32d95d8ed69",
   "metadata": {},
   "outputs": [
    {
     "data": {
      "text/plain": [
       "2"
      ]
     },
     "execution_count": 4,
     "metadata": {},
     "output_type": "execute_result"
    }
   ],
   "source": [
    "function(1,1)"
   ]
  },
  {
   "cell_type": "code",
   "execution_count": 10,
   "id": "1af5ef69-409b-44fb-9777-8ec45816573c",
   "metadata": {},
   "outputs": [
    {
     "data": {
      "text/plain": [
       "<module '__main__'>"
      ]
     },
     "execution_count": 10,
     "metadata": {},
     "output_type": "execute_result"
    }
   ],
   "source": [
    "sys.modules[__name__]"
   ]
  },
  {
   "cell_type": "code",
   "execution_count": 9,
   "id": "a144b591-501a-405f-8683-465acc4d6317",
   "metadata": {},
   "outputs": [],
   "source": [
    "from wolframclient.evaluation import WolframLanguageSession"
   ]
  },
  {
   "cell_type": "code",
   "execution_count": 10,
   "id": "368528cd-e339-452c-a079-4d1908cc1813",
   "metadata": {},
   "outputs": [],
   "source": [
    "session = WolframLanguageSession()\n",
    "session.evaluate('f[x_] := x^2')\n",
    "session.evaluate('f[2]')"
   ]
  },
  {
   "cell_type": "code",
   "execution_count": 11,
   "id": "b0c78fe6-ff8f-480d-89f2-cad31f476720",
   "metadata": {},
   "outputs": [],
   "source": [
    "solution[1]"
   ]
  },
  {
   "cell_type": "code",
   "execution_count": 12,
   "id": "ef63ac8f-6673-4406-96a3-2bb5c5f62656",
   "metadata": {},
   "outputs": [
    {
     "data": {
      "text/plain": [
       "4"
      ]
     },
     "execution_count": 12,
     "metadata": {},
     "output_type": "execute_result"
    }
   ],
   "source": [
    "from wolframclient.evaluation import WolframLanguageSession\n",
    "\n",
    "session = WolframLanguageSession()\n",
    "solution = session.evaluate('Minimize[x^2+x-1, {x}]')\n",
    "solution\n"
   ]
  },
  {
   "cell_type": "code",
   "execution_count": null,
   "id": "25779d71-2871-485b-bf6a-4cc2558e7e39",
   "metadata": {},
   "outputs": [],
   "source": []
  }
 ],
 "metadata": {
  "kernelspec": {
   "display_name": "Python 3 (ipykernel)",
   "language": "python",
   "name": "python3"
  },
  "language_info": {
   "codemirror_mode": {
    "name": "ipython",
    "version": 3
   },
   "file_extension": ".py",
   "mimetype": "text/x-python",
   "name": "python",
   "nbconvert_exporter": "python",
   "pygments_lexer": "ipython3",
   "version": "3.10.4"
  }
 },
 "nbformat": 4,
 "nbformat_minor": 5
}
